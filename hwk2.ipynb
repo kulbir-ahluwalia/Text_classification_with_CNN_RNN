{
 "cells": [
  {
   "cell_type": "markdown",
   "metadata": {
    "id": "pSy-sfxOsclS"
   },
   "source": [
    "# CS 447 Homework 2 $-$ Text Classification with Neural Networks\n",
    "In this homework, you will build machine learning models to detect the sentiment of movie reviews using the IMDb movie reviews dataset. Specifically, you will implement classifiers based on Convolutional Neural Networks (CNN's) and Recurrent Neural Networks (RNN's).\n",
    "\n",
    "In addition to the Pytorch tutorial we have provided on Coursera, we highly recommend that you take a look at the PyTorch tutorials before starting this assignment:\n",
    "<ul>\n",
    "<li><a href=\"https://pytorch.org/tutorials/beginner/pytorch_with_examples.html\">https://pytorch.org/tutorials/beginner/pytorch_with_examples.html</a>\n",
    "<li><a href=\"https://pytorch.org/tutorials/beginner/data_loading_tutorial.html\">https://pytorch.org/tutorials/beginner/data_loading_tutorial.html</a>\n",
    "<li><a href=\"https://github.com/yunjey/pytorch-tutorial\">https://github.com/yunjey/pytorch-tutorial</a>\n",
    "</ul>\n",
    "\n",
    "<font color='green'>While you work, we suggest that you keep your hardware accelerator set to \"CPU\" (the default for Colab). However, when you have finished debugging and are ready to train your models, you should select \"GPU\" as your runtime type. This will speed up the training of your models. You can find this by going to <TT>Runtime > Change Runtime Type</TT> and select \"GPU\" from the dropdown menu.</font>\n",
    "\n",
    "As usual, you should not import any other libraries."
   ]
  },
  {
   "cell_type": "code",
   "execution_count": 1,
   "metadata": {
    "id": "EyCOvTRQ1nb-"
   },
   "outputs": [
    {
     "name": "stdout",
     "output_type": "stream",
     "text": [
      "Using device: cuda:0\n"
     ]
    }
   ],
   "source": [
    "### DO NOT EDIT ###\n",
    "\n",
    "import torch\n",
    "\n",
    "DEVICE = torch.device('cuda:0' if torch.cuda.is_available() else 'cpu')\n",
    "\n",
    "if __name__=='__main__':\n",
    "    print('Using device:', DEVICE)"
   ]
  },
  {
   "cell_type": "markdown",
   "metadata": {
    "id": "zHbJ1-aDsWCG"
   },
   "source": [
    "# Step 1: Download the Data\n",
    "First we will download the dataset using [torchtext](https://torchtext.readthedocs.io/en/latest/index.html), which is a package that supports NLP for PyTorch. \n",
    "\n",
    "Unfortunately, you have to install the <TT>torchdata</TT> package on the Colab machine in order to access the data. To do this, run the cell below (you may need to click the \"Restart Runtime\" button when it finishes). You will have to do this every time you return to work on the homework.\n",
    "\n"
   ]
  },
  {
   "cell_type": "code",
   "execution_count": 2,
   "metadata": {
    "id": "rT4n4QzHAYe_"
   },
   "outputs": [
    {
     "name": "stdout",
     "output_type": "stream",
     "text": [
      "Requirement already satisfied: torchdata in /home/kulbir/anaconda3/envs/nlp_cuda116_python3_9/lib/python3.9/site-packages (0.4.1)\r\n",
      "Requirement already satisfied: urllib3>=1.25 in /home/kulbir/anaconda3/envs/nlp_cuda116_python3_9/lib/python3.9/site-packages (from torchdata) (1.26.11)\r\n",
      "Requirement already satisfied: portalocker>=2.0.0 in /home/kulbir/anaconda3/envs/nlp_cuda116_python3_9/lib/python3.9/site-packages (from torchdata) (2.5.1)\r\n",
      "Requirement already satisfied: requests in /home/kulbir/anaconda3/envs/nlp_cuda116_python3_9/lib/python3.9/site-packages (from torchdata) (2.28.1)\r\n",
      "Requirement already satisfied: torch==1.12.1 in /home/kulbir/anaconda3/envs/nlp_cuda116_python3_9/lib/python3.9/site-packages (from torchdata) (1.12.1)\r\n",
      "Requirement already satisfied: typing_extensions in /home/kulbir/anaconda3/envs/nlp_cuda116_python3_9/lib/python3.9/site-packages (from torch==1.12.1->torchdata) (4.3.0)\r\n",
      "Requirement already satisfied: charset-normalizer<3,>=2 in /home/kulbir/anaconda3/envs/nlp_cuda116_python3_9/lib/python3.9/site-packages (from requests->torchdata) (2.0.4)\r\n",
      "Requirement already satisfied: idna<4,>=2.5 in /home/kulbir/anaconda3/envs/nlp_cuda116_python3_9/lib/python3.9/site-packages (from requests->torchdata) (3.3)\r\n",
      "Requirement already satisfied: certifi>=2017.4.17 in /home/kulbir/anaconda3/envs/nlp_cuda116_python3_9/lib/python3.9/site-packages (from requests->torchdata) (2022.9.24)\r\n"
     ]
    }
   ],
   "source": [
    "!pip install torchdata"
   ]
  },
  {
   "cell_type": "markdown",
   "metadata": {
    "id": "bMVBA0ijAUgt"
   },
   "source": [
    "The following cell will get you `train_data` and `test_data`. It also does some basic tokenization.\n",
    "\n",
    "*   To access the list of textual tokens for the *i*th example, use `train_data[i][1]`\n",
    "*   To access the label for the *i*th example, use `train_data[i][0]`"
   ]
  },
  {
   "cell_type": "code",
   "execution_count": 3,
   "metadata": {
    "id": "dfX3bNby8FYL"
   },
   "outputs": [
    {
     "name": "stdout",
     "output_type": "stream",
     "text": [
      "Num. Train Examples: 20000\n",
      "Num. Test Examples: 5000\n",
      "the label for the *i*th example: pos \n",
      "list of textual tokens for the *i*th example: ['Zentropa', 'has', 'much', 'in', 'common', 'with', 'The', 'Third', 'Man', ',', 'another', 'noir-like', 'film', 'set', 'among', 'the', 'rubble', 'of', 'postwar', 'Europe', '.', 'Like', 'TTM', ',', 'there', 'is', 'much', 'inventive', 'camera', 'work', '.', 'There', 'is', 'an', 'innocent', 'American', 'who', 'gets', 'emotionally', 'involved', 'with', 'a', 'woman', 'he', \"doesn't\", 'really', 'understand', ',', 'and', 'whose', 'naivety', 'is', 'all', 'the', 'more', 'striking', 'in', 'contrast', 'with', 'the', 'natives.<br', '/><br', '/>But', \"I'd\", 'have', 'to', 'say', 'that', 'The', 'Third', 'Man', 'has', 'a', 'more', 'well-crafted', 'storyline', '.', 'Zentropa', 'is', 'a', 'bit', 'disjointed', 'in', 'this', 'respect', '.', 'Perhaps', 'this', 'is', 'intentional', ':', 'it', 'is', 'presented', 'as', 'a', 'dream/nightmare', ',', 'and', 'making', 'it', 'too', 'coherent', 'would', 'spoil', 'the', 'effect', '.', '<br', '/><br', '/>This', 'movie', 'is', 'unrelentingly', 'grim--\"noir', '\"', 'in', 'more', 'than', 'one', 'sense', ';', 'one', 'never', 'sees', 'the', 'sun', 'shine', '.', 'Grim', ',', 'but', 'intriguing', ',', 'and', 'frightening', '.'] \n",
      "the label for the *i*th example: pos \n",
      "list of textual tokens for the *i*th example: ['Zentropa', 'is', 'the', 'most', 'original', 'movie', \"I've\", 'seen', 'in', 'years', '.', 'If', 'you', 'like', 'unique', 'thrillers', 'that', 'are', 'influenced', 'by', 'film', 'noir', ',', 'then', 'this', 'is', 'just', 'the', 'right', 'cure', 'for', 'all', 'of', 'those', 'Hollywood', 'summer', 'blockbusters', 'clogging', 'the', 'theaters', 'these', 'days', '.', 'Von', \"Trier's\", 'follow-ups', 'like', 'Breaking', 'the', 'Waves', 'have', 'gotten', 'more', 'acclaim', ',', 'but', 'this', 'is', 'really', 'his', 'best', 'work', '.', 'It', 'is', 'flashy', 'without', 'being', 'distracting', 'and', 'offers', 'the', 'perfect', 'combination', 'of', 'suspense', 'and', 'dark', 'humor', '.', \"It's\", 'too', 'bad', 'he', 'decided', 'handheld', 'cameras', 'were', 'the', 'wave', 'of', 'the', 'future', '.', \"It's\", 'hard', 'to', 'say', 'who', 'talked', 'him', 'away', 'from', 'the', 'style', 'he', 'exhibits', 'here', ',', 'but', \"it's\", \"everyone's\", 'loss', 'that', 'he', 'went', 'into', 'his', 'heavily', 'theoretical', 'dogma', 'direction', 'instead', '.'] \n",
      "the label for the *i*th example: pos \n",
      "list of textual tokens for the *i*th example: ['Lars', 'Von', 'Trier', 'is', 'never', 'backward', 'in', 'trying', 'out', 'new', 'techniques', '.', 'Some', 'of', 'them', 'are', 'very', 'original', 'while', 'others', 'are', 'best', 'forgotten.<br', '/><br', '/>He', 'depicts', 'postwar', 'Germany', 'as', 'a', 'nightmarish', 'train', 'journey', '.', 'With', 'so', 'many', 'cities', 'lying', 'in', 'ruins', ',', 'Leo', 'Kessler', 'a', 'young', 'American', 'of', 'German', 'descent', 'feels', 'obliged', 'to', 'help', 'in', 'their', 'restoration', '.', 'It', 'is', 'not', 'a', 'simple', 'task', 'as', 'he', 'quickly', 'finds', 'out.<br', '/><br', '/>His', 'uncle', 'finds', 'him', 'a', 'job', 'as', 'a', 'night', 'conductor', 'on', 'the', 'Zentropa', 'Railway', 'Line', '.', 'His', 'job', 'is', 'to', 'attend', 'to', 'the', 'needs', 'of', 'the', 'passengers', '.', 'When', 'the', 'shoes', 'are', 'polished', 'a', 'chalk', 'mark', 'is', 'made', 'on', 'the', 'soles', '.', 'A', 'terrible', 'argument', 'ensues', 'when', 'a', \"passenger's\", 'shoes', 'are', 'not', 'chalked', 'despite', 'the', 'fact', 'they', 'have', 'been', 'polished', '.', 'There', 'are', 'many', 'allusions', 'to', 'the', 'German', 'fanaticism', 'of', 'adherence', 'to', 'such', 'stupid', 'details.<br', '/><br', '/>The', 'railway', 'journey', 'is', 'like', 'an', 'allegory', 'representing', \"man's\", 'procession', 'through', 'life', 'with', 'all', 'its', 'trials', 'and', 'tribulations', '.', 'In', 'one', 'sequence', 'Leo', 'dashes', 'through', 'the', 'back', 'carriages', 'to', 'discover', 'them', 'filled', 'with', 'half-starved', 'bodies', 'appearing', 'to', 'have', 'just', 'escaped', 'from', 'Auschwitz', '', '.', 'These', 'images', ',', 'horrible', 'as', 'they', 'are', ',', 'are', 'fleeting', 'as', 'in', 'a', 'dream', ',', 'each', 'with', 'its', 'own', 'terrible', 'impact', 'yet', 'unconnected.<br', '/><br', '/>At', 'a', 'station', 'called', 'Urmitz', 'Leo', 'jumps', 'from', 'the', 'train', 'with', 'a', 'parceled', 'bomb', '.', 'In', 'view', 'of', 'many', 'by-standers', 'he', 'connects', 'the', 'bomb', 'to', 'the', 'underside', 'of', 'a', 'carriage', '.', 'He', 'returns', 'to', 'his', 'cabin', 'and', 'makes', 'a', 'connection', 'to', 'a', 'time', 'clock', '.', 'Later', 'he', 'jumps', 'from', 'the', 'train', '(', 'at', 'high', 'speed', ')', 'and', 'lies', 'in', 'the', 'cool', 'grass', 'on', 'a', 'river', 'bank', '.', 'Looking', 'at', 'the', 'stars', 'above', 'he', 'decides', 'that', 'his', 'job', 'is', 'to', 'build', 'and', 'not', 'destroy', '.', 'Subsequently', 'as', 'he', 'sees', 'the', 'train', 'approaching', 'a', 'giant', 'bridge', 'he', 'runs', 'at', 'breakneck', 'speed', 'to', 'board', 'the', 'train', 'and', 'stop', 'the', 'clock', '.', 'If', 'you', 'care', 'to', 'analyse', 'the', 'situation', 'it', 'is', 'a', 'completely', 'impossible', 'task', '.', 'Quite', 'ridiculous', 'in', 'fact', '.', 'It', 'could', 'only', 'happen', 'in', 'a', 'dream.<br', '/><br', \"/>It's\", 'strange', 'how', 'one', 'remembers', 'little', 'details', 'such', 'as', 'a', 'row', 'of', 'cups', 'hanging', 'on', 'hooks', 'and', 'rattling', 'away', 'with', 'the', 'swaying', 'of', 'the', 'train.<br', '/><br', '/>Despite', 'the', 'fact', 'that', 'this', 'film', 'is', 'widely', 'acclaimed', ',', 'I', 'prefer', 'Lars', 'Von', \"Trier's\", 'later', 'films', '(', 'Breaking', 'the', 'Waves', 'and', 'The', 'Idiots)', '.', 'The', 'bomb', 'scene', 'described', 'above', 'really', 'put', 'me', 'off', '.', 'Perhaps', \"I'm\", 'a', 'realist', '.'] \n",
      "the label for the *i*th example: pos \n",
      "list of textual tokens for the *i*th example: ['*Contains', 'spoilers', 'due', 'to', 'me', 'having', 'to', 'describe', 'some', 'film', 'techniques', ',', 'so', 'read', 'at', 'your', 'own', 'risk!*<br', '/><br', '/>I', 'loved', 'this', 'film', '.', 'The', 'use', 'of', 'tinting', 'in', 'some', 'of', 'the', 'scenes', 'makes', 'it', 'seem', 'like', 'an', 'old', 'photograph', 'come', 'to', 'life', '.', 'I', 'also', 'enjoyed', 'the', 'projection', 'of', 'people', 'on', 'a', 'back', 'screen', '.', 'For', 'instance', ',', 'in', 'one', 'scene', ',', 'Leopold', 'calls', 'his', 'wife', 'and', 'she', 'is', 'projected', 'behind', 'him', 'rather', 'than', 'in', 'a', 'typical', 'split', 'screen', '.', 'Her', 'face', 'is', 'huge', 'in', 'the', 'back', 'and', \"Leo's\", 'is', 'in', 'the', 'foreground.<br', '/><br', '/>One', 'of', 'the', 'best', 'uses', 'of', 'this', 'is', 'when', 'the', 'young', 'boys', 'kill', 'the', 'Ravensteins', 'on', 'the', 'train', ',', 'a', 'scene', 'shot', 'in', 'an', 'almost', 'political', 'poster', 'style', ',', 'with', 'facial', 'close', 'ups', '.', 'It', 'reminded', 'me', 'of', 'Battleship', 'Potemkin', ',', 'that', 'intense', 'constant', 'style', 'coupled', 'with', 'the', 'spray', 'of', 'red', 'to', 'convey', 'tons', 'of', 'horror', 'without', 'much', 'gore', '.', 'Same', 'with', 'the', 'scene', 'when', 'Katharina', 'finds', 'her', 'father', 'dead', 'in', 'the', 'bathtub...you', 'can', 'only', 'see', 'the', 'red', 'water', 'on', 'the', 'side', '.', 'It', 'is', 'one', 'of', 'the', 'things', 'I', 'love', 'about', 'Von', 'Trier', ',', 'his', 'understatement', 'of', 'horror', ',', 'which', 'ends', 'up', 'making', 'it', 'all', 'the', 'more', 'creepy.<br', '/><br', '/>The', 'use', 'of', 'text', 'in', 'the', 'film', 'was', 'unique', ',', 'like', 'when', \"Leo's\", 'character', 'is', 'pushed', 'by', 'the', 'word', ',', '\"', 'Werewolf.', '\"', 'I', 'have', 'never', 'seen', 'anything', 'like', 'that', 'in', 'a', 'film.<br', '/><br', '/>The', 'use', 'of', 'black', 'comedy', 'in', 'this', 'film', 'was', 'well', 'done', '.', 'Ernst-Hugo', 'Järegård', 'is', 'great', 'as', \"Leo's\", 'uncle', '.', 'It', 'brings', 'up', 'the', 'snickers', 'I', 'got', 'from', 'his', 'role', 'in', 'the', 'Kingdom', '(', 'Riget.', ')', 'This', 'humor', 'makes', 'the', 'plotline', 'of', 'absurd', 'anal', 'retentiveness', 'of', 'train', 'conductors', 'against', 'the', 'terrible', 'backdrop', 'of', 'WW2', 'and', 'all', 'the', 'chaos', ',', 'easier', 'to', 'take', '.', 'It', 'reminds', 'me', 'of', 'Riget', 'in', 'the', 'way', 'the', 'hospital', 'administrator', 'is', 'trying', 'to', 'maintain', 'a', 'normalcy', 'at', 'the', 'end', 'of', 'part', 'one', 'when', 'everything', 'is', 'going', 'crazy', '.', 'It', 'shows', 'that', 'some', 'people', 'are', 'truly', 'oblivious', 'to', 'the', 'awful', 'things', 'happening', 'around', 'them', '.', 'Yet', 'some', 'people', ',', 'like', 'Leo', ',', 'are', 'tuned', 'in', ',', 'but', 'do', 'nothing', 'positive', 'about', 'it.<br', '/><br', '/>The', 'voice', 'over', ',', 'done', 'expertly', 'well', 'by', 'Max', 'von', 'Sydow', ',', 'is', 'amusing', 'too', '.', 'It', 'draws', 'you', 'into', 'the', 'story', 'and', 'makes', 'you', 'jump', 'into', \"Leo's\", 'head', ',', 'which', 'at', 'times', 'is', 'a', 'scary', 'place', 'to', 'be.<br', '/><br', '/>The', 'movie', 'brings', 'up', 'the', 'point', 'that', 'one', 'is', 'a', 'coward', 'if', 'they', \"don't\", 'choose', 'a', 'side', '.', 'I', 'see', 'the', 'same', 'idea', 'used', 'in', 'Dancer', 'in', 'the', 'Dark', ',', 'where', \"Bjork's\", 'character', \"doesn't\", 'speak', 'up', 'for', 'herself', 'and', 'ends', 'up', 'being', 'her', 'own', 'destruction', '.', 'Actually', ',', 'at', 'one', 'time', ',', 'Von', 'Trier', 'seemed', 'anti-woman', 'to', 'me', ',', 'by', 'making', 'Breaking', 'the', 'Waves', 'and', 'Dancer', ',', 'but', 'now', 'I', 'know', 'his', 'male', 'characters', \"don't\", 'fare', 'well', 'either', '!', 'I', 'found', 'myself', 'at', 'the', 'same', 'place', 'during', 'the', 'end', 'of', 'Dancer', ',', 'when', 'you', 'seriously', 'want', 'the', 'main', 'character', 'to', 'rethink', 'their', 'actions', ',', 'but', 'of', 'course', ',', 'they', 'never', 'do', '!'] \n",
      "the label for the *i*th example: pos \n",
      "list of textual tokens for the *i*th example: ['That', 'was', 'the', 'first', 'thing', 'that', 'sprang', 'to', 'mind', 'as', 'I', 'watched', 'the', 'closing', 'credits', 'to', 'Europa', 'make', 'there', 'was', 'across', 'the', 'screen', ',', 'never', 'in', 'my', 'entire', 'life', 'have', 'I', 'seen', 'a', 'film', 'of', 'such', 'technical', 'genius', ',', 'the', 'visuals', 'of', 'Europa', 'are', 'so', 'impressive', 'that', 'any', 'film', 'I', 'watch', 'in', \"it's\", 'wake', 'will', 'only', 'pale', 'in', 'comparison', ',', 'forget', 'your', 'Michael', 'Bay', ',', 'Ridley', 'Scott', 'slick', 'Hollywood', 'cinematography', ',', 'Europa', 'has', 'more', 'ethereal', 'beauty', 'than', 'anything', 'those', 'two', 'could', 'conjure', 'up', 'in', 'a', 'million', 'years', '.', 'Now', \"I'd\", 'be', 'the', 'first', 'to', 'hail', 'Lars', 'von', 'Trier', 'a', 'genius', 'just', 'off', 'the', 'back', 'of', 'his', 'films', 'Breaking', 'the', 'Waves', 'and', 'Dancer', 'in', 'the', 'Dark', ',', 'but', 'this', 'is', 'stupid', ',', 'the', 'fact', 'that', 'Europa', 'has', 'gone', 'un-noticed', 'by', 'film', 'experts', 'for', 'so', 'long', 'is', 'a', 'crime', 'against', 'cinema', ',', 'whilst', 'overrated', 'rubbish', 'like', 'Crouching', 'Tiger', ',', 'Hidden', 'Dragon', 'and', 'Life', 'is', 'Beautiful', 'clean', 'up', 'at', 'the', 'academy', 'awards', '(', 'but', 'what', 'do', 'the', 'know', ')', 'Europa', 'has', 'been', 'hidden', 'away', ',', 'absent', 'form', 'video', 'stores', 'and', '(', 'until', 'recently', ')', 'any', 'British', 'TV', 'channels', '.', '<br', '/><br', '/>The', 'visuals', 'in', 'Europa', 'are', 'not', 'MTV', 'gloss', ';', \"it's\", 'not', 'a', 'case', 'of', 'style', 'over', 'substance', ',', 'its', 'more', 'a', 'case', 'of', 'substance', 'dictating', 'style', '.', 'Much', 'like', 'his', 'first', 'film', 'The', 'Element', 'of', 'Crime', ',', 'von', 'Trier', 'uses', 'the', 'perspective', 'of', 'the', 'main', 'character', 'to', 'draw', 'us', 'into', 'his', 'world', ',', 'and', 'much', 'like', 'Element', ',', 'the', 'film', 'begins', 'with', 'the', 'main', 'character', '(', 'or', 'in', 'the', 'case', 'of', 'Europa', ',', 'we', 'the', 'audience', ')', 'being', 'hypnotized', '.', 'As', 'we', 'move', 'down', 'the', 'tracks', ',', 'the', 'voice', 'of', 'the', 'Narrator', '(', 'Max', 'von', 'Sydow', ')', 'counts', 'us', 'down', 'into', 'a', 'deep', 'sleep', ',', 'until', 'we', 'awake', 'in', 'Europa', '.', 'This', 'allows', 'von', 'Trier', 'and', 'his', 'three', 'cinematographers', 'to', 'pay', 'with', 'the', 'conventions', 'of', 'time', 'and', 'imagery', ',', 'there', 'are', 'many', 'scenes', 'in', 'Europa', 'when', 'a', 'character', 'in', 'the', 'background', ',', 'who', 'is', 'in', 'black', 'and', 'white', ',', 'will', 'interact', 'with', 'a', 'person', 'in', 'the', 'foreground', 'who', 'will', 'be', 'colour', ',', 'von', 'Trier', 'is', 'trying', 'to', 'show', 'us', 'how', 'much', 'precedence', 'the', 'coloured', 'item', 'or', 'person', 'has', 'over', 'the', 'plot', ',', 'for', 'instance', ',', \"it's\", 'no', 'surprise', 'that', 'the', 'first', 'shot', 'of', 'Leopold', 'Kessler', '(', 'Jean-marc', 'Barr', ')', 'is', 'in', 'colour', ',', 'since', 'he', 'is', 'the', 'only', 'character', \"who's\", 'actions', 'have', 'superiority', 'over', 'the', 'film', '.', '<br', '/><br', '/>The', 'performances', 'are', 'good', ',', 'they', 'may', 'not', 'be', 'on', 'par', 'with', 'performances', 'in', 'later', 'von', 'Trier', 'films', ',', 'but', \"that's\", 'just', 'because', 'the', 'images', 'are', 'sometimes', 'so', 'distracting', 'that', 'you', \"don't\", 'really', 'pick', 'up', 'on', 'them', 'the', 'first', 'time', 'round', '.', 'But', 'I', 'would', 'like', 'to', 'point', 'out', 'the', 'fantastic', 'performance', 'of', 'Jean-Marc', 'Barr', 'in', 'the', 'lead', 'role', ',', 'whose', 'blind', 'idealism', 'is', 'slowly', 'warn', 'down', 'by', 'the', 'two', 'opposing', 'sides', ',', 'until', 'he', 'erupts', 'in', 'the', 'films', 'final', 'act', '.', 'Again', ',', 'muck', 'like', 'The', 'Element', 'of', 'Crime', ',', 'the', 'film', 'ends', 'with', 'our', 'hero', 'unable', 'to', 'wake', 'up', 'from', 'his', 'nightmare', 'state', ',', 'left', 'in', 'this', 'terrible', 'place', ',', 'with', 'only', 'the', 'continuing', 'narration', 'of', 'von', 'Sydow', 'to', 'seal', 'his', 'fate', '.', 'Europa', 'is', 'a', 'tremendous', 'film', ',', 'and', 'I', 'cant', 'help', 'thinking', 'what', 'a', 'shame', 'that', 'von', 'Trier', 'has', 'abandoned', 'this', 'way', 'of', 'filming', ',', 'since', 'he', 'was', 'clearly', 'one', 'of', 'the', 'most', 'talented', 'visual', 'directors', 'working', 'at', 'that', 'time', ',', 'Europa', ',', 'much', 'like', 'the', 'rest', 'of', 'his', 'cinematic', 'cannon', 'is', 'filled', 'with', 'a', 'wealth', 'of', 'iconic', 'scenes', '.', 'His', 'dedication', 'to', 'composition', 'and', 'mise-en-scene', 'is', 'unrivalled', ',', 'not', 'to', 'mention', 'his', 'use', 'of', 'sound', 'and', 'production', 'design', '.', 'But', 'since', 'his', 'no-frills', 'melodramas', 'turned', 'out', 'to', 'be', 'Breaking', 'the', 'Waves', 'and', 'Dancer', 'in', 'the', 'Dark', 'then', 'who', 'can', 'argue', ',', 'but', 'it', 'does', 'seems', 'like', 'a', 'waste', 'of', 'an', 'imaginative', 'talent', '.', '10/10'] \n",
      "the label for the *i*th example: pos \n",
      "list of textual tokens for the *i*th example: ['I', 'had', 'started', 'to', 'lose', 'my', 'faith', 'in', 'films', 'of', 'recent', 'being', 'inundated', 'with', 'the', 'typical', 'Genre', 'Hollywood', 'film', '.', 'Story', 'lines', 'fail', ',', 'and', 'camera', 'work', 'is', 'merely', 'copied', 'from', 'the', 'last', 'film', 'of', 'similiar', 'taste', '.', 'But', ',', 'then', 'I', 'saw', 'Zentropa', '(', 'Europa', ')', 'and', 'my', 'faith', 'was', 'renewed', '.', 'Not', 'only', 'is', 'the', 'metaphorical', 'storyline', 'enthralling', 'but', 'the', 'use', 'of', 'color', 'and', 'black', 'and', 'white', 'is', 'visually', 'stimulating', '.', 'The', 'narrator', '(', 'Max', 'Von', 'Sydow', ')', 'takes', 'you', 'through', 'a', 'spellbounding', 'journey', 'every', 'step', 'of', 'the', 'way', 'and', 'engrosses', 'you', 'into', 'Europa', '1945', '.', 'We', 'have', 'all', 'seen', 'death', 'put', 'on', 'screen', 'in', 'a', 'hundred', 'thousand', 'ways', 'but', 'the', 'beauty', 'of', 'this', 'film', 'is', 'how', 'it', 'takes', 'you', 'through', 'every', 'slow-moving', 'moment', 'that', 'leads', 'you', 'to', 'death', '.', 'Unlike', 'many', 'films', 'it', \"doesn't\", 'cut', 'after', 'one', 'second', 'of', 'showing', '(', 'for', 'example', ')', 'a', 'knife', 'but', 'forces', 'you', 'to', 'watch', 'the', 'devastating', 'yet', 'sensuous', 'beauty', 'of', 'a', \"man's\", 'final', 'moments', '.', 'I', 'think', 'we', 'can', 'all', 'take', 'something', 'different', 'away', 'from', 'what', 'this', 'movie', 'is', 'trying', 'to', 'say', 'but', 'it', 'is', 'definitely', 'worth', 'taking', 'the', 'time', 'to', 'find', 'out', 'what', 'it', 'all', 'really', 'means', '.', 'I', 'would', 'love', 'to', 'talk', 'more', 'in', 'depth', 'about', 'the', 'film', 'for', 'any', 'one', 'who', 'wishes', 'to', 'send', 'me', 'an', 'email', '.', 'Enjoy', 'it', '!'] \n",
      "the label for the *i*th example: pos \n",
      "list of textual tokens for the *i*th example: ['Critics', 'need', 'to', 'review', 'what', 'they', 'class', 'as', 'a', 'quality', 'movie', '.', 'I', 'think', 'the', 'critics', 'have', 'seen', 'too', 'many', 'actions', 'films', 'and', 'have', 'succumbed', 'to', 'the', 'Matrix', 'style', 'of', 'films', '.', 'Europa', 'is', 'a', 'breath', 'of', 'fresh', 'air', ',', 'a', 'film', 'with', 'so', 'many', 'layers', 'that', 'one', 'viewing', 'is', 'not', 'enough', 'to', 'understand', 'or', 'appreciate', 'this', 'outstanding', 'film', '.', 'Lars', 'von', 'Trier', 'shows', 'that', 'old', 'styles', 'of', 'filming', 'can', 'produce', 'marvellous', 'cinema', 'and', 'build', 'drama', 'and', 'tension', '.', 'The', 'back', 'projection', 'effect', 'he', 'uses', 'during', 'the', 'film', 'arouses', 'and', 'enhances', 'the', 'characters', ',', 'and', 'the', 'focus', 'of', 'the', 'conversation', 'they', 'are', 'having', '.', 'Other', 'effects', 'he', 'uses', 'such', 'as', 'the', 'colour', 'and', 'black', 'and', 'white', 'in', 'one', 'scene', 'much', 'like', 'Hitchcock', 'and', 'the', 'girl', 'with', 'the', 'red', 'coat', 'grabs', 'attention', 'and', 'enhances', 'the', 'drama', 'and', 'meaning', 'of', 'the', 'scene', '.', 'The', 'commentary', 'is', 'superb', 'and', 'has', 'a', 'hypnotic', 'effect', ',', 'again', 'maintaining', 'the', 'focus', 'on', 'the', 'central', 'characters', 'in', 'the', 'scene', 'and', 'there', 'actions.<br', '/><br', '/>I', 'could', 'talk', 'about', 'the', 'effects', 'more', 'but', 'I', 'think', 'you', 'all', 'would', 'agree', 'they', 'push', 'this', 'film', 'into', 'a', 'category', 'of', 'its', 'own', ',', 'and', 'really', 'heighten', 'the', 'drama', 'of', 'the', 'film', '.', 'A', 'film', 'to', 'buy', 'if', 'you', \"don't\", 'own', 'already', 'and', 'one', 'to', 'see', 'if', 'you', 'have', 'not.<br', '/><br', '/>10/10', \"Don't\", 'miss', 'this', 'artistic', 'noir', 'film', 'from', 'one', 'of', 'the', 'great', 'film', 'directors', '.'] \n",
      "the label for the *i*th example: pos \n",
      "list of textual tokens for the *i*th example: ['It', 'is', 'not', 'every', \"film's\", 'job', 'to', 'stimulate', 'you', 'superficially', '.', 'I', 'will', 'take', 'an', 'ambitious', 'failure', 'over', 'a', 'mass-market', 'hit', 'any', 'day', '.', 'While', 'this', 'really', \"can't\", 'be', 'described', 'as', 'a', 'failure', ',', 'the', 'sum', 'of', 'its', 'parts', 'remains', 'ambiguous', '.', 'That', 'indecipherable', 'quality', 'tantalizes', 'me', 'into', 'watching', 'it', 'again', 'and', 'again', '.', 'This', 'is', 'a', 'challenging', ',', 'provocative', 'movie', 'that', 'does', 'not', 'wrap', 'things', 'up', 'neatly', '.', 'The', 'problem', 'with', 'the', 'movie', 'is', 'in', 'its', 'structure', '.', 'Its', 'inpenetrable', 'plot', 'seems', 'to', 'be', 'winding', 'up', ',', 'just', 'as', 'a', 'second', 'ending', 'is', 'tacked', 'on', '.', 'Though', 'everything', 'is', 'technically', 'dazzling', ',', 'the', 'movie', 'is', 'exactly', 'too', 'long', 'by', 'that', 'unit', '.', 'The', 'long-delayed', 'climax', 'of', \"Leo's\", 'awakening', 'comes', 'about', '20', 'minutes', 'late.<br', '/><br', '/>Great', 'cinematography', 'often', 'comes', 'at', 'the', 'expense', 'of', 'a', 'decent', 'script', ',', 'but', 'here', 'the', 'innovative', 'camera', 'technique', 'offers', 'a', 'wealth', 'of', 'visual', 'ideas', '.', 'The', 'compositing', 'artifice', 'is', 'provocative', 'and', 'engaging', ';', 'A', 'character', 'is', 'rear-projected', 'but', 'his', 'own', 'hand', 'in', 'the', 'foreground', \"isn't\", '.', 'The', 'world', 'depicted', 'is', 'deliberate', ',', 'treacherous', 'and', 'absurd', '.', 'Keep', 'your', 'eyes', 'peeled', 'for', 'a', 'memorable', ',', 'technically', 'astonishing', 'assassination', 'that', 'will', 'make', 'your', 'jaw', 'drop.<br', '/><br', '/>The', 'compositions', 'are', 'stunning', '.', 'Whomever', 'chose', 'to', 'release', 'the', '(', 'out', 'of', 'print', ')', 'videotape', 'in', 'the', 'pan', '&', 'scan', 'format', 'must', 'have', 'never', 'seen', 'it', '.', 'Where', 'is', 'the', 'DVD?<br', '/><br', '/>It', 'is', 'unfathomable', 'how', 'anyone', 'could', 'give', 'this', 'much', 'originality', 'a', 'bad', 'review', '.', 'You', 'should', 'see', 'it', 'at', 'least', 'once', '.', 'You', 'get', 'the', 'sense', 'that', 'von', 'Trier', 'bit', 'off', 'more', 'than', 'he', 'could', 'chew', ',', 'but', 'this', 'movie', 'ends', 'up', 'being', 'richer', 'for', 'it', '.', 'I', 'suspect', 'he', 'is', 'familiar', 'with', \"Hitchcock's\", 'Foreign', 'Correspondent', 'in', 'which', 'devious', 'Europeans', 'also', 'manipulate', 'an', 'American', 'dupe', 'and', 'several', 'Welles', 'movies', 'that', 'take', 'delirious', 'joy', 'in', 'technique', 'as', 'much', 'as', 'he', 'does', '.', 'All', 'von', 'Trier', 'movies', 'explore', 'the', 'plight', 'of', 'the', 'naif', 'amidst', 'unforgiving', 'societies', '.', 'After', 'Zentropa', ',', 'von', 'Trier', 'moved', 'away', 'from', 'this', 'type', 'of', 'audacious', 'technical', 'experiment', 'towards', 'dreary', ',', 'over-rated', ',', 'un-nuanced', 'sap', 'like', 'Breaking', 'the', 'Waves', 'and', 'Dancer', 'in', 'the', 'Dark', '.'] \n",
      "the label for the *i*th example: pos \n",
      "list of textual tokens for the *i*th example: ['The', 'best', 'way', 'for', 'me', 'to', 'describe', 'Europa', ',', 'which', 'is', 'high', 'on', 'the', 'list', 'of', 'my', 'favourite', 'films', ',', 'is', 'the', 'exclamation', 'that', 'came', 'from', 'a', 'companion', 'after', 'the', 'film', 'ended', ':', '\"', 'I', \"didn't\", 'know', 'films', 'could', 'be', 'made', 'like', 'that\"', '.', 'Entirely', 'original', 'in', \"it's\", 'visual', 'style', ',', 'it', 'is', 'one', 'of', 'the', 'best', 'examples', 'of', 'what', 'cinema', 'can', 'be', '.', \"It's\", 'as', 'far', 'away', 'from', 'the', '\"', 'master', 'and', 'coverage', '\"', 'style', 'of', 'shooting', 'as', 'one', 'can', 'get', ';', 'perfectly', 'integrating', 'many', 'layers', 'of', 'image', ',', 'sound', ',', 'effects', ',', 'props', ',', 'dialogue', ',', 'voice', 'over', ',', 'performance', ',', 'editing', ',', 'lighting', ',', 'etc..', '.', 'all', 'equal', ',', 'none', 'predominant', '.', 'Despite', \"Hollywood's\", '\"', 'dialogue', '\"', 'myopia', ',', 'cinema', 'is', 'not', 'about', 'dialogue', ',', 'nor', 'is', 'it', 'about', 'beautiful', 'lighting', ',', 'action', 'or', 'music', '.', 'It', 'works', 'best', 'when', 'all', 'the', 'elements', 'are', 'on', 'an', 'equal', 'footing', ',', 'where', 'ONLY', 'the', 'BLENDING', 'of', 'those', 'elements', ',', 'in', 'the', 'order', 'or', 'combination', 'in', 'which', 'they', 'are', 'presented', ',', 'will', 'communicate', 'the', 'idea', '.', 'Reduce', 'or', 'eliminate', 'the', 'contribution', 'of', 'one', 'element', ',', 'and', 'the', 'film', 'has', 'no', 'meaning', '.', '\"', 'Europa', '\"', 'is', 'what', 'cinema', 'should', 'strive', 'to', 'be', '.'] \n",
      "the label for the *i*th example: pos \n",
      "list of textual tokens for the *i*th example: ['Released', 'as', 'Zentropa', 'in', 'North', 'America', 'to', 'avoid', 'confusion', 'with', 'Agniezska', \"Holland's\", 'own', 'Holocaust', 'film', 'Europa', 'Europa', ',', 'this', 'third', 'theatrical', 'feature', 'by', 'a', 'filmmaker', 'who', 'never', 'ceases', 'to', 'surprise', ',', 'inspire', 'or', 'downright', 'shock', 'is', 'a', 'bizarre', ',', 'nostalgic', ',', 'elaborate', 'film', 'about', 'a', 'naive', 'American', 'in', 'Germany', 'shortly', 'following', 'the', 'end', 'of', 'WWII', '.', 'The', 'American', ',', 'named', 'Leo', ',', \"doesn't\", 'fully', 'get', 'what', \"he's\", 'doing', 'there', '.', 'He', 'has', 'come', 'to', 'take', 'part', 'in', 'fixing', 'up', 'the', 'country', 'since', ',', 'in', 'his', 'mind', ',', \"it's\", 'about', 'time', 'Germany', 'was', 'shown', 'some', 'charity', '.', 'No', 'matter', 'how', 'that', 'sounds', ',', 'he', 'is', 'not', 'a', 'Nazi', 'sympathizer', 'or', 'so', 'much', 'as', 'especially', 'pro-German', ',', 'merely', 'mixed', 'up', '.', 'His', 'uncle', ',', 'who', 'works', 'on', 'the', 'railroad', ',', 'gets', 'Leo', 'a', 'job', 'as', 'a', 'helmsman', 'on', 'a', 'sleeping', 'car', ',', 'and', 'he', 'is', 'increasingly', 'enmeshed', 'in', 'a', 'vortex', 'of', '1945', \"Germany's\", 'horrors', 'and', 'enigmas.<br', '/><br', '/>This', 'progression', 'starts', 'when', 'Leo', ',', 'played', 'rather', 'memorably', 'by', 'the', 'calm', 'yet', 'restless', 'actor', 'Jean-Marc', 'Barr', ',', 'meets', 'a', 'sultry', 'heiress', 'on', 'the', 'train', 'played', 'by', 'Barbara', 'Sukowa', ',', 'an', 'actress', 'with', 'gentility', 'on', 'the', 'surface', 'but', 'internal', 'vigor', '.', 'She', 'seduces', 'him', 'and', 'then', 'takes', 'him', 'home', 'to', 'meet', 'her', 'family', ',', 'which', 'owns', 'the', 'company', 'which', 'manufactures', 'the', 'trains', '.', 'These', 'were', 'the', 'precise', 'trains', 'that', 'took', 'Jews', 'to', 'their', 'deaths', 'during', 'the', 'war', ',', 'but', 'now', 'they', 'run', 'a', 'drab', 'day-to-day', 'timetable', ',', 'and', 'the', \"woman's\", 'Uncle', 'Kessler', 'postures', 'as', 'another', 'one', 'of', 'those', 'good', 'Germans', 'who', 'were', 'just', 'doing', 'their', 'jobs', '.', 'There', 'is', 'also', 'Udo', 'Kier', ',', 'the', 'tremendous', 'actor', 'who', 'blew', 'me', 'away', 'in', 'Von', \"Trier's\", 'shocking', 'second', 'film', 'Epidemic', ',', 'though', 'here', 'he', 'is', 'mere', 'scenery.<br', '/><br', '/>Another', 'guest', 'at', 'the', 'house', 'is', 'Eddie', 'Constantine', ',', 'an', 'actor', 'with', 'a', 'quiet', 'strength', ',', 'playing', 'a', 'somber', 'American', 'intelligence', 'man', '.', 'He', 'can', 'confirm', 'that', 'Uncle', 'Kessler', 'was', 'a', 'war', 'criminal', ',', 'though', 'it', 'is', 'all', 'completely', 'baffling', 'to', 'Leo', '.', 'Americans', 'have', 'been', 'characterized', 'as', 'gullible', 'rubes', 'out', 'of', 'their', 'element', 'for', 'decades', ',', 'but', 'little', 'have', 'they', 'been', 'more', 'blithely', 'unconcerned', 'than', 'Leo', ',', 'who', 'goes', 'back', 'to', 'his', 'job', 'on', 'what', 'gradually', 'looks', 'like', 'his', 'own', 'customized', 'death', 'train.<br', '/><br', '/>The', 'story', 'is', 'told', 'in', 'a', 'purposely', 'uncoordinated', 'manner', 'by', 'the', \"film's\", 'Danish', 'director', ',', 'Lars', 'Von', 'Trier', ',', 'whose', 'anchor', 'is', 'in', 'the', \"film's\", 'breathtaking', 'editing', 'and', 'cinematography', '.', 'He', 'shoots', 'in', 'black', 'and', 'white', 'and', 'color', ',', 'he', 'uses', 'double-exposures', ',', 'optical', 'effects', 'and', 'trick', 'photography', ',', 'having', 'actors', 'interact', 'with', 'rear-projected', 'footage', ',', 'he', 'places', 'his', 'characters', 'inside', 'a', 'richly', 'shaded', 'visceral', 'world', 'so', 'that', 'they', 'sometimes', 'feel', 'like', 'insects', ',', 'caught', 'between', 'glass', 'for', 'our', 'more', 'precise', 'survey.<br', '/><br', '/>This', 'Grand', 'Jury', 'Prize-winning', 'surrealist', 'work', 'is', 'allegorical', ',', 'but', 'maybe', 'in', 'a', 'distinct', 'tone', 'for', 'every', 'viewer', '.', 'I', 'interpret', 'it', 'as', 'a', 'film', 'about', 'the', 'last', 'legs', 'of', 'Nazism', ',', 'symbolized', 'by', 'the', 'train', ',', 'and', 'the', 'ethical', 'accountability', 'of', 'Americans', 'and', 'others', 'who', 'appeared', 'too', 'late', 'to', 'salvage', 'the', 'martyrs', 'of', 'these', 'trains', 'and', 'the', 'camps', 'where', 'they', 'distributed', 'their', 'condemned', 'shiploads', '.', 'During', 'the', 'time', 'frame', 'of', 'the', 'movie', ',', 'and', 'the', 'Nazi', 'state', ',', 'and', 'such', 'significance', 'to', 'the', 'train', ',', 'are', 'dead', ',', 'but', 'like', 'decapitated', 'chickens', 'they', 'persist', 'in', 'jolting', 'through', 'their', 'reflexes.<br', '/><br', '/>The', 'characters', ',', 'music', ',', 'dialogue', ',', 'and', 'plot', 'are', 'deliberately', 'hammy', 'and', 'almost', 'satirically', 'procured', 'from', 'film', 'noir', 'conventions', '.', 'The', 'most', 'entrancing', 'points', 'in', 'the', 'movie', 'are', 'the', 'entirely', 'cinematographic', 'ones', '.', 'Two', 'trains', 'halting', 'back', 'and', 'forth', ',', 'Barr', 'on', 'one', 'and', 'Sukowa', 'on', 'another', '.', 'An', 'underwater', 'shot', 'of', 'proliferating', 'blood', '.', 'An', 'uncommonly', 'expressive', 'sequence', 'on', 'what', 'it', 'must', 'be', 'like', 'to', 'drown', '.', 'And', 'most', 'metaphysically', 'affecting', 'of', 'all', ',', 'an', 'anesthetic', 'shot', 'of', 'train', 'tracks', ',', 'as', 'Max', 'von', \"Sydow's\", 'voice', 'allures', 'us', 'to', 'hark', 'back', 'to', 'Europe', 'with', 'him', ',', 'and', 'abandon', 'our', 'personal', 'restraint', '.'] \n",
      "\n",
      "SAMPLE DATA:\n",
      "Sample text: ['Not', 'totally', 'off', 'the', 'wall', 'in', 'a', 'good', 'way', ',', 'but', 'just', 'totally', 'stupid', '.', '\"', 'Killer', 'Tongue', '\"', 'is', 'an', 'uneasy', 'mixture', 'of', 'sci-fi', ',', 'horror', ',', 'and', 'supposed', 'comedy', '.', 'What', 'this', 'equates', 'to', 'is', 'a', 'mindless', 'and', 'totally', 'incoherent', 'film', '.', 'There', 'is', 'very', 'little', 'dialog', ',', 'mainly', 'due', 'to', 'the', 'fact', 'that', 'the', 'script', ',', 'if', 'there', 'was', 'one', ',', 'is', 'complete', '\"', 'pond', 'scum\"', '.', 'I', \"wouldn't\", 'even', 'call', 'it', 'strange', ',', 'more', 'like', 'just', '\"', 'total', 'nonsense\"', '.', 'This', 'movie', 'is', 'certain', 'to', 'disappoint', ',', 'and', 'you', 'have', 'been', 'warned', '.', 'There', 'is', 'absolutely', 'no', 'reason', 'to', 'waste', 'time', 'on', 'this', ',', 'and', 'if', 'you', 'do', ',', 'the', 'pungent', 'smell', 'will', 'linger', 'like', 'rotten', 'fish..............................................................', '.', 'MERK']\n",
      "Sample label: neg \n",
      "\n",
      "Sample text: ['This', 'is', 'a', 'lovely', ',', 'spirit-restoring', 'movie', '.', 'From', 'the', 'use', 'of', 'the', 'actual', 'villa', 'that', 'inspired', 'Elizabeth', 'Arngrim', 'to', 'write', 'the', 'novel', 'in', 'the', '1920s', 'to', 'the', 'inspired', 'casting', ',', 'every', 'choice', 'was', 'perfectly', 'right', '!', 'The', 'quiet', 'joy', 'of', 'this', 'film', \"doesn't\", 'stale', 'after', 'repeated', 'viewings', '.', 'Josie', 'Lawrence', ',', 'Miranda', 'Richardson', ',', 'Polly', 'Walker', 'and', 'Joan', 'Plowright', 'seem', 'to', 'have', 'been', 'born', 'to', 'play', 'these', 'parts', '!', 'I', 'would', 'dearly', 'love', 'to', 'see', 'Enchanted', 'April', 'released', 'on', 'DVD', 'in', 'a', 'widescreen', 'format', '.']\n",
      "Sample label: pos \n",
      "\n",
      "Sample text: ['\"', 'Her', 'Cardboard', 'Lover', '\"', 'is', 'Norma', \"Shearer's\", 'last', 'movie', '.', 'She', 'quit', 'the', 'movies', 'and', ',', 'I', 'think', ',', 'joined', 'the', 'Board', 'of', 'Directors', 'at', 'MGM', '.', 'That', 'was', 'a', 'good', 'move', 'on', 'her', 'part', '.', '\"', 'Her', 'Cardboard', 'Lover', '\"', 'was', 'talky', 'and', 'boring', 'in', 'parts', '.', 'It', 'was', 'obvious', 'there', 'were', 'only', 'a', 'handful', 'of', 'actors', 'with', 'speaking', 'parts', 'so', 'they', 'had', 'a', 'lot', 'of', 'dialogue', 'to', 'speak', 'to', 'keep', 'this', 'turkey', 'afloat', '.', '<br', '/><br', '/>The', 'story', 'was', 'a', 'good', 'idea', 'about', 'a', 'wealthy', 'woman', '(', 'Norma', 'Shearer', ')', 'hiring', 'a', 'man', '(', 'Robert', 'Taylor', ')', 'to', 'make', 'her', 'playboy', 'fiancee', '(', 'George', 'Sanders)jealous', '.', 'I', 'am', 'surprised', 'that', 'the', 'director', ',', 'George', 'Cukor', ',', 'did', 'not', 'cut', 'many', 'of', 'the', 'talky', 'scenes', 'between', 'Ms', '.', 'Shearer', 'and', 'Mr', '.', 'Taylor', '.', 'Mr', '.', 'Cukor', 'served', 'Ms', '.', 'Shearer', 'well', 'in', '\"', 'The', 'Women', '\"', 'but', 'not', 'in', 'this', 'movie', '.', '<br', '/><br', '/>The', 'best', 'performance', 'in', 'the', 'movie', 'was', 'given', 'by', 'Robert', 'Taylor', '.', 'During', 'Mr', '.', \"Taylor's\", 'career', ',', 'he', 'was', 'given', 'his', 'best', 'comedy', 'roles', 'in', 'this', 'movie', 'and', '\"', 'When', 'Ladies', 'Meet', '\"', 'in', '1941', '.', 'In', '1942', ',', 'he', 'gave', 'his', 'best', 'comedy', 'performance', 'in', '\"', 'Her', 'Cardboard', 'Lover', '\"', 'and', ',', 'up', 'to', 'then', ',', 'his', 'best', 'dramatic', 'performance', 'in', '\"', 'Johnny', 'Eager.', '\"', 'He', 'had', 'a', 'busy', 'year', '.', 'I', 'think', 'of', 'all', 'the', 'actors', 'at', 'MGM', ',', 'Mr', '.', 'Taylor', 'worked', 'with', 'all', 'the', 'major', 'and', 'minor', 'actresses', 'on', 'the', 'lot', '.', 'Also', ',', 'MGM', 'gave', 'Mr', '.', 'Taylor', 'all', 'types', 'of', 'movies', 'to', 'make', '-', 'most', 'of', 'them', 'were', 'successful', '.', 'That', 'is', 'why', 'MGM', 'kept', 'him', 'for', '25', 'years', '.', '<br', '/><br', '/>Mr', '.', 'George', 'Sanders', 'was', 'very', 'good', 'as', 'a', 'socialite', 'heel', '.', 'He', 'played', 'a', 'similar', 'role', 'eight', 'years', 'later', 'in', '\"', 'All', 'About', 'Eve', '\"', 'for', 'which', 'he', 'won', 'an', 'Oscar', 'for', 'a', 'supporting', 'role', '.', 'As', 'for', 'Ms', '.', 'Shearer', ',', 'this', 'was', 'one', 'of', 'her', 'worst', 'performances', ',', 'she', 'was', 'not', 'funny', 'and', 'too', 'dramatic', 'for', 'this', 'comedy', '.', 'It', 'is', 'strange', 'that', 'she', 'made', 'a', 'great', 'comedy', 'in', '1939', ',', '\"', 'The', 'Women\"', ',', 'and', 'gave', 'her', 'best', 'performance', '.', 'It', 'was', 'obvious', 'that', 'she', 'was', 'too', 'old', 'looking', 'for', 'her', 'younger', 'leading', 'men', 'in', '\"', 'Her', 'Cardboard', 'Lover.', '\"', 'Also', ',', 'it', \"didn't\", 'help', 'that', 'some', 'of', 'her', 'clothes', 'were', 'awful.<br', '/><br', '/>Too', 'bad', 'she', 'and', 'Mr', '.', 'Taylor', 'did', 'not', 'make', 'another', 'dramatic', 'movie', 'like', 'their', 'last', 'movie', 'together', ',', 'the', 'superb', '\"', 'Escape\"', '.', 'The', 'same', 'comments', 'about', 'this', 'movie', 'can', 'be', 'said', 'of', 'another', 'movie', ',', '\"', 'Personal', 'Property', '\"', 'that', 'Mr', '.', 'Taylor', 'made', 'in', '1937', 'with', 'Jean', 'Harlow', '.', 'It', 'was', 'too', 'talky', ',', 'boring', ',', 'and', 'the', 'actress', 'looked', 'old', '.', 'Ms', '.', 'Harlow', 'looked', 'ill', 'throughout', 'the', 'movie', 'and', 'nobody', 'in', 'Hollywood', 'noticed', 'to', 'tell', 'her', 'to', 'see', 'a', 'doctor', ',', 'so', 'in', '1937', ',', 'she', 'died', 'at', 'age', '26', '.', 'What', 'a', 'waste', '!', 'She', 'was', 'becoming', 'a', 'good', 'actress', 'and', 'getting', 'better', 'roles', '.']\n",
      "Sample label: neg \n",
      "\n",
      "Sample text: ['I', 'am', 'completely', 'baffled', 'as', 'to', 'why', 'this', 'film', 'is', 'even', 'liked', ',', 'let', 'alone', 'held', 'in', 'such', 'high', 'regard', ',', 'especially', 'by', 'so', 'many', 'critics', 'who', 'are', ',', 'otherwise', ',', 'quite', 'sensible.<br', '/><br', '/>There', 'is', 'one', 'key', 'word', 'which', 'describes', 'this', 'film', 'to', 'its', 'core', '-', 'irritating.<br', '/><br', '/>The', 'most', 'easily', 'explained', 'example', 'of', 'this', 'is', 'the', \"director's\", 'use', '-', 'or', ',', 'more', 'accurately', ',', 'abuse', '-', 'of', 'music', '.', 'In', 'the', 'first', 'half', ',', 'a', 'really', 'dull', 'reggae', 'tune', 'is', 'played', 'about', 'three', 'times', '(', 'when', 'once', 'is', 'too', 'often)', '.', 'But', 'in', 'the', 'second', 'half', ',', 'The', 'Mommas', 'And', 'The', 'Papas', '\"', 'California', \"Dreamin'\", '\"', 'is', 'played', 'at', 'least', 'seven', 'times', ',', 'usually', 'at', 'top', 'volume', '.', 'Godsakes', ',', 'whether', 'you', 'liked', 'the', 'song', 'or', 'not', 'beforehand', ',', \"you'd\", 'be', 'thoroughly', 'sick', 'of', 'it', 'by', 'the', 'end', '.', 'Just', 'think', ',', 'some', 'people', 'claim', 'to', 'have', 'seen', 'this', 'film', 'four', 'or', 'five', 'times', '.', 'This', 'means', \"they've\", 'listened', 'to', 'California', 'Dreamin', 'either', '28', 'or', '35', 'times.....<br', '/><br', '/>All', 'of', 'this', 'needless', 'hyper-repetition', '(', 'it', 'contributes', 'nothing', 'to', 'the', 'story', ')', 'could', 'possibly', 'be', 'excused', 'if', 'the', 'remainder', 'of', 'the', 'film', 'had', 'any', 'lingering', 'merit', ',', 'or', 'if', 'the', 'story', 'was', 'in', 'any', 'way', 'involving.<br', '/><br', '/>But', 'it', \"ain't.<br\", '/><br', '/>The', 'only', 'aspect', 'I', 'found', 'likeable', 'was', 'Bridgette', \"Lin's\", 'charging', 'around', 'and', 'still', 'playing', 'Asia', 'The', 'Invincible', 'in', 'a', 'raincoat', 'and', 'sunnies', '.', 'Even', 'this', 'wore', 'off', 'fairly', 'quickly.<br', '/><br', \"/>I'm\", 'sure', 'this', \"film's\", 'undeserved', 'high', 'reputation', 'will', 'convince', 'many', 'poor', 'suckers', 'to', 'go', 'and', 'see', 'it.<br', '/><br', '/>I', 'can', 'only', 'warn', 'you', '-', 'if', \"you've\", 'never', 'seen', 'a', 'HK', 'movie', 'before', ',', \"don't\", 'start', 'with', 'this', 'one.<br', '/><br', '/>If', 'you', 'feel', 'compelled', 'to', 'watch', 'it', ',', 'avoid', 'at', 'all', 'costs', 'seeing', 'it', 'in', 'a', 'cinema', '.', 'The', 'fast-forward', 'and', 'mute', 'buttons', 'are', 'essential', 'tools', 'for', 'survival', 'here.<br', '/><br', '/>You', 'have', 'been', 'warned', '', '!']\n",
      "Sample label: neg \n",
      "\n",
      "Sample text: ['Not', 'a', 'movie', 'for', 'everyone', ',', 'but', 'this', 'movie', 'is', 'in', 'my', 'top', '10', '.', 'I', 'am', 'a', 'lover', 'of', 'black', 'comedy', '.', 'With', 'a', 'cast', 'including', 'Richard', 'Dreyfus', '(', 'Vic)', ',', 'Jeff', 'Goldblum', '(', 'Mick)', ',', 'Larry', 'Bishop', '(', 'Nick', ')', 'and', 'Gabriel', 'Byrne', '(', 'Ben', \"'\", 'Brass', 'Balls', \"'\", 'London', ')', 'in', 'the', 'leads', ',', 'the', 'lines', \"can't\", 'help', 'but', 'be', 'dry', '.', 'The', 'supporting', 'cast', 'is', 'nearly', 'dead', 'center', '.', 'Counting', 'the', 'minor', 'flaws', 'in', 'the', 'movie', ':', 'Ellen', \"Barkin's\", 'make-up', 'gave', 'her', 'face', 'has', 'a', 'washed', 'out', 'look', ';', 'there', 'were', 'a', 'couple', 'of', 'gimme', 'cameos', 'by', 'Joey', 'Bishop', 'and', 'Richard', 'Pryor', 'that', 'served', 'no', 'purpose', ',', 'and', 'Michael', 'J', '.', \"Pollard's\", 'screen', 'time', 'was', 'too', 'short', '.', 'Over', 'all', ',', 'the', 'cast', 'was', 'just', 'incredible', 'without', 'egos', 'to', 'wreck', 'a', 'fine', 'script', '.', 'If', 'you', 'have', 'seen', 'Larry', \"Bishop's\", '(', 'writer', ',', 'director', ')', 'film', ',', 'Underworld', '(', 'a', 'dark', 'crime', 'flick)', ',', 'you', 'will', 'enjoy', 'this', 'one', '.', 'His', 'next', 'outing', '(', 'writer', ',', 'director', ',', 'actor', ')', 'is', 'Hell', 'Ride', 'with', 'Michael', 'Madsen', 'and', 'Quentin', 'Tarantino', '.']\n",
      "Sample label: pos \n",
      "\n"
     ]
    }
   ],
   "source": [
    "### DO NOT EDIT ###\n",
    "\n",
    "import torchtext\n",
    "import random\n",
    "\n",
    "def preprocess(review):\n",
    "    '''\n",
    "    Simple preprocessing function.\n",
    "    '''\n",
    "    res = []\n",
    "    for x in review.split(' '):\n",
    "        remove_beg=True if x[0] in {'(', '\"', \"'\"} else False\n",
    "        remove_end=True if x[-1] in {'.', ',', ';', ':', '?', '!', '\"', \"'\", ')'} else False\n",
    "        if remove_beg and remove_end: res += [x[0], x[1:-1], x[-1]]\n",
    "        elif remove_beg: res += [x[0], x[1:]]\n",
    "        elif remove_end: res += [x[:-1], x[-1]]\n",
    "        else: res += [x]\n",
    "    return res\n",
    "\n",
    "if __name__=='__main__':\n",
    "    train_data = torchtext.datasets.IMDB(root='.data', split='train')\n",
    "    train_data = list(train_data)\n",
    "    train_data = [(x[0], preprocess(x[1])) for x in train_data]\n",
    "    train_data, test_data = train_data[0:10000] + train_data[12500:12500+10000], train_data[10000:12500] + train_data[12500+10000:], \n",
    "\n",
    "    print('Num. Train Examples:', len(train_data))\n",
    "    print('Num. Test Examples:', len(test_data))\n",
    "\n",
    "\n",
    "    # for i in range(len(train_data)):\n",
    "    for i in range(0,10,1):\n",
    "        print(f\"the label for the *i*th example: {train_data[i][0]} \")\n",
    "        print(f\"list of textual tokens for the *i*th example: {train_data[i][1]} \")\n",
    "\n",
    "\n",
    "    # *   To access the list of textual tokens for the *i*th example, use `train_data[i][1]`\n",
    "    # *   To access the label for the *i*th example, use `train_data[i][0]`\n",
    "\n",
    "\n",
    "    print(\"\\nSAMPLE DATA:\")\n",
    "    for x in random.sample(train_data, 5):\n",
    "        print('Sample text:', x[1])\n",
    "        print('Sample label:', x[0], '\\n')"
   ]
  },
  {
   "cell_type": "markdown",
   "metadata": {
    "id": "_kfg8RcyskyU"
   },
   "source": [
    "# Step 2: Create Dataloader [20 points]\n",
    "\n",
    "\n"
   ]
  },
  {
   "cell_type": "markdown",
   "metadata": {},
   "source": [
    "## <font color='red'>TODO:</font> Define the Dataset Class [20 Points]\n",
    "\n",
    "In the following cell, we will define the <b>dataset</b> class. The dataset contains the tokenized data for your model. You need to implement the following functions: \n",
    "\n",
    "*   <b>` build_dictionary(self)`:</b>  <b>[10 points]</b> Creates the dictionaries `idx2word` and `word2idx`. You will represent each word in the dataset with a unique index, and keep track of this in these dictionaries. Use the hyperparameter `threshold` to control which words appear in the dictionary: a training word’s frequency should be `>= threshold` to be included in the dictionary.\n",
    "\n",
    "* <b>`convert_text(self)`:</b> Converts each review in the dataset to a list of indices, given by your `word2idx` dictionary. You should store this in the `textual_ids` variable, and the function does not return anything. If a word is not present in the  `word2idx` dictionary, you should use the `<UNK>` token for that word. Be sure to append the `<END>` token to the end of each review.\n",
    "\n",
    "*   <b>` get_text(self, idx) `:</b> Return the review at `idx` in the dataset as an array of indices corresponding to the words in the review. If the length of the review is less than `max_len`, you should pad the review with the `<PAD>` character up to the length of `max_len`. If the length is greater than `max_len`, then it should only return the first `max_len` words. The return type should be `torch.LongTensor`.\n",
    "\n",
    "*   <b>`get_label(self, idx) `</b>: Return the value `1` if the label for `idx` in the dataset is `positive`, and should return `0` if it is `negative`. The return type should be `torch.LongTensor`.\n",
    "\n",
    "*  <b> ` __len__(self) `:</b> Return the total number of reviews in the dataset as an `int`.\n",
    "\n",
    "*   <b>` __getitem__(self, idx)`:</b> <b>[10 points]</b> Return the (padded) text, and the label. The return type for both these items should be `torch.LongTensor`. You should use the ` get_label(self, idx) ` and ` get_text(self, idx) ` functions here.\n",
    "\n",
    "\n",
    "<b>Note:</b> You should convert all words to lower case in your functions.\n",
    "\n",
    "<font color='green'><b>Hint:</b> Make sure that you use instance variables such as `self.threshold` throughout your code, rather than the global variable `THRESHOLD` (defined later on). The variable `THRESHOLD` will not be known to the autograder, and the use of it within the class will cause an autograder error.</font>"
   ]
  },
  {
   "cell_type": "code",
   "execution_count": 4,
   "metadata": {
    "id": "1irMn3LX2YDB"
   },
   "outputs": [],
   "source": [
    "PAD = '<PAD>'\n",
    "END = '<END>'\n",
    "UNK = '<UNK>'\n",
    "\n",
    "from torch.utils import data\n",
    "from collections import defaultdict\n",
    "\n",
    "class TextDataset(data.Dataset):\n",
    "    def __init__(self, examples, split, threshold, max_len, idx2word=None, word2idx=None):\n",
    "        ### DO NOT EDIT ###\n",
    "        \n",
    "        self.examples = examples\n",
    "        assert split in {'train', 'val', 'test'}\n",
    "        self.split = split\n",
    "        self.threshold = threshold\n",
    "        self.max_len = max_len\n",
    "\n",
    "        #custom\n",
    "        self.map_token_to_unigram_frequency = {}\n",
    "\n",
    "        # Dictionaries\n",
    "        self.idx2word = idx2word\n",
    "        self.word2idx = word2idx\n",
    "        if split == 'train':\n",
    "            self.build_dictionary()\n",
    "        self.vocab_size = len(self.word2idx)\n",
    "        \n",
    "        # Convert text to indices\n",
    "        self.textual_ids = []\n",
    "        self.convert_text()\n",
    "\n",
    "    \n",
    "    def build_dictionary(self): \n",
    "        '''\n",
    "        Build the dictionaries idx2word and word2idx. This is only called when split='train', as these\n",
    "        dictionaries are passed in to the __init__(...) function otherwise. Be sure to use self.threshold\n",
    "        to control which words are assigned indices in the dictionaries.\n",
    "        Returns nothing.\n",
    "        '''\n",
    "        assert self.split == 'train'\n",
    "        \n",
    "        # Don't change this\n",
    "        self.idx2word = {0:PAD, 1:END, 2: UNK}\n",
    "        self.word2idx = {PAD:0, END:1, UNK: 2}\n",
    "\n",
    "        ##### TODO #####\n",
    "        # Count the frequencies of all words in the training data (self.examples)\n",
    "        # Assign idx (starting from 3) to all words having word_freq >= self.threshold\n",
    "        # Make sure you call word.lower() on each word to convert it to lowercase\n",
    "        # print(\" BUILDING DICT\")\n",
    "        # print(f\"training dataset is: {self.examples[0]}\")\n",
    "\n",
    "        # ('pos', ['Your', 'life', 'is', 'good', 'when', 'you', 'have', 'money', ',', 'success', 'and', 'health'])\n",
    "\n",
    "        for data in self.examples:           #iterate through preprocessed sentences\n",
    "            # print(f\"data: {data}\")\n",
    "            testset_label, preprocessed_sentence = data[0], data[1]\n",
    "            # print(f\"testset_label: {testset_label}, preprocessed_sentence:{preprocessed_sentence}\")\n",
    "            for token in preprocessed_sentence:             #iterate through each token\n",
    "                # print(f\"lowercase token is: {token}\")\n",
    "                token = token.lower()\n",
    "\n",
    "                if token not in self.map_token_to_unigram_frequency.keys():\n",
    "                    self.map_token_to_unigram_frequency[token] = 0          # add token as key if not present as a key in map_token_to_unigram_frequency\n",
    "                self.map_token_to_unigram_frequency[token] += 1             # increment the frequency of unigram\n",
    "\n",
    "\n",
    "        # print(f\"self.map_token_to_unigram_frequency: {self.map_token_to_unigram_frequency}\")\n",
    "        index = 3\n",
    "        for token, freq in self.map_token_to_unigram_frequency.items():\n",
    "            if freq >= self.threshold:\n",
    "                self.idx2word[index] = token\n",
    "                self.word2idx[token] = index\n",
    "                index += 1\n",
    "        #\n",
    "        # print(f\"self.idx2word: {self.idx2word}\")\n",
    "        # print(f\"self.word2idx: {self.word2idx}\")\n",
    "\n",
    "        pass\n",
    "    \n",
    "    def convert_text(self):\n",
    "        '''\n",
    "        Convert each review in the dataset (self.examples) to a list of indices, given by self.word2idx.\n",
    "        Store this in self.textual_ids; returns nothing.\n",
    "        '''\n",
    "\n",
    "        ##### TODO #####\n",
    "        # Remember to replace a word with the <UNK> token if it does not exist in the word2idx dictionary.\n",
    "        # Remember to append the <END> token to the end of each review.\n",
    "        for data in self.examples:           #iterate through preprocessed sentences\n",
    "            # print(f\"data: {data}\")\n",
    "            testset_label, preprocessed_sentence = data[0], data[1]\n",
    "            converted_preprocessed_sentence = []\n",
    "            # print(f\"testset_label: {testset_label}, preprocessed_sentence:{preprocessed_sentence}\")\n",
    "            for token_index in range(len(preprocessed_sentence)):             #iterate through each token\n",
    "                token = preprocessed_sentence[token_index]\n",
    "                # print(f\"IN CONVERT TEXT: token: {token}\")\n",
    "                token = token.lower()\n",
    "                # print(f\"lowercase token is: {token}\")\n",
    "                if token not in self.word2idx.keys():\n",
    "                    # preprocessed_sentence[token_index] = self.word2idx[UNK]\n",
    "                    converted_preprocessed_sentence.append(self.word2idx[UNK])\n",
    "                if token in self.word2idx.keys():\n",
    "                    # preprocessed_sentence[token_index] = self.word2idx[token]\n",
    "                    converted_preprocessed_sentence.append(self.word2idx[token])\n",
    "\n",
    "            converted_preprocessed_sentence.append(self.word2idx[END])\n",
    "\n",
    "            # print(f\"testset_label: {testset_label}, converted preprocessed_sentence:{converted_preprocessed_sentence}\")\n",
    "            # self.textual_ids.append([testset_label,converted_preprocessed_sentence])\n",
    "            self.textual_ids.append(converted_preprocessed_sentence)\n",
    "            # print(f\"self.textual_ids is: {self.textual_ids}\")\n",
    "\n",
    "        pass\n",
    "\n",
    "    def get_text(self, idx):\n",
    "        '''\n",
    "        Return the review at idx as a long tensor (torch.LongTensor) of integers corresponding to the words in the review.\n",
    "        You may need to pad as necessary (see above).\n",
    "\n",
    "        <b>` get_text(self, idx) `:</b> Return the review at `idx` in the dataset as an array of indices corresponding to the words in the review. If the length of the review is less than `max_len`, you should pad the review with the `<PAD>` character up to the length of `max_len`. If the length is greater than `max_len`, then it should only return the first `max_len` words. The return type should be `torch.LongTensor`.\n",
    "        '''\n",
    "\n",
    "        ##### TODO #####\n",
    "        review = self.examples[idx]\n",
    "        indice_review = self.textual_ids[idx]\n",
    "        # print(f\"indice review is: {indice_review}\")\n",
    "\n",
    "        if len(indice_review) >= self.max_len:\n",
    "            indice_review_long_tensor = torch.LongTensor(indice_review[0:self.max_len])\n",
    "\n",
    "        elif len(indice_review) < self.max_len:\n",
    "            padding = [self.word2idx[PAD]] * (self.max_len - len(indice_review))\n",
    "            padded_version = indice_review + padding\n",
    "            # print(f\"padding list is: {padding} and padded version: {padded_version}\")\n",
    "            indice_review_long_tensor = torch.LongTensor(padded_version)\n",
    "            # indice_review_long_tensor = torch.Tensor(padded_version)\n",
    "\n",
    "\n",
    "        # print('Content of indice_review_long_tensor:', indice_review_long_tensor)\n",
    "        # print('Shape of indice_review_long_tensor:', indice_review_long_tensor.shape, '\\n')\n",
    "        # print('Type of indice_review_long_tensor:', indice_review_long_tensor.dtype, '\\n')\n",
    "\n",
    "\n",
    "\n",
    "        return (indice_review_long_tensor)\n",
    "    \n",
    "    def get_label(self, idx):\n",
    "        '''\n",
    "        This function should return the value 1 if the label for idx in the dataset is 'positive', \n",
    "        and 0 if it is 'negative'. The return type should be torch.LongTensor.\n",
    "        '''\n",
    "        ##### TODO #####\n",
    "        review_label = self.examples[idx][0]\n",
    "        # print(f\"review label: {review_label}\")\n",
    "\n",
    "        if review_label == 'pos':\n",
    "            return torch.squeeze(torch.LongTensor([1]))\n",
    "            # print('Shape of torch.squeeze(torch.Tensor(1)):', torch.squeeze(torch.Tensor(1)).shape, '\\n')\n",
    "            # return torch.squeeze(torch.Tensor([1]))\n",
    "\n",
    "        elif review_label == 'neg':\n",
    "            return torch.squeeze(torch.LongTensor([0]))\n",
    "            # print('Shape of torch.squeeze(torch.Tensor(0)):', torch.squeeze(torch.Tensor(0)).shape, '\\n')\n",
    "            # return torch.squeeze(torch.Tensor([0]))\n",
    "\n",
    "\n",
    "\n",
    "    def __len__(self):\n",
    "        '''\n",
    "        Return the number of reviews (int value) in the dataset\n",
    "        '''\n",
    "        ##### TODO #####\n",
    "        return int(len(self.examples))\n",
    "    \n",
    "    def __getitem__(self, idx):\n",
    "        '''\n",
    "        Return the review, and label of the review specified by idx.\n",
    "\n",
    "        *   <b>` __getitem__(self, idx)`:</b> <b>[10 points]</b> Return the (padded) text, and the label. The return type for both these items should be `torch.LongTensor`. You should use the ` get_label(self, idx) ` and ` get_text(self, idx) ` functions here.\n",
    "        '''\n",
    "        ##### TODO #####\n",
    "        # return self.examples[idx][1], self.examples[idx][0]\n",
    "        return self.get_text(idx), self.get_label(idx)"
   ]
  },
  {
   "cell_type": "markdown",
   "metadata": {
    "id": "HxVxiGGbFJAj"
   },
   "source": [
    "##Sanity Check: Dataset Class\n",
    "\n",
    "The code below runs a sanity check for your `Dataset` class. The tests are similar to the hidden ones in Gradescope. However, note that passing the sanity check does <b>not</b> guarantee that you will pass the autograder; it is intended to help you debug."
   ]
  },
  {
   "cell_type": "code",
   "execution_count": 5,
   "metadata": {
    "id": "bvHIZt8Z-RzK"
   },
   "outputs": [
    {
     "name": "stdout",
     "output_type": "stream",
     "text": [
      "Sample dataset:\n",
      "('pos', ['Your', 'life', 'is', 'good', 'when', 'you', 'have', 'money', ',', 'success', 'and', 'health'])\n",
      "('neg', ['Life', 'is', 'bad', 'when', 'you', 'got', 'not', 'a', 'lot'])\n",
      "\n",
      "--- TEST: idx2word and word2idx dictionaries ---\n",
      "\tthreshold: 1 \tmax_len: 3 \tPASSED \t\n",
      "\tthreshold: 2 \tmax_len: 3 \tPASSED \t\n",
      "\tthreshold: 3 \tmax_len: 3 \tPASSED \t\n",
      "\n",
      "--- TEST: len(dataset) ---\n",
      "\tPASSED\n",
      "\n",
      "--- TEST: __getitem__(self, idx) ---\n",
      "\tthreshold: 1 \tmax_len: 3 \tidx: 0 \tPASSED \t\n",
      "\tthreshold: 1 \tmax_len: 3 \tidx: 1 \tPASSED \t\n",
      "\tthreshold: 1 \tmax_len: 8 \tidx: 0 \tPASSED \t\n",
      "\tthreshold: 1 \tmax_len: 8 \tidx: 1 \tPASSED \t\n",
      "\tthreshold: 1 \tmax_len: 15 \tidx: 0 \tPASSED \t\n",
      "\tthreshold: 1 \tmax_len: 15 \tidx: 1 \tPASSED \t\n",
      "\tthreshold: 2 \tmax_len: 3 \tidx: 0 \tPASSED \t\n",
      "\tthreshold: 2 \tmax_len: 3 \tidx: 1 \tPASSED \t\n",
      "\tthreshold: 2 \tmax_len: 8 \tidx: 0 \tPASSED \t\n",
      "\tthreshold: 2 \tmax_len: 8 \tidx: 1 \tPASSED \t\n",
      "\tthreshold: 2 \tmax_len: 15 \tidx: 0 \tPASSED \t\n",
      "\tthreshold: 2 \tmax_len: 15 \tidx: 1 \tPASSED \t\n",
      "\tthreshold: 3 \tmax_len: 3 \tidx: 0 \tPASSED \t\n",
      "\tthreshold: 3 \tmax_len: 3 \tidx: 1 \tPASSED \t\n",
      "\tthreshold: 3 \tmax_len: 8 \tidx: 0 \tPASSED \t\n",
      "\tthreshold: 3 \tmax_len: 8 \tidx: 1 \tPASSED \t\n",
      "\tthreshold: 3 \tmax_len: 15 \tidx: 0 \tPASSED \t\n",
      "\tthreshold: 3 \tmax_len: 15 \tidx: 1 \tPASSED \t\n"
     ]
    }
   ],
   "source": [
    "### DO NOT EDIT ###\n",
    "\n",
    "def sanityCheckDataSet():\n",
    "    #\tRead in the sample corpus\n",
    "    reviews = [('pos', 'Your life is good when you have money, success and health'),\n",
    "               ('neg', 'Life is bad when you got not a lot')]\n",
    "    data = [(x[0], preprocess(x[1])) for x in reviews]\n",
    "    print(\"Sample dataset:\")\n",
    "    for x in data: print(x)\n",
    "\n",
    "    thresholds = [1,2,3]\n",
    "    print('\\n--- TEST: idx2word and word2idx dictionaries ---') # max_len does not matter for this test\n",
    "    correct = [[',', '<END>', '<PAD>', '<UNK>', 'a', 'and', 'bad', 'good', 'got', 'have', 'health', 'is', 'life', 'lot', 'money', 'not', 'success', 'when', 'you', 'your'], ['<END>', '<PAD>', '<UNK>', 'is', 'life', 'when', 'you'], ['<END>', '<PAD>', '<UNK>']]\n",
    "    for i in range(len(thresholds)):\n",
    "        dataset = TextDataset(data, 'train', threshold=thresholds[i], max_len=3)\n",
    "\n",
    "        has_passed, message = True, ''\n",
    "        if has_passed and (dataset.vocab_size != len(dataset.word2idx) or dataset.vocab_size != len(dataset.idx2word)):\n",
    "            has_passed, message = False, 'dataset.vocab_size (' + str(dataset.vocab_size) + ') must be the same length as dataset.word2idx (' + str(len(dataset.word2idx)) + ') and dataset.idx2word ('+str(len(dataset.idx2word)) +').'\n",
    "        if has_passed and (dataset.vocab_size != len(correct[i])):\n",
    "            has_passed, message = False, 'Your vocab size is incorrect. Expected: ' + str(len(correct[i])) + '\\tGot: ' + str(dataset.vocab_size)\n",
    "        if has_passed and sorted(list(dataset.idx2word.keys())) != list(range(0, dataset.vocab_size)):\n",
    "            has_passed, message = False, 'dataset.idx2word must have keys ranging from 0 to dataset.vocab_size-1. Keys in your dataset.idx2word: ' + str(sorted(list(dataset.idx2word.keys())))\n",
    "        if has_passed and sorted(list(dataset.word2idx.keys())) != correct[i]:\n",
    "            has_passed, message = False, 'Your dataset.word2idx has incorrect keys. Expected: ' + str(correct[i]) + '\\tGot: ' + str(sorted(list(dataset.word2idx.keys())))\n",
    "        if has_passed: # Check that word2idx and idx2word are consistent\n",
    "            widx = sorted(list(dataset.word2idx.items())) \n",
    "            idxw = sorted(list([(v,k) for k,v in dataset.idx2word.items()]))\n",
    "            if not (len(widx) == len(idxw) and all([widx[q] == idxw[q] for q in range(len(widx))])):\n",
    "                has_passed, message = False, 'Your dataset.word2idx and dataset.idx2word are not consistent. dataset.idx2word: ' + str(dataset.idx2word) + '\\tdataset.word2idx: ' + str(dataset.word2idx)\n",
    "\n",
    "        status = 'PASSED' if has_passed else 'FAILED'\n",
    "        print('\\tthreshold:', thresholds[i], '\\tmax_len:', 3, '\\t'+status, '\\t'+message)\n",
    "    \n",
    "    print('\\n--- TEST: len(dataset) ---')\n",
    "    has_passed = len(dataset) == 2\n",
    "    if has_passed: print('\\tPASSED')\n",
    "    else: print('\\tlen(dataset) is incorrect. Expected: 2\\tGot: ' + str(len(dataset)))\n",
    "\n",
    "    print('\\n--- TEST: __getitem__(self, idx) ---')\n",
    "    max_lens = [3,8,15]\n",
    "    idxes = [0,1]\n",
    "    combos = [{'threshold': t, 'max_len': m, 'idx': idx} for t in thresholds for m in max_lens for idx in idxes]\n",
    "    correct = [(torch.tensor([3, 4, 5]), torch.tensor(1)), (torch.tensor([ 4,  5, 15]), torch.tensor(0)), (torch.tensor([ 3,  4,  5,  6,  7,  8,  9, 10]), torch.tensor(1)), (torch.tensor([ 4,  5, 15,  7,  8, 16, 17, 18]), torch.tensor(0)), (torch.tensor([ 3,  4,  5,  6,  7,  8,  9, 10, 11, 12, 13, 14,  1,  0,  0]), torch.tensor(1)), (torch.tensor([ 4,  5, 15,  7,  8, 16, 17, 18, 19,  1,  0,  0,  0,  0,  0]), torch.tensor(0)), (torch.tensor([2, 3, 4]), torch.tensor(1)), (torch.tensor([3, 4, 2]), torch.tensor(0)), (torch.tensor([2, 3, 4, 2, 5, 6, 2, 2]), torch.tensor(1)), (torch.tensor([3, 4, 2, 5, 6, 2, 2, 2]), torch.tensor(0)), (torch.tensor([2, 3, 4, 2, 5, 6, 2, 2, 2, 2, 2, 2, 1, 0, 0]), torch.tensor(1)), (torch.tensor([3, 4, 2, 5, 6, 2, 2, 2, 2, 1, 0, 0, 0, 0, 0]), torch.tensor(0)), (torch.tensor([2, 2, 2]), torch.tensor(1)), (torch.tensor([2, 2, 2]), torch.tensor(0)), (torch.tensor([2, 2, 2, 2, 2, 2, 2, 2]), torch.tensor(1)), (torch.tensor([2, 2, 2, 2, 2, 2, 2, 2]), torch.tensor(0)), (torch.tensor([2, 2, 2, 2, 2, 2, 2, 2, 2, 2, 2, 2, 1, 0, 0]), torch.tensor(1)), (torch.tensor([2, 2, 2, 2, 2, 2, 2, 2, 2, 1, 0, 0, 0, 0, 0]), torch.tensor(0))]\n",
    "    for i in range(len(combos)):\n",
    "        combo = combos[i]\n",
    "        dataset = TextDataset(data, 'train', threshold=combo['threshold'], max_len=combo['max_len'])\n",
    "        returned = dataset.__getitem__(combo['idx'])\n",
    "\n",
    "        has_passed, message = True, ''\n",
    "        if has_passed and len(returned) != 2:\n",
    "            has_passed, message = False, 'dataset.__getitem__(idx) must return 2 things. Got ' + str(len(returned)) +' things instead.'\n",
    "        if has_passed and (type(returned[0]) != torch.Tensor or type(returned[1]) != torch.Tensor):\n",
    "            has_passed, message = False, 'Both returns must be of type torch.Tensor. Got: (' + str(type(returned[0])) + ', ' + str(type(returned[1])) + ')'\n",
    "        if has_passed and (returned[0].shape != correct[i][0].shape):\n",
    "            has_passed, message = False, 'Shape of first return is incorrect. Expected: ' + str(correct[i][0].shape) + '.\\tGot: ' + str(returned[0].shape)\n",
    "        if has_passed and (returned[1].shape != correct[i][1].shape):\n",
    "            has_passed, message = False, 'Shape of second return is incorrect. Expected: ' + str(correct[i][1].shape) + '.\\tGot: ' + str(returned[1].shape) + '\\n\\t\\tHint: torch.Size([]) means that the tensor should be dimensionless (just a number). Try squeezing your result.'\n",
    "        if has_passed and (returned[1] != correct[i][1]):\n",
    "            has_passed, message = False, 'Label (second return) is incorrect. Expected: ' + str(correct[i][1]) + '.\\tGot: ' + str(returned[1])\n",
    "        if has_passed:\n",
    "            correct_padding_idxes, your_padding_idxes = torch.where(correct[i][0] == 0)[0], torch.where(returned[0] == dataset.word2idx[PAD])[0]\n",
    "            if not (correct_padding_idxes.shape == your_padding_idxes.shape and torch.all(correct_padding_idxes == your_padding_idxes)):\n",
    "                has_passed, message = False, 'Padding is not correct. Expected padding indxes: ' + str(correct_padding_idxes) + '.\\tYour padding indexes: ' + str(your_padding_idxes)\n",
    "\n",
    "        status = 'PASSED' if has_passed else 'FAILED'\n",
    "        print('\\tthreshold:', combo['threshold'], '\\tmax_len:', combo['max_len'] , '\\tidx:', combo['idx'], '\\t'+status, '\\t'+message)\n",
    "\n",
    "if __name__ == '__main__':\n",
    "    sanityCheckDataSet()"
   ]
  },
  {
   "cell_type": "markdown",
   "metadata": {
    "id": "CR4VQbQCNZH6"
   },
   "source": [
    "The following cell builds the dataset on the IMDb movie reviews and prints an example:"
   ]
  },
  {
   "cell_type": "code",
   "execution_count": 6,
   "metadata": {
    "id": "HSxpGXj6ml9N"
   },
   "outputs": [
    {
     "name": "stdout",
     "output_type": "stream",
     "text": [
      "Vocab size: 19002 \n",
      "\n",
      "Example text:\n",
      "['I', 'think', 'this', 'movie', 'was', 'probably', 'a', 'lot', 'more', 'powerful', 'when', 'it', 'first', 'debuted', 'in', '1943', ',', 'though', 'nowadays', 'it', 'seems', 'a', 'bit', 'too', 'preachy', 'and', 'static', 'to', 'elevate', 'it', 'to', 'greatness', '.', 'The', 'film', 'is', 'set', 'in', '1940--just', 'before', 'the', 'entry', 'of', 'the', 'US', 'into', 'the', 'war', '.', 'Paul', 'Lukas', 'plays', 'the', 'very', 'earnest', 'and', 'decent', 'head', 'of', 'his', 'family', '.', \"He's\", 'a', 'German', 'who', 'has', 'spent', 'seven', 'years', 'fighting', 'the', 'Nazis', 'and', 'avoiding', 'capture', '.', 'Bette', 'Davis', 'is', 'his', 'very', 'understanding', 'and', 'long-suffering', 'wife', 'who', 'has', 'managed', 'to', 'educate', 'and', 'raise', 'the', 'children', 'without', 'him', 'from', 'time', 'to', 'time', '.', 'As', 'the', 'film', 'begins', ',', 'they', 'are', 'crossing', 'the', 'border', 'from', 'Mexico', 'to', 'the', 'USA', 'and', 'for', 'the', 'first', 'time', 'in', 'years', ',', 'they', 'are', 'going', 'to', 'relax', 'and', 'stop', 'running.<br', '/><br', '/>The', 'problem', 'for', 'me', 'was', 'that', 'the', 'family', 'was', 'too', 'perfect', 'and', 'too', 'decent--making', 'them', 'seem', 'like', 'obvious', 'positive', 'propaganda', 'instead', 'of', 'a', 'real', 'family', 'suffering', 'through', 'real', 'problems', '.', 'While', 'this', 'had', 'a', 'very', 'noble', 'goal', 'at', 'the', 'time', ',', 'it', 'just', 'seems', 'phony', 'today', '.', 'In', 'particular', ',', 'the', 'incredibly', 'odd', 'and', 'extremely', 'scripted', 'dialog', 'used', 'by', 'the', 'children', 'just', \"didn't\", 'ring', 'true', '.', 'It', 'sounded', 'more', 'like', 'anti-Fascism', 'speeches', 'than', 'the', 'voices', 'of', 'real', 'children', '.', 'They', 'were', 'as', 'a', 'result', 'extremely', 'annoying--particularly', 'the', 'littlest', 'one', 'who', 'came', 'off', ',', 'at', 'times', ',', 'as', 'a', 'brat', '.', 'About', 'the', 'only', 'ones', 'who', 'sounded', 'real', 'were', 'Bette', 'Davis', 'and', 'her', 'extended', 'American', 'family', 'as', 'well', 'as', 'the', 'scumbag', 'Romanian', 'living', 'with', 'them', '(', 'though', 'he', 'had', 'no', 'discernible', 'accent).<br', '/><br', \"/>It's\", 'really', 'tough', 'to', 'believe', 'that', 'the', 'ultra-famous', 'Dashiel', 'Hammett', 'wrote', 'this', 'dialog', ',', 'as', 'it', 'just', \"doesn't\", 'sound', 'true', 'to', 'life', '.', 'The', 'story', 'was', 'based', 'on', 'the', 'play', 'by', 'his', 'lover', ',', 'Lillian', 'Hellman', '.', 'And', ',', 'the', 'basic', 'story', 'idea', 'and', 'plot', 'is', 'good,...but', 'the', 'dialog', 'is', 'just', 'bad', 'at', 'times', '.', 'Overall', ',', 'an', 'interesting', 'curio', 'and', 'a', 'film', 'with', 'some', 'excellent', 'moments,...but', \"that's\", 'really', 'about', 'all', '.']\n",
      "tensor([  309,   682,    59,    75,   386,  1116,    35,  1442,    45,  3139,\n",
      "          206,    64,   475, 12653,     6, 12576,    12,   763,  1134,    64,\n",
      "          636,    35,    57,    68, 12553,    41,  9561,    52, 12076,    64,\n",
      "           52,  1117,    21,     9,    14,    24,    15,     6,     2,  1084,\n",
      "            9,  1454,    18,     9,   541,   150,     9,   939,    21,  2633,\n",
      "         4478,  1034,     9,   165,  5598,    41,   777,   441,    18,   120,\n",
      "          931,    21,   898,    35,   182,    31,     4,  2752,  3354,    93,\n",
      "         3348,     9,  5463,    41,  9579,  5477,    21,  3947,  5590,    24,\n",
      "          120,   165,  1206,    41, 11896,   340,    31,     4,  2638,    52,\n",
      "        12654,    41,  9166,     9,  2042,   123,   141,   143,   260,    52,\n",
      "          260,    21,    66,     9,    14,   543,    12,   218,    98,  7491,\n",
      "            9,  9079,   143,  7014,    52,     9,  6165,    41,   106,     9,\n",
      "          475,   260,     6,    93,    12,   218,    98,   419,    52,  4756,\n",
      "           41,   285,     2,    48,   223,   758,   106,   315,   386,    54,\n",
      "            9,   931,   386,    68,   127,    41,    68,     2,   164,   328])\n",
      "\n",
      "Example label:\n",
      "pos\n",
      "tensor(1)\n"
     ]
    }
   ],
   "source": [
    "### DO NOT EDIT ###\n",
    "\n",
    "if __name__=='__main__':\n",
    "    train_dataset = TextDataset(train_data, 'train', threshold=10, max_len=150)\n",
    "    print('Vocab size:', train_dataset.vocab_size, '\\n')\n",
    "\n",
    "    randidx = random.randint(0, len(train_dataset)-1)\n",
    "    text, label = train_dataset[randidx]\n",
    "    print('Example text:')\n",
    "    print(train_data[randidx][1])\n",
    "    print(text)\n",
    "    print('\\nExample label:')\n",
    "    print(train_data[randidx][0])\n",
    "    print(label)"
   ]
  },
  {
   "cell_type": "markdown",
   "metadata": {
    "id": "e_4FFhulaAod"
   },
   "source": [
    "# Step 3: Train a Convolutional Neural Network (CNN) [40 points]"
   ]
  },
  {
   "cell_type": "markdown",
   "metadata": {
    "id": "VcSKydlClwOC"
   },
   "source": [
    "## <font color='red'>TODO:</font> Define the CNN Model [20 points]\n",
    "Here you will define your convolutional neural network for text classification. We provide you with the CNN class, you need to fill in parts of the `__init__(...)` and `forward(...)` functions. Each of these functions is worth 10 points.\n",
    "\n",
    "We have provided you with instructions and hints in the comments. In particular, pay attention to the desired shapes; you may find it helpful to print the shape of the tensors as you code. It may also help to keep PyTorch documentation open for the modules & functions you are using, since they describe input and output dimensions."
   ]
  },
  {
   "cell_type": "code",
   "execution_count": 7,
   "metadata": {
    "id": "0ztuy2hUaAof"
   },
   "outputs": [],
   "source": [
    "import torch\n",
    "import torch.nn as nn\n",
    "import torch.nn.functional as F\n",
    "\n",
    "class CNN(nn.Module):\n",
    "    def __init__(self, vocab_size, embed_size, out_channels, filter_heights, stride, dropout, num_classes, pad_idx):\n",
    "        super(CNN, self).__init__()\n",
    "        \n",
    "        ##### TODO #####\n",
    "        # Create an embedding layer (https://pytorch.org/docs/stable/generated/torch.nn.Embedding.html)\n",
    "        #   to represent the words in your vocabulary. Make sure to use vocab_size, embed_size, and pad_idx here.\n",
    "        # print(f\" vocab size is: {vocab_size}, embed size is: {embed_size}, filter heights: {filter_heights}\")\n",
    "        # number of embeddings = vocab size??\n",
    "        # embedding size = embed size? = max len??\n",
    "        self.embedding = nn.Embedding(vocab_size, embed_size, padding_idx=pad_idx)\n",
    "        # self.embedding = nn.Embedding(vocab_size, embed_size)\n",
    "        #self.embedding is learnable\n",
    "\n",
    "        # print(f\"weights of embedding: {self.embedding.weight}\")\n",
    "\n",
    "\n",
    "        # Define multiple Convolution layers (nn.Conv2d) with filter (kernel) size [filter_height, embed_size] based on your \n",
    "        #   different filter_heights.\n",
    "        # Input channels will be 1 and output channels will be out_channels (these many different filters will be trained\n",
    "        #   for each convolution layer)\n",
    "\n",
    "\n",
    "        # If you want, you can store a list of modules inside nn.ModuleList.\n",
    "        self.conv_module_list = nn.ModuleList([nn.Conv2d(in_channels=1, out_channels=out_channels, kernel_size=(filter_height, embed_size), stride=stride) for filter_height in filter_heights])\n",
    "        # print(f\"conv module list is: {self.conv_module_list}\")\n",
    "\n",
    "        self.conv_model_outputs = {}\n",
    "\n",
    "        # conv module list is: ModuleList(\n",
    "        #                                   (0): Conv2d(1, 32, kernel_size=(3, 32), stride=(1, 1))\n",
    "        #                                   (1): Conv2d(1, 32, kernel_size=(4, 32), stride=(1, 1))\n",
    "        #                                   (2): Conv2d(1, 32, kernel_size=(5, 32), stride=(1, 1))\n",
    "        #                                 )\n",
    "\n",
    "        # self.maxpool = nn.MaxPool1d(2)\n",
    "\n",
    "        # Note: even though your conv layers are nn.Conv2d, we are doing a 1d convolution since we are only moving the filter \n",
    "        #   in one direction\n",
    "\n",
    "        # Create a dropout layer (nn.Dropout) using dropout\n",
    "        self.dropout_layer = nn.Dropout(dropout)\n",
    "\n",
    "        # Define a linear layer (nn.Linear) that consists of num_classes units\n",
    "        #   and takes as input the $concatenated output$ for all cnn layers (out_channels * num_of_cnn_layers units) ???\n",
    "        # print(f\"out_channels * len(filter_heights), :{out_channels * len(filter_heights)}\")\n",
    "        self.dense_layer = nn.Linear(out_channels * len(filter_heights), num_classes)\n",
    "        # another dense layer\n",
    "        # self.d2 = nn.Linear(128, 10)\n",
    "\n",
    "\n",
    "    def forward(self, texts):\n",
    "        \"\"\"\n",
    "        texts: LongTensor [batch_size, max_len]\n",
    "        \n",
    "        Returns output: Tensor [batch_size, num_classes]\n",
    "\n",
    "        # Pass these texts to each of your conv layers and compute their output as follows:\n",
    "        #   Your cnn output will have shape [batch_size, out_channels, *, 1] where * depends on filter_height and stride\n",
    "        #   Convert to shape [batch_size, out_channels, *] (see torch's squeeze() function)\n",
    "        #   Apply non-linearity on it (F.relu() is a commonly used one. Feel free to try others)\n",
    "        #   Take the max value across last dimension to have shape [batch_size, out_channels]\n",
    "        # Concatenate (torch.cat) outputs from all your cnns [batch_size, (out_channels*num_of_cnn_layers)]\n",
    "        #\n",
    "        \"\"\"\n",
    "        ##### TODO #####\n",
    "\n",
    "        # print('Content of texts:', texts)\n",
    "        # print('Shape of texts:', texts.shape, '\\n')\n",
    "        # print('Type of texts:', texts.dtype, '\\n')\n",
    "\n",
    "        texts = texts.type(torch.int64)\n",
    "        final_embedding = self.embedding(texts)\n",
    "\n",
    "        # print('Content of embedding:', final_embedding)\n",
    "        # print('Shape of embedding:', final_embedding.shape, '\\n')\n",
    "        # print('Type of embedding:', final_embedding.dtype, '\\n')\n",
    "        # Resulting: shape: [batch_size, max_len, embed_size]\n",
    "        # Shape of embedding: torch.Size([1, 150, 16])\n",
    "\n",
    "\n",
    "        # Input to conv should have 1 channel. Take a look at torch's unsqueeze() function\n",
    "        #   Resulting shape: [batch_size, 1, MAX_LEN, embed_size]\n",
    "        y = torch.unsqueeze(final_embedding, 1)\n",
    "        # print('Shape of unsqueeze:', y.shape, '\\n')  #CORRECT\n",
    "\n",
    "        # Pass these texts to each of your conv layers and compute their output as follows:\n",
    "        #   Your cnn output will have shape [batch_size, out_channels, *, 1] where * depends on filter_height and stride\n",
    "        #   Convert to shape [batch_size, out_channels, *] (see torch's squeeze() function)\n",
    "        #   Apply non-linearity on it (F.relu() is a commonly used\n",
    "        #   one. Feel free to try others)\n",
    "\n",
    "        list_to_be_concatenated = []\n",
    "\n",
    "        for i, conv_model in enumerate(self.conv_module_list):\n",
    "\n",
    "            # Shape of x: torch.Size([1, 32, 148, 1])   #148 = * = depends on filter_height and stride\n",
    "            # Shape of x1_squeezed: torch.Size([1, 32, 148])\n",
    "            # Shape of x1_squeezed_relu: torch.Size([1, 32, 148])\n",
    "\n",
    "            # print(f\"i: {i}, conv_model: {conv_model}\")\n",
    "            x = conv_model(y)\n",
    "            # print('Shape of x:', x.shape, '\\n')  #\n",
    "\n",
    "            x1_squeezed = torch.squeeze(x, dim=3)\n",
    "            # print('Shape of x1_squeezed:', x1_squeezed.shape, '\\n')\n",
    "\n",
    "            x1_squeezed_relu = F.relu(x1_squeezed) #??? #TODO: apply non linearity here??\n",
    "            # print('Shape of x1_squeezed_relu:', x1_squeezed_relu.shape, '\\n')\n",
    "\n",
    "            #   Take the max value across last dimension to have shape [batch_size, out_channels] ??? #TODO: how and why?\n",
    "            # torch.nn.functional.max_pool1d(input, kernel_size, stride=None, padding=0, dilation=1, ceil_mode=False, return_indices=False)\n",
    "            maxpool_values, maxpool_indices = F.max_pool1d(x1_squeezed_relu, x1_squeezed_relu.shape[2], return_indices=True)\n",
    "            # print(f\"maxpool_values is: {maxpool_values}\")\n",
    "            # print(f\"maxpool_values.shape: {maxpool_values.shape}\")\n",
    "\n",
    "            # print(f\"maxpool_indices is: {maxpool_indices}, maxpool_indices.shape: {maxpool_indices.shape}\")\n",
    "\n",
    "            maxpool_values_squeezed = torch.squeeze(maxpool_values, dim=2)\n",
    "            # print(f\" maxpool_values_squeezed is: {maxpool_values_squeezed}, maxpool_values_squeezed.shape: {maxpool_values_squeezed.shape}\")\n",
    "            list_to_be_concatenated.append(maxpool_values_squeezed)\n",
    "\n",
    "        ##########\n",
    "        # i: 0, conv_model: Conv2d(1, 32, kernel_size=(3, 16), stride=(1, 1))\n",
    "        # i: 1, conv_model: Conv2d(1, 32, kernel_size=(4, 16), stride=(1, 1))\n",
    "        # i: 2, conv_model: Conv2d(1, 32, kernel_size=(5, 16), stride=(1, 1))\n",
    "        # shape of tensor: torch.Size([1, 32, 148])\n",
    "        # shape of tensor: torch.Size([1, 32, 147])\n",
    "        # shape of tensor: torch.Size([1, 32, 146])\n",
    "        ##########\n",
    "        #  Concatenate (torch.cat) outputs from all your cnns [batch_size, (out_channels*num_of_cnn_layers)]\n",
    "        list_to_be_concatenated_tensor = torch.cat([i for i in list_to_be_concatenated], dim=1)\n",
    "\n",
    "        # print(f\"list_to_be_concatenated_tensor is: {list_to_be_concatenated_tensor}, shape: {list_to_be_concatenated_tensor.shape}\")\n",
    "        # print(f\"list_to_be_concatenated_tensor: {list_to_be_concatenated_tensor.shape}\")\n",
    "\n",
    "        #  #print shapes\n",
    "        # for tensor in list_to_be_concatenated:\n",
    "        #     print(f\"shape of tensor: {tensor.shape}\")\n",
    "\n",
    "        #[batch_size, (out_channels*num_of_cnn_layers)]\n",
    "        # shape of tensor: torch.Size([20, 32])\n",
    "        # shape of tensor: torch.Size([20, 32])\n",
    "        # shape of tensor: torch.Size([20, 32])\n",
    "        # list_to_be_concatenated_tensor: torch.Size([20, 96])\n",
    "\n",
    "\n",
    "        # Let's understand what you just did:\n",
    "        #   Since each cnn is of different filter_height, it will look at different number of words at a time\n",
    "        #     So, a filter_height of 3 means your cnn looks at 3 words (3-grams) at a time and tries to extract some information from it\n",
    "        #   Each cnn will learn out_channels number of features from the words it sees at a time\n",
    "        #   Then you applied a non-linearity and took the max value for all channels\n",
    "        #     You are essentially trying to find important n-grams from the entire text\n",
    "        # Everything happens on a batch simultaneously hence you have that additional batch_size as the first dimension\n",
    "\n",
    "\n",
    "        # flattened_tensor = torch.flatten(list_to_be_concatenated_tensor)\n",
    "        # print(f\"flattened_tensor is: {flattened_tensor}, shape: {flattened_tensor.shape}\")\n",
    "\n",
    "        # Apply dropout\n",
    "        dropout = self.dropout_layer(list_to_be_concatenated_tensor)\n",
    "        # print(f\"dropout is: {dropout}, shape: {dropout.shape}\")\n",
    "\n",
    "        # Pass your output through the linear layer and return its output \n",
    "        #   Resulting shape: [batch_size, num_classes]\n",
    "        # x = self.dense_layer(self.relu(x))\n",
    "\n",
    "        linear = (self.dense_layer(dropout))\n",
    "        # print(f\"linear is: {linear}, shape: {linear.shape}, linear dtype: {linear.dtype}\")\n",
    "\n",
    "\n",
    "        # linear = linear.type(torch.int32)\n",
    "\n",
    "        ##### NOTE: Do not apply a sigmoid or softmax to the final output - done in training method!\n",
    "\n",
    "\n",
    "        return linear\n",
    "        # return None"
   ]
  },
  {
   "cell_type": "markdown",
   "metadata": {
    "id": "_mVE_ujfnh0w"
   },
   "source": [
    "##Sanity Check: CNN Model\n",
    "\n",
    "The code below runs a sanity check for your `CNN` class. The tests are similar to the hidden ones in Gradescope. However, note that passing the sanity check does <b>not</b> guarantee that you will pass the autograder; it is intended to help you debug."
   ]
  },
  {
   "cell_type": "code",
   "execution_count": 8,
   "metadata": {
    "id": "yy9oF6qUUHvV"
   },
   "outputs": [
    {
     "name": "stdout",
     "output_type": "stream",
     "text": [
      "\tPASSED\tInput: {'vocab_size': 1000, 'embed_size': 16, 'out_channels': 32, 'filter_heights': [3, 4, 5], 'stride': 1, 'dropout': 0, 'num_classes': 2, 'pad_idx': 0}\tExpected Num. Params: 22434\tYour Num. Params: 22434\n",
      "\tPASSED\tInput: {'vocab_size': 1000, 'embed_size': 16, 'out_channels': 32, 'filter_heights': [3, 4, 5], 'stride': 1, 'dropout': 0, 'num_classes': 3, 'pad_idx': 0}\tExpected Num. Params: 22531\tYour Num. Params: 22531\n",
      "\tPASSED\tInput: {'vocab_size': 1000, 'embed_size': 16, 'out_channels': 32, 'filter_heights': [3, 4, 5], 'stride': 3, 'dropout': 0, 'num_classes': 2, 'pad_idx': 0}\tExpected Num. Params: 22434\tYour Num. Params: 22434\n",
      "\tPASSED\tInput: {'vocab_size': 1000, 'embed_size': 16, 'out_channels': 32, 'filter_heights': [3, 4, 5], 'stride': 3, 'dropout': 0, 'num_classes': 3, 'pad_idx': 0}\tExpected Num. Params: 22531\tYour Num. Params: 22531\n",
      "\tPASSED\tInput: {'vocab_size': 1000, 'embed_size': 16, 'out_channels': 32, 'filter_heights': [5, 10], 'stride': 1, 'dropout': 0, 'num_classes': 2, 'pad_idx': 0}\tExpected Num. Params: 23874\tYour Num. Params: 23874\n",
      "\tPASSED\tInput: {'vocab_size': 1000, 'embed_size': 16, 'out_channels': 32, 'filter_heights': [5, 10], 'stride': 1, 'dropout': 0, 'num_classes': 3, 'pad_idx': 0}\tExpected Num. Params: 23939\tYour Num. Params: 23939\n",
      "\tPASSED\tInput: {'vocab_size': 1000, 'embed_size': 16, 'out_channels': 32, 'filter_heights': [5, 10], 'stride': 3, 'dropout': 0, 'num_classes': 2, 'pad_idx': 0}\tExpected Num. Params: 23874\tYour Num. Params: 23874\n",
      "\tPASSED\tInput: {'vocab_size': 1000, 'embed_size': 16, 'out_channels': 32, 'filter_heights': [5, 10], 'stride': 3, 'dropout': 0, 'num_classes': 3, 'pad_idx': 0}\tExpected Num. Params: 23939\tYour Num. Params: 23939\n",
      "\tPASSED\tInput: {'vocab_size': 1000, 'embed_size': 16, 'out_channels': 128, 'filter_heights': [3, 4, 5], 'stride': 1, 'dropout': 0, 'num_classes': 2, 'pad_idx': 0}\tExpected Num. Params: 41730\tYour Num. Params: 41730\n",
      "\tPASSED\tInput: {'vocab_size': 1000, 'embed_size': 16, 'out_channels': 128, 'filter_heights': [3, 4, 5], 'stride': 1, 'dropout': 0, 'num_classes': 3, 'pad_idx': 0}\tExpected Num. Params: 42115\tYour Num. Params: 42115\n",
      "\tPASSED\tInput: {'vocab_size': 1000, 'embed_size': 16, 'out_channels': 128, 'filter_heights': [3, 4, 5], 'stride': 3, 'dropout': 0, 'num_classes': 2, 'pad_idx': 0}\tExpected Num. Params: 41730\tYour Num. Params: 41730\n",
      "\tPASSED\tInput: {'vocab_size': 1000, 'embed_size': 16, 'out_channels': 128, 'filter_heights': [3, 4, 5], 'stride': 3, 'dropout': 0, 'num_classes': 3, 'pad_idx': 0}\tExpected Num. Params: 42115\tYour Num. Params: 42115\n",
      "\tPASSED\tInput: {'vocab_size': 1000, 'embed_size': 16, 'out_channels': 128, 'filter_heights': [5, 10], 'stride': 1, 'dropout': 0, 'num_classes': 2, 'pad_idx': 0}\tExpected Num. Params: 47490\tYour Num. Params: 47490\n",
      "\tPASSED\tInput: {'vocab_size': 1000, 'embed_size': 16, 'out_channels': 128, 'filter_heights': [5, 10], 'stride': 1, 'dropout': 0, 'num_classes': 3, 'pad_idx': 0}\tExpected Num. Params: 47747\tYour Num. Params: 47747\n",
      "\tPASSED\tInput: {'vocab_size': 1000, 'embed_size': 16, 'out_channels': 128, 'filter_heights': [5, 10], 'stride': 3, 'dropout': 0, 'num_classes': 2, 'pad_idx': 0}\tExpected Num. Params: 47490\tYour Num. Params: 47490\n",
      "\tPASSED\tInput: {'vocab_size': 1000, 'embed_size': 16, 'out_channels': 128, 'filter_heights': [5, 10], 'stride': 3, 'dropout': 0, 'num_classes': 3, 'pad_idx': 0}\tExpected Num. Params: 47747\tYour Num. Params: 47747\n",
      "\tPASSED\tInput: {'vocab_size': 1000, 'embed_size': 32, 'out_channels': 32, 'filter_heights': [3, 4, 5], 'stride': 1, 'dropout': 0, 'num_classes': 2, 'pad_idx': 0}\tExpected Num. Params: 44578\tYour Num. Params: 44578\n",
      "\tPASSED\tInput: {'vocab_size': 1000, 'embed_size': 32, 'out_channels': 32, 'filter_heights': [3, 4, 5], 'stride': 1, 'dropout': 0, 'num_classes': 3, 'pad_idx': 0}\tExpected Num. Params: 44675\tYour Num. Params: 44675\n",
      "\tPASSED\tInput: {'vocab_size': 1000, 'embed_size': 32, 'out_channels': 32, 'filter_heights': [3, 4, 5], 'stride': 3, 'dropout': 0, 'num_classes': 2, 'pad_idx': 0}\tExpected Num. Params: 44578\tYour Num. Params: 44578\n",
      "\tPASSED\tInput: {'vocab_size': 1000, 'embed_size': 32, 'out_channels': 32, 'filter_heights': [3, 4, 5], 'stride': 3, 'dropout': 0, 'num_classes': 3, 'pad_idx': 0}\tExpected Num. Params: 44675\tYour Num. Params: 44675\n",
      "\tPASSED\tInput: {'vocab_size': 1000, 'embed_size': 32, 'out_channels': 32, 'filter_heights': [5, 10], 'stride': 1, 'dropout': 0, 'num_classes': 2, 'pad_idx': 0}\tExpected Num. Params: 47554\tYour Num. Params: 47554\n",
      "\tPASSED\tInput: {'vocab_size': 1000, 'embed_size': 32, 'out_channels': 32, 'filter_heights': [5, 10], 'stride': 1, 'dropout': 0, 'num_classes': 3, 'pad_idx': 0}\tExpected Num. Params: 47619\tYour Num. Params: 47619\n",
      "\tPASSED\tInput: {'vocab_size': 1000, 'embed_size': 32, 'out_channels': 32, 'filter_heights': [5, 10], 'stride': 3, 'dropout': 0, 'num_classes': 2, 'pad_idx': 0}\tExpected Num. Params: 47554\tYour Num. Params: 47554\n",
      "\tPASSED\tInput: {'vocab_size': 1000, 'embed_size': 32, 'out_channels': 32, 'filter_heights': [5, 10], 'stride': 3, 'dropout': 0, 'num_classes': 3, 'pad_idx': 0}\tExpected Num. Params: 47619\tYour Num. Params: 47619\n",
      "\tPASSED\tInput: {'vocab_size': 1000, 'embed_size': 32, 'out_channels': 128, 'filter_heights': [3, 4, 5], 'stride': 1, 'dropout': 0, 'num_classes': 2, 'pad_idx': 0}\tExpected Num. Params: 82306\tYour Num. Params: 82306\n",
      "\tPASSED\tInput: {'vocab_size': 1000, 'embed_size': 32, 'out_channels': 128, 'filter_heights': [3, 4, 5], 'stride': 1, 'dropout': 0, 'num_classes': 3, 'pad_idx': 0}\tExpected Num. Params: 82691\tYour Num. Params: 82691\n",
      "\tPASSED\tInput: {'vocab_size': 1000, 'embed_size': 32, 'out_channels': 128, 'filter_heights': [3, 4, 5], 'stride': 3, 'dropout': 0, 'num_classes': 2, 'pad_idx': 0}\tExpected Num. Params: 82306\tYour Num. Params: 82306\n",
      "\tPASSED\tInput: {'vocab_size': 1000, 'embed_size': 32, 'out_channels': 128, 'filter_heights': [3, 4, 5], 'stride': 3, 'dropout': 0, 'num_classes': 3, 'pad_idx': 0}\tExpected Num. Params: 82691\tYour Num. Params: 82691\n",
      "\tPASSED\tInput: {'vocab_size': 1000, 'embed_size': 32, 'out_channels': 128, 'filter_heights': [5, 10], 'stride': 1, 'dropout': 0, 'num_classes': 2, 'pad_idx': 0}\tExpected Num. Params: 94210\tYour Num. Params: 94210\n",
      "\tPASSED\tInput: {'vocab_size': 1000, 'embed_size': 32, 'out_channels': 128, 'filter_heights': [5, 10], 'stride': 1, 'dropout': 0, 'num_classes': 3, 'pad_idx': 0}\tExpected Num. Params: 94467\tYour Num. Params: 94467\n",
      "\tPASSED\tInput: {'vocab_size': 1000, 'embed_size': 32, 'out_channels': 128, 'filter_heights': [5, 10], 'stride': 3, 'dropout': 0, 'num_classes': 2, 'pad_idx': 0}\tExpected Num. Params: 94210\tYour Num. Params: 94210\n",
      "\tPASSED\tInput: {'vocab_size': 1000, 'embed_size': 32, 'out_channels': 128, 'filter_heights': [5, 10], 'stride': 3, 'dropout': 0, 'num_classes': 3, 'pad_idx': 0}\tExpected Num. Params: 94467\tYour Num. Params: 94467\n",
      "\n",
      "\tPASSED\t Init Input: {'vocab_size': 29730, 'embed_size': 16, 'out_channels': 32, 'filter_heights': [3, 4, 5], 'stride': 1, 'dropout': 0, 'num_classes': 2, 'pad_idx': 0}\tForward Input Shape: torch.Size([1, 150])\tExpected Output Shape: torch.Size([1, 2])\tYour Output Shape: torch.Size([1, 2])\n",
      "\tPASSED\t Init Input: {'vocab_size': 29730, 'embed_size': 16, 'out_channels': 32, 'filter_heights': [3, 4, 5], 'stride': 1, 'dropout': 0, 'num_classes': 2, 'pad_idx': 0}\tForward Input Shape: torch.Size([20, 150])\tExpected Output Shape: torch.Size([20, 2])\tYour Output Shape: torch.Size([20, 2])\n",
      "\tPASSED\t Init Input: {'vocab_size': 29730, 'embed_size': 16, 'out_channels': 32, 'filter_heights': [3, 4, 5], 'stride': 3, 'dropout': 0, 'num_classes': 2, 'pad_idx': 0}\tForward Input Shape: torch.Size([1, 150])\tExpected Output Shape: torch.Size([1, 2])\tYour Output Shape: torch.Size([1, 2])\n",
      "\tPASSED\t Init Input: {'vocab_size': 29730, 'embed_size': 16, 'out_channels': 32, 'filter_heights': [3, 4, 5], 'stride': 3, 'dropout': 0, 'num_classes': 2, 'pad_idx': 0}\tForward Input Shape: torch.Size([20, 150])\tExpected Output Shape: torch.Size([20, 2])\tYour Output Shape: torch.Size([20, 2])\n",
      "\tPASSED\t Init Input: {'vocab_size': 29730, 'embed_size': 16, 'out_channels': 32, 'filter_heights': [5, 10], 'stride': 1, 'dropout': 0, 'num_classes': 2, 'pad_idx': 0}\tForward Input Shape: torch.Size([1, 150])\tExpected Output Shape: torch.Size([1, 2])\tYour Output Shape: torch.Size([1, 2])\n",
      "\tPASSED\t Init Input: {'vocab_size': 29730, 'embed_size': 16, 'out_channels': 32, 'filter_heights': [5, 10], 'stride': 1, 'dropout': 0, 'num_classes': 2, 'pad_idx': 0}\tForward Input Shape: torch.Size([20, 150])\tExpected Output Shape: torch.Size([20, 2])\tYour Output Shape: torch.Size([20, 2])\n",
      "\tPASSED\t Init Input: {'vocab_size': 29730, 'embed_size': 16, 'out_channels': 32, 'filter_heights': [5, 10], 'stride': 3, 'dropout': 0, 'num_classes': 2, 'pad_idx': 0}\tForward Input Shape: torch.Size([1, 150])\tExpected Output Shape: torch.Size([1, 2])\tYour Output Shape: torch.Size([1, 2])\n",
      "\tPASSED\t Init Input: {'vocab_size': 29730, 'embed_size': 16, 'out_channels': 32, 'filter_heights': [5, 10], 'stride': 3, 'dropout': 0, 'num_classes': 2, 'pad_idx': 0}\tForward Input Shape: torch.Size([20, 150])\tExpected Output Shape: torch.Size([20, 2])\tYour Output Shape: torch.Size([20, 2])\n",
      "\tPASSED\t Init Input: {'vocab_size': 29730, 'embed_size': 16, 'out_channels': 128, 'filter_heights': [3, 4, 5], 'stride': 1, 'dropout': 0, 'num_classes': 2, 'pad_idx': 0}\tForward Input Shape: torch.Size([1, 150])\tExpected Output Shape: torch.Size([1, 2])\tYour Output Shape: torch.Size([1, 2])\n",
      "\tPASSED\t Init Input: {'vocab_size': 29730, 'embed_size': 16, 'out_channels': 128, 'filter_heights': [3, 4, 5], 'stride': 1, 'dropout': 0, 'num_classes': 2, 'pad_idx': 0}\tForward Input Shape: torch.Size([20, 150])\tExpected Output Shape: torch.Size([20, 2])\tYour Output Shape: torch.Size([20, 2])\n",
      "\tPASSED\t Init Input: {'vocab_size': 29730, 'embed_size': 16, 'out_channels': 128, 'filter_heights': [3, 4, 5], 'stride': 3, 'dropout': 0, 'num_classes': 2, 'pad_idx': 0}\tForward Input Shape: torch.Size([1, 150])\tExpected Output Shape: torch.Size([1, 2])\tYour Output Shape: torch.Size([1, 2])\n",
      "\tPASSED\t Init Input: {'vocab_size': 29730, 'embed_size': 16, 'out_channels': 128, 'filter_heights': [3, 4, 5], 'stride': 3, 'dropout': 0, 'num_classes': 2, 'pad_idx': 0}\tForward Input Shape: torch.Size([20, 150])\tExpected Output Shape: torch.Size([20, 2])\tYour Output Shape: torch.Size([20, 2])\n",
      "\tPASSED\t Init Input: {'vocab_size': 29730, 'embed_size': 16, 'out_channels': 128, 'filter_heights': [5, 10], 'stride': 1, 'dropout': 0, 'num_classes': 2, 'pad_idx': 0}\tForward Input Shape: torch.Size([1, 150])\tExpected Output Shape: torch.Size([1, 2])\tYour Output Shape: torch.Size([1, 2])\n",
      "\tPASSED\t Init Input: {'vocab_size': 29730, 'embed_size': 16, 'out_channels': 128, 'filter_heights': [5, 10], 'stride': 1, 'dropout': 0, 'num_classes': 2, 'pad_idx': 0}\tForward Input Shape: torch.Size([20, 150])\tExpected Output Shape: torch.Size([20, 2])\tYour Output Shape: torch.Size([20, 2])\n",
      "\tPASSED\t Init Input: {'vocab_size': 29730, 'embed_size': 16, 'out_channels': 128, 'filter_heights': [5, 10], 'stride': 3, 'dropout': 0, 'num_classes': 2, 'pad_idx': 0}\tForward Input Shape: torch.Size([1, 150])\tExpected Output Shape: torch.Size([1, 2])\tYour Output Shape: torch.Size([1, 2])\n",
      "\tPASSED\t Init Input: {'vocab_size': 29730, 'embed_size': 16, 'out_channels': 128, 'filter_heights': [5, 10], 'stride': 3, 'dropout': 0, 'num_classes': 2, 'pad_idx': 0}\tForward Input Shape: torch.Size([20, 150])\tExpected Output Shape: torch.Size([20, 2])\tYour Output Shape: torch.Size([20, 2])\n",
      "\tPASSED\t Init Input: {'vocab_size': 29730, 'embed_size': 32, 'out_channels': 32, 'filter_heights': [3, 4, 5], 'stride': 1, 'dropout': 0, 'num_classes': 2, 'pad_idx': 0}\tForward Input Shape: torch.Size([1, 150])\tExpected Output Shape: torch.Size([1, 2])\tYour Output Shape: torch.Size([1, 2])\n",
      "\tPASSED\t Init Input: {'vocab_size': 29730, 'embed_size': 32, 'out_channels': 32, 'filter_heights': [3, 4, 5], 'stride': 1, 'dropout': 0, 'num_classes': 2, 'pad_idx': 0}\tForward Input Shape: torch.Size([20, 150])\tExpected Output Shape: torch.Size([20, 2])\tYour Output Shape: torch.Size([20, 2])\n",
      "\tPASSED\t Init Input: {'vocab_size': 29730, 'embed_size': 32, 'out_channels': 32, 'filter_heights': [3, 4, 5], 'stride': 3, 'dropout': 0, 'num_classes': 2, 'pad_idx': 0}\tForward Input Shape: torch.Size([1, 150])\tExpected Output Shape: torch.Size([1, 2])\tYour Output Shape: torch.Size([1, 2])\n",
      "\tPASSED\t Init Input: {'vocab_size': 29730, 'embed_size': 32, 'out_channels': 32, 'filter_heights': [3, 4, 5], 'stride': 3, 'dropout': 0, 'num_classes': 2, 'pad_idx': 0}\tForward Input Shape: torch.Size([20, 150])\tExpected Output Shape: torch.Size([20, 2])\tYour Output Shape: torch.Size([20, 2])\n",
      "\tPASSED\t Init Input: {'vocab_size': 29730, 'embed_size': 32, 'out_channels': 32, 'filter_heights': [5, 10], 'stride': 1, 'dropout': 0, 'num_classes': 2, 'pad_idx': 0}\tForward Input Shape: torch.Size([1, 150])\tExpected Output Shape: torch.Size([1, 2])\tYour Output Shape: torch.Size([1, 2])\n",
      "\tPASSED\t Init Input: {'vocab_size': 29730, 'embed_size': 32, 'out_channels': 32, 'filter_heights': [5, 10], 'stride': 1, 'dropout': 0, 'num_classes': 2, 'pad_idx': 0}\tForward Input Shape: torch.Size([20, 150])\tExpected Output Shape: torch.Size([20, 2])\tYour Output Shape: torch.Size([20, 2])\n",
      "\tPASSED\t Init Input: {'vocab_size': 29730, 'embed_size': 32, 'out_channels': 32, 'filter_heights': [5, 10], 'stride': 3, 'dropout': 0, 'num_classes': 2, 'pad_idx': 0}\tForward Input Shape: torch.Size([1, 150])\tExpected Output Shape: torch.Size([1, 2])\tYour Output Shape: torch.Size([1, 2])\n",
      "\tPASSED\t Init Input: {'vocab_size': 29730, 'embed_size': 32, 'out_channels': 32, 'filter_heights': [5, 10], 'stride': 3, 'dropout': 0, 'num_classes': 2, 'pad_idx': 0}\tForward Input Shape: torch.Size([20, 150])\tExpected Output Shape: torch.Size([20, 2])\tYour Output Shape: torch.Size([20, 2])\n",
      "\tPASSED\t Init Input: {'vocab_size': 29730, 'embed_size': 32, 'out_channels': 128, 'filter_heights': [3, 4, 5], 'stride': 1, 'dropout': 0, 'num_classes': 2, 'pad_idx': 0}\tForward Input Shape: torch.Size([1, 150])\tExpected Output Shape: torch.Size([1, 2])\tYour Output Shape: torch.Size([1, 2])\n",
      "\tPASSED\t Init Input: {'vocab_size': 29730, 'embed_size': 32, 'out_channels': 128, 'filter_heights': [3, 4, 5], 'stride': 1, 'dropout': 0, 'num_classes': 2, 'pad_idx': 0}\tForward Input Shape: torch.Size([20, 150])\tExpected Output Shape: torch.Size([20, 2])\tYour Output Shape: torch.Size([20, 2])\n",
      "\tPASSED\t Init Input: {'vocab_size': 29730, 'embed_size': 32, 'out_channels': 128, 'filter_heights': [3, 4, 5], 'stride': 3, 'dropout': 0, 'num_classes': 2, 'pad_idx': 0}\tForward Input Shape: torch.Size([1, 150])\tExpected Output Shape: torch.Size([1, 2])\tYour Output Shape: torch.Size([1, 2])\n",
      "\tPASSED\t Init Input: {'vocab_size': 29730, 'embed_size': 32, 'out_channels': 128, 'filter_heights': [3, 4, 5], 'stride': 3, 'dropout': 0, 'num_classes': 2, 'pad_idx': 0}\tForward Input Shape: torch.Size([20, 150])\tExpected Output Shape: torch.Size([20, 2])\tYour Output Shape: torch.Size([20, 2])\n",
      "\tPASSED\t Init Input: {'vocab_size': 29730, 'embed_size': 32, 'out_channels': 128, 'filter_heights': [5, 10], 'stride': 1, 'dropout': 0, 'num_classes': 2, 'pad_idx': 0}\tForward Input Shape: torch.Size([1, 150])\tExpected Output Shape: torch.Size([1, 2])\tYour Output Shape: torch.Size([1, 2])\n",
      "\tPASSED\t Init Input: {'vocab_size': 29730, 'embed_size': 32, 'out_channels': 128, 'filter_heights': [5, 10], 'stride': 1, 'dropout': 0, 'num_classes': 2, 'pad_idx': 0}\tForward Input Shape: torch.Size([20, 150])\tExpected Output Shape: torch.Size([20, 2])\tYour Output Shape: torch.Size([20, 2])\n",
      "\tPASSED\t Init Input: {'vocab_size': 29730, 'embed_size': 32, 'out_channels': 128, 'filter_heights': [5, 10], 'stride': 3, 'dropout': 0, 'num_classes': 2, 'pad_idx': 0}\tForward Input Shape: torch.Size([1, 150])\tExpected Output Shape: torch.Size([1, 2])\tYour Output Shape: torch.Size([1, 2])\n",
      "\tPASSED\t Init Input: {'vocab_size': 29730, 'embed_size': 32, 'out_channels': 128, 'filter_heights': [5, 10], 'stride': 3, 'dropout': 0, 'num_classes': 2, 'pad_idx': 0}\tForward Input Shape: torch.Size([20, 150])\tExpected Output Shape: torch.Size([20, 2])\tYour Output Shape: torch.Size([20, 2])\n"
     ]
    }
   ],
   "source": [
    "### DO NOT EDIT ###\n",
    "\n",
    "count_parameters = lambda model: sum(p.numel() for p in model.parameters() if p.requires_grad)\n",
    "\n",
    "def sanityCheckModel(all_test_params, NN, expected_outputs, init_or_forward, data_loader):\n",
    "    # print('--- TEST: ' + ('Number of Model Parameters (tests __init__(...))' if init_or_forward=='init' else 'Output shape of forward(...)') + ' ---')\n",
    "    \n",
    "    if init_or_forward == \"forward\":\n",
    "        # Reading the first batch of data for testing\n",
    "        for texts_, labels_ in data_loader:\n",
    "            texts_batch, labels_batch = texts_, labels_\n",
    "            break\n",
    "\n",
    "    for tp_idx, (test_params, expected_output) in enumerate(zip(all_test_params, expected_outputs)):       \n",
    "        if init_or_forward == \"forward\":\n",
    "            batch_size = test_params['batch_size']\n",
    "            texts = texts_batch[:batch_size]\n",
    "\n",
    "        # Construct the student model\n",
    "        tps = {k:v for k, v in test_params.items() if k != 'batch_size'}\n",
    "        stu_nn = NN(**tps)\n",
    "\n",
    "        if init_or_forward == \"forward\":\n",
    "            with torch.no_grad(): \n",
    "                stu_out = stu_nn(texts)\n",
    "            ref_out_shape = expected_output\n",
    "\n",
    "            has_passed = torch.is_tensor(stu_out)\n",
    "            if not has_passed: msg = 'Output must be a torch.Tensor; received ' + str(type(stu_out))\n",
    "            else: \n",
    "                has_passed = stu_out.shape == ref_out_shape\n",
    "                msg = 'Your Output Shape: ' + str(stu_out.shape)\n",
    "            \n",
    "\n",
    "            status = 'PASSED' if has_passed else 'FAILED'\n",
    "            message = '\\t' + status + \"\\t Init Input: \" + str({k:v for k,v in tps.items()}) + '\\tForward Input Shape: ' + str(texts.shape) + '\\tExpected Output Shape: ' + str(ref_out_shape) + '\\t' + msg\n",
    "            print(message)\n",
    "        else:\n",
    "            stu_num_params = count_parameters(stu_nn)\n",
    "            ref_num_params = expected_output\n",
    "            comparison_result = (stu_num_params == ref_num_params)\n",
    "\n",
    "            status = 'PASSED' if comparison_result else 'FAILED'\n",
    "            message = '\\t' + status + \"\\tInput: \" + str({k:v for k,v in test_params.items()}) + ('\\tExpected Num. Params: ' + str(ref_num_params) + '\\tYour Num. Params: '+ str(stu_num_params))\n",
    "            print(message)\n",
    "\n",
    "        del stu_nn\n",
    "\n",
    "\n",
    "if __name__ == '__main__':\n",
    "    # Test init\n",
    "    inputs = [{'vocab_size': 1000, 'embed_size': 16, 'out_channels': 32, 'filter_heights': [3, 4, 5], 'stride': 1, 'dropout': 0, 'num_classes': 2, 'pad_idx': 0}, {'vocab_size': 1000, 'embed_size': 16, 'out_channels': 32, 'filter_heights': [3, 4, 5], 'stride': 1, 'dropout': 0, 'num_classes': 3, 'pad_idx': 0}, {'vocab_size': 1000, 'embed_size': 16, 'out_channels': 32, 'filter_heights': [3, 4, 5], 'stride': 3, 'dropout': 0, 'num_classes': 2, 'pad_idx': 0}, {'vocab_size': 1000, 'embed_size': 16, 'out_channels': 32, 'filter_heights': [3, 4, 5], 'stride': 3, 'dropout': 0, 'num_classes': 3, 'pad_idx': 0}, {'vocab_size': 1000, 'embed_size': 16, 'out_channels': 32, 'filter_heights': [5, 10], 'stride': 1, 'dropout': 0, 'num_classes': 2, 'pad_idx': 0}, {'vocab_size': 1000, 'embed_size': 16, 'out_channels': 32, 'filter_heights': [5, 10], 'stride': 1, 'dropout': 0, 'num_classes': 3, 'pad_idx': 0}, {'vocab_size': 1000, 'embed_size': 16, 'out_channels': 32, 'filter_heights': [5, 10], 'stride': 3, 'dropout': 0, 'num_classes': 2, 'pad_idx': 0}, {'vocab_size': 1000, 'embed_size': 16, 'out_channels': 32, 'filter_heights': [5, 10], 'stride': 3, 'dropout': 0, 'num_classes': 3, 'pad_idx': 0}, {'vocab_size': 1000, 'embed_size': 16, 'out_channels': 128, 'filter_heights': [3, 4, 5], 'stride': 1, 'dropout': 0, 'num_classes': 2, 'pad_idx': 0}, {'vocab_size': 1000, 'embed_size': 16, 'out_channels': 128, 'filter_heights': [3, 4, 5], 'stride': 1, 'dropout': 0, 'num_classes': 3, 'pad_idx': 0}, {'vocab_size': 1000, 'embed_size': 16, 'out_channels': 128, 'filter_heights': [3, 4, 5], 'stride': 3, 'dropout': 0, 'num_classes': 2, 'pad_idx': 0}, {'vocab_size': 1000, 'embed_size': 16, 'out_channels': 128, 'filter_heights': [3, 4, 5], 'stride': 3, 'dropout': 0, 'num_classes': 3, 'pad_idx': 0}, {'vocab_size': 1000, 'embed_size': 16, 'out_channels': 128, 'filter_heights': [5, 10], 'stride': 1, 'dropout': 0, 'num_classes': 2, 'pad_idx': 0}, {'vocab_size': 1000, 'embed_size': 16, 'out_channels': 128, 'filter_heights': [5, 10], 'stride': 1, 'dropout': 0, 'num_classes': 3, 'pad_idx': 0}, {'vocab_size': 1000, 'embed_size': 16, 'out_channels': 128, 'filter_heights': [5, 10], 'stride': 3, 'dropout': 0, 'num_classes': 2, 'pad_idx': 0}, {'vocab_size': 1000, 'embed_size': 16, 'out_channels': 128, 'filter_heights': [5, 10], 'stride': 3, 'dropout': 0, 'num_classes': 3, 'pad_idx': 0}, {'vocab_size': 1000, 'embed_size': 32, 'out_channels': 32, 'filter_heights': [3, 4, 5], 'stride': 1, 'dropout': 0, 'num_classes': 2, 'pad_idx': 0}, {'vocab_size': 1000, 'embed_size': 32, 'out_channels': 32, 'filter_heights': [3, 4, 5], 'stride': 1, 'dropout': 0, 'num_classes': 3, 'pad_idx': 0}, {'vocab_size': 1000, 'embed_size': 32, 'out_channels': 32, 'filter_heights': [3, 4, 5], 'stride': 3, 'dropout': 0, 'num_classes': 2, 'pad_idx': 0}, {'vocab_size': 1000, 'embed_size': 32, 'out_channels': 32, 'filter_heights': [3, 4, 5], 'stride': 3, 'dropout': 0, 'num_classes': 3, 'pad_idx': 0}, {'vocab_size': 1000, 'embed_size': 32, 'out_channels': 32, 'filter_heights': [5, 10], 'stride': 1, 'dropout': 0, 'num_classes': 2, 'pad_idx': 0}, {'vocab_size': 1000, 'embed_size': 32, 'out_channels': 32, 'filter_heights': [5, 10], 'stride': 1, 'dropout': 0, 'num_classes': 3, 'pad_idx': 0}, {'vocab_size': 1000, 'embed_size': 32, 'out_channels': 32, 'filter_heights': [5, 10], 'stride': 3, 'dropout': 0, 'num_classes': 2, 'pad_idx': 0}, {'vocab_size': 1000, 'embed_size': 32, 'out_channels': 32, 'filter_heights': [5, 10], 'stride': 3, 'dropout': 0, 'num_classes': 3, 'pad_idx': 0}, {'vocab_size': 1000, 'embed_size': 32, 'out_channels': 128, 'filter_heights': [3, 4, 5], 'stride': 1, 'dropout': 0, 'num_classes': 2, 'pad_idx': 0}, {'vocab_size': 1000, 'embed_size': 32, 'out_channels': 128, 'filter_heights': [3, 4, 5], 'stride': 1, 'dropout': 0, 'num_classes': 3, 'pad_idx': 0}, {'vocab_size': 1000, 'embed_size': 32, 'out_channels': 128, 'filter_heights': [3, 4, 5], 'stride': 3, 'dropout': 0, 'num_classes': 2, 'pad_idx': 0}, {'vocab_size': 1000, 'embed_size': 32, 'out_channels': 128, 'filter_heights': [3, 4, 5], 'stride': 3, 'dropout': 0, 'num_classes': 3, 'pad_idx': 0}, {'vocab_size': 1000, 'embed_size': 32, 'out_channels': 128, 'filter_heights': [5, 10], 'stride': 1, 'dropout': 0, 'num_classes': 2, 'pad_idx': 0}, {'vocab_size': 1000, 'embed_size': 32, 'out_channels': 128, 'filter_heights': [5, 10], 'stride': 1, 'dropout': 0, 'num_classes': 3, 'pad_idx': 0}, {'vocab_size': 1000, 'embed_size': 32, 'out_channels': 128, 'filter_heights': [5, 10], 'stride': 3, 'dropout': 0, 'num_classes': 2, 'pad_idx': 0}, {'vocab_size': 1000, 'embed_size': 32, 'out_channels': 128, 'filter_heights': [5, 10], 'stride': 3, 'dropout': 0, 'num_classes': 3, 'pad_idx': 0}]\n",
    "    expected_outputs = [22434, 22531, 22434, 22531, 23874, 23939, 23874, 23939, 41730, 42115, 41730, 42115, 47490, 47747, 47490, 47747, 44578, 44675, 44578, 44675, 47554, 47619, 47554, 47619, 82306, 82691, 82306, 82691, 94210, 94467, 94210, 94467]\n",
    "\n",
    "    sanityCheckModel(inputs, CNN, expected_outputs, \"init\", None)\n",
    "    print()\n",
    "\n",
    "    # Test forward\n",
    "    inputs = [{'vocab_size': 29730, 'embed_size': 16, 'out_channels': 32, 'filter_heights': [3, 4, 5], 'stride': 1, 'dropout': 0, 'num_classes': 2, 'pad_idx': 0, 'batch_size': 1}, {'vocab_size': 29730, 'embed_size': 16, 'out_channels': 32, 'filter_heights': [3, 4, 5], 'stride': 1, 'dropout': 0, 'num_classes': 2, 'pad_idx': 0, 'batch_size': 20}, {'vocab_size': 29730, 'embed_size': 16, 'out_channels': 32, 'filter_heights': [3, 4, 5], 'stride': 3, 'dropout': 0, 'num_classes': 2, 'pad_idx': 0, 'batch_size': 1}, {'vocab_size': 29730, 'embed_size': 16, 'out_channels': 32, 'filter_heights': [3, 4, 5], 'stride': 3, 'dropout': 0, 'num_classes': 2, 'pad_idx': 0, 'batch_size': 20}, {'vocab_size': 29730, 'embed_size': 16, 'out_channels': 32, 'filter_heights': [5, 10], 'stride': 1, 'dropout': 0, 'num_classes': 2, 'pad_idx': 0, 'batch_size': 1}, {'vocab_size': 29730, 'embed_size': 16, 'out_channels': 32, 'filter_heights': [5, 10], 'stride': 1, 'dropout': 0, 'num_classes': 2, 'pad_idx': 0, 'batch_size': 20}, {'vocab_size': 29730, 'embed_size': 16, 'out_channels': 32, 'filter_heights': [5, 10], 'stride': 3, 'dropout': 0, 'num_classes': 2, 'pad_idx': 0, 'batch_size': 1}, {'vocab_size': 29730, 'embed_size': 16, 'out_channels': 32, 'filter_heights': [5, 10], 'stride': 3, 'dropout': 0, 'num_classes': 2, 'pad_idx': 0, 'batch_size': 20}, {'vocab_size': 29730, 'embed_size': 16, 'out_channels': 128, 'filter_heights': [3, 4, 5], 'stride': 1, 'dropout': 0, 'num_classes': 2, 'pad_idx': 0, 'batch_size': 1}, {'vocab_size': 29730, 'embed_size': 16, 'out_channels': 128, 'filter_heights': [3, 4, 5], 'stride': 1, 'dropout': 0, 'num_classes': 2, 'pad_idx': 0, 'batch_size': 20}, {'vocab_size': 29730, 'embed_size': 16, 'out_channels': 128, 'filter_heights': [3, 4, 5], 'stride': 3, 'dropout': 0, 'num_classes': 2, 'pad_idx': 0, 'batch_size': 1}, {'vocab_size': 29730, 'embed_size': 16, 'out_channels': 128, 'filter_heights': [3, 4, 5], 'stride': 3, 'dropout': 0, 'num_classes': 2, 'pad_idx': 0, 'batch_size': 20}, {'vocab_size': 29730, 'embed_size': 16, 'out_channels': 128, 'filter_heights': [5, 10], 'stride': 1, 'dropout': 0, 'num_classes': 2, 'pad_idx': 0, 'batch_size': 1}, {'vocab_size': 29730, 'embed_size': 16, 'out_channels': 128, 'filter_heights': [5, 10], 'stride': 1, 'dropout': 0, 'num_classes': 2, 'pad_idx': 0, 'batch_size': 20}, {'vocab_size': 29730, 'embed_size': 16, 'out_channels': 128, 'filter_heights': [5, 10], 'stride': 3, 'dropout': 0, 'num_classes': 2, 'pad_idx': 0, 'batch_size': 1}, {'vocab_size': 29730, 'embed_size': 16, 'out_channels': 128, 'filter_heights': [5, 10], 'stride': 3, 'dropout': 0, 'num_classes': 2, 'pad_idx': 0, 'batch_size': 20}, {'vocab_size': 29730, 'embed_size': 32, 'out_channels': 32, 'filter_heights': [3, 4, 5], 'stride': 1, 'dropout': 0, 'num_classes': 2, 'pad_idx': 0, 'batch_size': 1}, {'vocab_size': 29730, 'embed_size': 32, 'out_channels': 32, 'filter_heights': [3, 4, 5], 'stride': 1, 'dropout': 0, 'num_classes': 2, 'pad_idx': 0, 'batch_size': 20}, {'vocab_size': 29730, 'embed_size': 32, 'out_channels': 32, 'filter_heights': [3, 4, 5], 'stride': 3, 'dropout': 0, 'num_classes': 2, 'pad_idx': 0, 'batch_size': 1}, {'vocab_size': 29730, 'embed_size': 32, 'out_channels': 32, 'filter_heights': [3, 4, 5], 'stride': 3, 'dropout': 0, 'num_classes': 2, 'pad_idx': 0, 'batch_size': 20}, {'vocab_size': 29730, 'embed_size': 32, 'out_channels': 32, 'filter_heights': [5, 10], 'stride': 1, 'dropout': 0, 'num_classes': 2, 'pad_idx': 0, 'batch_size': 1}, {'vocab_size': 29730, 'embed_size': 32, 'out_channels': 32, 'filter_heights': [5, 10], 'stride': 1, 'dropout': 0, 'num_classes': 2, 'pad_idx': 0, 'batch_size': 20}, {'vocab_size': 29730, 'embed_size': 32, 'out_channels': 32, 'filter_heights': [5, 10], 'stride': 3, 'dropout': 0, 'num_classes': 2, 'pad_idx': 0, 'batch_size': 1}, {'vocab_size': 29730, 'embed_size': 32, 'out_channels': 32, 'filter_heights': [5, 10], 'stride': 3, 'dropout': 0, 'num_classes': 2, 'pad_idx': 0, 'batch_size': 20}, {'vocab_size': 29730, 'embed_size': 32, 'out_channels': 128, 'filter_heights': [3, 4, 5], 'stride': 1, 'dropout': 0, 'num_classes': 2, 'pad_idx': 0, 'batch_size': 1}, {'vocab_size': 29730, 'embed_size': 32, 'out_channels': 128, 'filter_heights': [3, 4, 5], 'stride': 1, 'dropout': 0, 'num_classes': 2, 'pad_idx': 0, 'batch_size': 20}, {'vocab_size': 29730, 'embed_size': 32, 'out_channels': 128, 'filter_heights': [3, 4, 5], 'stride': 3, 'dropout': 0, 'num_classes': 2, 'pad_idx': 0, 'batch_size': 1}, {'vocab_size': 29730, 'embed_size': 32, 'out_channels': 128, 'filter_heights': [3, 4, 5], 'stride': 3, 'dropout': 0, 'num_classes': 2, 'pad_idx': 0, 'batch_size': 20}, {'vocab_size': 29730, 'embed_size': 32, 'out_channels': 128, 'filter_heights': [5, 10], 'stride': 1, 'dropout': 0, 'num_classes': 2, 'pad_idx': 0, 'batch_size': 1}, {'vocab_size': 29730, 'embed_size': 32, 'out_channels': 128, 'filter_heights': [5, 10], 'stride': 1, 'dropout': 0, 'num_classes': 2, 'pad_idx': 0, 'batch_size': 20}, {'vocab_size': 29730, 'embed_size': 32, 'out_channels': 128, 'filter_heights': [5, 10], 'stride': 3, 'dropout': 0, 'num_classes': 2, 'pad_idx': 0, 'batch_size': 1}, {'vocab_size': 29730, 'embed_size': 32, 'out_channels': 128, 'filter_heights': [5, 10], 'stride': 3, 'dropout': 0, 'num_classes': 2, 'pad_idx': 0, 'batch_size': 20}]\n",
    "    expected_outputs = [torch.Size([1, 2]), torch.Size([20, 2]), torch.Size([1, 2]), torch.Size([20, 2]), torch.Size([1, 2]), torch.Size([20, 2]), torch.Size([1, 2]), torch.Size([20, 2]), torch.Size([1, 2]), torch.Size([20, 2]), torch.Size([1, 2]), torch.Size([20, 2]), torch.Size([1, 2]), torch.Size([20, 2]), torch.Size([1, 2]), torch.Size([20, 2]), torch.Size([1, 2]), torch.Size([20, 2]), torch.Size([1, 2]), torch.Size([20, 2]), torch.Size([1, 2]), torch.Size([20, 2]), torch.Size([1, 2]), torch.Size([20, 2]), torch.Size([1, 2]), torch.Size([20, 2]), torch.Size([1, 2]), torch.Size([20, 2]), torch.Size([1, 2]), torch.Size([20, 2]), torch.Size([1, 2]), torch.Size([20, 2])]\n",
    "    sanity_dataset = TextDataset(train_data, 'train', 5, 150)\n",
    "    sanity_loader = torch.utils.data.DataLoader(sanity_dataset, batch_size=50, shuffle=True, num_workers=2, drop_last=True)\n",
    "\n",
    "    sanityCheckModel(inputs, CNN, expected_outputs, \"forward\", sanity_loader)"
   ]
  },
  {
   "cell_type": "code",
   "execution_count": 9,
   "metadata": {},
   "outputs": [],
   "source": [
    "# class MyModule(nn.Module):\n",
    "#     def __init__(self):\n",
    "#         super(MyModule, self).__init__()\n",
    "#         self.linears = nn.ModuleList([nn.Linear(10, 10) for i in range(10)])\n",
    "#\n",
    "#     def forward(self, x):\n",
    "#         # ModuleList can act as an iterable, or be indexed using ints\n",
    "#         for i, l in enumerate(self.linears):\n",
    "#             print(f\"i: {i}, l: {l}\")\n",
    "#\n",
    "#             first_part = self.linears[i // 2](x)\n",
    "#             second_part =  l(x)\n",
    "#             x = first_part + second_part\n",
    "#\n",
    "#         return x\n"
   ]
  },
  {
   "cell_type": "code",
   "execution_count": 10,
   "metadata": {},
   "outputs": [],
   "source": [
    "# test_object = MyModule()\n",
    "# test_object.forward(torch.ones(10,10))"
   ]
  },
  {
   "cell_type": "markdown",
   "metadata": {
    "id": "FupiBIfasCu_"
   },
   "source": [
    "## Train CNN Model\n",
    "\n",
    "First, we initialize the train and test <b>dataloaders</b>. A dataloader is responsible for providing batches of data to your model. Notice how we first instantiate datasets for the train and test data, and that we use the training vocabulary for both.\n",
    "\n",
    "You do not need to edit this cell."
   ]
  },
  {
   "cell_type": "code",
   "execution_count": 11,
   "metadata": {
    "id": "J2QYl334n9ON"
   },
   "outputs": [],
   "source": [
    "if __name__=='__main__':\n",
    "    THRESHOLD = 5 # Don't change this\n",
    "    MAX_LEN = 200 # Don't change this\n",
    "    BATCH_SIZE = 16 # Feel free to try other batch sizes\n",
    "\n",
    "    train_dataset = TextDataset(train_data, 'train', THRESHOLD, MAX_LEN)\n",
    "    train_loader = torch.utils.data.DataLoader(train_dataset, batch_size=BATCH_SIZE, shuffle=True, num_workers=2, drop_last=True)\n",
    "\n",
    "    test_dataset = TextDataset(test_data, 'test', THRESHOLD, MAX_LEN, train_dataset.idx2word, train_dataset.word2idx)\n",
    "    test_loader = torch.utils.data.DataLoader(test_dataset, batch_size=1, shuffle=False, num_workers=1, drop_last=False)"
   ]
  },
  {
   "cell_type": "markdown",
   "metadata": {
    "id": "AvsctopWmeoY"
   },
   "source": [
    "Now we provide you with a function that takes your model and trains it on the data.\n",
    "\n",
    "You do not need to edit this cell. However, you may want to write code to save your model periodically, as Colab connections are not permanent. See the tutorial here if you wish to do this: https://pytorch.org/tutorials/beginner/saving_loading_models.html."
   ]
  },
  {
   "cell_type": "code",
   "execution_count": 12,
   "metadata": {
    "id": "LD-Jj2rUFOzr"
   },
   "outputs": [],
   "source": [
    "### DO NOT EDIT ###\n",
    "\n",
    "from tqdm.notebook import tqdm\n",
    "\n",
    "def train_model(model, num_epochs, data_loader, optimizer, criterion):\n",
    "    print('Training Model...')\n",
    "    model.train()\n",
    "    for epoch in tqdm(range(num_epochs)):\n",
    "        epoch_loss = 0\n",
    "        epoch_acc = 0\n",
    "        for texts, labels in data_loader:\n",
    "            texts = texts.to(DEVICE) # shape: [batch_size, MAX_LEN]\n",
    "            labels = labels.to(DEVICE) # shape: [batch_size]\n",
    "            # print(f\"labels is: {labels}, labels shape: {labels.shape}, labels dtype: {labels.dtype}\")\n",
    "\n",
    "            optimizer.zero_grad()\n",
    "\n",
    "            output = model(texts)\n",
    "            # print(f\"output is: {output}, output shape: {output.shape}, output dtype: {output.dtype}\")\n",
    "\n",
    "            acc = accuracy(output, labels)\n",
    "            \n",
    "            loss = criterion(output, labels)\n",
    "            loss.backward()\n",
    "            optimizer.step()\n",
    "\n",
    "            epoch_loss += loss.item()\n",
    "            epoch_acc += acc.item()\n",
    "        print('[TRAIN]\\t Epoch: {:2d}\\t Loss: {:.4f}\\t Train Accuracy: {:.2f}%'.format(epoch+1, epoch_loss/len(data_loader), 100*epoch_acc/len(data_loader)))\n",
    "    print('Model Trained!\\n')"
   ]
  },
  {
   "cell_type": "markdown",
   "metadata": {
    "id": "FyIZS0WUhFA6"
   },
   "source": [
    "Here are some other helper functions we will need."
   ]
  },
  {
   "cell_type": "code",
   "execution_count": 13,
   "metadata": {
    "id": "zVP2scuyhG5f"
   },
   "outputs": [],
   "source": [
    "### DO NOT EDIT ###\n",
    "\n",
    "def accuracy(output, labels):\n",
    "    \"\"\"\n",
    "    Returns accuracy per batch\n",
    "    output: Tensor [batch_size, n_classes]\n",
    "    labels: LongTensor [batch_size]\n",
    "    \"\"\"\n",
    "    preds = output.argmax(dim=1) # find predicted class\n",
    "    correct = (preds == labels).sum().float() # convert into float for division \n",
    "    acc = correct / len(labels)\n",
    "    return acc"
   ]
  },
  {
   "cell_type": "markdown",
   "metadata": {
    "id": "YjvX5c6Isw9e"
   },
   "source": [
    "Now you can instantiate your model. We provide you with some recommended hyperparameters; you should be able to get the desired accuracy with these, but feel free to play around with them."
   ]
  },
  {
   "cell_type": "code",
   "execution_count": 14,
   "metadata": {
    "id": "M5UtdjGDuBty"
   },
   "outputs": [
    {
     "name": "stdout",
     "output_type": "stream",
     "text": [
      "The model has 3,879,746 trainable parameters\n"
     ]
    }
   ],
   "source": [
    "if __name__=='__main__':\n",
    "    cnn_model = CNN(vocab_size = train_dataset.vocab_size, # Don't change this\n",
    "                embed_size = 128, \n",
    "                out_channels = 64, \n",
    "                filter_heights = [2, 3, 4], \n",
    "                stride = 1, \n",
    "                dropout = 0.5, \n",
    "                num_classes = 2, # Don't change this\n",
    "                pad_idx = train_dataset.word2idx[PAD]) # Don't change this\n",
    "\n",
    "    # Put your model on the device (cuda or cpu)\n",
    "    cnn_model = cnn_model.to(DEVICE)\n",
    "    \n",
    "    print('The model has {:,d} trainable parameters'.format(count_parameters(cnn_model)))"
   ]
  },
  {
   "cell_type": "markdown",
   "metadata": {
    "id": "SeHpqw6zvkhI"
   },
   "source": [
    "Next, we create the **criterion**, which is our loss function: it is a measure of how well the model matches the empirical distribution of the data. We use cross-entropy loss (https://en.wikipedia.org/wiki/Cross_entropy).\n",
    "\n",
    "We also define the **optimizer**, which performs gradient descent. We use the Adam optimizer (https://arxiv.org/pdf/1412.6980.pdf), which has been shown to work well on these types of models."
   ]
  },
  {
   "cell_type": "code",
   "execution_count": 15,
   "metadata": {
    "id": "FoeyQL4PoNoH"
   },
   "outputs": [],
   "source": [
    "import torch.optim as optim\n",
    "\n",
    "if __name__=='__main__':    \n",
    "    LEARNING_RATE = 5e-4 # Feel free to try other learning rates\n",
    "\n",
    "    # Define the loss function\n",
    "    criterion = nn.CrossEntropyLoss().to(DEVICE)\n",
    "\n",
    "    # Define the optimizer\n",
    "    optimizer = optim.Adam(cnn_model.parameters(), lr=LEARNING_RATE)"
   ]
  },
  {
   "cell_type": "markdown",
   "metadata": {
    "id": "RopLfAJ9wOHN"
   },
   "source": [
    "Finally, we can train the model. If the model is implemented correctly and you're using the GPU, this cell should take around <b>4 minutes</b> (or less). Feel free to change the number of epochs."
   ]
  },
  {
   "cell_type": "code",
   "execution_count": 16,
   "metadata": {},
   "outputs": [
    {
     "name": "stdout",
     "output_type": "stream",
     "text": [
      "Training Model...\n"
     ]
    },
    {
     "data": {
      "text/plain": "  0%|          | 0/30 [00:00<?, ?it/s]",
      "application/vnd.jupyter.widget-view+json": {
       "version_major": 2,
       "version_minor": 0,
       "model_id": "a5c3688eb99f499c82593a28e40a63cf"
      }
     },
     "metadata": {},
     "output_type": "display_data"
    },
    {
     "name": "stdout",
     "output_type": "stream",
     "text": [
      "[TRAIN]\t Epoch:  1\t Loss: 0.6648\t Train Accuracy: 62.33%\n",
      "[TRAIN]\t Epoch:  2\t Loss: 0.5306\t Train Accuracy: 72.97%\n",
      "[TRAIN]\t Epoch:  3\t Loss: 0.4681\t Train Accuracy: 77.42%\n",
      "[TRAIN]\t Epoch:  4\t Loss: 0.4222\t Train Accuracy: 80.39%\n",
      "[TRAIN]\t Epoch:  5\t Loss: 0.3789\t Train Accuracy: 83.03%\n",
      "[TRAIN]\t Epoch:  6\t Loss: 0.3291\t Train Accuracy: 85.89%\n",
      "[TRAIN]\t Epoch:  7\t Loss: 0.2824\t Train Accuracy: 87.73%\n",
      "[TRAIN]\t Epoch:  8\t Loss: 0.2428\t Train Accuracy: 90.07%\n",
      "[TRAIN]\t Epoch:  9\t Loss: 0.1965\t Train Accuracy: 92.08%\n",
      "[TRAIN]\t Epoch: 10\t Loss: 0.1604\t Train Accuracy: 93.62%\n",
      "[TRAIN]\t Epoch: 11\t Loss: 0.1240\t Train Accuracy: 95.27%\n",
      "[TRAIN]\t Epoch: 12\t Loss: 0.0982\t Train Accuracy: 96.19%\n",
      "[TRAIN]\t Epoch: 13\t Loss: 0.0799\t Train Accuracy: 97.08%\n",
      "[TRAIN]\t Epoch: 14\t Loss: 0.0657\t Train Accuracy: 97.59%\n",
      "[TRAIN]\t Epoch: 15\t Loss: 0.0543\t Train Accuracy: 98.05%\n",
      "[TRAIN]\t Epoch: 16\t Loss: 0.0470\t Train Accuracy: 98.31%\n",
      "[TRAIN]\t Epoch: 17\t Loss: 0.0437\t Train Accuracy: 98.49%\n",
      "[TRAIN]\t Epoch: 18\t Loss: 0.0329\t Train Accuracy: 98.80%\n",
      "[TRAIN]\t Epoch: 19\t Loss: 0.0292\t Train Accuracy: 99.02%\n",
      "[TRAIN]\t Epoch: 20\t Loss: 0.0289\t Train Accuracy: 99.02%\n",
      "[TRAIN]\t Epoch: 21\t Loss: 0.0262\t Train Accuracy: 99.05%\n",
      "[TRAIN]\t Epoch: 22\t Loss: 0.0252\t Train Accuracy: 99.27%\n",
      "[TRAIN]\t Epoch: 23\t Loss: 0.0225\t Train Accuracy: 99.21%\n",
      "[TRAIN]\t Epoch: 24\t Loss: 0.0257\t Train Accuracy: 99.08%\n",
      "[TRAIN]\t Epoch: 25\t Loss: 0.0174\t Train Accuracy: 99.40%\n",
      "[TRAIN]\t Epoch: 26\t Loss: 0.0150\t Train Accuracy: 99.49%\n",
      "[TRAIN]\t Epoch: 27\t Loss: 0.0169\t Train Accuracy: 99.42%\n",
      "[TRAIN]\t Epoch: 28\t Loss: 0.0169\t Train Accuracy: 99.44%\n",
      "[TRAIN]\t Epoch: 29\t Loss: 0.0165\t Train Accuracy: 99.45%\n",
      "[TRAIN]\t Epoch: 30\t Loss: 0.0204\t Train Accuracy: 99.36%\n",
      "Model Trained!\n",
      "\n"
     ]
    }
   ],
   "source": [
    "if __name__=='__main__':\n",
    "    N_EPOCHS = 30 # Feel free to change this\n",
    "\n",
    "    # train model for N_EPOCHS epochs\n",
    "    train_model(cnn_model, N_EPOCHS, train_loader, optimizer, criterion)"
   ]
  },
  {
   "cell_type": "markdown",
   "metadata": {
    "id": "Q-OJbZ72t6Yq"
   },
   "source": [
    "## Evaluate CNN Model [20 points]\n",
    "\n",
    "Now that we have trained a model for text classification, it is time to evaluate it. We have provided you with a function to do this; you do not need to modify anything.\n",
    "\n",
    "To pass the autograder for the CNN, you will need to achieve **82% accuracy** on the hidden test set on Gradescope. Note that the Gradescope test set is very similar, and the accuracies between the two datasets should be comparable."
   ]
  },
  {
   "cell_type": "code",
   "execution_count": 17,
   "metadata": {
    "id": "vTiiYDZIF--7"
   },
   "outputs": [],
   "source": [
    "### DO NOT EDIT ###\n",
    "\n",
    "import random\n",
    "\n",
    "def evaluate(model, data_loader, criterion, use_tqdm=False):\n",
    "    print('Evaluating performance on the test dataset...')\n",
    "    model.eval()\n",
    "    epoch_loss = 0\n",
    "    epoch_acc = 0\n",
    "    all_predictions = []\n",
    "    print(\"\\nSOME PREDICTIONS FROM THE MODEL:\")\n",
    "    iterator = tqdm(data_loader) if use_tqdm else data_loader\n",
    "    total = 0\n",
    "    for texts, labels in iterator:\n",
    "        bs = texts.shape[0]\n",
    "        total += bs\n",
    "        texts = texts.to(DEVICE)\n",
    "        labels = labels.to(DEVICE)\n",
    "        \n",
    "        output = model(texts)\n",
    "        acc = accuracy(output, labels) * len(labels)\n",
    "        pred = output.argmax(dim=1)\n",
    "        all_predictions.append(pred)\n",
    "        \n",
    "        loss = criterion(output, labels) * len(labels)\n",
    "        \n",
    "        epoch_loss += loss.item()\n",
    "        epoch_acc += acc.item()\n",
    "\n",
    "        if random.random() < 0.0015 and bs == 1:\n",
    "            print(\"Input: \"+' '.join([data_loader.dataset.idx2word[idx] for idx in texts[0].tolist() if idx not in {data_loader.dataset.word2idx[PAD], data_loader.dataset.word2idx[END]}]))\n",
    "            print(\"Prediction:\", pred.item(), '\\tCorrect Output:', labels.item(), '\\n')\n",
    "\n",
    "    full_acc = 100*epoch_acc/total\n",
    "    full_loss = epoch_loss/total\n",
    "    print('[TEST]\\t Loss: {:.4f}\\t Accuracy: {:.2f}%'.format(full_loss, full_acc))\n",
    "    predictions = torch.cat(all_predictions)\n",
    "    return predictions, full_acc, full_loss"
   ]
  },
  {
   "cell_type": "code",
   "execution_count": 18,
   "metadata": {
    "id": "Z718w8e0oNoS"
   },
   "outputs": [
    {
     "name": "stdout",
     "output_type": "stream",
     "text": [
      "Evaluating performance on the test dataset...\n",
      "\n",
      "SOME PREDICTIONS FROM THE MODEL:\n"
     ]
    },
    {
     "data": {
      "text/plain": "  0%|          | 0/5000 [00:00<?, ?it/s]",
      "application/vnd.jupyter.widget-view+json": {
       "version_major": 2,
       "version_minor": 0,
       "model_id": "722607cedd534311aaf1b08ec14fd637"
      }
     },
     "metadata": {},
     "output_type": "display_data"
    },
    {
     "name": "stdout",
     "output_type": "stream",
     "text": [
      "Input: i kind of consider myself as the #1 fan of hidden frontier , seeing as i am among a somewhat small group of fans who have actually met most of these guys - well , not counting conventions , of course . i have been watching hidden frontier since 2001 , and i must say i continue to be impressed by what these guys have come up with.<br /><br <UNK> frontier is the <UNK> of rob caves and his <UNK> studio , <UNK> pictures , which operates out of the back room of his house . while not as \" fancy \" as , say , the <UNK> series new <UNK> ( which sometimes gets some of the <UNK> from the original series , like walter <UNK> , aka mr . <UNK> , rob and the cast and crew of <UNK> manage to create a series worthy of replacing that ghastly experiment we called \" <UNK> . the most controversial and successful story arc has been the introduction of star trek's first openly gay character , corey <UNK> ( who was introduced in the second season) , and his search to find a soul mate . somewhere later in the\n",
      "Prediction: 1 \tCorrect Output: 1 \n",
      "\n",
      "Input: has anyone been able to buy this movie ? my uncle \" hutch \" was a real ( not reel ) pilot who is seen tossing his wings in the air and then <UNK> them with his fist as he was awarded his <UNK> wings . <br /><br />he's only on screen a few seconds but my family would love to have the movie . he was killed in a <UNK> over italy , he was only 24 at the time . do we know the film studio that made it?<br /><br />or has anyone seen it at a video store , like blockbuster ? i wish they would make entire <UNK> of these old movies available as it is so cheap to make dvd's these days.<br /><br />please email me at <UNK> if you know where i can buy a copy . thank you .\n",
      "Prediction: 0 \tCorrect Output: 1 \n",
      "\n",
      "Input: hopefully the score has changed by now due to my brilliant and stunning review which persuades all of you to go and watch the film thereby creating an instant chorus of \" <UNK> , this movie's true score.<br /><br />as mentioned before chris rock is the king ! previous to going to see this movie i wasn't that over the top about him but now i'm banging on the doors of chris rock's website begging him to take me on as his <UNK> . this film is truly funny , if you don't find this movie funny you really need therapy and it's humour which targets all areas of society including <UNK> , class division , love , wealth , employment , dreams , stand up <UNK> . the list goes on.<br /><br />there was one slight disappointment for me however . this was that in going into this film i didn't realise that it was actually a remake of \" heaven can wait \" another quite good movie made in 1971 with warren beatty . as such i was quite surprised when i watched this movie and suddenly the plot began to unravel to be distinctly similar to an\n",
      "Prediction: 1 \tCorrect Output: 1 \n",
      "\n",
      "Input: i can't believe that steven <UNK> career has hit so low that he has been reduced to making 4th rate films with 5th rate secondary actors . i watched this moving expecting to see him <UNK> the crap out of some people the way he usually does . when he is reduced to using a single <UNK> chop between the shoulder blades to take out an opponent and the guy falls like a ton of bricks something is wrong.<br /><br />the plot is unbelievable as a movie , and even if you excuse the visuals , and had read this story as a novel , you'd be left wondering why you had even picked up the book.<br /><br />steven segal goes through the motions and seems as if he is only doing this because he is under obligation . he shows no effort and no enthusiasm , and in some scenes he doesn't show up at all.<br /><br />i hate to repeat other peoples comments , but the use of stock footage for cut scenes and for visuals of the <UNK> in flight is pathetic . the condition of those scenes chopped in , is shaky and scenes themselves seemed\n",
      "Prediction: 0 \tCorrect Output: 0 \n",
      "\n",
      "Input: i am a youth <UNK> wife and we took some youth to see this film . we then spent an hour trying to explain it to them . they didn't get it and i didn't enjoy it . it is based on a concept that has run through all three of the major religions of the world ( the bible code , the <UNK> code and the code in the <UNK> ) and is so questionable as to be laughable . this is not a step forward for christians in the arts , it is a step forward for those who believe we check our brains at the door .\n",
      "Prediction: 0 \tCorrect Output: 0 \n",
      "\n",
      "Input: my brother is an avid dvd collector . he took one look at the cover ( two models on toilets ) and had to add it to his collection . i stayed up with him to watch what turned out to be likely the most <UNK> movie ( i use that term loosely ) i've felt obligated to sit through . i dared not make eye contact with my brother , quite certain he must have been cursing the <UNK> in his <UNK> fist . the biggest name in the whole movie is michael clark duncan who appears in one scene , which the \" filmmaker \" decided to show every take of ( about four total ) throughout the movie . in fact , the whole movie pretty much follows this suit . the fact that the dvd contained deleted footage was a shock . ( i went to bed without viewing it , <UNK> . to no surprise at all , i found this disc without its case behind the tv about a week later .\n",
      "Prediction: 0 \tCorrect Output: 0 \n",
      "\n",
      "Input: words can't simply describe how awful this film is . i watched it on video last night , and i simply could not believe what i was seeing . basically , \" <UNK> \" is about an ex-military man ( lorenzo lamas ) and his search for his kidnapped sister who has been held captive by <UNK> rednecks . the film's acting , writing , direction , photography , and editing are deplorable along with a song called \" soldier \" that has to be one of the worst theme songs of all time!<br /><br />however , there is one treat . \" <UNK> \" ( ron <UNK> ) from \" welcome back carter \" is in the film playing a laughable bad guy . otherwise , please avoid this mess at all costs .\n",
      "Prediction: 0 \tCorrect Output: 0 \n",
      "\n",
      "Input: fairly amusing piece that tries to show how smart <UNK> are but in the meanwhile ( and quite oblivious to them ) makes the audience feel stupid by making the most ridiculous film . richard harris plays <UNK> . i'm sorry , that's wrong , he plays captain nolan , a fisherman who catches sharks for a living , but is lured by the big catch , and tries to catch a killer whale . when the capture of a female killer whale goes awry ( don't ask ) it's mate ( don't ask ) goes on a rampage ( don't ask ) and starts stalking captain nolan ( don't ask) . soon , captain nolan realizes that they have something in common ( don't ask) . pretty amazing film-making here folks . i got to tell you though , the beginning ( with the whale noises and nothing much else ) is pretty haunting and the end credits ( with the most godawful song ) is pretty entertaining .\n",
      "Prediction: 1 \tCorrect Output: 0 \n",
      "\n",
      "Input: i had to give this film a 1 because it's that bad , but don't make this think that i didn't enjoy watching , because i laughed and laughed , and i even had a few questions . so half of the time i was laughing , half of the time i was saying \" what in the hell is going on? \" or \" why would someone do this? \" et cetera . i mostly enjoyed the terrible fog effects , the 80's style nude <UNK> scene , and the way that the <UNK> swords <UNK> in the wind when they ride their horses . and there's some crappy model effects ( those aren't supposed to be real trees , are they? ) and i still don't understand this guy that they find in the cave , what in the hell is he ? a friend of mine told me about these movies and i thought i would give em a try , and i basically liked the film as people like ed wood films , i have no real enjoyment of what the film was meant to be , i look at it in my own hilarious way\n",
      "Prediction: 0 \tCorrect Output: 0 \n",
      "\n",
      "[TEST]\t Loss: 1.8916\t Accuracy: 76.94%\n"
     ]
    }
   ],
   "source": [
    "if __name__=='__main__':\n",
    "    evaluate(cnn_model, test_loader, criterion, use_tqdm=True) # Compute test data accuracy"
   ]
  },
  {
   "cell_type": "markdown",
   "metadata": {
    "id": "BRCFvjwDthiA"
   },
   "source": [
    "# Step 4: Train a Recurrent Neural Network (RNN) [40 points]\n",
    "You will now build a text clasification model that is based on **recurrences**."
   ]
  },
  {
   "cell_type": "markdown",
   "metadata": {
    "id": "Y-t8tlZviV2x"
   },
   "source": [
    "## <font color='red'>TODO:</font> Define the RNN Model [20 points]\n",
    "\n",
    "First, you will define the RNN. As with the CNN, we provide you with the skeleton of the class, and you need to fill in parts of the `__init__(...)` and `forward(...)` methods. Each of these functions is worth 10 points."
   ]
  },
  {
   "cell_type": "code",
   "execution_count": 19,
   "metadata": {
    "id": "2nc_HxbP6klI"
   },
   "outputs": [],
   "source": [
    "class RNN(nn.Module):\n",
    "    def __init__(self, vocab_size, embed_size, hidden_size, num_layers, bidirectional, dropout, num_classes, pad_idx):\n",
    "        super(RNN, self).__init__()\n",
    "        self.hidden_size = hidden_size\n",
    "        self.num_layers = num_layers\n",
    "\n",
    "        ##### TODO #####\n",
    "\n",
    "        # Create an embedding layer (https://pytorch.org/docs/stable/generated/torch.nn.Embedding.html)\n",
    "        #   to represent the words in your vocabulary. Make sure to use vocab_size, embed_size, and pad_idx here.\n",
    "\n",
    "        # Create a recurrent network (use nn.GRU, not nn.LSTM) with batch_first = True\n",
    "        # Make sure you use hidden_size, num_layers, dropout, and bidirectional here.\n",
    "        \n",
    "        # Create a dropout layer (nn.Dropout) using dropout\n",
    "\n",
    "        # Define a linear layer (nn.Linear) that consists of num_classes units \n",
    "        #   and takes as input the output of the last timestep. In the bidirectional case, you should concatenate\n",
    "        #   the output of the last timestep of the forward direction with the output of the last timestep of the backward direction).\n",
    "\n",
    "\n",
    "    def forward(self, texts):\n",
    "        \"\"\"\n",
    "        texts: LongTensor [batch_size, MAX_LEN]\n",
    "        \n",
    "        Returns output: Tensor [batch_size, num_classes]\n",
    "        \"\"\"\n",
    "        ##### TODO #####\n",
    "\n",
    "        # Pass texts through your embedding layer to convert from word ids to word embeddings\n",
    "        #   Resulting: shape: [batch_size, max_len, embed_size]\n",
    "\n",
    "        # Pass the result through your recurrent network\n",
    "        #   See PyTorch documentation for resulting shape for nn.GRU\n",
    "        \n",
    "        # Concatenate the outputs of the last timestep for each direction (see torch.cat(...))\n",
    "        #   This depends on whether or not your model is bidirectional.\n",
    "        #   Resulting shape: [batch_size, num_dirs*hidden_size]\n",
    "        \n",
    "        # Apply dropout\n",
    "\n",
    "        # Pass your output through the linear layer and return its output \n",
    "        #   Resulting shape: [batch_size, num_classes]\n",
    "\n",
    "        ##### NOTE: Do not apply a sigmoid or softmax to the final output - done in training method!\n",
    "        \n",
    "        return None"
   ]
  },
  {
   "cell_type": "markdown",
   "metadata": {
    "id": "eDLTiJMyoLxJ"
   },
   "source": [
    "##Sanity Check: RNN Model\n",
    "\n",
    "The code below runs a sanity check for your `RNN` class. The tests are similar to the hidden ones in Gradescope. However, note that passing the sanity check does <b>not</b> guarantee that you will pass the autograder; it is intended to help you debug."
   ]
  },
  {
   "cell_type": "code",
   "execution_count": 20,
   "metadata": {
    "id": "Duq7X2ClwXga"
   },
   "outputs": [
    {
     "name": "stdout",
     "output_type": "stream",
     "text": [
      "\tFAILED\tInput: {'vocab_size': 1000, 'embed_size': 16, 'hidden_size': 32, 'num_layers': 2, 'bidirectional': True, 'dropout': 0, 'num_classes': 2, 'pad_idx': 0}\tExpected Num. Params: 44546\tYour Num. Params: 0\n",
      "\tFAILED\tInput: {'vocab_size': 1000, 'embed_size': 16, 'hidden_size': 32, 'num_layers': 2, 'bidirectional': True, 'dropout': 0, 'num_classes': 4, 'pad_idx': 0}\tExpected Num. Params: 44676\tYour Num. Params: 0\n",
      "\tFAILED\tInput: {'vocab_size': 1000, 'embed_size': 16, 'hidden_size': 32, 'num_layers': 2, 'bidirectional': False, 'dropout': 0, 'num_classes': 2, 'pad_idx': 0}\tExpected Num. Params: 27202\tYour Num. Params: 0\n",
      "\tFAILED\tInput: {'vocab_size': 1000, 'embed_size': 16, 'hidden_size': 32, 'num_layers': 2, 'bidirectional': False, 'dropout': 0, 'num_classes': 4, 'pad_idx': 0}\tExpected Num. Params: 27268\tYour Num. Params: 0\n",
      "\tFAILED\tInput: {'vocab_size': 1000, 'embed_size': 16, 'hidden_size': 32, 'num_layers': 4, 'bidirectional': True, 'dropout': 0, 'num_classes': 2, 'pad_idx': 0}\tExpected Num. Params: 82178\tYour Num. Params: 0\n",
      "\tFAILED\tInput: {'vocab_size': 1000, 'embed_size': 16, 'hidden_size': 32, 'num_layers': 4, 'bidirectional': True, 'dropout': 0, 'num_classes': 4, 'pad_idx': 0}\tExpected Num. Params: 82308\tYour Num. Params: 0\n",
      "\tFAILED\tInput: {'vocab_size': 1000, 'embed_size': 16, 'hidden_size': 32, 'num_layers': 4, 'bidirectional': False, 'dropout': 0, 'num_classes': 2, 'pad_idx': 0}\tExpected Num. Params: 39874\tYour Num. Params: 0\n",
      "\tFAILED\tInput: {'vocab_size': 1000, 'embed_size': 16, 'hidden_size': 32, 'num_layers': 4, 'bidirectional': False, 'dropout': 0, 'num_classes': 4, 'pad_idx': 0}\tExpected Num. Params: 39940\tYour Num. Params: 0\n",
      "\tFAILED\tInput: {'vocab_size': 1000, 'embed_size': 16, 'hidden_size': 256, 'num_layers': 2, 'bidirectional': True, 'dropout': 0, 'num_classes': 2, 'pad_idx': 0}\tExpected Num. Params: 1620610\tYour Num. Params: 0\n",
      "\tFAILED\tInput: {'vocab_size': 1000, 'embed_size': 16, 'hidden_size': 256, 'num_layers': 2, 'bidirectional': True, 'dropout': 0, 'num_classes': 4, 'pad_idx': 0}\tExpected Num. Params: 1621636\tYour Num. Params: 0\n",
      "\tFAILED\tInput: {'vocab_size': 1000, 'embed_size': 16, 'hidden_size': 256, 'num_layers': 2, 'bidirectional': False, 'dropout': 0, 'num_classes': 2, 'pad_idx': 0}\tExpected Num. Params: 621698\tYour Num. Params: 0\n",
      "\tFAILED\tInput: {'vocab_size': 1000, 'embed_size': 16, 'hidden_size': 256, 'num_layers': 2, 'bidirectional': False, 'dropout': 0, 'num_classes': 4, 'pad_idx': 0}\tExpected Num. Params: 622212\tYour Num. Params: 0\n",
      "\tFAILED\tInput: {'vocab_size': 1000, 'embed_size': 16, 'hidden_size': 256, 'num_layers': 4, 'bidirectional': True, 'dropout': 0, 'num_classes': 2, 'pad_idx': 0}\tExpected Num. Params: 3986050\tYour Num. Params: 0\n",
      "\tFAILED\tInput: {'vocab_size': 1000, 'embed_size': 16, 'hidden_size': 256, 'num_layers': 4, 'bidirectional': True, 'dropout': 0, 'num_classes': 4, 'pad_idx': 0}\tExpected Num. Params: 3987076\tYour Num. Params: 0\n",
      "\tFAILED\tInput: {'vocab_size': 1000, 'embed_size': 16, 'hidden_size': 256, 'num_layers': 4, 'bidirectional': False, 'dropout': 0, 'num_classes': 2, 'pad_idx': 0}\tExpected Num. Params: 1411202\tYour Num. Params: 0\n",
      "\tFAILED\tInput: {'vocab_size': 1000, 'embed_size': 16, 'hidden_size': 256, 'num_layers': 4, 'bidirectional': False, 'dropout': 0, 'num_classes': 4, 'pad_idx': 0}\tExpected Num. Params: 1411716\tYour Num. Params: 0\n",
      "\tFAILED\tInput: {'vocab_size': 1000, 'embed_size': 64, 'hidden_size': 32, 'num_layers': 2, 'bidirectional': True, 'dropout': 0, 'num_classes': 2, 'pad_idx': 0}\tExpected Num. Params: 101762\tYour Num. Params: 0\n",
      "\tFAILED\tInput: {'vocab_size': 1000, 'embed_size': 64, 'hidden_size': 32, 'num_layers': 2, 'bidirectional': True, 'dropout': 0, 'num_classes': 4, 'pad_idx': 0}\tExpected Num. Params: 101892\tYour Num. Params: 0\n",
      "\tFAILED\tInput: {'vocab_size': 1000, 'embed_size': 64, 'hidden_size': 32, 'num_layers': 2, 'bidirectional': False, 'dropout': 0, 'num_classes': 2, 'pad_idx': 0}\tExpected Num. Params: 79810\tYour Num. Params: 0\n",
      "\tFAILED\tInput: {'vocab_size': 1000, 'embed_size': 64, 'hidden_size': 32, 'num_layers': 2, 'bidirectional': False, 'dropout': 0, 'num_classes': 4, 'pad_idx': 0}\tExpected Num. Params: 79876\tYour Num. Params: 0\n",
      "\tFAILED\tInput: {'vocab_size': 1000, 'embed_size': 64, 'hidden_size': 32, 'num_layers': 4, 'bidirectional': True, 'dropout': 0, 'num_classes': 2, 'pad_idx': 0}\tExpected Num. Params: 139394\tYour Num. Params: 0\n",
      "\tFAILED\tInput: {'vocab_size': 1000, 'embed_size': 64, 'hidden_size': 32, 'num_layers': 4, 'bidirectional': True, 'dropout': 0, 'num_classes': 4, 'pad_idx': 0}\tExpected Num. Params: 139524\tYour Num. Params: 0\n",
      "\tFAILED\tInput: {'vocab_size': 1000, 'embed_size': 64, 'hidden_size': 32, 'num_layers': 4, 'bidirectional': False, 'dropout': 0, 'num_classes': 2, 'pad_idx': 0}\tExpected Num. Params: 92482\tYour Num. Params: 0\n",
      "\tFAILED\tInput: {'vocab_size': 1000, 'embed_size': 64, 'hidden_size': 32, 'num_layers': 4, 'bidirectional': False, 'dropout': 0, 'num_classes': 4, 'pad_idx': 0}\tExpected Num. Params: 92548\tYour Num. Params: 0\n",
      "\tFAILED\tInput: {'vocab_size': 1000, 'embed_size': 64, 'hidden_size': 256, 'num_layers': 2, 'bidirectional': True, 'dropout': 0, 'num_classes': 2, 'pad_idx': 0}\tExpected Num. Params: 1742338\tYour Num. Params: 0\n",
      "\tFAILED\tInput: {'vocab_size': 1000, 'embed_size': 64, 'hidden_size': 256, 'num_layers': 2, 'bidirectional': True, 'dropout': 0, 'num_classes': 4, 'pad_idx': 0}\tExpected Num. Params: 1743364\tYour Num. Params: 0\n",
      "\tFAILED\tInput: {'vocab_size': 1000, 'embed_size': 64, 'hidden_size': 256, 'num_layers': 2, 'bidirectional': False, 'dropout': 0, 'num_classes': 2, 'pad_idx': 0}\tExpected Num. Params: 706562\tYour Num. Params: 0\n",
      "\tFAILED\tInput: {'vocab_size': 1000, 'embed_size': 64, 'hidden_size': 256, 'num_layers': 2, 'bidirectional': False, 'dropout': 0, 'num_classes': 4, 'pad_idx': 0}\tExpected Num. Params: 707076\tYour Num. Params: 0\n",
      "\tFAILED\tInput: {'vocab_size': 1000, 'embed_size': 64, 'hidden_size': 256, 'num_layers': 4, 'bidirectional': True, 'dropout': 0, 'num_classes': 2, 'pad_idx': 0}\tExpected Num. Params: 4107778\tYour Num. Params: 0\n",
      "\tFAILED\tInput: {'vocab_size': 1000, 'embed_size': 64, 'hidden_size': 256, 'num_layers': 4, 'bidirectional': True, 'dropout': 0, 'num_classes': 4, 'pad_idx': 0}\tExpected Num. Params: 4108804\tYour Num. Params: 0\n",
      "\tFAILED\tInput: {'vocab_size': 1000, 'embed_size': 64, 'hidden_size': 256, 'num_layers': 4, 'bidirectional': False, 'dropout': 0, 'num_classes': 2, 'pad_idx': 0}\tExpected Num. Params: 1496066\tYour Num. Params: 0\n",
      "\tFAILED\tInput: {'vocab_size': 1000, 'embed_size': 64, 'hidden_size': 256, 'num_layers': 4, 'bidirectional': False, 'dropout': 0, 'num_classes': 4, 'pad_idx': 0}\tExpected Num. Params: 1496580\tYour Num. Params: 0\n",
      "\n",
      "\tFAILED\t Init Input: {'vocab_size': 29730, 'embed_size': 16, 'hidden_size': 32, 'num_layers': 2, 'bidirectional': True, 'dropout': 0, 'num_classes': 2, 'pad_idx': 0}\tForward Input Shape: torch.Size([1, 150])\tExpected Output Shape: torch.Size([1, 2])\tOutput must be a torch.Tensor; received <class 'NoneType'>\n",
      "\tFAILED\t Init Input: {'vocab_size': 29730, 'embed_size': 16, 'hidden_size': 32, 'num_layers': 2, 'bidirectional': True, 'dropout': 0, 'num_classes': 2, 'pad_idx': 0}\tForward Input Shape: torch.Size([2, 150])\tExpected Output Shape: torch.Size([2, 2])\tOutput must be a torch.Tensor; received <class 'NoneType'>\n",
      "\tFAILED\t Init Input: {'vocab_size': 29730, 'embed_size': 16, 'hidden_size': 32, 'num_layers': 2, 'bidirectional': True, 'dropout': 0, 'num_classes': 4, 'pad_idx': 0}\tForward Input Shape: torch.Size([1, 150])\tExpected Output Shape: torch.Size([1, 4])\tOutput must be a torch.Tensor; received <class 'NoneType'>\n",
      "\tFAILED\t Init Input: {'vocab_size': 29730, 'embed_size': 16, 'hidden_size': 32, 'num_layers': 2, 'bidirectional': True, 'dropout': 0, 'num_classes': 4, 'pad_idx': 0}\tForward Input Shape: torch.Size([2, 150])\tExpected Output Shape: torch.Size([2, 4])\tOutput must be a torch.Tensor; received <class 'NoneType'>\n",
      "\tFAILED\t Init Input: {'vocab_size': 29730, 'embed_size': 16, 'hidden_size': 32, 'num_layers': 2, 'bidirectional': False, 'dropout': 0, 'num_classes': 2, 'pad_idx': 0}\tForward Input Shape: torch.Size([1, 150])\tExpected Output Shape: torch.Size([1, 2])\tOutput must be a torch.Tensor; received <class 'NoneType'>\n",
      "\tFAILED\t Init Input: {'vocab_size': 29730, 'embed_size': 16, 'hidden_size': 32, 'num_layers': 2, 'bidirectional': False, 'dropout': 0, 'num_classes': 2, 'pad_idx': 0}\tForward Input Shape: torch.Size([2, 150])\tExpected Output Shape: torch.Size([2, 2])\tOutput must be a torch.Tensor; received <class 'NoneType'>\n",
      "\tFAILED\t Init Input: {'vocab_size': 29730, 'embed_size': 16, 'hidden_size': 32, 'num_layers': 2, 'bidirectional': False, 'dropout': 0, 'num_classes': 4, 'pad_idx': 0}\tForward Input Shape: torch.Size([1, 150])\tExpected Output Shape: torch.Size([1, 4])\tOutput must be a torch.Tensor; received <class 'NoneType'>\n",
      "\tFAILED\t Init Input: {'vocab_size': 29730, 'embed_size': 16, 'hidden_size': 32, 'num_layers': 2, 'bidirectional': False, 'dropout': 0, 'num_classes': 4, 'pad_idx': 0}\tForward Input Shape: torch.Size([2, 150])\tExpected Output Shape: torch.Size([2, 4])\tOutput must be a torch.Tensor; received <class 'NoneType'>\n",
      "\tFAILED\t Init Input: {'vocab_size': 29730, 'embed_size': 16, 'hidden_size': 32, 'num_layers': 4, 'bidirectional': True, 'dropout': 0, 'num_classes': 2, 'pad_idx': 0}\tForward Input Shape: torch.Size([1, 150])\tExpected Output Shape: torch.Size([1, 2])\tOutput must be a torch.Tensor; received <class 'NoneType'>\n",
      "\tFAILED\t Init Input: {'vocab_size': 29730, 'embed_size': 16, 'hidden_size': 32, 'num_layers': 4, 'bidirectional': True, 'dropout': 0, 'num_classes': 2, 'pad_idx': 0}\tForward Input Shape: torch.Size([2, 150])\tExpected Output Shape: torch.Size([2, 2])\tOutput must be a torch.Tensor; received <class 'NoneType'>\n",
      "\tFAILED\t Init Input: {'vocab_size': 29730, 'embed_size': 16, 'hidden_size': 32, 'num_layers': 4, 'bidirectional': True, 'dropout': 0, 'num_classes': 4, 'pad_idx': 0}\tForward Input Shape: torch.Size([1, 150])\tExpected Output Shape: torch.Size([1, 4])\tOutput must be a torch.Tensor; received <class 'NoneType'>\n",
      "\tFAILED\t Init Input: {'vocab_size': 29730, 'embed_size': 16, 'hidden_size': 32, 'num_layers': 4, 'bidirectional': True, 'dropout': 0, 'num_classes': 4, 'pad_idx': 0}\tForward Input Shape: torch.Size([2, 150])\tExpected Output Shape: torch.Size([2, 4])\tOutput must be a torch.Tensor; received <class 'NoneType'>\n",
      "\tFAILED\t Init Input: {'vocab_size': 29730, 'embed_size': 16, 'hidden_size': 32, 'num_layers': 4, 'bidirectional': False, 'dropout': 0, 'num_classes': 2, 'pad_idx': 0}\tForward Input Shape: torch.Size([1, 150])\tExpected Output Shape: torch.Size([1, 2])\tOutput must be a torch.Tensor; received <class 'NoneType'>\n",
      "\tFAILED\t Init Input: {'vocab_size': 29730, 'embed_size': 16, 'hidden_size': 32, 'num_layers': 4, 'bidirectional': False, 'dropout': 0, 'num_classes': 2, 'pad_idx': 0}\tForward Input Shape: torch.Size([2, 150])\tExpected Output Shape: torch.Size([2, 2])\tOutput must be a torch.Tensor; received <class 'NoneType'>\n",
      "\tFAILED\t Init Input: {'vocab_size': 29730, 'embed_size': 16, 'hidden_size': 32, 'num_layers': 4, 'bidirectional': False, 'dropout': 0, 'num_classes': 4, 'pad_idx': 0}\tForward Input Shape: torch.Size([1, 150])\tExpected Output Shape: torch.Size([1, 4])\tOutput must be a torch.Tensor; received <class 'NoneType'>\n",
      "\tFAILED\t Init Input: {'vocab_size': 29730, 'embed_size': 16, 'hidden_size': 32, 'num_layers': 4, 'bidirectional': False, 'dropout': 0, 'num_classes': 4, 'pad_idx': 0}\tForward Input Shape: torch.Size([2, 150])\tExpected Output Shape: torch.Size([2, 4])\tOutput must be a torch.Tensor; received <class 'NoneType'>\n",
      "\tFAILED\t Init Input: {'vocab_size': 29730, 'embed_size': 16, 'hidden_size': 64, 'num_layers': 2, 'bidirectional': True, 'dropout': 0, 'num_classes': 2, 'pad_idx': 0}\tForward Input Shape: torch.Size([1, 150])\tExpected Output Shape: torch.Size([1, 2])\tOutput must be a torch.Tensor; received <class 'NoneType'>\n",
      "\tFAILED\t Init Input: {'vocab_size': 29730, 'embed_size': 16, 'hidden_size': 64, 'num_layers': 2, 'bidirectional': True, 'dropout': 0, 'num_classes': 2, 'pad_idx': 0}\tForward Input Shape: torch.Size([2, 150])\tExpected Output Shape: torch.Size([2, 2])\tOutput must be a torch.Tensor; received <class 'NoneType'>\n",
      "\tFAILED\t Init Input: {'vocab_size': 29730, 'embed_size': 16, 'hidden_size': 64, 'num_layers': 2, 'bidirectional': True, 'dropout': 0, 'num_classes': 4, 'pad_idx': 0}\tForward Input Shape: torch.Size([1, 150])\tExpected Output Shape: torch.Size([1, 4])\tOutput must be a torch.Tensor; received <class 'NoneType'>\n",
      "\tFAILED\t Init Input: {'vocab_size': 29730, 'embed_size': 16, 'hidden_size': 64, 'num_layers': 2, 'bidirectional': True, 'dropout': 0, 'num_classes': 4, 'pad_idx': 0}\tForward Input Shape: torch.Size([2, 150])\tExpected Output Shape: torch.Size([2, 4])\tOutput must be a torch.Tensor; received <class 'NoneType'>\n",
      "\tFAILED\t Init Input: {'vocab_size': 29730, 'embed_size': 16, 'hidden_size': 64, 'num_layers': 2, 'bidirectional': False, 'dropout': 0, 'num_classes': 2, 'pad_idx': 0}\tForward Input Shape: torch.Size([1, 150])\tExpected Output Shape: torch.Size([1, 2])\tOutput must be a torch.Tensor; received <class 'NoneType'>\n",
      "\tFAILED\t Init Input: {'vocab_size': 29730, 'embed_size': 16, 'hidden_size': 64, 'num_layers': 2, 'bidirectional': False, 'dropout': 0, 'num_classes': 2, 'pad_idx': 0}\tForward Input Shape: torch.Size([2, 150])\tExpected Output Shape: torch.Size([2, 2])\tOutput must be a torch.Tensor; received <class 'NoneType'>\n",
      "\tFAILED\t Init Input: {'vocab_size': 29730, 'embed_size': 16, 'hidden_size': 64, 'num_layers': 2, 'bidirectional': False, 'dropout': 0, 'num_classes': 4, 'pad_idx': 0}\tForward Input Shape: torch.Size([1, 150])\tExpected Output Shape: torch.Size([1, 4])\tOutput must be a torch.Tensor; received <class 'NoneType'>\n",
      "\tFAILED\t Init Input: {'vocab_size': 29730, 'embed_size': 16, 'hidden_size': 64, 'num_layers': 2, 'bidirectional': False, 'dropout': 0, 'num_classes': 4, 'pad_idx': 0}\tForward Input Shape: torch.Size([2, 150])\tExpected Output Shape: torch.Size([2, 4])\tOutput must be a torch.Tensor; received <class 'NoneType'>\n",
      "\tFAILED\t Init Input: {'vocab_size': 29730, 'embed_size': 16, 'hidden_size': 64, 'num_layers': 4, 'bidirectional': True, 'dropout': 0, 'num_classes': 2, 'pad_idx': 0}\tForward Input Shape: torch.Size([1, 150])\tExpected Output Shape: torch.Size([1, 2])\tOutput must be a torch.Tensor; received <class 'NoneType'>\n",
      "\tFAILED\t Init Input: {'vocab_size': 29730, 'embed_size': 16, 'hidden_size': 64, 'num_layers': 4, 'bidirectional': True, 'dropout': 0, 'num_classes': 2, 'pad_idx': 0}\tForward Input Shape: torch.Size([2, 150])\tExpected Output Shape: torch.Size([2, 2])\tOutput must be a torch.Tensor; received <class 'NoneType'>\n",
      "\tFAILED\t Init Input: {'vocab_size': 29730, 'embed_size': 16, 'hidden_size': 64, 'num_layers': 4, 'bidirectional': True, 'dropout': 0, 'num_classes': 4, 'pad_idx': 0}\tForward Input Shape: torch.Size([1, 150])\tExpected Output Shape: torch.Size([1, 4])\tOutput must be a torch.Tensor; received <class 'NoneType'>\n",
      "\tFAILED\t Init Input: {'vocab_size': 29730, 'embed_size': 16, 'hidden_size': 64, 'num_layers': 4, 'bidirectional': True, 'dropout': 0, 'num_classes': 4, 'pad_idx': 0}\tForward Input Shape: torch.Size([2, 150])\tExpected Output Shape: torch.Size([2, 4])\tOutput must be a torch.Tensor; received <class 'NoneType'>\n",
      "\tFAILED\t Init Input: {'vocab_size': 29730, 'embed_size': 16, 'hidden_size': 64, 'num_layers': 4, 'bidirectional': False, 'dropout': 0, 'num_classes': 2, 'pad_idx': 0}\tForward Input Shape: torch.Size([1, 150])\tExpected Output Shape: torch.Size([1, 2])\tOutput must be a torch.Tensor; received <class 'NoneType'>\n",
      "\tFAILED\t Init Input: {'vocab_size': 29730, 'embed_size': 16, 'hidden_size': 64, 'num_layers': 4, 'bidirectional': False, 'dropout': 0, 'num_classes': 2, 'pad_idx': 0}\tForward Input Shape: torch.Size([2, 150])\tExpected Output Shape: torch.Size([2, 2])\tOutput must be a torch.Tensor; received <class 'NoneType'>\n",
      "\tFAILED\t Init Input: {'vocab_size': 29730, 'embed_size': 16, 'hidden_size': 64, 'num_layers': 4, 'bidirectional': False, 'dropout': 0, 'num_classes': 4, 'pad_idx': 0}\tForward Input Shape: torch.Size([1, 150])\tExpected Output Shape: torch.Size([1, 4])\tOutput must be a torch.Tensor; received <class 'NoneType'>\n",
      "\tFAILED\t Init Input: {'vocab_size': 29730, 'embed_size': 16, 'hidden_size': 64, 'num_layers': 4, 'bidirectional': False, 'dropout': 0, 'num_classes': 4, 'pad_idx': 0}\tForward Input Shape: torch.Size([2, 150])\tExpected Output Shape: torch.Size([2, 4])\tOutput must be a torch.Tensor; received <class 'NoneType'>\n"
     ]
    }
   ],
   "source": [
    "### DO NOT EDIT ###\n",
    "\n",
    "if __name__ == '__main__':\n",
    "    # Test init\n",
    "    inputs = [{'vocab_size': 1000, 'embed_size': 16, 'hidden_size': 32, 'num_layers': 2, 'bidirectional': True, 'dropout': 0, 'num_classes': 2, 'pad_idx': 0}, {'vocab_size': 1000, 'embed_size': 16, 'hidden_size': 32, 'num_layers': 2, 'bidirectional': True, 'dropout': 0, 'num_classes': 4, 'pad_idx': 0}, {'vocab_size': 1000, 'embed_size': 16, 'hidden_size': 32, 'num_layers': 2, 'bidirectional': False, 'dropout': 0, 'num_classes': 2, 'pad_idx': 0}, {'vocab_size': 1000, 'embed_size': 16, 'hidden_size': 32, 'num_layers': 2, 'bidirectional': False, 'dropout': 0, 'num_classes': 4, 'pad_idx': 0}, {'vocab_size': 1000, 'embed_size': 16, 'hidden_size': 32, 'num_layers': 4, 'bidirectional': True, 'dropout': 0, 'num_classes': 2, 'pad_idx': 0}, {'vocab_size': 1000, 'embed_size': 16, 'hidden_size': 32, 'num_layers': 4, 'bidirectional': True, 'dropout': 0, 'num_classes': 4, 'pad_idx': 0}, {'vocab_size': 1000, 'embed_size': 16, 'hidden_size': 32, 'num_layers': 4, 'bidirectional': False, 'dropout': 0, 'num_classes': 2, 'pad_idx': 0}, {'vocab_size': 1000, 'embed_size': 16, 'hidden_size': 32, 'num_layers': 4, 'bidirectional': False, 'dropout': 0, 'num_classes': 4, 'pad_idx': 0}, {'vocab_size': 1000, 'embed_size': 16, 'hidden_size': 256, 'num_layers': 2, 'bidirectional': True, 'dropout': 0, 'num_classes': 2, 'pad_idx': 0}, {'vocab_size': 1000, 'embed_size': 16, 'hidden_size': 256, 'num_layers': 2, 'bidirectional': True, 'dropout': 0, 'num_classes': 4, 'pad_idx': 0}, {'vocab_size': 1000, 'embed_size': 16, 'hidden_size': 256, 'num_layers': 2, 'bidirectional': False, 'dropout': 0, 'num_classes': 2, 'pad_idx': 0}, {'vocab_size': 1000, 'embed_size': 16, 'hidden_size': 256, 'num_layers': 2, 'bidirectional': False, 'dropout': 0, 'num_classes': 4, 'pad_idx': 0}, {'vocab_size': 1000, 'embed_size': 16, 'hidden_size': 256, 'num_layers': 4, 'bidirectional': True, 'dropout': 0, 'num_classes': 2, 'pad_idx': 0}, {'vocab_size': 1000, 'embed_size': 16, 'hidden_size': 256, 'num_layers': 4, 'bidirectional': True, 'dropout': 0, 'num_classes': 4, 'pad_idx': 0}, {'vocab_size': 1000, 'embed_size': 16, 'hidden_size': 256, 'num_layers': 4, 'bidirectional': False, 'dropout': 0, 'num_classes': 2, 'pad_idx': 0}, {'vocab_size': 1000, 'embed_size': 16, 'hidden_size': 256, 'num_layers': 4, 'bidirectional': False, 'dropout': 0, 'num_classes': 4, 'pad_idx': 0}, {'vocab_size': 1000, 'embed_size': 64, 'hidden_size': 32, 'num_layers': 2, 'bidirectional': True, 'dropout': 0, 'num_classes': 2, 'pad_idx': 0}, {'vocab_size': 1000, 'embed_size': 64, 'hidden_size': 32, 'num_layers': 2, 'bidirectional': True, 'dropout': 0, 'num_classes': 4, 'pad_idx': 0}, {'vocab_size': 1000, 'embed_size': 64, 'hidden_size': 32, 'num_layers': 2, 'bidirectional': False, 'dropout': 0, 'num_classes': 2, 'pad_idx': 0}, {'vocab_size': 1000, 'embed_size': 64, 'hidden_size': 32, 'num_layers': 2, 'bidirectional': False, 'dropout': 0, 'num_classes': 4, 'pad_idx': 0}, {'vocab_size': 1000, 'embed_size': 64, 'hidden_size': 32, 'num_layers': 4, 'bidirectional': True, 'dropout': 0, 'num_classes': 2, 'pad_idx': 0}, {'vocab_size': 1000, 'embed_size': 64, 'hidden_size': 32, 'num_layers': 4, 'bidirectional': True, 'dropout': 0, 'num_classes': 4, 'pad_idx': 0}, {'vocab_size': 1000, 'embed_size': 64, 'hidden_size': 32, 'num_layers': 4, 'bidirectional': False, 'dropout': 0, 'num_classes': 2, 'pad_idx': 0}, {'vocab_size': 1000, 'embed_size': 64, 'hidden_size': 32, 'num_layers': 4, 'bidirectional': False, 'dropout': 0, 'num_classes': 4, 'pad_idx': 0}, {'vocab_size': 1000, 'embed_size': 64, 'hidden_size': 256, 'num_layers': 2, 'bidirectional': True, 'dropout': 0, 'num_classes': 2, 'pad_idx': 0}, {'vocab_size': 1000, 'embed_size': 64, 'hidden_size': 256, 'num_layers': 2, 'bidirectional': True, 'dropout': 0, 'num_classes': 4, 'pad_idx': 0}, {'vocab_size': 1000, 'embed_size': 64, 'hidden_size': 256, 'num_layers': 2, 'bidirectional': False, 'dropout': 0, 'num_classes': 2, 'pad_idx': 0}, {'vocab_size': 1000, 'embed_size': 64, 'hidden_size': 256, 'num_layers': 2, 'bidirectional': False, 'dropout': 0, 'num_classes': 4, 'pad_idx': 0}, {'vocab_size': 1000, 'embed_size': 64, 'hidden_size': 256, 'num_layers': 4, 'bidirectional': True, 'dropout': 0, 'num_classes': 2, 'pad_idx': 0}, {'vocab_size': 1000, 'embed_size': 64, 'hidden_size': 256, 'num_layers': 4, 'bidirectional': True, 'dropout': 0, 'num_classes': 4, 'pad_idx': 0}, {'vocab_size': 1000, 'embed_size': 64, 'hidden_size': 256, 'num_layers': 4, 'bidirectional': False, 'dropout': 0, 'num_classes': 2, 'pad_idx': 0}, {'vocab_size': 1000, 'embed_size': 64, 'hidden_size': 256, 'num_layers': 4, 'bidirectional': False, 'dropout': 0, 'num_classes': 4, 'pad_idx': 0}]\n",
    "    expected_outputs = [44546, 44676, 27202, 27268, 82178, 82308, 39874, 39940, 1620610, 1621636, 621698, 622212, 3986050, 3987076, 1411202, 1411716, 101762, 101892, 79810, 79876, 139394, 139524, 92482, 92548, 1742338, 1743364, 706562, 707076, 4107778, 4108804, 1496066, 1496580]\n",
    "\n",
    "    sanityCheckModel(inputs, RNN, expected_outputs, \"init\", None)\n",
    "    print()\n",
    "\n",
    "    # Test forward\n",
    "    inputs = [{'vocab_size': 29730, 'embed_size': 16, 'hidden_size': 32, 'num_layers': 2, 'bidirectional': True, 'dropout': 0, 'num_classes': 2, 'pad_idx': 0, 'batch_size': 1}, {'vocab_size': 29730, 'embed_size': 16, 'hidden_size': 32, 'num_layers': 2, 'bidirectional': True, 'dropout': 0, 'num_classes': 2, 'pad_idx': 0, 'batch_size': 2}, {'vocab_size': 29730, 'embed_size': 16, 'hidden_size': 32, 'num_layers': 2, 'bidirectional': True, 'dropout': 0, 'num_classes': 4, 'pad_idx': 0, 'batch_size': 1}, {'vocab_size': 29730, 'embed_size': 16, 'hidden_size': 32, 'num_layers': 2, 'bidirectional': True, 'dropout': 0, 'num_classes': 4, 'pad_idx': 0, 'batch_size': 2}, {'vocab_size': 29730, 'embed_size': 16, 'hidden_size': 32, 'num_layers': 2, 'bidirectional': False, 'dropout': 0, 'num_classes': 2, 'pad_idx': 0, 'batch_size': 1}, {'vocab_size': 29730, 'embed_size': 16, 'hidden_size': 32, 'num_layers': 2, 'bidirectional': False, 'dropout': 0, 'num_classes': 2, 'pad_idx': 0, 'batch_size': 2}, {'vocab_size': 29730, 'embed_size': 16, 'hidden_size': 32, 'num_layers': 2, 'bidirectional': False, 'dropout': 0, 'num_classes': 4, 'pad_idx': 0, 'batch_size': 1}, {'vocab_size': 29730, 'embed_size': 16, 'hidden_size': 32, 'num_layers': 2, 'bidirectional': False, 'dropout': 0, 'num_classes': 4, 'pad_idx': 0, 'batch_size': 2}, {'vocab_size': 29730, 'embed_size': 16, 'hidden_size': 32, 'num_layers': 4, 'bidirectional': True, 'dropout': 0, 'num_classes': 2, 'pad_idx': 0, 'batch_size': 1}, {'vocab_size': 29730, 'embed_size': 16, 'hidden_size': 32, 'num_layers': 4, 'bidirectional': True, 'dropout': 0, 'num_classes': 2, 'pad_idx': 0, 'batch_size': 2}, {'vocab_size': 29730, 'embed_size': 16, 'hidden_size': 32, 'num_layers': 4, 'bidirectional': True, 'dropout': 0, 'num_classes': 4, 'pad_idx': 0, 'batch_size': 1}, {'vocab_size': 29730, 'embed_size': 16, 'hidden_size': 32, 'num_layers': 4, 'bidirectional': True, 'dropout': 0, 'num_classes': 4, 'pad_idx': 0, 'batch_size': 2}, {'vocab_size': 29730, 'embed_size': 16, 'hidden_size': 32, 'num_layers': 4, 'bidirectional': False, 'dropout': 0, 'num_classes': 2, 'pad_idx': 0, 'batch_size': 1}, {'vocab_size': 29730, 'embed_size': 16, 'hidden_size': 32, 'num_layers': 4, 'bidirectional': False, 'dropout': 0, 'num_classes': 2, 'pad_idx': 0, 'batch_size': 2}, {'vocab_size': 29730, 'embed_size': 16, 'hidden_size': 32, 'num_layers': 4, 'bidirectional': False, 'dropout': 0, 'num_classes': 4, 'pad_idx': 0, 'batch_size': 1}, {'vocab_size': 29730, 'embed_size': 16, 'hidden_size': 32, 'num_layers': 4, 'bidirectional': False, 'dropout': 0, 'num_classes': 4, 'pad_idx': 0, 'batch_size': 2}, {'vocab_size': 29730, 'embed_size': 16, 'hidden_size': 64, 'num_layers': 2, 'bidirectional': True, 'dropout': 0, 'num_classes': 2, 'pad_idx': 0, 'batch_size': 1}, {'vocab_size': 29730, 'embed_size': 16, 'hidden_size': 64, 'num_layers': 2, 'bidirectional': True, 'dropout': 0, 'num_classes': 2, 'pad_idx': 0, 'batch_size': 2}, {'vocab_size': 29730, 'embed_size': 16, 'hidden_size': 64, 'num_layers': 2, 'bidirectional': True, 'dropout': 0, 'num_classes': 4, 'pad_idx': 0, 'batch_size': 1}, {'vocab_size': 29730, 'embed_size': 16, 'hidden_size': 64, 'num_layers': 2, 'bidirectional': True, 'dropout': 0, 'num_classes': 4, 'pad_idx': 0, 'batch_size': 2}, {'vocab_size': 29730, 'embed_size': 16, 'hidden_size': 64, 'num_layers': 2, 'bidirectional': False, 'dropout': 0, 'num_classes': 2, 'pad_idx': 0, 'batch_size': 1}, {'vocab_size': 29730, 'embed_size': 16, 'hidden_size': 64, 'num_layers': 2, 'bidirectional': False, 'dropout': 0, 'num_classes': 2, 'pad_idx': 0, 'batch_size': 2}, {'vocab_size': 29730, 'embed_size': 16, 'hidden_size': 64, 'num_layers': 2, 'bidirectional': False, 'dropout': 0, 'num_classes': 4, 'pad_idx': 0, 'batch_size': 1}, {'vocab_size': 29730, 'embed_size': 16, 'hidden_size': 64, 'num_layers': 2, 'bidirectional': False, 'dropout': 0, 'num_classes': 4, 'pad_idx': 0, 'batch_size': 2}, {'vocab_size': 29730, 'embed_size': 16, 'hidden_size': 64, 'num_layers': 4, 'bidirectional': True, 'dropout': 0, 'num_classes': 2, 'pad_idx': 0, 'batch_size': 1}, {'vocab_size': 29730, 'embed_size': 16, 'hidden_size': 64, 'num_layers': 4, 'bidirectional': True, 'dropout': 0, 'num_classes': 2, 'pad_idx': 0, 'batch_size': 2}, {'vocab_size': 29730, 'embed_size': 16, 'hidden_size': 64, 'num_layers': 4, 'bidirectional': True, 'dropout': 0, 'num_classes': 4, 'pad_idx': 0, 'batch_size': 1}, {'vocab_size': 29730, 'embed_size': 16, 'hidden_size': 64, 'num_layers': 4, 'bidirectional': True, 'dropout': 0, 'num_classes': 4, 'pad_idx': 0, 'batch_size': 2}, {'vocab_size': 29730, 'embed_size': 16, 'hidden_size': 64, 'num_layers': 4, 'bidirectional': False, 'dropout': 0, 'num_classes': 2, 'pad_idx': 0, 'batch_size': 1}, {'vocab_size': 29730, 'embed_size': 16, 'hidden_size': 64, 'num_layers': 4, 'bidirectional': False, 'dropout': 0, 'num_classes': 2, 'pad_idx': 0, 'batch_size': 2}, {'vocab_size': 29730, 'embed_size': 16, 'hidden_size': 64, 'num_layers': 4, 'bidirectional': False, 'dropout': 0, 'num_classes': 4, 'pad_idx': 0, 'batch_size': 1}, {'vocab_size': 29730, 'embed_size': 16, 'hidden_size': 64, 'num_layers': 4, 'bidirectional': False, 'dropout': 0, 'num_classes': 4, 'pad_idx': 0, 'batch_size': 2}]\n",
    "    expected_outputs = [torch.Size([1, 2]), torch.Size([2, 2]), torch.Size([1, 4]), torch.Size([2, 4]), torch.Size([1, 2]), torch.Size([2, 2]), torch.Size([1, 4]), torch.Size([2, 4]), torch.Size([1, 2]), torch.Size([2, 2]), torch.Size([1, 4]), torch.Size([2, 4]), torch.Size([1, 2]), torch.Size([2, 2]), torch.Size([1, 4]), torch.Size([2, 4]), torch.Size([1, 2]), torch.Size([2, 2]), torch.Size([1, 4]), torch.Size([2, 4]), torch.Size([1, 2]), torch.Size([2, 2]), torch.Size([1, 4]), torch.Size([2, 4]), torch.Size([1, 2]), torch.Size([2, 2]), torch.Size([1, 4]), torch.Size([2, 4]), torch.Size([1, 2]), torch.Size([2, 2]), torch.Size([1, 4]), torch.Size([2, 4])]\n",
    "    sanity_dataset = TextDataset(train_data, 'train', 5, 150)\n",
    "    sanity_loader = torch.utils.data.DataLoader(sanity_dataset, batch_size=50, shuffle=True, num_workers=2, drop_last=True)\n",
    "\n",
    "    sanityCheckModel(inputs, RNN, expected_outputs, \"forward\", sanity_loader)"
   ]
  },
  {
   "cell_type": "markdown",
   "metadata": {
    "id": "baD8lYAytdTV"
   },
   "source": [
    "## Train RNN Model\n",
    "First, we initialize the train and test dataloaders."
   ]
  },
  {
   "cell_type": "code",
   "execution_count": 21,
   "metadata": {
    "id": "WCzNm8LDM5aT"
   },
   "outputs": [],
   "source": [
    "if __name__=='__main__':\n",
    "    THRESHOLD = 5 # Don't change this\n",
    "    MAX_LEN = 200 # Don't change this\n",
    "    BATCH_SIZE = 32 # Feel free to try other batch sizes\n",
    "\n",
    "    train_dataset = TextDataset(train_data, 'train', THRESHOLD, MAX_LEN)\n",
    "    train_loader = torch.utils.data.DataLoader(train_dataset, batch_size=BATCH_SIZE, shuffle=True, num_workers=2, drop_last=True)\n",
    "\n",
    "    test_dataset = TextDataset(test_data, 'test', THRESHOLD, MAX_LEN, train_dataset.idx2word, train_dataset.word2idx)\n",
    "    test_loader = torch.utils.data.DataLoader(test_dataset, batch_size=1, shuffle=False, num_workers=1, drop_last=False)"
   ]
  },
  {
   "cell_type": "markdown",
   "metadata": {
    "id": "lp5pAz8emxi2"
   },
   "source": [
    "Now you can instantiate your model. We provide you with some recommended hyperparameters; you should be able to get the desired accuracy with these, but feel free to play around with them."
   ]
  },
  {
   "cell_type": "code",
   "execution_count": 22,
   "metadata": {
    "id": "CA-UairGErap"
   },
   "outputs": [
    {
     "name": "stdout",
     "output_type": "stream",
     "text": [
      "The model has 0 trainable parameters\n"
     ]
    }
   ],
   "source": [
    "if __name__=='__main__':\n",
    "    rnn_model = RNN(vocab_size = train_dataset.vocab_size, # Don't change this\n",
    "                embed_size = 128, \n",
    "                hidden_size = 128, \n",
    "                num_layers = 2,\n",
    "                bidirectional = True,\n",
    "                dropout = 0.5,\n",
    "                num_classes = 2, # Don't change this\n",
    "                pad_idx = train_dataset.word2idx[PAD]) # Don't change this\n",
    "\n",
    "    # Put your model on device\n",
    "    rnn_model = rnn_model.to(DEVICE)\n",
    "\n",
    "    print('The model has {:,d} trainable parameters'.format(count_parameters(rnn_model)))"
   ]
  },
  {
   "cell_type": "markdown",
   "metadata": {
    "id": "LqngFY4MoLec"
   },
   "source": [
    "Here, we create the criterion and optimizer; as with the CNN, we use cross-entropy loss and Adam optimization."
   ]
  },
  {
   "cell_type": "code",
   "execution_count": 23,
   "metadata": {
    "id": "em6Rs58OlJ3Z"
   },
   "outputs": [
    {
     "ename": "ValueError",
     "evalue": "optimizer got an empty parameter list",
     "output_type": "error",
     "traceback": [
      "\u001B[0;31m---------------------------------------------------------------------------\u001B[0m",
      "\u001B[0;31mValueError\u001B[0m                                Traceback (most recent call last)",
      "Input \u001B[0;32mIn [23]\u001B[0m, in \u001B[0;36m<cell line: 1>\u001B[0;34m()\u001B[0m\n\u001B[1;32m      5\u001B[0m criterion \u001B[38;5;241m=\u001B[39m nn\u001B[38;5;241m.\u001B[39mCrossEntropyLoss()\u001B[38;5;241m.\u001B[39mto(DEVICE)\n\u001B[1;32m      7\u001B[0m \u001B[38;5;66;03m# Define your optimizer\u001B[39;00m\n\u001B[0;32m----> 8\u001B[0m optimizer \u001B[38;5;241m=\u001B[39m \u001B[43moptim\u001B[49m\u001B[38;5;241;43m.\u001B[39;49m\u001B[43mAdam\u001B[49m\u001B[43m(\u001B[49m\u001B[43mrnn_model\u001B[49m\u001B[38;5;241;43m.\u001B[39;49m\u001B[43mparameters\u001B[49m\u001B[43m(\u001B[49m\u001B[43m)\u001B[49m\u001B[43m,\u001B[49m\u001B[43m \u001B[49m\u001B[43mlr\u001B[49m\u001B[38;5;241;43m=\u001B[39;49m\u001B[43mLEARNING_RATE\u001B[49m\u001B[43m)\u001B[49m\n",
      "File \u001B[0;32m~/anaconda3/envs/nlp_cuda116_python3_9/lib/python3.9/site-packages/torch/optim/adam.py:90\u001B[0m, in \u001B[0;36mAdam.__init__\u001B[0;34m(self, params, lr, betas, eps, weight_decay, amsgrad, foreach, maximize, capturable)\u001B[0m\n\u001B[1;32m     86\u001B[0m     \u001B[38;5;28;01mraise\u001B[39;00m \u001B[38;5;167;01mValueError\u001B[39;00m(\u001B[38;5;124m\"\u001B[39m\u001B[38;5;124mInvalid weight_decay value: \u001B[39m\u001B[38;5;132;01m{}\u001B[39;00m\u001B[38;5;124m\"\u001B[39m\u001B[38;5;241m.\u001B[39mformat(weight_decay))\n\u001B[1;32m     87\u001B[0m defaults \u001B[38;5;241m=\u001B[39m \u001B[38;5;28mdict\u001B[39m(lr\u001B[38;5;241m=\u001B[39mlr, betas\u001B[38;5;241m=\u001B[39mbetas, eps\u001B[38;5;241m=\u001B[39meps,\n\u001B[1;32m     88\u001B[0m                 weight_decay\u001B[38;5;241m=\u001B[39mweight_decay, amsgrad\u001B[38;5;241m=\u001B[39mamsgrad,\n\u001B[1;32m     89\u001B[0m                 maximize\u001B[38;5;241m=\u001B[39mmaximize, foreach\u001B[38;5;241m=\u001B[39mforeach, capturable\u001B[38;5;241m=\u001B[39mcapturable)\n\u001B[0;32m---> 90\u001B[0m \u001B[38;5;28;43msuper\u001B[39;49m\u001B[43m(\u001B[49m\u001B[43mAdam\u001B[49m\u001B[43m,\u001B[49m\u001B[43m \u001B[49m\u001B[38;5;28;43mself\u001B[39;49m\u001B[43m)\u001B[49m\u001B[38;5;241;43m.\u001B[39;49m\u001B[38;5;21;43m__init__\u001B[39;49m\u001B[43m(\u001B[49m\u001B[43mparams\u001B[49m\u001B[43m,\u001B[49m\u001B[43m \u001B[49m\u001B[43mdefaults\u001B[49m\u001B[43m)\u001B[49m\n",
      "File \u001B[0;32m~/anaconda3/envs/nlp_cuda116_python3_9/lib/python3.9/site-packages/torch/optim/optimizer.py:49\u001B[0m, in \u001B[0;36mOptimizer.__init__\u001B[0;34m(self, params, defaults)\u001B[0m\n\u001B[1;32m     47\u001B[0m param_groups \u001B[38;5;241m=\u001B[39m \u001B[38;5;28mlist\u001B[39m(params)\n\u001B[1;32m     48\u001B[0m \u001B[38;5;28;01mif\u001B[39;00m \u001B[38;5;28mlen\u001B[39m(param_groups) \u001B[38;5;241m==\u001B[39m \u001B[38;5;241m0\u001B[39m:\n\u001B[0;32m---> 49\u001B[0m     \u001B[38;5;28;01mraise\u001B[39;00m \u001B[38;5;167;01mValueError\u001B[39;00m(\u001B[38;5;124m\"\u001B[39m\u001B[38;5;124moptimizer got an empty parameter list\u001B[39m\u001B[38;5;124m\"\u001B[39m)\n\u001B[1;32m     50\u001B[0m \u001B[38;5;28;01mif\u001B[39;00m \u001B[38;5;129;01mnot\u001B[39;00m \u001B[38;5;28misinstance\u001B[39m(param_groups[\u001B[38;5;241m0\u001B[39m], \u001B[38;5;28mdict\u001B[39m):\n\u001B[1;32m     51\u001B[0m     param_groups \u001B[38;5;241m=\u001B[39m [{\u001B[38;5;124m'\u001B[39m\u001B[38;5;124mparams\u001B[39m\u001B[38;5;124m'\u001B[39m: param_groups}]\n",
      "\u001B[0;31mValueError\u001B[0m: optimizer got an empty parameter list"
     ]
    }
   ],
   "source": [
    "if __name__=='__main__':    \n",
    "    LEARNING_RATE = 5e-4 # Feel free to try other learning rates\n",
    "\n",
    "    # Define your loss function\n",
    "    criterion = nn.CrossEntropyLoss().to(DEVICE)\n",
    "\n",
    "    # Define your optimizer\n",
    "    optimizer = optim.Adam(rnn_model.parameters(), lr=LEARNING_RATE)"
   ]
  },
  {
   "cell_type": "markdown",
   "metadata": {
    "id": "uEPsi3choUm5"
   },
   "source": [
    "Finally, we can train the model. We use the same `train_model(...)` function that we defined for the CNN. If the model is implemented correctly and you're using the GPU, this cell should take around <b>2 minutes</b> (or less). Feel free to change the number of epochs."
   ]
  },
  {
   "cell_type": "code",
   "execution_count": null,
   "metadata": {
    "id": "NR8Wckf0l2G7"
   },
   "outputs": [],
   "source": [
    "if __name__=='__main__':    \n",
    "    N_EPOCHS = 6 # Feel free to change this\n",
    "    \n",
    "    # train model for N_EPOCHS epochs\n",
    "    train_model(rnn_model, N_EPOCHS, train_loader, optimizer, criterion)"
   ]
  },
  {
   "cell_type": "markdown",
   "metadata": {
    "id": "j-SRIFfooYk6"
   },
   "source": [
    "## Evaluate RNN Model [20 points]\n",
    "\n",
    "Now we can evaluate the RNN. \n",
    "\n",
    "To pass the autograder for the RNN, you will need to achieve **82% accuracy** on the hidden test set on Gradescope. Note that the Gradescope test set is very similar, and the accuracies between the two datasets should be comparable."
   ]
  },
  {
   "cell_type": "code",
   "execution_count": null,
   "metadata": {
    "id": "HYon4AbHl5_M"
   },
   "outputs": [],
   "source": [
    "if __name__=='__main__':    \n",
    "    evaluate(rnn_model, test_loader, criterion, use_tqdm=True) # Compute test data accuracy"
   ]
  },
  {
   "cell_type": "markdown",
   "metadata": {
    "id": "8WQAV6O2xHvS"
   },
   "source": [
    "# What to Submit\n",
    "\n",
    "To submit the assignment, download this notebook as a <TT>.py</TT> file. You can do this by going to <TT>File > Download > Download .py</TT>. Then (optionally) rename it to `hwk2.py`.\n",
    "\n",
    "You will also need to save the `cnn_model` and `rnn_model`. You can run the cell below to do this. After you save the files to your Google Drive, you need to manually download the files to your computer, and then submit them to the autograder.\n",
    "\n",
    "You will submit the following files to the autograder:\n",
    "1.   `hwk2.py`, the download of this notebook as a `.py` file (**not** a `.ipynb` file)\n",
    "1.   `cnn.pt`, the saved version of your `cnn_model`\n",
    "1.   `rnn.pt`, the saved version of your `rnn_model`"
   ]
  },
  {
   "cell_type": "code",
   "execution_count": 24,
   "metadata": {
    "id": "abbbMNi8X_ai"
   },
   "outputs": [
    {
     "name": "stdout",
     "output_type": "stream",
     "text": [
      "\n",
      "Saving CNN model....\n",
      "Saving RNN model....\n",
      "Done!\n"
     ]
    }
   ],
   "source": [
    "### DO NOT EDIT ###\n",
    "\n",
    "if __name__=='__main__':\n",
    "    # from google.colab import drive\n",
    "    # drive.mount('/content/drive')\n",
    "    print()\n",
    "\n",
    "    try:\n",
    "        cnn_model is None\n",
    "        cnn_exists = True\n",
    "    except:\n",
    "        cnn_exists = False\n",
    "\n",
    "    try:\n",
    "        rnn_model is None\n",
    "        rnn_exists = True\n",
    "    except:\n",
    "        rnn_exists = False\n",
    "\n",
    "    if cnn_exists:\n",
    "        print(\"Saving CNN model....\") \n",
    "        # torch.save(cnn_model, \"drive/My Drive/cnn.pt\")\n",
    "        torch.save(cnn_model, \"saved_models/cnn.pt\")\n",
    "    if rnn_exists:\n",
    "        print(\"Saving RNN model....\") \n",
    "        # torch.save(rnn_model, \"drive/My Drive/rnn.pt\")\n",
    "        torch.save(cnn_model, \"saved_models/rnn.pt\")\n",
    "    print(\"Done!\")"
   ]
  },
  {
   "cell_type": "code",
   "execution_count": null,
   "metadata": {
    "id": "v4o5fRQELX7G"
   },
   "outputs": [],
   "source": []
  },
  {
   "cell_type": "code",
   "execution_count": null,
   "metadata": {},
   "outputs": [],
   "source": []
  },
  {
   "cell_type": "code",
   "execution_count": null,
   "metadata": {},
   "outputs": [],
   "source": []
  }
 ],
 "metadata": {
  "accelerator": "GPU",
  "colab": {
   "collapsed_sections": [],
   "provenance": []
  },
  "gpuClass": "standard",
  "kernelspec": {
   "display_name": "Python 3 (ipykernel)",
   "language": "python",
   "name": "python3"
  },
  "language_info": {
   "codemirror_mode": {
    "name": "ipython",
    "version": 3
   },
   "file_extension": ".py",
   "mimetype": "text/x-python",
   "name": "python",
   "nbconvert_exporter": "python",
   "pygments_lexer": "ipython3",
   "version": "3.9.13"
  }
 },
 "nbformat": 4,
 "nbformat_minor": 1
}
