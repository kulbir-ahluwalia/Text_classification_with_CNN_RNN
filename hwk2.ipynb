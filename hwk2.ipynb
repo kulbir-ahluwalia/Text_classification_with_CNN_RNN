{
 "cells": [
  {
   "cell_type": "markdown",
   "metadata": {
    "id": "pSy-sfxOsclS"
   },
   "source": [
    "# CS 447 Homework 2 $-$ Text Classification with Neural Networks\n",
    "In this homework, you will build machine learning models to detect the sentiment of movie reviews using the IMDb movie reviews dataset. Specifically, you will implement classifiers based on Convolutional Neural Networks (CNN's) and Recurrent Neural Networks (RNN's).\n",
    "\n",
    "In addition to the Pytorch tutorial we have provided on Coursera, we highly recommend that you take a look at the PyTorch tutorials before starting this assignment:\n",
    "<ul>\n",
    "<li><a href=\"https://pytorch.org/tutorials/beginner/pytorch_with_examples.html\">https://pytorch.org/tutorials/beginner/pytorch_with_examples.html</a>\n",
    "<li><a href=\"https://pytorch.org/tutorials/beginner/data_loading_tutorial.html\">https://pytorch.org/tutorials/beginner/data_loading_tutorial.html</a>\n",
    "<li><a href=\"https://github.com/yunjey/pytorch-tutorial\">https://github.com/yunjey/pytorch-tutorial</a>\n",
    "</ul>\n",
    "\n",
    "<font color='green'>While you work, we suggest that you keep your hardware accelerator set to \"CPU\" (the default for Colab). However, when you have finished debugging and are ready to train your models, you should select \"GPU\" as your runtime type. This will speed up the training of your models. You can find this by going to <TT>Runtime > Change Runtime Type</TT> and select \"GPU\" from the dropdown menu.</font>\n",
    "\n",
    "As usual, you should not import any other libraries."
   ]
  },
  {
   "cell_type": "code",
   "execution_count": 1,
   "metadata": {
    "id": "EyCOvTRQ1nb-"
   },
   "outputs": [
    {
     "name": "stdout",
     "output_type": "stream",
     "text": [
      "Using device: cuda:0\n"
     ]
    }
   ],
   "source": [
    "### DO NOT EDIT ###\n",
    "\n",
    "import torch\n",
    "\n",
    "DEVICE = torch.device('cuda:0' if torch.cuda.is_available() else 'cpu')\n",
    "\n",
    "if __name__=='__main__':\n",
    "    print('Using device:', DEVICE)"
   ]
  },
  {
   "cell_type": "markdown",
   "metadata": {
    "id": "zHbJ1-aDsWCG"
   },
   "source": [
    "# Step 1: Download the Data\n",
    "First we will download the dataset using [torchtext](https://torchtext.readthedocs.io/en/latest/index.html), which is a package that supports NLP for PyTorch. \n",
    "\n",
    "Unfortunately, you have to install the <TT>torchdata</TT> package on the Colab machine in order to access the data. To do this, run the cell below (you may need to click the \"Restart Runtime\" button when it finishes). You will have to do this every time you return to work on the homework.\n",
    "\n"
   ]
  },
  {
   "cell_type": "code",
   "execution_count": 2,
   "metadata": {
    "id": "rT4n4QzHAYe_"
   },
   "outputs": [
    {
     "name": "stdout",
     "output_type": "stream",
     "text": [
      "Requirement already satisfied: torchdata in /home/kulbir/anaconda3/envs/nlp_cuda116_python3_9/lib/python3.9/site-packages (0.4.1)\r\n",
      "Requirement already satisfied: requests in /home/kulbir/anaconda3/envs/nlp_cuda116_python3_9/lib/python3.9/site-packages (from torchdata) (2.28.1)\r\n",
      "Requirement already satisfied: portalocker>=2.0.0 in /home/kulbir/anaconda3/envs/nlp_cuda116_python3_9/lib/python3.9/site-packages (from torchdata) (2.5.1)\r\n",
      "Requirement already satisfied: urllib3>=1.25 in /home/kulbir/anaconda3/envs/nlp_cuda116_python3_9/lib/python3.9/site-packages (from torchdata) (1.26.11)\r\n",
      "Requirement already satisfied: torch==1.12.1 in /home/kulbir/anaconda3/envs/nlp_cuda116_python3_9/lib/python3.9/site-packages (from torchdata) (1.12.1)\r\n",
      "Requirement already satisfied: typing_extensions in /home/kulbir/anaconda3/envs/nlp_cuda116_python3_9/lib/python3.9/site-packages (from torch==1.12.1->torchdata) (4.3.0)\r\n",
      "Requirement already satisfied: idna<4,>=2.5 in /home/kulbir/anaconda3/envs/nlp_cuda116_python3_9/lib/python3.9/site-packages (from requests->torchdata) (3.3)\r\n",
      "Requirement already satisfied: certifi>=2017.4.17 in /home/kulbir/anaconda3/envs/nlp_cuda116_python3_9/lib/python3.9/site-packages (from requests->torchdata) (2022.9.24)\r\n",
      "Requirement already satisfied: charset-normalizer<3,>=2 in /home/kulbir/anaconda3/envs/nlp_cuda116_python3_9/lib/python3.9/site-packages (from requests->torchdata) (2.0.4)\r\n"
     ]
    }
   ],
   "source": [
    "!pip install torchdata"
   ]
  },
  {
   "cell_type": "markdown",
   "metadata": {
    "id": "bMVBA0ijAUgt"
   },
   "source": [
    "The following cell will get you `train_data` and `test_data`. It also does some basic tokenization.\n",
    "\n",
    "*   To access the list of textual tokens for the *i*th example, use `train_data[i][1]`\n",
    "*   To access the label for the *i*th example, use `train_data[i][0]`"
   ]
  },
  {
   "cell_type": "code",
   "execution_count": 3,
   "metadata": {
    "id": "dfX3bNby8FYL"
   },
   "outputs": [
    {
     "name": "stdout",
     "output_type": "stream",
     "text": [
      "Num. Train Examples: 20000\n",
      "Num. Test Examples: 5000\n",
      "the label for the *i*th example: neg \n",
      "list of textual tokens for the *i*th example: ['I', 'rented', 'I', 'AM', 'CURIOUS-YELLOW', 'from', 'my', 'video', 'store', 'because', 'of', 'all', 'the', 'controversy', 'that', 'surrounded', 'it', 'when', 'it', 'was', 'first', 'released', 'in', '1967', '.', 'I', 'also', 'heard', 'that', 'at', 'first', 'it', 'was', 'seized', 'by', 'U.S', '.', 'customs', 'if', 'it', 'ever', 'tried', 'to', 'enter', 'this', 'country', ',', 'therefore', 'being', 'a', 'fan', 'of', 'films', 'considered', '\"', 'controversial', '\"', 'I', 'really', 'had', 'to', 'see', 'this', 'for', 'myself.<br', '/><br', '/>The', 'plot', 'is', 'centered', 'around', 'a', 'young', 'Swedish', 'drama', 'student', 'named', 'Lena', 'who', 'wants', 'to', 'learn', 'everything', 'she', 'can', 'about', 'life', '.', 'In', 'particular', 'she', 'wants', 'to', 'focus', 'her', 'attentions', 'to', 'making', 'some', 'sort', 'of', 'documentary', 'on', 'what', 'the', 'average', 'Swede', 'thought', 'about', 'certain', 'political', 'issues', 'such', 'as', 'the', 'Vietnam', 'War', 'and', 'race', 'issues', 'in', 'the', 'United', 'States', '.', 'In', 'between', 'asking', 'politicians', 'and', 'ordinary', 'denizens', 'of', 'Stockholm', 'about', 'their', 'opinions', 'on', 'politics', ',', 'she', 'has', 'sex', 'with', 'her', 'drama', 'teacher', ',', 'classmates', ',', 'and', 'married', 'men.<br', '/><br', '/>What', 'kills', 'me', 'about', 'I', 'AM', 'CURIOUS-YELLOW', 'is', 'that', '40', 'years', 'ago', ',', 'this', 'was', 'considered', 'pornographic', '.', 'Really', ',', 'the', 'sex', 'and', 'nudity', 'scenes', 'are', 'few', 'and', 'far', 'between', ',', 'even', 'then', \"it's\", 'not', 'shot', 'like', 'some', 'cheaply', 'made', 'porno', '.', 'While', 'my', 'countrymen', 'mind', 'find', 'it', 'shocking', ',', 'in', 'reality', 'sex', 'and', 'nudity', 'are', 'a', 'major', 'staple', 'in', 'Swedish', 'cinema', '.', 'Even', 'Ingmar', 'Bergman', ',', 'arguably', 'their', 'answer', 'to', 'good', 'old', 'boy', 'John', 'Ford', ',', 'had', 'sex', 'scenes', 'in', 'his', 'films.<br', '/><br', '/>I', 'do', 'commend', 'the', 'filmmakers', 'for', 'the', 'fact', 'that', 'any', 'sex', 'shown', 'in', 'the', 'film', 'is', 'shown', 'for', 'artistic', 'purposes', 'rather', 'than', 'just', 'to', 'shock', 'people', 'and', 'make', 'money', 'to', 'be', 'shown', 'in', 'pornographic', 'theaters', 'in', 'America', '.', 'I', 'AM', 'CURIOUS-YELLOW', 'is', 'a', 'good', 'film', 'for', 'anyone', 'wanting', 'to', 'study', 'the', 'meat', 'and', 'potatoes', '(', 'no', 'pun', 'intended', ')', 'of', 'Swedish', 'cinema', '.', 'But', 'really', ',', 'this', 'film', \"doesn't\", 'have', 'much', 'of', 'a', 'plot', '.'] \n",
      "the label for the *i*th example: neg \n",
      "list of textual tokens for the *i*th example: ['\"', 'I', 'Am', 'Curious', ':', 'Yellow', '\"', 'is', 'a', 'risible', 'and', 'pretentious', 'steaming', 'pile', '.', 'It', \"doesn't\", 'matter', 'what', \"one's\", 'political', 'views', 'are', 'because', 'this', 'film', 'can', 'hardly', 'be', 'taken', 'seriously', 'on', 'any', 'level', '.', 'As', 'for', 'the', 'claim', 'that', 'frontal', 'male', 'nudity', 'is', 'an', 'automatic', 'NC-17', ',', 'that', \"isn't\", 'true', '.', \"I've\", 'seen', 'R-rated', 'films', 'with', 'male', 'nudity', '.', 'Granted', ',', 'they', 'only', 'offer', 'some', 'fleeting', 'views', ',', 'but', 'where', 'are', 'the', 'R-rated', 'films', 'with', 'gaping', 'vulvas', 'and', 'flapping', 'labia', '?', 'Nowhere', ',', 'because', 'they', \"don't\", 'exist', '.', 'The', 'same', 'goes', 'for', 'those', 'crappy', 'cable', 'shows', ':', 'schlongs', 'swinging', 'in', 'the', 'breeze', 'but', 'not', 'a', 'clitoris', 'in', 'sight', '.', 'And', 'those', 'pretentious', 'indie', 'movies', 'like', 'The', 'Brown', 'Bunny', ',', 'in', 'which', \"we're\", 'treated', 'to', 'the', 'site', 'of', 'Vincent', \"Gallo's\", 'throbbing', 'johnson', ',', 'but', 'not', 'a', 'trace', 'of', 'pink', 'visible', 'on', 'Chloe', 'Sevigny', '.', 'Before', 'crying', '(', 'or', 'implying', ')', '\"', 'double-standard', '\"', 'in', 'matters', 'of', 'nudity', ',', 'the', 'mentally', 'obtuse', 'should', 'take', 'into', 'account', 'one', 'unavoidably', 'obvious', 'anatomical', 'difference', 'between', 'men', 'and', 'women', ':', 'there', 'are', 'no', 'genitals', 'on', 'display', 'when', 'actresses', 'appears', 'nude', ',', 'and', 'the', 'same', 'cannot', 'be', 'said', 'for', 'a', 'man', '.', 'In', 'fact', ',', 'you', 'generally', \"won't\", 'see', 'female', 'genitals', 'in', 'an', 'American', 'film', 'in', 'anything', 'short', 'of', 'porn', 'or', 'explicit', 'erotica', '.', 'This', 'alleged', 'double-standard', 'is', 'less', 'a', 'double', 'standard', 'than', 'an', 'admittedly', 'depressing', 'ability', 'to', 'come', 'to', 'terms', 'culturally', 'with', 'the', 'insides', 'of', \"women's\", 'bodies', '.'] \n",
      "the label for the *i*th example: neg \n",
      "list of textual tokens for the *i*th example: ['If', 'only', 'to', 'avoid', 'making', 'this', 'type', 'of', 'film', 'in', 'the', 'future', '.', 'This', 'film', 'is', 'interesting', 'as', 'an', 'experiment', 'but', 'tells', 'no', 'cogent', 'story.<br', '/><br', '/>One', 'might', 'feel', 'virtuous', 'for', 'sitting', 'thru', 'it', 'because', 'it', 'touches', 'on', 'so', 'many', 'IMPORTANT', 'issues', 'but', 'it', 'does', 'so', 'without', 'any', 'discernable', 'motive', '.', 'The', 'viewer', 'comes', 'away', 'with', 'no', 'new', 'perspectives', '(', 'unless', 'one', 'comes', 'up', 'with', 'one', 'while', \"one's\", 'mind', 'wanders', ',', 'as', 'it', 'will', 'invariably', 'do', 'during', 'this', 'pointless', 'film).<br', '/><br', '/>One', 'might', 'better', 'spend', \"one's\", 'time', 'staring', 'out', 'a', 'window', 'at', 'a', 'tree', 'growing.<br', '/><br', '/>'] \n",
      "the label for the *i*th example: neg \n",
      "list of textual tokens for the *i*th example: ['This', 'film', 'was', 'probably', 'inspired', 'by', \"Godard's\", 'Masculin', ',', 'féminin', 'and', 'I', 'urge', 'you', 'to', 'see', 'that', 'film', 'instead.<br', '/><br', '/>The', 'film', 'has', 'two', 'strong', 'elements', 'and', 'those', 'are', ',', '(', '1', ')', 'the', 'realistic', 'acting', '(', '2', ')', 'the', 'impressive', ',', 'undeservedly', 'good', ',', 'photo', '.', 'Apart', 'from', 'that', ',', 'what', 'strikes', 'me', 'most', 'is', 'the', 'endless', 'stream', 'of', 'silliness', '.', 'Lena', 'Nyman', 'has', 'to', 'be', 'most', 'annoying', 'actress', 'in', 'the', 'world', '.', 'She', 'acts', 'so', 'stupid', 'and', 'with', 'all', 'the', 'nudity', 'in', 'this', \"film,...it's\", 'unattractive', '.', 'Comparing', 'to', \"Godard's\", 'film', ',', 'intellectuality', 'has', 'been', 'replaced', 'with', 'stupidity', '.', 'Without', 'going', 'too', 'far', 'on', 'this', 'subject', ',', 'I', 'would', 'say', 'that', 'follows', 'from', 'the', 'difference', 'in', 'ideals', 'between', 'the', 'French', 'and', 'the', 'Swedish', 'society.<br', '/><br', '/>A', 'movie', 'of', 'its', 'time', ',', 'and', 'place', '.', '2/10', '.'] \n",
      "the label for the *i*th example: neg \n",
      "list of textual tokens for the *i*th example: ['Oh', ',', 'brother...after', 'hearing', 'about', 'this', 'ridiculous', 'film', 'for', 'umpteen', 'years', 'all', 'I', 'can', 'think', 'of', 'is', 'that', 'old', 'Peggy', 'Lee', 'song..<br', '/><br', '/>\"Is', 'that', 'all', 'there', 'is??', '\"', '...I', 'was', 'just', 'an', 'early', 'teen', 'when', 'this', 'smoked', 'fish', 'hit', 'the', 'U.S', '.', 'I', 'was', 'too', 'young', 'to', 'get', 'in', 'the', 'theater', '(', 'although', 'I', 'did', 'manage', 'to', 'sneak', 'into', '\"', 'Goodbye', 'Columbus\")', '.', 'Then', 'a', 'screening', 'at', 'a', 'local', 'film', 'museum', 'beckoned', '-', 'Finally', 'I', 'could', 'see', 'this', 'film', ',', 'except', 'now', 'I', 'was', 'as', 'old', 'as', 'my', 'parents', 'were', 'when', 'they', 'schlepped', 'to', 'see', 'it!!<br', '/><br', '/>The', 'ONLY', 'reason', 'this', 'film', 'was', 'not', 'condemned', 'to', 'the', 'anonymous', 'sands', 'of', 'time', 'was', 'because', 'of', 'the', 'obscenity', 'case', 'sparked', 'by', 'its', 'U.S', '.', 'release', '.', 'MILLIONS', 'of', 'people', 'flocked', 'to', 'this', 'stinker', ',', 'thinking', 'they', 'were', 'going', 'to', 'see', 'a', 'sex', 'film...Instead', ',', 'they', 'got', 'lots', 'of', 'closeups', 'of', 'gnarly', ',', 'repulsive', 'Swedes', ',', 'on-street', 'interviews', 'in', 'bland', 'shopping', 'malls', ',', 'asinie', 'political', 'pretension...and', 'feeble', 'who-cares', 'simulated', 'sex', 'scenes', 'with', 'saggy', ',', 'pale', 'actors.<br', '/><br', '/>Cultural', 'icon', ',', 'holy', 'grail', ',', 'historic', 'artifact..whatever', 'this', 'thing', 'was', ',', 'shred', 'it', ',', 'burn', 'it', ',', 'then', 'stuff', 'the', 'ashes', 'in', 'a', 'lead', 'box!<br', '/><br', '/>Elite', 'esthetes', 'still', 'scrape', 'to', 'find', 'value', 'in', 'its', 'boring', 'pseudo', 'revolutionary', 'political', 'spewings..But', 'if', 'it', \"weren't\", 'for', 'the', 'censorship', 'scandal', ',', 'it', 'would', 'have', 'been', 'ignored', ',', 'then', 'forgotten.<br', '/><br', '/>Instead', ',', 'the', '\"', 'I', 'Am', 'Blank', ',', 'Blank', '\"', 'rhythymed', 'title', 'was', 'repeated', 'endlessly', 'for', 'years', 'as', 'a', 'titilation', 'for', 'porno', 'films', '(', 'I', 'am', 'Curious', ',', 'Lavender', '-', 'for', 'gay', 'films', ',', 'I', 'Am', 'Curious', ',', 'Black', '-', 'for', 'blaxploitation', 'films', ',', 'etc..', ')', 'and', 'every', 'ten', 'years', 'or', 'so', 'the', 'thing', 'rises', 'from', 'the', 'dead', ',', 'to', 'be', 'viewed', 'by', 'a', 'new', 'generation', 'of', 'suckers', 'who', 'want', 'to', 'see', 'that', '\"', 'naughty', 'sex', 'film', '\"', 'that', '\"', 'revolutionized', 'the', 'film', 'industry\"...<br', '/><br', '/>Yeesh', ',', 'avoid', 'like', 'the', 'plague..Or', 'if', 'you', 'MUST', 'see', 'it', '-', 'rent', 'the', 'video', 'and', 'fast', 'forward', 'to', 'the', '\"', 'dirty', '\"', 'parts', ',', 'just', 'to', 'get', 'it', 'over', 'with.<br', '/><br', '/>'] \n",
      "the label for the *i*th example: neg \n",
      "list of textual tokens for the *i*th example: ['I', 'would', 'put', 'this', 'at', 'the', 'top', 'of', 'my', 'list', 'of', 'films', 'in', 'the', 'category', 'of', 'unwatchable', 'trash', '!', 'There', 'are', 'films', 'that', 'are', 'bad', ',', 'but', 'the', 'worst', 'kind', 'are', 'the', 'ones', 'that', 'are', 'unwatchable', 'but', 'you', 'are', 'suppose', 'to', 'like', 'them', 'because', 'they', 'are', 'supposed', 'to', 'be', 'good', 'for', 'you', '!', 'The', 'sex', 'sequences', ',', 'so', 'shocking', 'in', 'its', 'day', ',', \"couldn't\", 'even', 'arouse', 'a', 'rabbit', '.', 'The', 'so', 'called', 'controversial', 'politics', 'is', 'strictly', 'high', 'school', 'sophomore', 'amateur', 'night', 'Marxism', '.', 'The', 'film', 'is', 'self-consciously', 'arty', 'in', 'the', 'worst', 'sense', 'of', 'the', 'term', '.', 'The', 'photography', 'is', 'in', 'a', 'harsh', 'grainy', 'black', 'and', 'white', '.', 'Some', 'scenes', 'are', 'out', 'of', 'focus', 'or', 'taken', 'from', 'the', 'wrong', 'angle', '.', 'Even', 'the', 'sound', 'is', 'bad', '!', 'And', 'some', 'people', 'call', 'this', 'art?<br', '/><br', '/>'] \n",
      "the label for the *i*th example: neg \n",
      "list of textual tokens for the *i*th example: ['Whoever', 'wrote', 'the', 'screenplay', 'for', 'this', 'movie', 'obviously', 'never', 'consulted', 'any', 'books', 'about', 'Lucille', 'Ball', ',', 'especially', 'her', 'autobiography', '.', \"I've\", 'never', 'seen', 'so', 'many', 'mistakes', 'in', 'a', 'biopic', ',', 'ranging', 'from', 'her', 'early', 'years', 'in', 'Celoron', 'and', 'Jamestown', 'to', 'her', 'later', 'years', 'with', 'Desi', '.', 'I', 'could', 'write', 'a', 'whole', 'list', 'of', 'factual', 'errors', ',', 'but', 'it', 'would', 'go', 'on', 'for', 'pages', '.', 'In', 'all', ',', 'I', 'believe', 'that', 'Lucille', 'Ball', 'is', 'one', 'of', 'those', 'inimitable', 'people', 'who', 'simply', 'cannot', 'be', 'portrayed', 'by', 'anyone', 'other', 'than', 'themselves', '.', 'If', 'I', 'were', 'Lucie', 'Arnaz', 'and', 'Desi', ',', 'Jr.', ',', 'I', 'would', 'be', 'irate', 'at', 'how', 'many', 'mistakes', 'were', 'made', 'in', 'this', 'film', '.', 'The', 'filmmakers', 'tried', 'hard', ',', 'but', 'the', 'movie', 'seems', 'awfully', 'sloppy', 'to', 'me', '.'] \n",
      "the label for the *i*th example: neg \n",
      "list of textual tokens for the *i*th example: ['When', 'I', 'first', 'saw', 'a', 'glimpse', 'of', 'this', 'movie', ',', 'I', 'quickly', 'noticed', 'the', 'actress', 'who', 'was', 'playing', 'the', 'role', 'of', 'Lucille', 'Ball', '.', 'Rachel', \"York's\", 'portrayal', 'of', 'Lucy', 'is', 'absolutely', 'awful', '.', 'Lucille', 'Ball', 'was', 'an', 'astounding', 'comedian', 'with', 'incredible', 'talent', '.', 'To', 'think', 'about', 'a', 'legend', 'like', 'Lucille', 'Ball', 'being', 'portrayed', 'the', 'way', 'she', 'was', 'in', 'the', 'movie', 'is', 'horrendous', '.', 'I', 'cannot', 'believe', 'out', 'of', 'all', 'the', 'actresses', 'in', 'the', 'world', 'who', 'could', 'play', 'a', 'much', 'better', 'Lucy', ',', 'the', 'producers', 'decided', 'to', 'get', 'Rachel', 'York', '.', 'She', 'might', 'be', 'a', 'good', 'actress', 'in', 'other', 'roles', 'but', 'to', 'play', 'the', 'role', 'of', 'Lucille', 'Ball', 'is', 'tough', '.', 'It', 'is', 'pretty', 'hard', 'to', 'find', 'someone', 'who', 'could', 'resemble', 'Lucille', 'Ball', ',', 'but', 'they', 'could', 'at', 'least', 'find', 'someone', 'a', 'bit', 'similar', 'in', 'looks', 'and', 'talent', '.', 'If', 'you', 'noticed', \"York's\", 'portrayal', 'of', 'Lucy', 'in', 'episodes', 'of', 'I', 'Love', 'Lucy', 'like', 'the', 'chocolate', 'factory', 'or', 'vitavetavegamin', ',', 'nothing', 'is', 'similar', 'in', 'any', 'way-her', 'expression', ',', 'voice', ',', 'or', 'movement.<br', '/><br', '/>To', 'top', 'it', 'all', 'off', ',', 'Danny', 'Pino', 'playing', 'Desi', 'Arnaz', 'is', 'horrible', '.', 'Pino', 'does', 'not', 'qualify', 'to', 'play', 'as', 'Ricky', '.', \"He's\", 'small', 'and', 'skinny', ',', 'his', 'accent', 'is', 'unreal', ',', 'and', 'once', 'again', ',', 'his', 'acting', 'is', 'unbelievable', '.', 'Although', 'Fred', 'and', 'Ethel', 'were', 'not', 'similar', 'either', ',', 'they', 'were', 'not', 'as', 'bad', 'as', 'the', 'characters', 'of', 'Lucy', 'and', 'Ricky.<br', '/><br', '/>Overall', ',', 'extremely', 'horrible', 'casting', 'and', 'the', 'story', 'is', 'badly', 'told', '.', 'If', 'people', 'want', 'to', 'understand', 'the', 'real', 'life', 'situation', 'of', 'Lucille', 'Ball', ',', 'I', 'suggest', 'watching', 'A&E', 'Biography', 'of', 'Lucy', 'and', 'Desi', ',', 'read', 'the', 'book', 'from', 'Lucille', 'Ball', 'herself', ',', 'or', 'PBS', \"'\", 'American', 'Masters', ':', 'Finding', 'Lucy', '.', 'If', 'you', 'want', 'to', 'see', 'a', 'docudrama', ',', '\"', 'Before', 'the', 'Laughter', '\"', 'would', 'be', 'a', 'better', 'choice', '.', 'The', 'casting', 'of', 'Lucille', 'Ball', 'and', 'Desi', 'Arnaz', 'in', '\"', 'Before', 'the', 'Laughter', '\"', 'is', 'much', 'better', 'compared', 'to', 'this', '.', 'At', 'least', ',', 'a', 'similar', 'aspect', 'is', 'shown', 'rather', 'than', 'nothing', '.'] \n",
      "the label for the *i*th example: neg \n",
      "list of textual tokens for the *i*th example: ['Who', 'are', 'these', '\"', 'They\"-', 'the', 'actors', '?', 'the', 'filmmakers', '?', 'Certainly', \"couldn't\", 'be', 'the', 'audience-', 'this', 'is', 'among', 'the', 'most', 'air-puffed', 'productions', 'in', 'existence', '.', \"It's\", 'the', 'kind', 'of', 'movie', 'that', 'looks', 'like', 'it', 'was', 'a', 'lot', 'of', 'fun', 'to', 'shoot\\x97', 'TOO', 'much', 'fun', ',', 'nobody', 'is', 'getting', 'any', 'actual', 'work', 'done', ',', 'and', 'that', 'almost', 'always', 'makes', 'for', 'a', 'movie', \"that's\", 'no', 'fun', 'to', 'watch.<br', '/><br', '/>Ritter', 'dons', 'glasses', 'so', 'as', 'to', 'hammer', 'home', 'his', \"character's\", 'status', 'as', 'a', 'sort', 'of', 'doppleganger', 'of', 'the', 'bespectacled', 'Bogdanovich', ';', 'the', 'scenes', 'with', 'the', 'breezy', 'Ms', '.', 'Stratten', 'are', 'sweet', ',', 'but', 'have', 'an', 'embarrassing', ',', \"look-guys-I'm-dating-the-prom-queen\", 'feel', 'to', 'them', '.', 'Ben', 'Gazzara', 'sports', 'his', 'usual', \"cat's-got-canary\", 'grin', 'in', 'a', 'futile', 'attempt', 'to', 'elevate', 'the', 'meager', 'plot', ',', 'which', 'requires', 'him', 'to', 'pursue', 'Audrey', 'Hepburn', 'with', 'all', 'the', 'interest', 'of', 'a', 'narcoleptic', 'at', 'an', 'insomnia', 'clinic', '.', 'In', 'the', 'meantime', ',', 'the', 'budding', \"couple's\", 'respective', 'children', '(', 'nepotism', 'alert', ':', \"Bogdanovich's\", 'daughters', ')', 'spew', 'cute', 'and', 'pick', 'up', 'some', 'fairly', 'disturbing', 'pointers', 'on', \"'\", 'love', \"'\", 'while', 'observing', 'their', 'parents', '.', '(', 'Ms', '.', 'Hepburn', ',', 'drawing', 'on', 'her', 'dignity', ',', 'manages', 'to', 'rise', 'above', 'the', 'proceedings-', 'but', 'she', 'has', 'the', 'monumental', 'challenge', 'of', 'playing', 'herself', ',', 'ostensibly.', ')', 'Everybody', 'looks', 'great', ',', 'but', 'so', 'what', '?', \"It's\", 'a', 'movie', 'and', 'we', 'can', 'expect', 'that', 'much', ',', 'if', \"that's\", 'what', \"you're\", 'looking', 'for', \"you'd\", 'be', 'better', 'off', 'picking', 'up', 'a', 'copy', 'of', 'Vogue.<br', '/><br', '/>Oh-', 'and', 'it', 'has', 'to', 'be', 'mentioned', 'that', 'Colleen', 'Camp', 'thoroughly', 'annoys', ',', 'even', 'apart', 'from', 'her', 'singing', ',', 'which', ',', 'while', 'competent', ',', 'is', 'wholly', 'unconvincing..', '.', 'the', 'country', 'and', 'western', 'numbers', 'are', 'woefully', 'mismatched', 'with', 'the', 'standards', 'on', 'the', 'soundtrack', '.', 'Surely', 'this', 'is', 'NOT', 'what', 'Gershwin', '(', 'who', 'wrote', 'the', 'song', 'from', 'which', 'the', \"movie's\", 'title', 'is', 'derived', ')', 'had', 'in', 'mind', ';', 'his', 'stage', 'musicals', 'of', 'the', \"20's\", 'may', 'have', 'been', 'slight', ',', 'but', 'at', 'least', 'they', 'were', 'long', 'on', 'charm', '.', '\"', 'They', 'All', 'Laughed', '\"', 'tries', 'to', 'coast', 'on', 'its', 'good', 'intentions', ',', 'but', 'nobody-', 'least', 'of', 'all', 'Peter', 'Bogdanovich', '-', 'has', 'the', 'good', 'sense', 'to', 'put', 'on', 'the', 'brakes.<br', '/><br', '/>Due', 'in', 'no', 'small', 'part', 'to', 'the', 'tragic', 'death', 'of', 'Dorothy', 'Stratten', ',', 'this', 'movie', 'has', 'a', 'special', 'place', 'in', 'the', 'heart', 'of', 'Mr', '.', 'Bogdanovich-', 'he', 'even', 'bought', 'it', 'back', 'from', 'its', 'producers', ',', 'then', 'distributed', 'it', 'on', 'his', 'own', 'and', 'went', 'bankrupt', 'when', 'it', \"didn't\", 'prove', 'popular', '.', 'His', 'rise', 'and', 'fall', 'is', 'among', 'the', 'more', 'sympathetic', 'and', 'tragic', 'of', 'Hollywood', 'stories', ',', 'so', \"there's\", 'no', 'joy', 'in', 'criticizing', 'the', 'film..', '.', 'there', '_is_', 'real', 'emotional', 'investment', 'in', 'Ms', '.', \"Stratten's\", 'scenes', '.', 'But', '\"', 'Laughed', '\"', 'is', 'a', 'faint', 'echo', 'of', '\"', 'The', 'Last', 'Picture', 'Show\"', ',', '\"', 'Paper', 'Moon', '\"', 'or', '\"', \"What's\", 'Up', ',', 'Doc\"-', 'following', '\"', 'Daisy', 'Miller', '\"', 'and', '\"', 'At', 'Long', 'Last', 'Love\"', ',', 'it', 'was', 'a', 'thundering', 'confirmation', 'of', 'the', 'phase', 'from', 'which', 'P.B', '.', 'has', 'never', 'emerged.<br', '/><br', '/>All', 'in', 'all', ',', 'though', ',', 'the', 'movie', 'is', 'harmless', ',', 'only', 'a', 'waste', 'of', 'rental', '.', 'I', 'want', 'to', 'watch', 'people', 'having', 'a', 'good', 'time', ',', \"I'll\", 'go', 'to', 'the', 'park', 'on', 'a', 'sunny', 'day', '.', 'For', 'filmic', 'expressions', 'of', 'joy', 'and', 'love', ',', \"I'll\", 'stick', 'to', 'Ernest', 'Lubitsch', 'and', 'Jaques', 'Demy..', '.'] \n",
      "the label for the *i*th example: neg \n",
      "list of textual tokens for the *i*th example: ['This', 'is', 'said', 'to', 'be', 'a', 'personal', 'film', 'for', 'Peter', 'Bogdonavitch', '.', 'He', 'based', 'it', 'on', 'his', 'life', 'but', 'changed', 'things', 'around', 'to', 'fit', 'the', 'characters', ',', 'who', 'are', 'detectives', '.', 'These', 'detectives', 'date', 'beautiful', 'models', 'and', 'have', 'no', 'problem', 'getting', 'them', '.', 'Sounds', 'more', 'like', 'a', 'millionaire', 'playboy', 'filmmaker', 'than', 'a', 'detective', ',', \"doesn't\", 'it', '?', 'This', 'entire', 'movie', 'was', 'written', 'by', 'Peter', ',', 'and', 'it', 'shows', 'how', 'out', 'of', 'touch', 'with', 'real', 'people', 'he', 'was', '.', \"You're\", 'supposed', 'to', 'write', 'what', 'you', 'know', ',', 'and', 'he', 'did', 'that', ',', 'indeed', '.', 'And', 'leaves', 'the', 'audience', 'bored', 'and', 'confused', ',', 'and', 'jealous', ',', 'for', 'that', 'matter', '.', 'This', 'is', 'a', 'curio', 'for', 'people', 'who', 'want', 'to', 'see', 'Dorothy', 'Stratten', ',', 'who', 'was', 'murdered', 'right', 'after', 'filming', '.', 'But', 'Patti', 'Hanson', ',', 'who', 'would', ',', 'in', 'real', 'life', ',', 'marry', 'Keith', 'Richards', ',', 'was', 'also', 'a', 'model', ',', 'like', 'Stratten', ',', 'but', 'is', 'a', 'lot', 'better', 'and', 'has', 'a', 'more', 'ample', 'part', '.', 'In', 'fact', ',', \"Stratten's\", 'part', 'seemed', 'forced', ';', 'added', '.', 'She', \"doesn't\", 'have', 'a', 'lot', 'to', 'do', 'with', 'the', 'story', ',', 'which', 'is', 'pretty', 'convoluted', 'to', 'begin', 'with', '.', 'All', 'in', 'all', ',', 'every', 'character', 'in', 'this', 'film', 'is', 'somebody', 'that', 'very', 'few', 'people', 'can', 'relate', 'with', ',', 'unless', \"you're\", 'millionaire', 'from', 'Manhattan', 'with', 'beautiful', 'supermodels', 'at', 'your', 'beckon', 'call', '.', 'For', 'the', 'rest', 'of', 'us', ',', \"it's\", 'an', 'irritating', 'snore', 'fest', '.', \"That's\", 'what', 'happens', 'when', \"you're\", 'out', 'of', 'touch', '.', 'You', 'entertain', 'your', 'few', 'friends', 'with', 'inside', 'jokes', ',', 'and', 'bore', 'all', 'the', 'rest', '.'] \n",
      "\n",
      "SAMPLE DATA:\n",
      "Sample text: [\"It's\", 'hard', 'to', 'believe', 'an', '\"', 'action', '\"', 'packed', 'Jet', 'Li', 'movie', 'could', 'be', 'so', 'boring', ',', 'but', 'this', 'was', 'transcendant', 'trash', '.', 'The', 'plot', 'is', 'an', 'amalgam', 'of', 'other', 'Hong', 'Kong', 'chopsocky', 'flicks', '.', 'The', 'martial', 'arts', 'action', 'is', 'all', 'special', 'effects', 'and', 'no', 'human', 'talent', '.', '<br', '/><br', \"/>It's\", 'a', 'comic', 'book', 'story', 'about', 'a', 'group', 'of', 'super-human', 'soldiers', 'who', 'are', 'to', 'be', 'killed', 'because', \"they're\", 'mentally', 'unstable', ',', 'one', 'of', 'their', 'number', '(', 'Li', ')', 'who', 'holds', 'off', 'an', 'incompetent', 'army', 'to', 'save', 'them', 'and', 'rebuilds', 'a', 'life', 'as', 'a', 'pacifist', 'librarian', '.', 'The', 'saved', 'killers', 'resurface', 'with', 'an', 'Austin', 'Powers', 'quality', 'plot', 'to', 'take', 'over', 'the', 'world', ',', 'and', 'Li', 'sheds', 'his', 'new', 'life', 'to', 'save', 'the', 'world.<br', '/><br', '/>The', 'version', 'I', 'saw', 'was', 'dubbed', ',', 'and', 'that', 'may', 'have', 'accentuated', 'the', 'cheesiness', 'of', 'the', 'wafer-thin', 'plot', 'and', 'comic-book', '25', 'cent', 'special', 'effects', '.', 'But', 'I', 'suspect', 'even', 'Ninja-Turtle-watching', '8-year', 'olds', 'would', 'have', 'found', 'this', 'juvenile', 'and', 'hollow', '.']\n",
      "Sample label: neg \n",
      "\n",
      "Sample text: ['The', 'film', 'starts', 'with', 'a', 'manager', '(', 'Nicholas', 'Bell', ')', 'giving', 'welcome', 'investors', '(', 'Robert', 'Carradine', ')', 'to', 'Primal', 'Park', '', '.', 'A', 'secret', 'project', 'mutating', 'a', 'primal', 'animal', 'using', 'fossilized', 'DNA', ',', 'like', '¨Jurassik', 'Park¨', ',', 'and', 'some', 'scientists', 'resurrect', 'one', 'of', \"nature's\", 'most', 'fearsome', 'predators', ',', 'the', 'Sabretooth', 'tiger', 'or', 'Smilodon', '', '.', 'Scientific', 'ambition', 'turns', 'deadly', ',', 'however', ',', 'and', 'when', 'the', 'high', 'voltage', 'fence', 'is', 'opened', 'the', 'creature', 'escape', 'and', 'begins', 'savagely', 'stalking', 'its', 'prey', '-', 'the', 'human', 'visitors', '', ',', 'tourists', 'and', 'scientific.Meanwhile', 'some', 'youngsters', 'enter', 'in', 'the', 'restricted', 'area', 'of', 'the', 'security', 'center', 'and', 'are', 'attacked', 'by', 'a', 'pack', 'of', 'large', 'pre-historical', 'animals', 'which', 'are', 'deadlier', 'and', 'bigger', '', '.', 'In', 'addition', '', ',', 'a', 'security', 'agent', '(', 'Stacy', 'Haiduk', ')', 'and', 'her', 'mate', '(', 'Brian', 'Wimmer', ')', 'fight', 'hardly', 'against', 'the', 'carnivorous', 'Smilodons', '.', 'The', 'Sabretooths', ',', 'themselves', '', ',', 'of', 'course', ',', 'are', 'the', 'real', 'star', 'stars', 'and', 'they', 'are', 'astounding', 'terrifyingly', 'though', 'not', 'convincing', '.', 'The', 'giant', 'animals', 'savagely', 'are', 'stalking', 'its', 'prey', 'and', 'the', 'group', 'run', 'afoul', 'and', 'fight', 'against', 'one', \"nature's\", 'most', 'fearsome', 'predators', '.', 'Furthermore', 'a', 'third', 'Sabretooth', 'more', 'dangerous', 'and', 'slow', 'stalks', 'its', 'victims.<br', '/><br', '/>The', 'movie', 'delivers', 'the', 'goods', 'with', 'lots', 'of', 'blood', 'and', 'gore', 'as', 'beheading', ',', 'hair-raising', 'chills,full', 'of', 'scares', 'when', 'the', 'Sabretooths', 'appear', 'with', 'mediocre', 'special', 'effects.The', 'story', 'provides', 'exciting', 'and', 'stirring', 'entertainment', 'but', 'it', 'results', 'to', 'be', 'quite', 'boring', '.The', 'giant', 'animals', 'are', 'majority', 'made', 'by', 'computer', 'generator', 'and', 'seem', 'totally', 'lousy', '.Middling', 'performances', 'though', 'the', 'players', 'reacting', 'appropriately', 'to', 'becoming', 'food.Actors', 'give', 'vigorously', 'physical', 'performances', 'dodging', 'the', 'beasts', ',running,bound', 'and', 'leaps', 'or', 'dangling', 'over', 'walls', '', '.', 'And', 'it', 'packs', 'a', 'ridiculous', 'final', 'deadly', 'scene', '.', 'No', 'for', 'small', 'kids', 'by', 'realistic,gory', 'and', 'violent', 'attack', 'scenes', '', '.', 'Other', 'films', 'about', 'Sabretooths', 'or', 'Smilodon', 'are', 'the', 'following', '', ':', '¨Sabretooth(2002)¨by', 'James', 'R', 'Hickox', 'with', 'Vanessa', 'Angel', ',', 'David', 'Keith', 'and', 'John', 'Rhys', 'Davies', 'and', 'the', 'much', 'better', '¨10.000', 'BC(2006)¨', 'by', 'Roland', 'Emmerich', 'with', 'with', 'Steven', 'Strait', ',', 'Cliff', 'Curtis', 'and', 'Camilla', 'Belle', '.', 'This', 'motion', 'picture', 'filled', 'with', 'bloody', 'moments', 'is', 'badly', 'directed', 'by', 'George', 'Miller', 'and', 'with', 'no', 'originality', 'because', 'takes', 'too', 'many', 'elements', 'from', 'previous', 'films', '.', 'Miller', 'is', 'an', 'Australian', 'director', 'usually', 'working', 'for', 'television', '(', 'Tidal', 'wave', ',', 'Journey', 'to', 'the', 'center', 'of', 'the', 'earth', ',', 'and', 'many', 'others', ')', 'and', 'occasionally', 'for', 'cinema', '(', '', 'The', 'man', 'from', 'Snowy', 'river', ',', 'Zeus', 'and', 'Roxanne,Robinson', 'Crusoe', ')', '.', 'Rating', '', ':', 'Below', 'average', ',', 'bottom', 'of', 'barrel', '.']\n",
      "Sample label: neg \n",
      "\n",
      "Sample text: ['I', 'watched', 'the', 'DVD', '(', 'called', 'BLACK', 'WIDOW', 'in', 'the', 'U.S.A.', ')', 'and', 'felt', 'afterward', 'that', 'it', 'was', ',', 'indeed', ',', 'a', 'truly', 'awful', 'movie', '.', 'But', 'they', 'must', 'have', 'cut', 'quite', 'a', 'bit', 'out', 'of', 'the', 'original', 'film', ',', 'or', 'I', 'missed', 'a', 'lot', '.', 'The', 'sex', 'scenes', 'had', 'very', 'little', 'vulgarity', 'and', 'no', 'nudity', '(', 'not', 'even', 'a', 'breast)', ',', 'but', \"I've\", 'read', 'several', 'other', 'comments', 'on', 'IMDb.com', 'mentioning', 'the', 'vulgarity', 'and', 'something', 'about', 'a', 'tampon', '.', 'I', 'did', 'not', 'see', 'anything', 'like', 'that', ',', 'just', 'a', 'bad', ',', 'boring', 'film', 'with', 'unlikable', 'characters', 'and', 'a', 'trite', ',', 'sophomoric', 'plot', '.', 'Giada', 'Colagrande', 'is', 'either', 'paralyzed', 'from', 'the', 'mouth', 'up', 'or', 'Botoxed', 'to', 'the', 'gills', ',', 'and', 'nary', 'an', 'expression', 'touches', 'her', 'face', '.', 'And', 'her', 'name', 'makes', 'me', 'think', 'of', 'super-sizing', 'a', 'beverage', 'at', 'Taco', 'Bell', ':', '\"', \"I'll\", 'have', 'the', 'Cola', 'Grande!', '\"', 'It', 'was', 'actually', 'kind', 'of', 'fun', 'it', 'was', 'so', 'bad', ',', 'I', 'got', 'to', 'play', 'like', 'I', 'was', 'in', 'my', 'own', 'Mystery', 'Science', 'Theater', '3000', ',', 'noting', 'things', 'like', 'the', 'fact', 'that', \"Dafoe's\", 'skin', 'is', 'too', 'big', 'for', 'his', 'face', '.', \"It's\", 'really', 'like', 'silly', 'putty', '!']\n",
      "Sample label: neg \n",
      "\n",
      "Sample text: ['I', 'saw', 'virtually', 'no', 'redeeming', 'qualities', 'in', 'this', 'movie', '.', 'The', 'only', 'thing', 'I', 'did', 'see', 'was', 'Quentin', \"Tarantino's\", 'seeming', 'insane', 'obsession', 'for', 'it..', '.', 'There', 'were', 'some', 'attractive', 'women', 'in', 'this', 'movie', 'and', 'perhaps', 'that', 'is', 'one', 'decent', 'quality', '.', 'Overall', 'however', ',', 'I', 'found', 'this', 'movie', 'surrealistic', 'and', 'ridiculous', '.', 'The', 'hand', 'held', 'film', 'making', 'coupled', 'with', 'slow', 'motion', 'and', 'other', 'cinematic', 'gimmicks', 'I', 'found', 'clumsy', 'and', 'dizzying', ',', 'even', 'sickening', '.', 'Overall', 'the', 'music', 'throughout', 'was', 'horrible', 'and', 'repetitive', 'to', 'the', 'extreme', 'as', 'well', 'reminding', 'me', 'of', 'psychological', 'warfare', 'of', 'the', 'U.S', '.', 'military', 'against', 'various', 'malcontents.<br', '/><br', '/>The', 'various', 'vignettes', 'that', 'made', 'up', 'the', 'movie', 'are', 'haphazard', 'in', 'their', 'placement', 'and', 'unfulfilling', 'and', 'unresolved', 'in', 'their', 'content', 'and', '\"', 'conclusions.', '\"', 'A', 'depressing', 'movie', '(', 'not', 'a', 'true', '_film_', ',', 'a', 'term', 'I', 'reserve', 'for', 'true', 'art', ')', 'that', 'left', 'me', 'with', 'a', 'bad', 'feeling', '.', 'Do', 'not', 'believe', 'the', 'various', 'people', 'that', 'try', 'and', 'spin', 'this', 'as', 'a', '\"', 'romantic', 'comedy', '\"', 'though', 'there', 'are', 'certainly', 'isolated', 'elements', 'of', 'both', 'this', 'movie', 'repudiates', 'in', 'content', ',', 'form', ',', 'and', 'conclusion', 'any', 'association', 'with', 'this', 'genre.<br', '/><br', '/>I', 'suggest', 'staying', 'far', 'away', 'notwithstanding', 'the', 'seemingly', 'overwhelming', 'positive', 'views', 'of', 'IMDb', 'and', 'other', 'ratings', 'sources', '.']\n",
      "Sample label: neg \n",
      "\n",
      "Sample text: ['Please', \"don't\", 'waste', 'your', 'time', '.', 'This', 'movie', 'rehashes', 'the', 'worst', 'of', 'Bram', \"Stoker's\", 'Dracula', '(', 'Van', 'Helsing)', ',', 'Anne', \"Rice's\", 'Vampire', 'Lestat', '(', 'rock', 'music', 'and', 'silly', 'biblical', 'references)', ',', 'and', 'Blade', '(', 'high-tech', 'toys)', '.', 'I', 'really', 'like', 'vampire', 'movies', 'and', 'novels', ',', 'and', 'there', 'are', 'many', 'out', 'there', 'that', 'are', 'very', 'good', '', '.', 'But', 'not', 'this', 'stinker', '.', 'Not', 'even', 'the', 'soundtrack', 'helps', 'it', ',', 'mostly', 'because', 'the', 'movie', 'resorts', 'to', 'ridiculous', 'scary', 'classical', 'music', 'rather', 'than', 'the', '\"', 'kick-ass', 'metal', '\"', 'some', 'reported', '.', 'Only', 'a', 'few', 'times', 'did', 'I', 'hear', 'any', 'metal', ';', 'mostly', 'it', 'was', 'tortured', 'violins', '.', 'Avoid', 'it', 'like', 'garlic', 'and', 'crucifixes', '.']\n",
      "Sample label: neg \n",
      "\n"
     ]
    }
   ],
   "source": [
    "### DO NOT EDIT ###\n",
    "\n",
    "import torchtext\n",
    "import random\n",
    "\n",
    "def preprocess(review):\n",
    "    '''\n",
    "    Simple preprocessing function.\n",
    "    '''\n",
    "    res = []\n",
    "    for x in review.split(' '):\n",
    "        remove_beg=True if x[0] in {'(', '\"', \"'\"} else False\n",
    "        remove_end=True if x[-1] in {'.', ',', ';', ':', '?', '!', '\"', \"'\", ')'} else False\n",
    "        if remove_beg and remove_end: res += [x[0], x[1:-1], x[-1]]\n",
    "        elif remove_beg: res += [x[0], x[1:]]\n",
    "        elif remove_end: res += [x[:-1], x[-1]]\n",
    "        else: res += [x]\n",
    "    return res\n",
    "\n",
    "if __name__=='__main__':\n",
    "    train_data = torchtext.datasets.IMDB(root='.data', split='train')\n",
    "    train_data = list(train_data)\n",
    "    train_data = [(x[0], preprocess(x[1])) for x in train_data]\n",
    "    train_data, test_data = train_data[0:10000] + train_data[12500:12500+10000], train_data[10000:12500] + train_data[12500+10000:], \n",
    "\n",
    "    print('Num. Train Examples:', len(train_data))\n",
    "    print('Num. Test Examples:', len(test_data))\n",
    "\n",
    "\n",
    "    # for i in range(len(train_data)):\n",
    "    for i in range(0,10,1):\n",
    "        print(f\"the label for the *i*th example: {train_data[i][0]} \")\n",
    "        print(f\"list of textual tokens for the *i*th example: {train_data[i][1]} \")\n",
    "\n",
    "\n",
    "    # *   To access the list of textual tokens for the *i*th example, use `train_data[i][1]`\n",
    "    # *   To access the label for the *i*th example, use `train_data[i][0]`\n",
    "\n",
    "\n",
    "    print(\"\\nSAMPLE DATA:\")\n",
    "    for x in random.sample(train_data, 5):\n",
    "        print('Sample text:', x[1])\n",
    "        print('Sample label:', x[0], '\\n')"
   ]
  },
  {
   "cell_type": "markdown",
   "metadata": {
    "id": "_kfg8RcyskyU"
   },
   "source": [
    "# Step 2: Create Dataloader [20 points]\n",
    "\n",
    "\n"
   ]
  },
  {
   "cell_type": "markdown",
   "source": [
    "## <font color='red'>TODO:</font> Define the Dataset Class [20 Points]\n",
    "\n",
    "In the following cell, we will define the <b>dataset</b> class. The dataset contains the tokenized data for your model. You need to implement the following functions: \n",
    "\n",
    "*   <b>` build_dictionary(self)`:</b>  <b>[10 points]</b> Creates the dictionaries `idx2word` and `word2idx`. You will represent each word in the dataset with a unique index, and keep track of this in these dictionaries. Use the hyperparameter `threshold` to control which words appear in the dictionary: a training word’s frequency should be `>= threshold` to be included in the dictionary.\n",
    "\n",
    "* <b>`convert_text(self)`:</b> Converts each review in the dataset to a list of indices, given by your `word2idx` dictionary. You should store this in the `textual_ids` variable, and the function does not return anything. If a word is not present in the  `word2idx` dictionary, you should use the `<UNK>` token for that word. Be sure to append the `<END>` token to the end of each review.\n",
    "\n",
    "*   <b>` get_text(self, idx) `:</b> Return the review at `idx` in the dataset as an array of indices corresponding to the words in the review. If the length of the review is less than `max_len`, you should pad the review with the `<PAD>` character up to the length of `max_len`. If the length is greater than `max_len`, then it should only return the first `max_len` words. The return type should be `torch.LongTensor`.\n",
    "\n",
    "*   <b>`get_label(self, idx) `</b>: Return the value `1` if the label for `idx` in the dataset is `positive`, and should return `0` if it is `negative`. The return type should be `torch.LongTensor`.\n",
    "\n",
    "*  <b> ` __len__(self) `:</b> Return the total number of reviews in the dataset as an `int`.\n",
    "\n",
    "*   <b>` __getitem__(self, idx)`:</b> <b>[10 points]</b> Return the (padded) text, and the label. The return type for both these items should be `torch.LongTensor`. You should use the ` get_label(self, idx) ` and ` get_text(self, idx) ` functions here.\n",
    "\n",
    "\n",
    "<b>Note:</b> You should convert all words to lower case in your functions.\n",
    "\n",
    "<font color='green'><b>Hint:</b> Make sure that you use instance variables such as `self.threshold` throughout your code, rather than the global variable `THRESHOLD` (defined later on). The variable `THRESHOLD` will not be known to the autograder, and the use of it within the class will cause an autograder error.</font>"
   ],
   "metadata": {
    "collapsed": false
   }
  },
  {
   "cell_type": "code",
   "execution_count": 4,
   "metadata": {
    "id": "1irMn3LX2YDB"
   },
   "outputs": [],
   "source": [
    "PAD = '<PAD>'\n",
    "END = '<END>'\n",
    "UNK = '<UNK>'\n",
    "\n",
    "from torch.utils import data\n",
    "from collections import defaultdict\n",
    "\n",
    "class TextDataset(data.Dataset):\n",
    "    def __init__(self, examples, split, threshold, max_len, idx2word=None, word2idx=None):\n",
    "        ### DO NOT EDIT ###\n",
    "        \n",
    "        self.examples = examples\n",
    "        assert split in {'train', 'val', 'test'}\n",
    "        self.split = split\n",
    "        self.threshold = threshold\n",
    "        self.max_len = max_len\n",
    "\n",
    "        #custom\n",
    "        self.map_token_to_unigram_frequency = {}\n",
    "\n",
    "        # Dictionaries\n",
    "        self.idx2word = idx2word\n",
    "        self.word2idx = word2idx\n",
    "        if split == 'train':\n",
    "            self.build_dictionary()\n",
    "        self.vocab_size = len(self.word2idx)\n",
    "        \n",
    "        # Convert text to indices\n",
    "        self.textual_ids = []\n",
    "        self.convert_text()\n",
    "\n",
    "    \n",
    "    def build_dictionary(self): \n",
    "        '''\n",
    "        Build the dictionaries idx2word and word2idx. This is only called when split='train', as these\n",
    "        dictionaries are passed in to the __init__(...) function otherwise. Be sure to use self.threshold\n",
    "        to control which words are assigned indices in the dictionaries.\n",
    "        Returns nothing.\n",
    "        '''\n",
    "        assert self.split == 'train'\n",
    "        \n",
    "        # Don't change this\n",
    "        self.idx2word = {0:PAD, 1:END, 2: UNK}\n",
    "        self.word2idx = {PAD:0, END:1, UNK: 2}\n",
    "\n",
    "        ##### TODO #####\n",
    "        # Count the frequencies of all words in the training data (self.examples)\n",
    "        # Assign idx (starting from 3) to all words having word_freq >= self.threshold\n",
    "        # Make sure you call word.lower() on each word to convert it to lowercase\n",
    "        # print(\" BUILDING DICT\")\n",
    "        # print(f\"training dataset is: {self.examples[0]}\")\n",
    "\n",
    "        # ('pos', ['Your', 'life', 'is', 'good', 'when', 'you', 'have', 'money', ',', 'success', 'and', 'health'])\n",
    "\n",
    "        for data in self.examples:           #iterate through preprocessed sentences\n",
    "            # print(f\"data: {data}\")\n",
    "            testset_label, preprocessed_sentence = data[0], data[1]\n",
    "            # print(f\"testset_label: {testset_label}, preprocessed_sentence:{preprocessed_sentence}\")\n",
    "            for token in preprocessed_sentence:             #iterate through each token\n",
    "                # print(f\"lowercase token is: {token}\")\n",
    "                token = token.lower()\n",
    "\n",
    "                if token not in self.map_token_to_unigram_frequency.keys():\n",
    "                    self.map_token_to_unigram_frequency[token] = 0          # add token as key if not present as a key in map_token_to_unigram_frequency\n",
    "                self.map_token_to_unigram_frequency[token] += 1             # increment the frequency of unigram\n",
    "\n",
    "\n",
    "        # print(f\"self.map_token_to_unigram_frequency: {self.map_token_to_unigram_frequency}\")\n",
    "        index = 3\n",
    "        for token, freq in self.map_token_to_unigram_frequency.items():\n",
    "            if freq >= self.threshold:\n",
    "                self.idx2word[index] = token\n",
    "                self.word2idx[token] = index\n",
    "                index += 1\n",
    "        #\n",
    "        # print(f\"self.idx2word: {self.idx2word}\")\n",
    "        # print(f\"self.word2idx: {self.word2idx}\")\n",
    "\n",
    "        pass\n",
    "    \n",
    "    def convert_text(self):\n",
    "        '''\n",
    "        Convert each review in the dataset (self.examples) to a list of indices, given by self.word2idx.\n",
    "        Store this in self.textual_ids; returns nothing.\n",
    "        '''\n",
    "\n",
    "        ##### TODO #####\n",
    "        # Remember to replace a word with the <UNK> token if it does not exist in the word2idx dictionary.\n",
    "        # Remember to append the <END> token to the end of each review.\n",
    "        for data in self.examples:           #iterate through preprocessed sentences\n",
    "            # print(f\"data: {data}\")\n",
    "            testset_label, preprocessed_sentence = data[0], data[1]\n",
    "            converted_preprocessed_sentence = []\n",
    "            # print(f\"testset_label: {testset_label}, preprocessed_sentence:{preprocessed_sentence}\")\n",
    "            for token_index in range(len(preprocessed_sentence)):             #iterate through each token\n",
    "                token = preprocessed_sentence[token_index]\n",
    "                # print(f\"IN CONVERT TEXT: token: {token}\")\n",
    "                token = token.lower()\n",
    "                # print(f\"lowercase token is: {token}\")\n",
    "                if token not in self.word2idx.keys():\n",
    "                    # preprocessed_sentence[token_index] = self.word2idx[UNK]\n",
    "                    converted_preprocessed_sentence.append(self.word2idx[UNK])\n",
    "                if token in self.word2idx.keys():\n",
    "                    # preprocessed_sentence[token_index] = self.word2idx[token]\n",
    "                    converted_preprocessed_sentence.append(self.word2idx[token])\n",
    "\n",
    "            converted_preprocessed_sentence.append(self.word2idx[END])\n",
    "\n",
    "            # print(f\"testset_label: {testset_label}, converted preprocessed_sentence:{converted_preprocessed_sentence}\")\n",
    "            self.textual_ids.append([testset_label,converted_preprocessed_sentence])\n",
    "            # print(f\"self.textual_ids is: {self.textual_ids}\")\n",
    "\n",
    "        pass\n",
    "\n",
    "    def get_text(self, idx):\n",
    "        '''\n",
    "        Return the review at idx as a long tensor (torch.LongTensor) of integers corresponding to the words in the review.\n",
    "        You may need to pad as necessary (see above).\n",
    "\n",
    "        <b>` get_text(self, idx) `:</b> Return the review at `idx` in the dataset as an array of indices corresponding to the words in the review. If the length of the review is less than `max_len`, you should pad the review with the `<PAD>` character up to the length of `max_len`. If the length is greater than `max_len`, then it should only return the first `max_len` words. The return type should be `torch.LongTensor`.\n",
    "        '''\n",
    "\n",
    "        ##### TODO #####\n",
    "        review = self.examples[idx]\n",
    "        indice_review = self.textual_ids[idx][1]\n",
    "        # print(f\"indice review is: {indice_review}\")\n",
    "\n",
    "        if len(indice_review) >= self.max_len:\n",
    "            indice_review_long_tensor = torch.Tensor(indice_review[0:self.max_len])\n",
    "        elif len(indice_review) < self.max_len:\n",
    "            padding = [self.word2idx[PAD]] * (self.max_len - len(indice_review))\n",
    "            padded_version = indice_review + padding\n",
    "            # print(f\"padding list is: {padding} and padded version: {padded_version}\")\n",
    "            indice_review_long_tensor = torch.LongTensor(padded_version)\n",
    "            # indice_review_long_tensor = torch.Tensor(padded_version)\n",
    "\n",
    "\n",
    "        # print('Content of indice_review_long_tensor:', indice_review_long_tensor)\n",
    "        # print('Shape of indice_review_long_tensor:', indice_review_long_tensor.shape, '\\n')\n",
    "        # print('Type of indice_review_long_tensor:', indice_review_long_tensor.dtype, '\\n')\n",
    "\n",
    "\n",
    "\n",
    "        return (indice_review_long_tensor)\n",
    "    \n",
    "    def get_label(self, idx):\n",
    "        '''\n",
    "        This function should return the value 1 if the label for idx in the dataset is 'positive', \n",
    "        and 0 if it is 'negative'. The return type should be torch.LongTensor.\n",
    "        '''\n",
    "        ##### TODO #####\n",
    "        review_label = self.examples[idx][0]\n",
    "        # print(f\"review label: {review_label}\")\n",
    "\n",
    "        if review_label == 'pos':\n",
    "            return torch.squeeze(torch.LongTensor([1]))\n",
    "            # print('Shape of torch.squeeze(torch.Tensor(1)):', torch.squeeze(torch.Tensor(1)).shape, '\\n')\n",
    "            # return torch.squeeze(torch.Tensor([1]))\n",
    "\n",
    "        elif review_label == 'neg':\n",
    "            return torch.squeeze(torch.LongTensor([0]))\n",
    "            # print('Shape of torch.squeeze(torch.Tensor(0)):', torch.squeeze(torch.Tensor(0)).shape, '\\n')\n",
    "            # return torch.squeeze(torch.Tensor([0]))\n",
    "\n",
    "\n",
    "\n",
    "    def __len__(self):\n",
    "        '''\n",
    "        Return the number of reviews (int value) in the dataset\n",
    "        '''\n",
    "        ##### TODO #####\n",
    "        return int(len(self.examples))\n",
    "    \n",
    "    def __getitem__(self, idx):\n",
    "        '''\n",
    "        Return the review, and label of the review specified by idx.\n",
    "\n",
    "        *   <b>` __getitem__(self, idx)`:</b> <b>[10 points]</b> Return the (padded) text, and the label. The return type for both these items should be `torch.LongTensor`. You should use the ` get_label(self, idx) ` and ` get_text(self, idx) ` functions here.\n",
    "        '''\n",
    "        ##### TODO #####\n",
    "        # return self.examples[idx][1], self.examples[idx][0]\n",
    "        return self.get_text(idx), self.get_label(idx)"
   ]
  },
  {
   "cell_type": "markdown",
   "metadata": {
    "id": "HxVxiGGbFJAj"
   },
   "source": [
    "##Sanity Check: Dataset Class\n",
    "\n",
    "The code below runs a sanity check for your `Dataset` class. The tests are similar to the hidden ones in Gradescope. However, note that passing the sanity check does <b>not</b> guarantee that you will pass the autograder; it is intended to help you debug."
   ]
  },
  {
   "cell_type": "code",
   "execution_count": 5,
   "metadata": {
    "id": "bvHIZt8Z-RzK"
   },
   "outputs": [
    {
     "name": "stdout",
     "output_type": "stream",
     "text": [
      "Sample dataset:\n",
      "('pos', ['Your', 'life', 'is', 'good', 'when', 'you', 'have', 'money', ',', 'success', 'and', 'health'])\n",
      "('neg', ['Life', 'is', 'bad', 'when', 'you', 'got', 'not', 'a', 'lot'])\n",
      "\n",
      "--- TEST: idx2word and word2idx dictionaries ---\n",
      "\tthreshold: 1 \tmax_len: 3 \tPASSED \t\n",
      "\tthreshold: 2 \tmax_len: 3 \tPASSED \t\n",
      "\tthreshold: 3 \tmax_len: 3 \tPASSED \t\n",
      "\n",
      "--- TEST: len(dataset) ---\n",
      "\tPASSED\n",
      "\n",
      "--- TEST: __getitem__(self, idx) ---\n",
      "\tthreshold: 1 \tmax_len: 3 \tidx: 0 \tPASSED \t\n",
      "\tthreshold: 1 \tmax_len: 3 \tidx: 1 \tPASSED \t\n",
      "\tthreshold: 1 \tmax_len: 8 \tidx: 0 \tPASSED \t\n",
      "\tthreshold: 1 \tmax_len: 8 \tidx: 1 \tPASSED \t\n",
      "\tthreshold: 1 \tmax_len: 15 \tidx: 0 \tPASSED \t\n",
      "\tthreshold: 1 \tmax_len: 15 \tidx: 1 \tPASSED \t\n",
      "\tthreshold: 2 \tmax_len: 3 \tidx: 0 \tPASSED \t\n",
      "\tthreshold: 2 \tmax_len: 3 \tidx: 1 \tPASSED \t\n",
      "\tthreshold: 2 \tmax_len: 8 \tidx: 0 \tPASSED \t\n",
      "\tthreshold: 2 \tmax_len: 8 \tidx: 1 \tPASSED \t\n",
      "\tthreshold: 2 \tmax_len: 15 \tidx: 0 \tPASSED \t\n",
      "\tthreshold: 2 \tmax_len: 15 \tidx: 1 \tPASSED \t\n",
      "\tthreshold: 3 \tmax_len: 3 \tidx: 0 \tPASSED \t\n",
      "\tthreshold: 3 \tmax_len: 3 \tidx: 1 \tPASSED \t\n",
      "\tthreshold: 3 \tmax_len: 8 \tidx: 0 \tPASSED \t\n",
      "\tthreshold: 3 \tmax_len: 8 \tidx: 1 \tPASSED \t\n",
      "\tthreshold: 3 \tmax_len: 15 \tidx: 0 \tPASSED \t\n",
      "\tthreshold: 3 \tmax_len: 15 \tidx: 1 \tPASSED \t\n"
     ]
    }
   ],
   "source": [
    "### DO NOT EDIT ###\n",
    "\n",
    "def sanityCheckDataSet():\n",
    "    #\tRead in the sample corpus\n",
    "    reviews = [('pos', 'Your life is good when you have money, success and health'),\n",
    "               ('neg', 'Life is bad when you got not a lot')]\n",
    "    data = [(x[0], preprocess(x[1])) for x in reviews]\n",
    "    print(\"Sample dataset:\")\n",
    "    for x in data: print(x)\n",
    "\n",
    "    thresholds = [1,2,3]\n",
    "    print('\\n--- TEST: idx2word and word2idx dictionaries ---') # max_len does not matter for this test\n",
    "    correct = [[',', '<END>', '<PAD>', '<UNK>', 'a', 'and', 'bad', 'good', 'got', 'have', 'health', 'is', 'life', 'lot', 'money', 'not', 'success', 'when', 'you', 'your'], ['<END>', '<PAD>', '<UNK>', 'is', 'life', 'when', 'you'], ['<END>', '<PAD>', '<UNK>']]\n",
    "    for i in range(len(thresholds)):\n",
    "        dataset = TextDataset(data, 'train', threshold=thresholds[i], max_len=3)\n",
    "\n",
    "        has_passed, message = True, ''\n",
    "        if has_passed and (dataset.vocab_size != len(dataset.word2idx) or dataset.vocab_size != len(dataset.idx2word)):\n",
    "            has_passed, message = False, 'dataset.vocab_size (' + str(dataset.vocab_size) + ') must be the same length as dataset.word2idx (' + str(len(dataset.word2idx)) + ') and dataset.idx2word ('+str(len(dataset.idx2word)) +').'\n",
    "        if has_passed and (dataset.vocab_size != len(correct[i])):\n",
    "            has_passed, message = False, 'Your vocab size is incorrect. Expected: ' + str(len(correct[i])) + '\\tGot: ' + str(dataset.vocab_size)\n",
    "        if has_passed and sorted(list(dataset.idx2word.keys())) != list(range(0, dataset.vocab_size)):\n",
    "            has_passed, message = False, 'dataset.idx2word must have keys ranging from 0 to dataset.vocab_size-1. Keys in your dataset.idx2word: ' + str(sorted(list(dataset.idx2word.keys())))\n",
    "        if has_passed and sorted(list(dataset.word2idx.keys())) != correct[i]:\n",
    "            has_passed, message = False, 'Your dataset.word2idx has incorrect keys. Expected: ' + str(correct[i]) + '\\tGot: ' + str(sorted(list(dataset.word2idx.keys())))\n",
    "        if has_passed: # Check that word2idx and idx2word are consistent\n",
    "            widx = sorted(list(dataset.word2idx.items())) \n",
    "            idxw = sorted(list([(v,k) for k,v in dataset.idx2word.items()]))\n",
    "            if not (len(widx) == len(idxw) and all([widx[q] == idxw[q] for q in range(len(widx))])):\n",
    "                has_passed, message = False, 'Your dataset.word2idx and dataset.idx2word are not consistent. dataset.idx2word: ' + str(dataset.idx2word) + '\\tdataset.word2idx: ' + str(dataset.word2idx)\n",
    "\n",
    "        status = 'PASSED' if has_passed else 'FAILED'\n",
    "        print('\\tthreshold:', thresholds[i], '\\tmax_len:', 3, '\\t'+status, '\\t'+message)\n",
    "    \n",
    "    print('\\n--- TEST: len(dataset) ---')\n",
    "    has_passed = len(dataset) == 2\n",
    "    if has_passed: print('\\tPASSED')\n",
    "    else: print('\\tlen(dataset) is incorrect. Expected: 2\\tGot: ' + str(len(dataset)))\n",
    "\n",
    "    print('\\n--- TEST: __getitem__(self, idx) ---')\n",
    "    max_lens = [3,8,15]\n",
    "    idxes = [0,1]\n",
    "    combos = [{'threshold': t, 'max_len': m, 'idx': idx} for t in thresholds for m in max_lens for idx in idxes]\n",
    "    correct = [(torch.tensor([3, 4, 5]), torch.tensor(1)), (torch.tensor([ 4,  5, 15]), torch.tensor(0)), (torch.tensor([ 3,  4,  5,  6,  7,  8,  9, 10]), torch.tensor(1)), (torch.tensor([ 4,  5, 15,  7,  8, 16, 17, 18]), torch.tensor(0)), (torch.tensor([ 3,  4,  5,  6,  7,  8,  9, 10, 11, 12, 13, 14,  1,  0,  0]), torch.tensor(1)), (torch.tensor([ 4,  5, 15,  7,  8, 16, 17, 18, 19,  1,  0,  0,  0,  0,  0]), torch.tensor(0)), (torch.tensor([2, 3, 4]), torch.tensor(1)), (torch.tensor([3, 4, 2]), torch.tensor(0)), (torch.tensor([2, 3, 4, 2, 5, 6, 2, 2]), torch.tensor(1)), (torch.tensor([3, 4, 2, 5, 6, 2, 2, 2]), torch.tensor(0)), (torch.tensor([2, 3, 4, 2, 5, 6, 2, 2, 2, 2, 2, 2, 1, 0, 0]), torch.tensor(1)), (torch.tensor([3, 4, 2, 5, 6, 2, 2, 2, 2, 1, 0, 0, 0, 0, 0]), torch.tensor(0)), (torch.tensor([2, 2, 2]), torch.tensor(1)), (torch.tensor([2, 2, 2]), torch.tensor(0)), (torch.tensor([2, 2, 2, 2, 2, 2, 2, 2]), torch.tensor(1)), (torch.tensor([2, 2, 2, 2, 2, 2, 2, 2]), torch.tensor(0)), (torch.tensor([2, 2, 2, 2, 2, 2, 2, 2, 2, 2, 2, 2, 1, 0, 0]), torch.tensor(1)), (torch.tensor([2, 2, 2, 2, 2, 2, 2, 2, 2, 1, 0, 0, 0, 0, 0]), torch.tensor(0))]\n",
    "    for i in range(len(combos)):\n",
    "        combo = combos[i]\n",
    "        dataset = TextDataset(data, 'train', threshold=combo['threshold'], max_len=combo['max_len'])\n",
    "        returned = dataset.__getitem__(combo['idx'])\n",
    "\n",
    "        has_passed, message = True, ''\n",
    "        if has_passed and len(returned) != 2:\n",
    "            has_passed, message = False, 'dataset.__getitem__(idx) must return 2 things. Got ' + str(len(returned)) +' things instead.'\n",
    "        if has_passed and (type(returned[0]) != torch.Tensor or type(returned[1]) != torch.Tensor):\n",
    "            has_passed, message = False, 'Both returns must be of type torch.Tensor. Got: (' + str(type(returned[0])) + ', ' + str(type(returned[1])) + ')'\n",
    "        if has_passed and (returned[0].shape != correct[i][0].shape):\n",
    "            has_passed, message = False, 'Shape of first return is incorrect. Expected: ' + str(correct[i][0].shape) + '.\\tGot: ' + str(returned[0].shape)\n",
    "        if has_passed and (returned[1].shape != correct[i][1].shape):\n",
    "            has_passed, message = False, 'Shape of second return is incorrect. Expected: ' + str(correct[i][1].shape) + '.\\tGot: ' + str(returned[1].shape) + '\\n\\t\\tHint: torch.Size([]) means that the tensor should be dimensionless (just a number). Try squeezing your result.'\n",
    "        if has_passed and (returned[1] != correct[i][1]):\n",
    "            has_passed, message = False, 'Label (second return) is incorrect. Expected: ' + str(correct[i][1]) + '.\\tGot: ' + str(returned[1])\n",
    "        if has_passed:\n",
    "            correct_padding_idxes, your_padding_idxes = torch.where(correct[i][0] == 0)[0], torch.where(returned[0] == dataset.word2idx[PAD])[0]\n",
    "            if not (correct_padding_idxes.shape == your_padding_idxes.shape and torch.all(correct_padding_idxes == your_padding_idxes)):\n",
    "                has_passed, message = False, 'Padding is not correct. Expected padding indxes: ' + str(correct_padding_idxes) + '.\\tYour padding indexes: ' + str(your_padding_idxes)\n",
    "\n",
    "        status = 'PASSED' if has_passed else 'FAILED'\n",
    "        print('\\tthreshold:', combo['threshold'], '\\tmax_len:', combo['max_len'] , '\\tidx:', combo['idx'], '\\t'+status, '\\t'+message)\n",
    "\n",
    "if __name__ == '__main__':\n",
    "    sanityCheckDataSet()"
   ]
  },
  {
   "cell_type": "markdown",
   "metadata": {
    "id": "CR4VQbQCNZH6"
   },
   "source": [
    "The following cell builds the dataset on the IMDb movie reviews and prints an example:"
   ]
  },
  {
   "cell_type": "code",
   "execution_count": 6,
   "metadata": {
    "id": "HSxpGXj6ml9N"
   },
   "outputs": [
    {
     "name": "stdout",
     "output_type": "stream",
     "text": [
      "Vocab size: 19002 \n",
      "\n",
      "Example text:\n",
      "['Who', \"doesn't\", 'have', 'unresolved', 'issues', 'with', 'parents', '?', 'And', 'which', 'parents', \"don't\", 'have', 'unresolved', 'issues', 'with', 'each', 'other?<br', '/><br', '/>I', 'know', ',', 'that', 'sounds', 'heavy', '.', 'But', 'this', 'is', 'played', 'for', 'laughs', 'in', 'the', 'movie', ',', 'making', 'both', 'the', 'comedy', 'better', 'and', 'the', 'drama', 'better', '.', \"I've\", 'always', 'like', 'Paul', 'Reiser', 'and', 'Peter', 'Falk', ',', 'and', 'although', 'I', 'was', 'a', 'bit', 'concerned', 'that', 'their', 'star', 'qualities', 'might', 'be', 'too', 'big', 'for', 'a', 'small', 'movie', ',', 'I', 'was', 'enchanted', 'from', 'the', 'very', 'first', 'scene.<br', '/><br', '/>Especially', 'entertaining', 'were', 'the', 'discoveries', 'that', 'the', 'son', 'makes', 'about', 'his', 'father', 'as', 'a', 'person', '.', 'And', 'Peter', \"Falk's\", 'monologue', 'about', 'being', 'a', 'hard-working', ',', 'sacrificing', 'father', 'and', 'husband', 'was', 'the', 'perfect', 'balancing', 'point', '.', 'Without', 'that', 'scene', 'being', 'acted', 'so', 'well', ',', 'the', 'movie', 'would', 'have', 'seemed', 'far', 'less', 'nuanced', ',', 'and', 'the', 'character', 'far', 'less', 'interesting.<br', '/><br', '/>Nicely', 'done', ',', 'Paul', 'and', 'Peter', '!']\n",
      "tensor([6.4000e+01, 1.8100e+02, 1.8200e+02, 1.2914e+04, 8.6000e+01, 1.0500e+02,\n",
      "        3.9900e+02, 2.1500e+02, 9.1000e+01, 2.3200e+02, 3.9900e+02, 2.1700e+02,\n",
      "        1.8200e+02, 1.2914e+04, 8.6000e+01, 1.0500e+02, 8.8600e+02, 2.0000e+00,\n",
      "        5.2000e+01, 1.5000e+02, 7.9900e+02, 3.8000e+01, 1.5000e+01, 7.9100e+02,\n",
      "        2.2020e+03, 2.4000e+01, 1.8000e+02, 3.6000e+01, 5.5000e+01, 1.1630e+03,\n",
      "        5.0000e+01, 9.3200e+02, 2.2000e+01, 1.3000e+01, 3.6900e+02, 3.8000e+01,\n",
      "        7.6000e+01, 1.8340e+03, 1.3000e+01, 1.1330e+03, 3.2100e+02, 9.1000e+01,\n",
      "        1.3000e+01, 6.0000e+01, 3.2100e+02, 2.4000e+01, 2.0500e+02, 6.3200e+02,\n",
      "        1.2700e+02, 5.4070e+03, 1.2951e+04, 9.1000e+01, 7.2400e+02, 4.6050e+03,\n",
      "        3.8000e+01, 9.1000e+01, 3.8600e+02, 3.0000e+00, 1.9000e+01, 4.1000e+01,\n",
      "        5.6500e+02, 2.8410e+03, 1.5000e+01, 1.0000e+02, 8.6300e+02, 4.1320e+03,\n",
      "        2.9600e+02, 1.6700e+02, 3.6000e+02, 8.7100e+02, 5.0000e+01, 4.1000e+01,\n",
      "        5.8300e+02, 3.6900e+02, 3.8000e+01, 3.0000e+00, 1.9000e+01, 1.0578e+04,\n",
      "        6.0000e+00, 1.3000e+01, 8.2500e+02, 2.0000e+01, 3.3850e+03, 5.2000e+01,\n",
      "        2.0000e+00, 2.2500e+03, 4.0000e+02, 1.3000e+01, 1.8516e+04, 1.5000e+01,\n",
      "        1.3000e+01, 4.0220e+03, 6.3300e+02, 7.0000e+01, 1.4800e+02, 1.9720e+03,\n",
      "        8.8000e+01, 4.1000e+01, 1.1670e+03, 2.4000e+01, 9.1000e+01, 7.2400e+02,\n",
      "        1.0096e+04, 1.0193e+04, 7.0000e+01, 4.0000e+01, 4.1000e+01, 1.2574e+04,\n",
      "        3.8000e+01, 7.0600e+03, 1.9720e+03, 9.1000e+01, 9.4700e+02, 1.9000e+01,\n",
      "        1.3000e+01, 1.1900e+03, 1.0730e+04, 1.9700e+03, 2.4000e+01, 3.0600e+02,\n",
      "        1.5000e+01, 1.4690e+03, 4.0000e+01, 2.7460e+03, 3.0200e+02, 1.1520e+03,\n",
      "        3.8000e+01, 1.3000e+01, 3.6900e+02, 3.6200e+02, 1.8200e+02, 8.1800e+02,\n",
      "        1.2100e+02, 2.7800e+02, 1.2712e+04, 3.8000e+01, 9.1000e+01, 1.3000e+01,\n",
      "        8.2300e+02, 1.2100e+02, 2.7800e+02, 5.1010e+03, 5.2000e+01, 2.0000e+00,\n",
      "        6.3000e+02, 3.8000e+01, 5.4070e+03, 9.1000e+01, 7.2400e+02, 4.7200e+02])\n",
      "\n",
      "Example label:\n",
      "pos\n",
      "tensor(1)\n"
     ]
    }
   ],
   "source": [
    "### DO NOT EDIT ###\n",
    "\n",
    "if __name__=='__main__':\n",
    "    train_dataset = TextDataset(train_data, 'train', threshold=10, max_len=150)\n",
    "    print('Vocab size:', train_dataset.vocab_size, '\\n')\n",
    "\n",
    "    randidx = random.randint(0, len(train_dataset)-1)\n",
    "    text, label = train_dataset[randidx]\n",
    "    print('Example text:')\n",
    "    print(train_data[randidx][1])\n",
    "    print(text)\n",
    "    print('\\nExample label:')\n",
    "    print(train_data[randidx][0])\n",
    "    print(label)"
   ]
  },
  {
   "cell_type": "markdown",
   "metadata": {
    "id": "e_4FFhulaAod"
   },
   "source": [
    "# Step 3: Train a Convolutional Neural Network (CNN) [40 points]"
   ]
  },
  {
   "cell_type": "markdown",
   "metadata": {
    "id": "VcSKydlClwOC"
   },
   "source": [
    "## <font color='red'>TODO:</font> Define the CNN Model [20 points]\n",
    "Here you will define your convolutional neural network for text classification. We provide you with the CNN class, you need to fill in parts of the `__init__(...)` and `forward(...)` functions. Each of these functions is worth 10 points.\n",
    "\n",
    "We have provided you with instructions and hints in the comments. In particular, pay attention to the desired shapes; you may find it helpful to print the shape of the tensors as you code. It may also help to keep PyTorch documentation open for the modules & functions you are using, since they describe input and output dimensions."
   ]
  },
  {
   "cell_type": "code",
   "execution_count": 7,
   "metadata": {
    "id": "0ztuy2hUaAof"
   },
   "outputs": [],
   "source": [
    "import torch\n",
    "import torch.nn as nn\n",
    "import torch.nn.functional as F\n",
    "\n",
    "class CNN(nn.Module):\n",
    "    def __init__(self, vocab_size, embed_size, out_channels, filter_heights, stride, dropout, num_classes, pad_idx):\n",
    "        super(CNN, self).__init__()\n",
    "        \n",
    "        ##### TODO #####\n",
    "        # Create an embedding layer (https://pytorch.org/docs/stable/generated/torch.nn.Embedding.html)\n",
    "        #   to represent the words in your vocabulary. Make sure to use vocab_size, embed_size, and pad_idx here.\n",
    "        print(f\" vocab size is: {vocab_size}, embed size is: {embed_size}, filter heights: {filter_heights}\")\n",
    "        # number of embeddings = vocab size??\n",
    "        # embedding size = embed size? = max len??\n",
    "        self.embedding = nn.Embedding(vocab_size, embed_size, padding_idx=pad_idx, max_norm=True)\n",
    "\n",
    "\n",
    "\n",
    "        # Define multiple Convolution layers (nn.Conv2d) with filter (kernel) size [filter_height, embed_size] based on your \n",
    "        #   different filter_heights.\n",
    "        # Input channels will be 1 and output channels will be out_channels (these many different filters will be trained\n",
    "        #   for each convolution layer)\n",
    "\n",
    "        #filter height is a list?? [5 , 10] variable list??\n",
    "        #  #TODO: how do we use stride??\n",
    "        # for i in range(1, len(filter_heights)+1):\n",
    "        #\n",
    "        #     name_conv = 'conv' + str(i)\n",
    "        #     # print(i, name_conv)\n",
    "        #     if i == 1:\n",
    "        #         self.name_conv = nn.Conv2d(in_channels=1, out_channels=32, kernel_size=(filter_heights[i-1], embed_size), stride=stride)\n",
    "        #\n",
    "        #     if i != 1:\n",
    "        #         self.name_conv = nn.Conv2d(in_channels=1, out_channels=32, kernel_size=(filter_heights[i-1], embed_size), stride=stride)\n",
    "\n",
    "\n",
    "\n",
    "\n",
    "        # self.conv1 = nn.Conv2d(in_channels=1, out_channels=16, kernel_size=(filter_heights[0], embed_size), stride=stride)\n",
    "        #\n",
    "        # if filter_heights\n",
    "        # self.conv2 = nn.Conv2d(in_channels=16, out_channels=out_channels, kernel_size=(filter_heights[1], embed_size), stride=stride)\n",
    "\n",
    "\n",
    "\n",
    "        # If you want, you can store a list of modules inside nn.ModuleList.\n",
    "        self.conv_module_list = nn.ModuleList([nn.Conv2d(in_channels=1, out_channels=32, kernel_size=(filter_heights[i-1], embed_size), stride=stride) for i in range(1, len(filter_heights)+1)])\n",
    "        print(f\"conv module list is: {self.conv_module_list}\")\n",
    "\n",
    "\n",
    "        # conv module list is: ModuleList(\n",
    "        #                                   (0): Conv2d(1, 32, kernel_size=(3, 32), stride=(1, 1))\n",
    "        #                                   (1): Conv2d(1, 32, kernel_size=(4, 32), stride=(1, 1))\n",
    "        #                                   (2): Conv2d(1, 32, kernel_size=(5, 32), stride=(1, 1))\n",
    "        #                                 )\n",
    "\n",
    "\n",
    "\n",
    "        # Note: even though your conv layers are nn.Conv2d, we are doing a 1d convolution since we are only moving the filter \n",
    "        #   in one direction\n",
    "\n",
    "        # Create a dropout layer (nn.Dropout) using dropout\n",
    "        self.dropout_layer = nn.Dropout(dropout)\n",
    "\n",
    "        # Define a linear layer (nn.Linear) that consists of num_classes units\n",
    "        #   and takes as input the $concatenated output$ for all cnn layers (out_channels * num_of_cnn_layers units) ???\n",
    "\n",
    "        self.d1 = nn.Linear(out_channels * len(filter_heights), num_classes)\n",
    "        # another dense layer\n",
    "        # self.d2 = nn.Linear(128, 10)\n",
    "\n",
    "\n",
    "    def forward(self, texts):\n",
    "        \"\"\"\n",
    "        texts: LongTensor [batch_size, max_len]\n",
    "        \n",
    "        Returns output: Tensor [batch_size, num_classes]\n",
    "        \"\"\"\n",
    "        ##### TODO #####\n",
    "\n",
    "        # Pass texts through your embedding layer to convert from word ids to word embeddings\n",
    "        #   Resulting: shape: [batch_size, max_len, embed_size]\n",
    "        embedding = self.embedding(vocab_size=texts[0], embed_size=texts[1] )\n",
    "\n",
    "        print('Content of embedding:', embedding)\n",
    "        print('Shape of embedding:', embedding.shape, '\\n')\n",
    "        print('Type of embedding:', embedding.dtype, '\\n')\n",
    "\n",
    "        # Input to conv should have 1 channel. Take a look at torch's unsqueeze() function\n",
    "        #   Resulting shape: [batch_size, 1, MAX_LEN, embed_size]\n",
    "        # for i in range(1, len(filter_heights)+1):\n",
    "        #\n",
    "        #     name_conv = 'conv' + str(i)\n",
    "        #     print(i, name_conv)\n",
    "\n",
    "        # how will we know how many filter are there?\n",
    "\n",
    "        y = torch.unsqueeze(embedding, 1)\n",
    "\n",
    "\n",
    "        \n",
    "        # Pass these texts to each of your conv layers and compute their output as follows:\n",
    "        #   Your cnn output will have shape [batch_size, out_channels, *, 1] where * depends on filter_height and stride\n",
    "        #   Convert to shape [batch_size, out_channels, *] (see torch's squeeze() function)\n",
    "        #   Apply non-linearity on it (F.relu() is a commonly used\n",
    "        #   one. Feel free to try others)\n",
    "\n",
    "        c1 = self.conv1(y)\n",
    "        c1_squeezed = torch.squeeze(c1, dim=3)\n",
    "        c1_squeezed = F.relu(c1_squeezed) #??? #TODO: apply non linearity here??\n",
    "\n",
    "\n",
    "        c2 = self.conv2(y)\n",
    "        c2_squeezed = torch.squeeze(c2, dim=3)\n",
    "        c2_squeezed = F.relu(c2_squeezed)\n",
    "\n",
    "        c3 = self.conv3(y)\n",
    "        # c3 = F.relu(c3)\n",
    "        c3_squeezed = torch.squeeze(c3, dim=3)\n",
    "        c3_squeezed = F.relu(c3_squeezed)\n",
    "\n",
    "\n",
    "\n",
    "        print('Content of c3:', c3_squeezed)\n",
    "        print('Shape of c3:', c3_squeezed.shape, '\\n')\n",
    "        print('Type of c3:', c3_squeezed.dtype, '\\n')\n",
    "\n",
    "\n",
    "\n",
    "\n",
    "        #   Take the max value across last dimension to have shape [batch_size, out_channels] ??? #TODO: how and why?\n",
    "        #  Concatenate (torch.cat) outputs from all your cnns [batch_size, (out_channels*num_of_cnn_layers)]\n",
    "        #\n",
    "\n",
    "\n",
    "        concatenated = torch.cat([c1_squeezed, c2_squeezed, c3_squeezed])\n",
    "\n",
    "        # Let's understand what you just did:\n",
    "        #   Since each cnn is of different filter_height, it will look at different number of words at a time\n",
    "        #     So, a filter_height of 3 means your cnn looks at 3 words (3-grams) at a time and tries to extract some information from it\n",
    "        #   Each cnn will learn out_channels number of features from the words it sees at a time\n",
    "        #   Then you applied a non-linearity and took the max value for all channels\n",
    "        #     You are essentially trying to find important n-grams from the entire text\n",
    "        # Everything happens on a batch simultaneously hence you have that additional batch_size as the first dimension\n",
    "\n",
    "        # Apply dropout\n",
    "\n",
    "        # Pass your output through the linear layer and return its output \n",
    "        #   Resulting shape: [batch_size, num_classes]\n",
    "\n",
    "        ##### NOTE: Do not apply a sigmoid or softmax to the final output - done in training method!\n",
    "\n",
    "        return None"
   ]
  },
  {
   "cell_type": "markdown",
   "metadata": {
    "id": "_mVE_ujfnh0w"
   },
   "source": [
    "##Sanity Check: CNN Model\n",
    "\n",
    "The code below runs a sanity check for your `CNN` class. The tests are similar to the hidden ones in Gradescope. However, note that passing the sanity check does <b>not</b> guarantee that you will pass the autograder; it is intended to help you debug."
   ]
  },
  {
   "cell_type": "code",
   "execution_count": 8,
   "metadata": {
    "id": "yy9oF6qUUHvV"
   },
   "outputs": [
    {
     "name": "stdout",
     "output_type": "stream",
     "text": [
      "--- TEST: Number of Model Parameters (tests __init__(...)) ---\n",
      " vocab size is: 1000, embed size is: 16, filter heights: [3, 4, 5]\n",
      "conv module list is: ModuleList(\n",
      "  (0): Conv2d(1, 32, kernel_size=(3, 16), stride=(1, 1))\n",
      "  (1): Conv2d(1, 32, kernel_size=(4, 16), stride=(1, 1))\n",
      "  (2): Conv2d(1, 32, kernel_size=(5, 16), stride=(1, 1))\n",
      ")\n",
      "\tPASSED\tInput: {'vocab_size': 1000, 'embed_size': 16, 'out_channels': 32, 'filter_heights': [3, 4, 5], 'stride': 1, 'dropout': 0, 'num_classes': 2, 'pad_idx': 0}\tExpected Num. Params: 22434\tYour Num. Params: 22434\n",
      " vocab size is: 1000, embed size is: 16, filter heights: [3, 4, 5]\n",
      "conv module list is: ModuleList(\n",
      "  (0): Conv2d(1, 32, kernel_size=(3, 16), stride=(1, 1))\n",
      "  (1): Conv2d(1, 32, kernel_size=(4, 16), stride=(1, 1))\n",
      "  (2): Conv2d(1, 32, kernel_size=(5, 16), stride=(1, 1))\n",
      ")\n",
      "\tPASSED\tInput: {'vocab_size': 1000, 'embed_size': 16, 'out_channels': 32, 'filter_heights': [3, 4, 5], 'stride': 1, 'dropout': 0, 'num_classes': 3, 'pad_idx': 0}\tExpected Num. Params: 22531\tYour Num. Params: 22531\n",
      " vocab size is: 1000, embed size is: 16, filter heights: [3, 4, 5]\n",
      "conv module list is: ModuleList(\n",
      "  (0): Conv2d(1, 32, kernel_size=(3, 16), stride=(3, 3))\n",
      "  (1): Conv2d(1, 32, kernel_size=(4, 16), stride=(3, 3))\n",
      "  (2): Conv2d(1, 32, kernel_size=(5, 16), stride=(3, 3))\n",
      ")\n",
      "\tPASSED\tInput: {'vocab_size': 1000, 'embed_size': 16, 'out_channels': 32, 'filter_heights': [3, 4, 5], 'stride': 3, 'dropout': 0, 'num_classes': 2, 'pad_idx': 0}\tExpected Num. Params: 22434\tYour Num. Params: 22434\n",
      " vocab size is: 1000, embed size is: 16, filter heights: [3, 4, 5]\n",
      "conv module list is: ModuleList(\n",
      "  (0): Conv2d(1, 32, kernel_size=(3, 16), stride=(3, 3))\n",
      "  (1): Conv2d(1, 32, kernel_size=(4, 16), stride=(3, 3))\n",
      "  (2): Conv2d(1, 32, kernel_size=(5, 16), stride=(3, 3))\n",
      ")\n",
      "\tPASSED\tInput: {'vocab_size': 1000, 'embed_size': 16, 'out_channels': 32, 'filter_heights': [3, 4, 5], 'stride': 3, 'dropout': 0, 'num_classes': 3, 'pad_idx': 0}\tExpected Num. Params: 22531\tYour Num. Params: 22531\n",
      " vocab size is: 1000, embed size is: 16, filter heights: [5, 10]\n",
      "conv module list is: ModuleList(\n",
      "  (0): Conv2d(1, 32, kernel_size=(5, 16), stride=(1, 1))\n",
      "  (1): Conv2d(1, 32, kernel_size=(10, 16), stride=(1, 1))\n",
      ")\n",
      "\tPASSED\tInput: {'vocab_size': 1000, 'embed_size': 16, 'out_channels': 32, 'filter_heights': [5, 10], 'stride': 1, 'dropout': 0, 'num_classes': 2, 'pad_idx': 0}\tExpected Num. Params: 23874\tYour Num. Params: 23874\n",
      " vocab size is: 1000, embed size is: 16, filter heights: [5, 10]\n",
      "conv module list is: ModuleList(\n",
      "  (0): Conv2d(1, 32, kernel_size=(5, 16), stride=(1, 1))\n",
      "  (1): Conv2d(1, 32, kernel_size=(10, 16), stride=(1, 1))\n",
      ")\n",
      "\tPASSED\tInput: {'vocab_size': 1000, 'embed_size': 16, 'out_channels': 32, 'filter_heights': [5, 10], 'stride': 1, 'dropout': 0, 'num_classes': 3, 'pad_idx': 0}\tExpected Num. Params: 23939\tYour Num. Params: 23939\n",
      " vocab size is: 1000, embed size is: 16, filter heights: [5, 10]\n",
      "conv module list is: ModuleList(\n",
      "  (0): Conv2d(1, 32, kernel_size=(5, 16), stride=(3, 3))\n",
      "  (1): Conv2d(1, 32, kernel_size=(10, 16), stride=(3, 3))\n",
      ")\n",
      "\tPASSED\tInput: {'vocab_size': 1000, 'embed_size': 16, 'out_channels': 32, 'filter_heights': [5, 10], 'stride': 3, 'dropout': 0, 'num_classes': 2, 'pad_idx': 0}\tExpected Num. Params: 23874\tYour Num. Params: 23874\n",
      " vocab size is: 1000, embed size is: 16, filter heights: [5, 10]\n",
      "conv module list is: ModuleList(\n",
      "  (0): Conv2d(1, 32, kernel_size=(5, 16), stride=(3, 3))\n",
      "  (1): Conv2d(1, 32, kernel_size=(10, 16), stride=(3, 3))\n",
      ")\n",
      "\tPASSED\tInput: {'vocab_size': 1000, 'embed_size': 16, 'out_channels': 32, 'filter_heights': [5, 10], 'stride': 3, 'dropout': 0, 'num_classes': 3, 'pad_idx': 0}\tExpected Num. Params: 23939\tYour Num. Params: 23939\n",
      " vocab size is: 1000, embed size is: 16, filter heights: [3, 4, 5]\n",
      "conv module list is: ModuleList(\n",
      "  (0): Conv2d(1, 32, kernel_size=(3, 16), stride=(1, 1))\n",
      "  (1): Conv2d(1, 32, kernel_size=(4, 16), stride=(1, 1))\n",
      "  (2): Conv2d(1, 32, kernel_size=(5, 16), stride=(1, 1))\n",
      ")\n",
      "\tFAILED\tInput: {'vocab_size': 1000, 'embed_size': 16, 'out_channels': 128, 'filter_heights': [3, 4, 5], 'stride': 1, 'dropout': 0, 'num_classes': 2, 'pad_idx': 0}\tExpected Num. Params: 41730\tYour Num. Params: 23010\n",
      " vocab size is: 1000, embed size is: 16, filter heights: [3, 4, 5]\n",
      "conv module list is: ModuleList(\n",
      "  (0): Conv2d(1, 32, kernel_size=(3, 16), stride=(1, 1))\n",
      "  (1): Conv2d(1, 32, kernel_size=(4, 16), stride=(1, 1))\n",
      "  (2): Conv2d(1, 32, kernel_size=(5, 16), stride=(1, 1))\n",
      ")\n",
      "\tFAILED\tInput: {'vocab_size': 1000, 'embed_size': 16, 'out_channels': 128, 'filter_heights': [3, 4, 5], 'stride': 1, 'dropout': 0, 'num_classes': 3, 'pad_idx': 0}\tExpected Num. Params: 42115\tYour Num. Params: 23395\n",
      " vocab size is: 1000, embed size is: 16, filter heights: [3, 4, 5]\n",
      "conv module list is: ModuleList(\n",
      "  (0): Conv2d(1, 32, kernel_size=(3, 16), stride=(3, 3))\n",
      "  (1): Conv2d(1, 32, kernel_size=(4, 16), stride=(3, 3))\n",
      "  (2): Conv2d(1, 32, kernel_size=(5, 16), stride=(3, 3))\n",
      ")\n",
      "\tFAILED\tInput: {'vocab_size': 1000, 'embed_size': 16, 'out_channels': 128, 'filter_heights': [3, 4, 5], 'stride': 3, 'dropout': 0, 'num_classes': 2, 'pad_idx': 0}\tExpected Num. Params: 41730\tYour Num. Params: 23010\n",
      " vocab size is: 1000, embed size is: 16, filter heights: [3, 4, 5]\n",
      "conv module list is: ModuleList(\n",
      "  (0): Conv2d(1, 32, kernel_size=(3, 16), stride=(3, 3))\n",
      "  (1): Conv2d(1, 32, kernel_size=(4, 16), stride=(3, 3))\n",
      "  (2): Conv2d(1, 32, kernel_size=(5, 16), stride=(3, 3))\n",
      ")\n",
      "\tFAILED\tInput: {'vocab_size': 1000, 'embed_size': 16, 'out_channels': 128, 'filter_heights': [3, 4, 5], 'stride': 3, 'dropout': 0, 'num_classes': 3, 'pad_idx': 0}\tExpected Num. Params: 42115\tYour Num. Params: 23395\n",
      " vocab size is: 1000, embed size is: 16, filter heights: [5, 10]\n",
      "conv module list is: ModuleList(\n",
      "  (0): Conv2d(1, 32, kernel_size=(5, 16), stride=(1, 1))\n",
      "  (1): Conv2d(1, 32, kernel_size=(10, 16), stride=(1, 1))\n",
      ")\n",
      "\tFAILED\tInput: {'vocab_size': 1000, 'embed_size': 16, 'out_channels': 128, 'filter_heights': [5, 10], 'stride': 1, 'dropout': 0, 'num_classes': 2, 'pad_idx': 0}\tExpected Num. Params: 47490\tYour Num. Params: 24258\n",
      " vocab size is: 1000, embed size is: 16, filter heights: [5, 10]\n",
      "conv module list is: ModuleList(\n",
      "  (0): Conv2d(1, 32, kernel_size=(5, 16), stride=(1, 1))\n",
      "  (1): Conv2d(1, 32, kernel_size=(10, 16), stride=(1, 1))\n",
      ")\n",
      "\tFAILED\tInput: {'vocab_size': 1000, 'embed_size': 16, 'out_channels': 128, 'filter_heights': [5, 10], 'stride': 1, 'dropout': 0, 'num_classes': 3, 'pad_idx': 0}\tExpected Num. Params: 47747\tYour Num. Params: 24515\n",
      " vocab size is: 1000, embed size is: 16, filter heights: [5, 10]\n",
      "conv module list is: ModuleList(\n",
      "  (0): Conv2d(1, 32, kernel_size=(5, 16), stride=(3, 3))\n",
      "  (1): Conv2d(1, 32, kernel_size=(10, 16), stride=(3, 3))\n",
      ")\n",
      "\tFAILED\tInput: {'vocab_size': 1000, 'embed_size': 16, 'out_channels': 128, 'filter_heights': [5, 10], 'stride': 3, 'dropout': 0, 'num_classes': 2, 'pad_idx': 0}\tExpected Num. Params: 47490\tYour Num. Params: 24258\n",
      " vocab size is: 1000, embed size is: 16, filter heights: [5, 10]\n",
      "conv module list is: ModuleList(\n",
      "  (0): Conv2d(1, 32, kernel_size=(5, 16), stride=(3, 3))\n",
      "  (1): Conv2d(1, 32, kernel_size=(10, 16), stride=(3, 3))\n",
      ")\n",
      "\tFAILED\tInput: {'vocab_size': 1000, 'embed_size': 16, 'out_channels': 128, 'filter_heights': [5, 10], 'stride': 3, 'dropout': 0, 'num_classes': 3, 'pad_idx': 0}\tExpected Num. Params: 47747\tYour Num. Params: 24515\n",
      " vocab size is: 1000, embed size is: 32, filter heights: [3, 4, 5]\n",
      "conv module list is: ModuleList(\n",
      "  (0): Conv2d(1, 32, kernel_size=(3, 32), stride=(1, 1))\n",
      "  (1): Conv2d(1, 32, kernel_size=(4, 32), stride=(1, 1))\n",
      "  (2): Conv2d(1, 32, kernel_size=(5, 32), stride=(1, 1))\n",
      ")\n",
      "\tPASSED\tInput: {'vocab_size': 1000, 'embed_size': 32, 'out_channels': 32, 'filter_heights': [3, 4, 5], 'stride': 1, 'dropout': 0, 'num_classes': 2, 'pad_idx': 0}\tExpected Num. Params: 44578\tYour Num. Params: 44578\n",
      " vocab size is: 1000, embed size is: 32, filter heights: [3, 4, 5]\n",
      "conv module list is: ModuleList(\n",
      "  (0): Conv2d(1, 32, kernel_size=(3, 32), stride=(1, 1))\n",
      "  (1): Conv2d(1, 32, kernel_size=(4, 32), stride=(1, 1))\n",
      "  (2): Conv2d(1, 32, kernel_size=(5, 32), stride=(1, 1))\n",
      ")\n",
      "\tPASSED\tInput: {'vocab_size': 1000, 'embed_size': 32, 'out_channels': 32, 'filter_heights': [3, 4, 5], 'stride': 1, 'dropout': 0, 'num_classes': 3, 'pad_idx': 0}\tExpected Num. Params: 44675\tYour Num. Params: 44675\n",
      " vocab size is: 1000, embed size is: 32, filter heights: [3, 4, 5]\n",
      "conv module list is: ModuleList(\n",
      "  (0): Conv2d(1, 32, kernel_size=(3, 32), stride=(3, 3))\n",
      "  (1): Conv2d(1, 32, kernel_size=(4, 32), stride=(3, 3))\n",
      "  (2): Conv2d(1, 32, kernel_size=(5, 32), stride=(3, 3))\n",
      ")\n",
      "\tPASSED\tInput: {'vocab_size': 1000, 'embed_size': 32, 'out_channels': 32, 'filter_heights': [3, 4, 5], 'stride': 3, 'dropout': 0, 'num_classes': 2, 'pad_idx': 0}\tExpected Num. Params: 44578\tYour Num. Params: 44578\n",
      " vocab size is: 1000, embed size is: 32, filter heights: [3, 4, 5]\n",
      "conv module list is: ModuleList(\n",
      "  (0): Conv2d(1, 32, kernel_size=(3, 32), stride=(3, 3))\n",
      "  (1): Conv2d(1, 32, kernel_size=(4, 32), stride=(3, 3))\n",
      "  (2): Conv2d(1, 32, kernel_size=(5, 32), stride=(3, 3))\n",
      ")\n",
      "\tPASSED\tInput: {'vocab_size': 1000, 'embed_size': 32, 'out_channels': 32, 'filter_heights': [3, 4, 5], 'stride': 3, 'dropout': 0, 'num_classes': 3, 'pad_idx': 0}\tExpected Num. Params: 44675\tYour Num. Params: 44675\n",
      " vocab size is: 1000, embed size is: 32, filter heights: [5, 10]\n",
      "conv module list is: ModuleList(\n",
      "  (0): Conv2d(1, 32, kernel_size=(5, 32), stride=(1, 1))\n",
      "  (1): Conv2d(1, 32, kernel_size=(10, 32), stride=(1, 1))\n",
      ")\n",
      "\tPASSED\tInput: {'vocab_size': 1000, 'embed_size': 32, 'out_channels': 32, 'filter_heights': [5, 10], 'stride': 1, 'dropout': 0, 'num_classes': 2, 'pad_idx': 0}\tExpected Num. Params: 47554\tYour Num. Params: 47554\n",
      " vocab size is: 1000, embed size is: 32, filter heights: [5, 10]\n",
      "conv module list is: ModuleList(\n",
      "  (0): Conv2d(1, 32, kernel_size=(5, 32), stride=(1, 1))\n",
      "  (1): Conv2d(1, 32, kernel_size=(10, 32), stride=(1, 1))\n",
      ")\n",
      "\tPASSED\tInput: {'vocab_size': 1000, 'embed_size': 32, 'out_channels': 32, 'filter_heights': [5, 10], 'stride': 1, 'dropout': 0, 'num_classes': 3, 'pad_idx': 0}\tExpected Num. Params: 47619\tYour Num. Params: 47619\n",
      " vocab size is: 1000, embed size is: 32, filter heights: [5, 10]\n",
      "conv module list is: ModuleList(\n",
      "  (0): Conv2d(1, 32, kernel_size=(5, 32), stride=(3, 3))\n",
      "  (1): Conv2d(1, 32, kernel_size=(10, 32), stride=(3, 3))\n",
      ")\n",
      "\tPASSED\tInput: {'vocab_size': 1000, 'embed_size': 32, 'out_channels': 32, 'filter_heights': [5, 10], 'stride': 3, 'dropout': 0, 'num_classes': 2, 'pad_idx': 0}\tExpected Num. Params: 47554\tYour Num. Params: 47554\n",
      " vocab size is: 1000, embed size is: 32, filter heights: [5, 10]\n",
      "conv module list is: ModuleList(\n",
      "  (0): Conv2d(1, 32, kernel_size=(5, 32), stride=(3, 3))\n",
      "  (1): Conv2d(1, 32, kernel_size=(10, 32), stride=(3, 3))\n",
      ")\n",
      "\tPASSED\tInput: {'vocab_size': 1000, 'embed_size': 32, 'out_channels': 32, 'filter_heights': [5, 10], 'stride': 3, 'dropout': 0, 'num_classes': 3, 'pad_idx': 0}\tExpected Num. Params: 47619\tYour Num. Params: 47619\n",
      " vocab size is: 1000, embed size is: 32, filter heights: [3, 4, 5]\n",
      "conv module list is: ModuleList(\n",
      "  (0): Conv2d(1, 32, kernel_size=(3, 32), stride=(1, 1))\n",
      "  (1): Conv2d(1, 32, kernel_size=(4, 32), stride=(1, 1))\n",
      "  (2): Conv2d(1, 32, kernel_size=(5, 32), stride=(1, 1))\n",
      ")\n",
      "\tFAILED\tInput: {'vocab_size': 1000, 'embed_size': 32, 'out_channels': 128, 'filter_heights': [3, 4, 5], 'stride': 1, 'dropout': 0, 'num_classes': 2, 'pad_idx': 0}\tExpected Num. Params: 82306\tYour Num. Params: 45154\n",
      " vocab size is: 1000, embed size is: 32, filter heights: [3, 4, 5]\n",
      "conv module list is: ModuleList(\n",
      "  (0): Conv2d(1, 32, kernel_size=(3, 32), stride=(1, 1))\n",
      "  (1): Conv2d(1, 32, kernel_size=(4, 32), stride=(1, 1))\n",
      "  (2): Conv2d(1, 32, kernel_size=(5, 32), stride=(1, 1))\n",
      ")\n",
      "\tFAILED\tInput: {'vocab_size': 1000, 'embed_size': 32, 'out_channels': 128, 'filter_heights': [3, 4, 5], 'stride': 1, 'dropout': 0, 'num_classes': 3, 'pad_idx': 0}\tExpected Num. Params: 82691\tYour Num. Params: 45539\n",
      " vocab size is: 1000, embed size is: 32, filter heights: [3, 4, 5]\n",
      "conv module list is: ModuleList(\n",
      "  (0): Conv2d(1, 32, kernel_size=(3, 32), stride=(3, 3))\n",
      "  (1): Conv2d(1, 32, kernel_size=(4, 32), stride=(3, 3))\n",
      "  (2): Conv2d(1, 32, kernel_size=(5, 32), stride=(3, 3))\n",
      ")\n",
      "\tFAILED\tInput: {'vocab_size': 1000, 'embed_size': 32, 'out_channels': 128, 'filter_heights': [3, 4, 5], 'stride': 3, 'dropout': 0, 'num_classes': 2, 'pad_idx': 0}\tExpected Num. Params: 82306\tYour Num. Params: 45154\n",
      " vocab size is: 1000, embed size is: 32, filter heights: [3, 4, 5]\n",
      "conv module list is: ModuleList(\n",
      "  (0): Conv2d(1, 32, kernel_size=(3, 32), stride=(3, 3))\n",
      "  (1): Conv2d(1, 32, kernel_size=(4, 32), stride=(3, 3))\n",
      "  (2): Conv2d(1, 32, kernel_size=(5, 32), stride=(3, 3))\n",
      ")\n",
      "\tFAILED\tInput: {'vocab_size': 1000, 'embed_size': 32, 'out_channels': 128, 'filter_heights': [3, 4, 5], 'stride': 3, 'dropout': 0, 'num_classes': 3, 'pad_idx': 0}\tExpected Num. Params: 82691\tYour Num. Params: 45539\n",
      " vocab size is: 1000, embed size is: 32, filter heights: [5, 10]\n",
      "conv module list is: ModuleList(\n",
      "  (0): Conv2d(1, 32, kernel_size=(5, 32), stride=(1, 1))\n",
      "  (1): Conv2d(1, 32, kernel_size=(10, 32), stride=(1, 1))\n",
      ")\n",
      "\tFAILED\tInput: {'vocab_size': 1000, 'embed_size': 32, 'out_channels': 128, 'filter_heights': [5, 10], 'stride': 1, 'dropout': 0, 'num_classes': 2, 'pad_idx': 0}\tExpected Num. Params: 94210\tYour Num. Params: 47938\n",
      " vocab size is: 1000, embed size is: 32, filter heights: [5, 10]\n",
      "conv module list is: ModuleList(\n",
      "  (0): Conv2d(1, 32, kernel_size=(5, 32), stride=(1, 1))\n",
      "  (1): Conv2d(1, 32, kernel_size=(10, 32), stride=(1, 1))\n",
      ")\n",
      "\tFAILED\tInput: {'vocab_size': 1000, 'embed_size': 32, 'out_channels': 128, 'filter_heights': [5, 10], 'stride': 1, 'dropout': 0, 'num_classes': 3, 'pad_idx': 0}\tExpected Num. Params: 94467\tYour Num. Params: 48195\n",
      " vocab size is: 1000, embed size is: 32, filter heights: [5, 10]\n",
      "conv module list is: ModuleList(\n",
      "  (0): Conv2d(1, 32, kernel_size=(5, 32), stride=(3, 3))\n",
      "  (1): Conv2d(1, 32, kernel_size=(10, 32), stride=(3, 3))\n",
      ")\n",
      "\tFAILED\tInput: {'vocab_size': 1000, 'embed_size': 32, 'out_channels': 128, 'filter_heights': [5, 10], 'stride': 3, 'dropout': 0, 'num_classes': 2, 'pad_idx': 0}\tExpected Num. Params: 94210\tYour Num. Params: 47938\n",
      " vocab size is: 1000, embed size is: 32, filter heights: [5, 10]\n",
      "conv module list is: ModuleList(\n",
      "  (0): Conv2d(1, 32, kernel_size=(5, 32), stride=(3, 3))\n",
      "  (1): Conv2d(1, 32, kernel_size=(10, 32), stride=(3, 3))\n",
      ")\n",
      "\tFAILED\tInput: {'vocab_size': 1000, 'embed_size': 32, 'out_channels': 128, 'filter_heights': [5, 10], 'stride': 3, 'dropout': 0, 'num_classes': 3, 'pad_idx': 0}\tExpected Num. Params: 94467\tYour Num. Params: 48195\n",
      "\n",
      "--- TEST: Output shape of forward(...) ---\n",
      " vocab size is: 29730, embed size is: 16, filter heights: [3, 4, 5]\n",
      "conv module list is: ModuleList(\n",
      "  (0): Conv2d(1, 32, kernel_size=(3, 16), stride=(1, 1))\n",
      "  (1): Conv2d(1, 32, kernel_size=(4, 16), stride=(1, 1))\n",
      "  (2): Conv2d(1, 32, kernel_size=(5, 16), stride=(1, 1))\n",
      ")\n"
     ]
    },
    {
     "ename": "IndexError",
     "evalue": "index 1 is out of bounds for dimension 0 with size 1",
     "output_type": "error",
     "traceback": [
      "\u001B[0;31m---------------------------------------------------------------------------\u001B[0m",
      "\u001B[0;31mIndexError\u001B[0m                                Traceback (most recent call last)",
      "Input \u001B[0;32mIn [8]\u001B[0m, in \u001B[0;36m<cell line: 50>\u001B[0;34m()\u001B[0m\n\u001B[1;32m     61\u001B[0m sanity_dataset \u001B[38;5;241m=\u001B[39m TextDataset(train_data, \u001B[38;5;124m'\u001B[39m\u001B[38;5;124mtrain\u001B[39m\u001B[38;5;124m'\u001B[39m, \u001B[38;5;241m5\u001B[39m, \u001B[38;5;241m150\u001B[39m)\n\u001B[1;32m     62\u001B[0m sanity_loader \u001B[38;5;241m=\u001B[39m torch\u001B[38;5;241m.\u001B[39mutils\u001B[38;5;241m.\u001B[39mdata\u001B[38;5;241m.\u001B[39mDataLoader(sanity_dataset, batch_size\u001B[38;5;241m=\u001B[39m\u001B[38;5;241m50\u001B[39m, shuffle\u001B[38;5;241m=\u001B[39m\u001B[38;5;28;01mTrue\u001B[39;00m, num_workers\u001B[38;5;241m=\u001B[39m\u001B[38;5;241m2\u001B[39m, drop_last\u001B[38;5;241m=\u001B[39m\u001B[38;5;28;01mTrue\u001B[39;00m)\n\u001B[0;32m---> 64\u001B[0m \u001B[43msanityCheckModel\u001B[49m\u001B[43m(\u001B[49m\u001B[43minputs\u001B[49m\u001B[43m,\u001B[49m\u001B[43m \u001B[49m\u001B[43mCNN\u001B[49m\u001B[43m,\u001B[49m\u001B[43m \u001B[49m\u001B[43mexpected_outputs\u001B[49m\u001B[43m,\u001B[49m\u001B[43m \u001B[49m\u001B[38;5;124;43m\"\u001B[39;49m\u001B[38;5;124;43mforward\u001B[39;49m\u001B[38;5;124;43m\"\u001B[39;49m\u001B[43m,\u001B[49m\u001B[43m \u001B[49m\u001B[43msanity_loader\u001B[49m\u001B[43m)\u001B[49m\n",
      "Input \u001B[0;32mIn [8]\u001B[0m, in \u001B[0;36msanityCheckModel\u001B[0;34m(all_test_params, NN, expected_outputs, init_or_forward, data_loader)\u001B[0m\n\u001B[1;32m     23\u001B[0m \u001B[38;5;28;01mif\u001B[39;00m init_or_forward \u001B[38;5;241m==\u001B[39m \u001B[38;5;124m\"\u001B[39m\u001B[38;5;124mforward\u001B[39m\u001B[38;5;124m\"\u001B[39m:\n\u001B[1;32m     24\u001B[0m     \u001B[38;5;28;01mwith\u001B[39;00m torch\u001B[38;5;241m.\u001B[39mno_grad(): \n\u001B[0;32m---> 25\u001B[0m         stu_out \u001B[38;5;241m=\u001B[39m \u001B[43mstu_nn\u001B[49m\u001B[43m(\u001B[49m\u001B[43mtexts\u001B[49m\u001B[43m)\u001B[49m\n\u001B[1;32m     26\u001B[0m     ref_out_shape \u001B[38;5;241m=\u001B[39m expected_output\n\u001B[1;32m     28\u001B[0m     has_passed \u001B[38;5;241m=\u001B[39m torch\u001B[38;5;241m.\u001B[39mis_tensor(stu_out)\n",
      "File \u001B[0;32m~/anaconda3/envs/nlp_cuda116_python3_9/lib/python3.9/site-packages/torch/nn/modules/module.py:1130\u001B[0m, in \u001B[0;36mModule._call_impl\u001B[0;34m(self, *input, **kwargs)\u001B[0m\n\u001B[1;32m   1126\u001B[0m \u001B[38;5;66;03m# If we don't have any hooks, we want to skip the rest of the logic in\u001B[39;00m\n\u001B[1;32m   1127\u001B[0m \u001B[38;5;66;03m# this function, and just call forward.\u001B[39;00m\n\u001B[1;32m   1128\u001B[0m \u001B[38;5;28;01mif\u001B[39;00m \u001B[38;5;129;01mnot\u001B[39;00m (\u001B[38;5;28mself\u001B[39m\u001B[38;5;241m.\u001B[39m_backward_hooks \u001B[38;5;129;01mor\u001B[39;00m \u001B[38;5;28mself\u001B[39m\u001B[38;5;241m.\u001B[39m_forward_hooks \u001B[38;5;129;01mor\u001B[39;00m \u001B[38;5;28mself\u001B[39m\u001B[38;5;241m.\u001B[39m_forward_pre_hooks \u001B[38;5;129;01mor\u001B[39;00m _global_backward_hooks\n\u001B[1;32m   1129\u001B[0m         \u001B[38;5;129;01mor\u001B[39;00m _global_forward_hooks \u001B[38;5;129;01mor\u001B[39;00m _global_forward_pre_hooks):\n\u001B[0;32m-> 1130\u001B[0m     \u001B[38;5;28;01mreturn\u001B[39;00m \u001B[43mforward_call\u001B[49m\u001B[43m(\u001B[49m\u001B[38;5;241;43m*\u001B[39;49m\u001B[38;5;28;43minput\u001B[39;49m\u001B[43m,\u001B[49m\u001B[43m \u001B[49m\u001B[38;5;241;43m*\u001B[39;49m\u001B[38;5;241;43m*\u001B[39;49m\u001B[43mkwargs\u001B[49m\u001B[43m)\u001B[49m\n\u001B[1;32m   1131\u001B[0m \u001B[38;5;66;03m# Do not call functions when jit is used\u001B[39;00m\n\u001B[1;32m   1132\u001B[0m full_backward_hooks, non_full_backward_hooks \u001B[38;5;241m=\u001B[39m [], []\n",
      "Input \u001B[0;32mIn [7]\u001B[0m, in \u001B[0;36mCNN.forward\u001B[0;34m(self, texts)\u001B[0m\n\u001B[1;32m     64\u001B[0m \u001B[38;5;124;03m\"\"\"\u001B[39;00m\n\u001B[1;32m     65\u001B[0m \u001B[38;5;124;03mtexts: LongTensor [batch_size, max_len]\u001B[39;00m\n\u001B[1;32m     66\u001B[0m \u001B[38;5;124;03m\u001B[39;00m\n\u001B[1;32m     67\u001B[0m \u001B[38;5;124;03mReturns output: Tensor [batch_size, num_classes]\u001B[39;00m\n\u001B[1;32m     68\u001B[0m \u001B[38;5;124;03m\"\"\"\u001B[39;00m\n\u001B[1;32m     69\u001B[0m \u001B[38;5;66;03m##### TODO #####\u001B[39;00m\n\u001B[1;32m     70\u001B[0m \n\u001B[1;32m     71\u001B[0m \u001B[38;5;66;03m# Pass texts through your embedding layer to convert from word ids to word embeddings\u001B[39;00m\n\u001B[1;32m     72\u001B[0m \u001B[38;5;66;03m#   Resulting: shape: [batch_size, max_len, embed_size]\u001B[39;00m\n\u001B[0;32m---> 73\u001B[0m embedding \u001B[38;5;241m=\u001B[39m \u001B[38;5;28mself\u001B[39m\u001B[38;5;241m.\u001B[39membedding(vocab_size\u001B[38;5;241m=\u001B[39mtexts[\u001B[38;5;241m0\u001B[39m], embed_size\u001B[38;5;241m=\u001B[39m\u001B[43mtexts\u001B[49m\u001B[43m[\u001B[49m\u001B[38;5;241;43m1\u001B[39;49m\u001B[43m]\u001B[49m )\n\u001B[1;32m     75\u001B[0m \u001B[38;5;28mprint\u001B[39m(\u001B[38;5;124m'\u001B[39m\u001B[38;5;124mContent of embedding:\u001B[39m\u001B[38;5;124m'\u001B[39m, embedding)\n\u001B[1;32m     76\u001B[0m \u001B[38;5;28mprint\u001B[39m(\u001B[38;5;124m'\u001B[39m\u001B[38;5;124mShape of embedding:\u001B[39m\u001B[38;5;124m'\u001B[39m, embedding\u001B[38;5;241m.\u001B[39mshape, \u001B[38;5;124m'\u001B[39m\u001B[38;5;130;01m\\n\u001B[39;00m\u001B[38;5;124m'\u001B[39m)\n",
      "\u001B[0;31mIndexError\u001B[0m: index 1 is out of bounds for dimension 0 with size 1"
     ]
    }
   ],
   "source": [
    "### DO NOT EDIT ###\n",
    "\n",
    "count_parameters = lambda model: sum(p.numel() for p in model.parameters() if p.requires_grad)\n",
    "\n",
    "def sanityCheckModel(all_test_params, NN, expected_outputs, init_or_forward, data_loader):\n",
    "    print('--- TEST: ' + ('Number of Model Parameters (tests __init__(...))' if init_or_forward=='init' else 'Output shape of forward(...)') + ' ---')\n",
    "    \n",
    "    if init_or_forward == \"forward\":\n",
    "        # Reading the first batch of data for testing\n",
    "        for texts_, labels_ in data_loader:\n",
    "            texts_batch, labels_batch = texts_, labels_\n",
    "            break\n",
    "\n",
    "    for tp_idx, (test_params, expected_output) in enumerate(zip(all_test_params, expected_outputs)):       \n",
    "        if init_or_forward == \"forward\":\n",
    "            batch_size = test_params['batch_size']\n",
    "            texts = texts_batch[:batch_size]\n",
    "\n",
    "        # Construct the student model\n",
    "        tps = {k:v for k, v in test_params.items() if k != 'batch_size'}\n",
    "        stu_nn = NN(**tps)\n",
    "\n",
    "        if init_or_forward == \"forward\":\n",
    "            with torch.no_grad(): \n",
    "                stu_out = stu_nn(texts)\n",
    "            ref_out_shape = expected_output\n",
    "\n",
    "            has_passed = torch.is_tensor(stu_out)\n",
    "            if not has_passed: msg = 'Output must be a torch.Tensor; received ' + str(type(stu_out))\n",
    "            else: \n",
    "                has_passed = stu_out.shape == ref_out_shape\n",
    "                msg = 'Your Output Shape: ' + str(stu_out.shape)\n",
    "            \n",
    "\n",
    "            status = 'PASSED' if has_passed else 'FAILED'\n",
    "            message = '\\t' + status + \"\\t Init Input: \" + str({k:v for k,v in tps.items()}) + '\\tForward Input Shape: ' + str(texts.shape) + '\\tExpected Output Shape: ' + str(ref_out_shape) + '\\t' + msg\n",
    "            print(message)\n",
    "        else:\n",
    "            stu_num_params = count_parameters(stu_nn)\n",
    "            ref_num_params = expected_output\n",
    "            comparison_result = (stu_num_params == ref_num_params)\n",
    "\n",
    "            status = 'PASSED' if comparison_result else 'FAILED'\n",
    "            message = '\\t' + status + \"\\tInput: \" + str({k:v for k,v in test_params.items()}) + ('\\tExpected Num. Params: ' + str(ref_num_params) + '\\tYour Num. Params: '+ str(stu_num_params))\n",
    "            print(message)\n",
    "\n",
    "        del stu_nn\n",
    "\n",
    "\n",
    "if __name__ == '__main__':\n",
    "    # Test init\n",
    "    inputs = [{'vocab_size': 1000, 'embed_size': 16, 'out_channels': 32, 'filter_heights': [3, 4, 5], 'stride': 1, 'dropout': 0, 'num_classes': 2, 'pad_idx': 0}, {'vocab_size': 1000, 'embed_size': 16, 'out_channels': 32, 'filter_heights': [3, 4, 5], 'stride': 1, 'dropout': 0, 'num_classes': 3, 'pad_idx': 0}, {'vocab_size': 1000, 'embed_size': 16, 'out_channels': 32, 'filter_heights': [3, 4, 5], 'stride': 3, 'dropout': 0, 'num_classes': 2, 'pad_idx': 0}, {'vocab_size': 1000, 'embed_size': 16, 'out_channels': 32, 'filter_heights': [3, 4, 5], 'stride': 3, 'dropout': 0, 'num_classes': 3, 'pad_idx': 0}, {'vocab_size': 1000, 'embed_size': 16, 'out_channels': 32, 'filter_heights': [5, 10], 'stride': 1, 'dropout': 0, 'num_classes': 2, 'pad_idx': 0}, {'vocab_size': 1000, 'embed_size': 16, 'out_channels': 32, 'filter_heights': [5, 10], 'stride': 1, 'dropout': 0, 'num_classes': 3, 'pad_idx': 0}, {'vocab_size': 1000, 'embed_size': 16, 'out_channels': 32, 'filter_heights': [5, 10], 'stride': 3, 'dropout': 0, 'num_classes': 2, 'pad_idx': 0}, {'vocab_size': 1000, 'embed_size': 16, 'out_channels': 32, 'filter_heights': [5, 10], 'stride': 3, 'dropout': 0, 'num_classes': 3, 'pad_idx': 0}, {'vocab_size': 1000, 'embed_size': 16, 'out_channels': 128, 'filter_heights': [3, 4, 5], 'stride': 1, 'dropout': 0, 'num_classes': 2, 'pad_idx': 0}, {'vocab_size': 1000, 'embed_size': 16, 'out_channels': 128, 'filter_heights': [3, 4, 5], 'stride': 1, 'dropout': 0, 'num_classes': 3, 'pad_idx': 0}, {'vocab_size': 1000, 'embed_size': 16, 'out_channels': 128, 'filter_heights': [3, 4, 5], 'stride': 3, 'dropout': 0, 'num_classes': 2, 'pad_idx': 0}, {'vocab_size': 1000, 'embed_size': 16, 'out_channels': 128, 'filter_heights': [3, 4, 5], 'stride': 3, 'dropout': 0, 'num_classes': 3, 'pad_idx': 0}, {'vocab_size': 1000, 'embed_size': 16, 'out_channels': 128, 'filter_heights': [5, 10], 'stride': 1, 'dropout': 0, 'num_classes': 2, 'pad_idx': 0}, {'vocab_size': 1000, 'embed_size': 16, 'out_channels': 128, 'filter_heights': [5, 10], 'stride': 1, 'dropout': 0, 'num_classes': 3, 'pad_idx': 0}, {'vocab_size': 1000, 'embed_size': 16, 'out_channels': 128, 'filter_heights': [5, 10], 'stride': 3, 'dropout': 0, 'num_classes': 2, 'pad_idx': 0}, {'vocab_size': 1000, 'embed_size': 16, 'out_channels': 128, 'filter_heights': [5, 10], 'stride': 3, 'dropout': 0, 'num_classes': 3, 'pad_idx': 0}, {'vocab_size': 1000, 'embed_size': 32, 'out_channels': 32, 'filter_heights': [3, 4, 5], 'stride': 1, 'dropout': 0, 'num_classes': 2, 'pad_idx': 0}, {'vocab_size': 1000, 'embed_size': 32, 'out_channels': 32, 'filter_heights': [3, 4, 5], 'stride': 1, 'dropout': 0, 'num_classes': 3, 'pad_idx': 0}, {'vocab_size': 1000, 'embed_size': 32, 'out_channels': 32, 'filter_heights': [3, 4, 5], 'stride': 3, 'dropout': 0, 'num_classes': 2, 'pad_idx': 0}, {'vocab_size': 1000, 'embed_size': 32, 'out_channels': 32, 'filter_heights': [3, 4, 5], 'stride': 3, 'dropout': 0, 'num_classes': 3, 'pad_idx': 0}, {'vocab_size': 1000, 'embed_size': 32, 'out_channels': 32, 'filter_heights': [5, 10], 'stride': 1, 'dropout': 0, 'num_classes': 2, 'pad_idx': 0}, {'vocab_size': 1000, 'embed_size': 32, 'out_channels': 32, 'filter_heights': [5, 10], 'stride': 1, 'dropout': 0, 'num_classes': 3, 'pad_idx': 0}, {'vocab_size': 1000, 'embed_size': 32, 'out_channels': 32, 'filter_heights': [5, 10], 'stride': 3, 'dropout': 0, 'num_classes': 2, 'pad_idx': 0}, {'vocab_size': 1000, 'embed_size': 32, 'out_channels': 32, 'filter_heights': [5, 10], 'stride': 3, 'dropout': 0, 'num_classes': 3, 'pad_idx': 0}, {'vocab_size': 1000, 'embed_size': 32, 'out_channels': 128, 'filter_heights': [3, 4, 5], 'stride': 1, 'dropout': 0, 'num_classes': 2, 'pad_idx': 0}, {'vocab_size': 1000, 'embed_size': 32, 'out_channels': 128, 'filter_heights': [3, 4, 5], 'stride': 1, 'dropout': 0, 'num_classes': 3, 'pad_idx': 0}, {'vocab_size': 1000, 'embed_size': 32, 'out_channels': 128, 'filter_heights': [3, 4, 5], 'stride': 3, 'dropout': 0, 'num_classes': 2, 'pad_idx': 0}, {'vocab_size': 1000, 'embed_size': 32, 'out_channels': 128, 'filter_heights': [3, 4, 5], 'stride': 3, 'dropout': 0, 'num_classes': 3, 'pad_idx': 0}, {'vocab_size': 1000, 'embed_size': 32, 'out_channels': 128, 'filter_heights': [5, 10], 'stride': 1, 'dropout': 0, 'num_classes': 2, 'pad_idx': 0}, {'vocab_size': 1000, 'embed_size': 32, 'out_channels': 128, 'filter_heights': [5, 10], 'stride': 1, 'dropout': 0, 'num_classes': 3, 'pad_idx': 0}, {'vocab_size': 1000, 'embed_size': 32, 'out_channels': 128, 'filter_heights': [5, 10], 'stride': 3, 'dropout': 0, 'num_classes': 2, 'pad_idx': 0}, {'vocab_size': 1000, 'embed_size': 32, 'out_channels': 128, 'filter_heights': [5, 10], 'stride': 3, 'dropout': 0, 'num_classes': 3, 'pad_idx': 0}]\n",
    "    expected_outputs = [22434, 22531, 22434, 22531, 23874, 23939, 23874, 23939, 41730, 42115, 41730, 42115, 47490, 47747, 47490, 47747, 44578, 44675, 44578, 44675, 47554, 47619, 47554, 47619, 82306, 82691, 82306, 82691, 94210, 94467, 94210, 94467]\n",
    "\n",
    "    sanityCheckModel(inputs, CNN, expected_outputs, \"init\", None)\n",
    "    print()\n",
    "\n",
    "    # Test forward\n",
    "    inputs = [{'vocab_size': 29730, 'embed_size': 16, 'out_channels': 32, 'filter_heights': [3, 4, 5], 'stride': 1, 'dropout': 0, 'num_classes': 2, 'pad_idx': 0, 'batch_size': 1}, {'vocab_size': 29730, 'embed_size': 16, 'out_channels': 32, 'filter_heights': [3, 4, 5], 'stride': 1, 'dropout': 0, 'num_classes': 2, 'pad_idx': 0, 'batch_size': 20}, {'vocab_size': 29730, 'embed_size': 16, 'out_channels': 32, 'filter_heights': [3, 4, 5], 'stride': 3, 'dropout': 0, 'num_classes': 2, 'pad_idx': 0, 'batch_size': 1}, {'vocab_size': 29730, 'embed_size': 16, 'out_channels': 32, 'filter_heights': [3, 4, 5], 'stride': 3, 'dropout': 0, 'num_classes': 2, 'pad_idx': 0, 'batch_size': 20}, {'vocab_size': 29730, 'embed_size': 16, 'out_channels': 32, 'filter_heights': [5, 10], 'stride': 1, 'dropout': 0, 'num_classes': 2, 'pad_idx': 0, 'batch_size': 1}, {'vocab_size': 29730, 'embed_size': 16, 'out_channels': 32, 'filter_heights': [5, 10], 'stride': 1, 'dropout': 0, 'num_classes': 2, 'pad_idx': 0, 'batch_size': 20}, {'vocab_size': 29730, 'embed_size': 16, 'out_channels': 32, 'filter_heights': [5, 10], 'stride': 3, 'dropout': 0, 'num_classes': 2, 'pad_idx': 0, 'batch_size': 1}, {'vocab_size': 29730, 'embed_size': 16, 'out_channels': 32, 'filter_heights': [5, 10], 'stride': 3, 'dropout': 0, 'num_classes': 2, 'pad_idx': 0, 'batch_size': 20}, {'vocab_size': 29730, 'embed_size': 16, 'out_channels': 128, 'filter_heights': [3, 4, 5], 'stride': 1, 'dropout': 0, 'num_classes': 2, 'pad_idx': 0, 'batch_size': 1}, {'vocab_size': 29730, 'embed_size': 16, 'out_channels': 128, 'filter_heights': [3, 4, 5], 'stride': 1, 'dropout': 0, 'num_classes': 2, 'pad_idx': 0, 'batch_size': 20}, {'vocab_size': 29730, 'embed_size': 16, 'out_channels': 128, 'filter_heights': [3, 4, 5], 'stride': 3, 'dropout': 0, 'num_classes': 2, 'pad_idx': 0, 'batch_size': 1}, {'vocab_size': 29730, 'embed_size': 16, 'out_channels': 128, 'filter_heights': [3, 4, 5], 'stride': 3, 'dropout': 0, 'num_classes': 2, 'pad_idx': 0, 'batch_size': 20}, {'vocab_size': 29730, 'embed_size': 16, 'out_channels': 128, 'filter_heights': [5, 10], 'stride': 1, 'dropout': 0, 'num_classes': 2, 'pad_idx': 0, 'batch_size': 1}, {'vocab_size': 29730, 'embed_size': 16, 'out_channels': 128, 'filter_heights': [5, 10], 'stride': 1, 'dropout': 0, 'num_classes': 2, 'pad_idx': 0, 'batch_size': 20}, {'vocab_size': 29730, 'embed_size': 16, 'out_channels': 128, 'filter_heights': [5, 10], 'stride': 3, 'dropout': 0, 'num_classes': 2, 'pad_idx': 0, 'batch_size': 1}, {'vocab_size': 29730, 'embed_size': 16, 'out_channels': 128, 'filter_heights': [5, 10], 'stride': 3, 'dropout': 0, 'num_classes': 2, 'pad_idx': 0, 'batch_size': 20}, {'vocab_size': 29730, 'embed_size': 32, 'out_channels': 32, 'filter_heights': [3, 4, 5], 'stride': 1, 'dropout': 0, 'num_classes': 2, 'pad_idx': 0, 'batch_size': 1}, {'vocab_size': 29730, 'embed_size': 32, 'out_channels': 32, 'filter_heights': [3, 4, 5], 'stride': 1, 'dropout': 0, 'num_classes': 2, 'pad_idx': 0, 'batch_size': 20}, {'vocab_size': 29730, 'embed_size': 32, 'out_channels': 32, 'filter_heights': [3, 4, 5], 'stride': 3, 'dropout': 0, 'num_classes': 2, 'pad_idx': 0, 'batch_size': 1}, {'vocab_size': 29730, 'embed_size': 32, 'out_channels': 32, 'filter_heights': [3, 4, 5], 'stride': 3, 'dropout': 0, 'num_classes': 2, 'pad_idx': 0, 'batch_size': 20}, {'vocab_size': 29730, 'embed_size': 32, 'out_channels': 32, 'filter_heights': [5, 10], 'stride': 1, 'dropout': 0, 'num_classes': 2, 'pad_idx': 0, 'batch_size': 1}, {'vocab_size': 29730, 'embed_size': 32, 'out_channels': 32, 'filter_heights': [5, 10], 'stride': 1, 'dropout': 0, 'num_classes': 2, 'pad_idx': 0, 'batch_size': 20}, {'vocab_size': 29730, 'embed_size': 32, 'out_channels': 32, 'filter_heights': [5, 10], 'stride': 3, 'dropout': 0, 'num_classes': 2, 'pad_idx': 0, 'batch_size': 1}, {'vocab_size': 29730, 'embed_size': 32, 'out_channels': 32, 'filter_heights': [5, 10], 'stride': 3, 'dropout': 0, 'num_classes': 2, 'pad_idx': 0, 'batch_size': 20}, {'vocab_size': 29730, 'embed_size': 32, 'out_channels': 128, 'filter_heights': [3, 4, 5], 'stride': 1, 'dropout': 0, 'num_classes': 2, 'pad_idx': 0, 'batch_size': 1}, {'vocab_size': 29730, 'embed_size': 32, 'out_channels': 128, 'filter_heights': [3, 4, 5], 'stride': 1, 'dropout': 0, 'num_classes': 2, 'pad_idx': 0, 'batch_size': 20}, {'vocab_size': 29730, 'embed_size': 32, 'out_channels': 128, 'filter_heights': [3, 4, 5], 'stride': 3, 'dropout': 0, 'num_classes': 2, 'pad_idx': 0, 'batch_size': 1}, {'vocab_size': 29730, 'embed_size': 32, 'out_channels': 128, 'filter_heights': [3, 4, 5], 'stride': 3, 'dropout': 0, 'num_classes': 2, 'pad_idx': 0, 'batch_size': 20}, {'vocab_size': 29730, 'embed_size': 32, 'out_channels': 128, 'filter_heights': [5, 10], 'stride': 1, 'dropout': 0, 'num_classes': 2, 'pad_idx': 0, 'batch_size': 1}, {'vocab_size': 29730, 'embed_size': 32, 'out_channels': 128, 'filter_heights': [5, 10], 'stride': 1, 'dropout': 0, 'num_classes': 2, 'pad_idx': 0, 'batch_size': 20}, {'vocab_size': 29730, 'embed_size': 32, 'out_channels': 128, 'filter_heights': [5, 10], 'stride': 3, 'dropout': 0, 'num_classes': 2, 'pad_idx': 0, 'batch_size': 1}, {'vocab_size': 29730, 'embed_size': 32, 'out_channels': 128, 'filter_heights': [5, 10], 'stride': 3, 'dropout': 0, 'num_classes': 2, 'pad_idx': 0, 'batch_size': 20}]\n",
    "    expected_outputs = [torch.Size([1, 2]), torch.Size([20, 2]), torch.Size([1, 2]), torch.Size([20, 2]), torch.Size([1, 2]), torch.Size([20, 2]), torch.Size([1, 2]), torch.Size([20, 2]), torch.Size([1, 2]), torch.Size([20, 2]), torch.Size([1, 2]), torch.Size([20, 2]), torch.Size([1, 2]), torch.Size([20, 2]), torch.Size([1, 2]), torch.Size([20, 2]), torch.Size([1, 2]), torch.Size([20, 2]), torch.Size([1, 2]), torch.Size([20, 2]), torch.Size([1, 2]), torch.Size([20, 2]), torch.Size([1, 2]), torch.Size([20, 2]), torch.Size([1, 2]), torch.Size([20, 2]), torch.Size([1, 2]), torch.Size([20, 2]), torch.Size([1, 2]), torch.Size([20, 2]), torch.Size([1, 2]), torch.Size([20, 2])]\n",
    "    sanity_dataset = TextDataset(train_data, 'train', 5, 150)\n",
    "    sanity_loader = torch.utils.data.DataLoader(sanity_dataset, batch_size=50, shuffle=True, num_workers=2, drop_last=True)\n",
    "\n",
    "    sanityCheckModel(inputs, CNN, expected_outputs, \"forward\", sanity_loader)"
   ]
  },
  {
   "cell_type": "markdown",
   "metadata": {
    "id": "FupiBIfasCu_"
   },
   "source": [
    "## Train CNN Model\n",
    "\n",
    "First, we initialize the train and test <b>dataloaders</b>. A dataloader is responsible for providing batches of data to your model. Notice how we first instantiate datasets for the train and test data, and that we use the training vocabulary for both.\n",
    "\n",
    "You do not need to edit this cell."
   ]
  },
  {
   "cell_type": "code",
   "execution_count": null,
   "metadata": {
    "id": "J2QYl334n9ON"
   },
   "outputs": [],
   "source": [
    "if __name__=='__main__':\n",
    "    THRESHOLD = 5 # Don't change this\n",
    "    MAX_LEN = 200 # Don't change this\n",
    "    BATCH_SIZE = 32 # Feel free to try other batch sizes\n",
    "\n",
    "    train_dataset = TextDataset(train_data, 'train', THRESHOLD, MAX_LEN)\n",
    "    train_loader = torch.utils.data.DataLoader(train_dataset, batch_size=BATCH_SIZE, shuffle=True, num_workers=2, drop_last=True)\n",
    "\n",
    "    test_dataset = TextDataset(test_data, 'test', THRESHOLD, MAX_LEN, train_dataset.idx2word, train_dataset.word2idx)\n",
    "    test_loader = torch.utils.data.DataLoader(test_dataset, batch_size=1, shuffle=False, num_workers=1, drop_last=False)"
   ]
  },
  {
   "cell_type": "markdown",
   "metadata": {
    "id": "AvsctopWmeoY"
   },
   "source": [
    "Now we provide you with a function that takes your model and trains it on the data.\n",
    "\n",
    "You do not need to edit this cell. However, you may want to write code to save your model periodically, as Colab connections are not permanent. See the tutorial here if you wish to do this: https://pytorch.org/tutorials/beginner/saving_loading_models.html."
   ]
  },
  {
   "cell_type": "code",
   "execution_count": null,
   "metadata": {
    "id": "LD-Jj2rUFOzr"
   },
   "outputs": [],
   "source": [
    "### DO NOT EDIT ###\n",
    "\n",
    "from tqdm.notebook import tqdm\n",
    "\n",
    "def train_model(model, num_epochs, data_loader, optimizer, criterion):\n",
    "    print('Training Model...')\n",
    "    model.train()\n",
    "    for epoch in tqdm(range(num_epochs)):\n",
    "        epoch_loss = 0\n",
    "        epoch_acc = 0\n",
    "        for texts, labels in data_loader:\n",
    "            texts = texts.to(DEVICE) # shape: [batch_size, MAX_LEN]\n",
    "            labels = labels.to(DEVICE) # shape: [batch_size]\n",
    "\n",
    "            optimizer.zero_grad()\n",
    "\n",
    "            output = model(texts)\n",
    "            acc = accuracy(output, labels)\n",
    "            \n",
    "            loss = criterion(output, labels)\n",
    "            loss.backward()\n",
    "            optimizer.step()\n",
    "\n",
    "            epoch_loss += loss.item()\n",
    "            epoch_acc += acc.item()\n",
    "        print('[TRAIN]\\t Epoch: {:2d}\\t Loss: {:.4f}\\t Train Accuracy: {:.2f}%'.format(epoch+1, epoch_loss/len(data_loader), 100*epoch_acc/len(data_loader)))\n",
    "    print('Model Trained!\\n')"
   ]
  },
  {
   "cell_type": "markdown",
   "metadata": {
    "id": "FyIZS0WUhFA6"
   },
   "source": [
    "Here are some other helper functions we will need."
   ]
  },
  {
   "cell_type": "code",
   "execution_count": null,
   "metadata": {
    "id": "zVP2scuyhG5f"
   },
   "outputs": [],
   "source": [
    "### DO NOT EDIT ###\n",
    "\n",
    "def accuracy(output, labels):\n",
    "    \"\"\"\n",
    "    Returns accuracy per batch\n",
    "    output: Tensor [batch_size, n_classes]\n",
    "    labels: LongTensor [batch_size]\n",
    "    \"\"\"\n",
    "    preds = output.argmax(dim=1) # find predicted class\n",
    "    correct = (preds == labels).sum().float() # convert into float for division \n",
    "    acc = correct / len(labels)\n",
    "    return acc"
   ]
  },
  {
   "cell_type": "markdown",
   "metadata": {
    "id": "YjvX5c6Isw9e"
   },
   "source": [
    "Now you can instantiate your model. We provide you with some recommended hyperparameters; you should be able to get the desired accuracy with these, but feel free to play around with them."
   ]
  },
  {
   "cell_type": "code",
   "execution_count": null,
   "metadata": {
    "id": "M5UtdjGDuBty"
   },
   "outputs": [],
   "source": [
    "if __name__=='__main__':\n",
    "    cnn_model = CNN(vocab_size = train_dataset.vocab_size, # Don't change this\n",
    "                embed_size = 128, \n",
    "                out_channels = 64, \n",
    "                filter_heights = [2, 3, 4], \n",
    "                stride = 1, \n",
    "                dropout = 0.5, \n",
    "                num_classes = 2, # Don't change this\n",
    "                pad_idx = train_dataset.word2idx[PAD]) # Don't change this\n",
    "\n",
    "    # Put your model on the device (cuda or cpu)\n",
    "    cnn_model = cnn_model.to(DEVICE)\n",
    "    \n",
    "    print('The model has {:,d} trainable parameters'.format(count_parameters(cnn_model)))"
   ]
  },
  {
   "cell_type": "markdown",
   "metadata": {
    "id": "SeHpqw6zvkhI"
   },
   "source": [
    "Next, we create the **criterion**, which is our loss function: it is a measure of how well the model matches the empirical distribution of the data. We use cross-entropy loss (https://en.wikipedia.org/wiki/Cross_entropy).\n",
    "\n",
    "We also define the **optimizer**, which performs gradient descent. We use the Adam optimizer (https://arxiv.org/pdf/1412.6980.pdf), which has been shown to work well on these types of models."
   ]
  },
  {
   "cell_type": "code",
   "execution_count": null,
   "metadata": {
    "id": "FoeyQL4PoNoH"
   },
   "outputs": [],
   "source": [
    "import torch.optim as optim\n",
    "\n",
    "if __name__=='__main__':    \n",
    "    LEARNING_RATE = 5e-4 # Feel free to try other learning rates\n",
    "\n",
    "    # Define the loss function\n",
    "    criterion = nn.CrossEntropyLoss().to(DEVICE)\n",
    "\n",
    "    # Define the optimizer\n",
    "    optimizer = optim.Adam(cnn_model.parameters(), lr=LEARNING_RATE)"
   ]
  },
  {
   "cell_type": "markdown",
   "metadata": {
    "id": "RopLfAJ9wOHN"
   },
   "source": [
    "Finally, we can train the model. If the model is implemented correctly and you're using the GPU, this cell should take around <b>4 minutes</b> (or less). Feel free to change the number of epochs."
   ]
  },
  {
   "cell_type": "code",
   "execution_count": null,
   "metadata": {
    "id": "lPOs1FifoNoN"
   },
   "outputs": [],
   "source": [
    "if __name__=='__main__':    \n",
    "    N_EPOCHS = 10 # Feel free to change this\n",
    "    \n",
    "    # train model for N_EPOCHS epochs\n",
    "    train_model(cnn_model, N_EPOCHS, train_loader, optimizer, criterion)"
   ]
  },
  {
   "cell_type": "markdown",
   "metadata": {
    "id": "Q-OJbZ72t6Yq"
   },
   "source": [
    "## Evaluate CNN Model [20 points]\n",
    "\n",
    "Now that we have trained a model for text classification, it is time to evaluate it. We have provided you with a function to do this; you do not need to modify anything.\n",
    "\n",
    "To pass the autograder for the CNN, you will need to achieve **82% accuracy** on the hidden test set on Gradescope. Note that the Gradescope test set is very similar, and the accuracies between the two datasets should be comparable."
   ]
  },
  {
   "cell_type": "code",
   "execution_count": null,
   "metadata": {
    "id": "vTiiYDZIF--7"
   },
   "outputs": [],
   "source": [
    "### DO NOT EDIT ###\n",
    "\n",
    "import random\n",
    "\n",
    "def evaluate(model, data_loader, criterion, use_tqdm=False):\n",
    "    print('Evaluating performance on the test dataset...')\n",
    "    model.eval()\n",
    "    epoch_loss = 0\n",
    "    epoch_acc = 0\n",
    "    all_predictions = []\n",
    "    print(\"\\nSOME PREDICTIONS FROM THE MODEL:\")\n",
    "    iterator = tqdm(data_loader) if use_tqdm else data_loader\n",
    "    total = 0\n",
    "    for texts, labels in iterator:\n",
    "        bs = texts.shape[0]\n",
    "        total += bs\n",
    "        texts = texts.to(DEVICE)\n",
    "        labels = labels.to(DEVICE)\n",
    "        \n",
    "        output = model(texts)\n",
    "        acc = accuracy(output, labels) * len(labels)\n",
    "        pred = output.argmax(dim=1)\n",
    "        all_predictions.append(pred)\n",
    "        \n",
    "        loss = criterion(output, labels) * len(labels)\n",
    "        \n",
    "        epoch_loss += loss.item()\n",
    "        epoch_acc += acc.item()\n",
    "\n",
    "        if random.random() < 0.0015 and bs == 1:\n",
    "            print(\"Input: \"+' '.join([data_loader.dataset.idx2word[idx] for idx in texts[0].tolist() if idx not in {data_loader.dataset.word2idx[PAD], data_loader.dataset.word2idx[END]}]))\n",
    "            print(\"Prediction:\", pred.item(), '\\tCorrect Output:', labels.item(), '\\n')\n",
    "\n",
    "    full_acc = 100*epoch_acc/total\n",
    "    full_loss = epoch_loss/total\n",
    "    print('[TEST]\\t Loss: {:.4f}\\t Accuracy: {:.2f}%'.format(full_loss, full_acc))\n",
    "    predictions = torch.cat(all_predictions)\n",
    "    return predictions, full_acc, full_loss"
   ]
  },
  {
   "cell_type": "code",
   "execution_count": null,
   "metadata": {
    "id": "Z718w8e0oNoS"
   },
   "outputs": [],
   "source": [
    "if __name__=='__main__':\n",
    "    evaluate(cnn_model, test_loader, criterion, use_tqdm=True) # Compute test data accuracy"
   ]
  },
  {
   "cell_type": "markdown",
   "metadata": {
    "id": "BRCFvjwDthiA"
   },
   "source": [
    "# Step 4: Train a Recurrent Neural Network (RNN) [40 points]\n",
    "You will now build a text clasification model that is based on **recurrences**."
   ]
  },
  {
   "cell_type": "markdown",
   "metadata": {
    "id": "Y-t8tlZviV2x"
   },
   "source": [
    "## <font color='red'>TODO:</font> Define the RNN Model [20 points]\n",
    "\n",
    "First, you will define the RNN. As with the CNN, we provide you with the skeleton of the class, and you need to fill in parts of the `__init__(...)` and `forward(...)` methods. Each of these functions is worth 10 points."
   ]
  },
  {
   "cell_type": "code",
   "execution_count": null,
   "metadata": {
    "id": "2nc_HxbP6klI"
   },
   "outputs": [],
   "source": [
    "class RNN(nn.Module):\n",
    "    def __init__(self, vocab_size, embed_size, hidden_size, num_layers, bidirectional, dropout, num_classes, pad_idx):\n",
    "        super(RNN, self).__init__()\n",
    "        self.hidden_size = hidden_size\n",
    "        self.num_layers = num_layers\n",
    "\n",
    "        ##### TODO #####\n",
    "\n",
    "        # Create an embedding layer (https://pytorch.org/docs/stable/generated/torch.nn.Embedding.html)\n",
    "        #   to represent the words in your vocabulary. Make sure to use vocab_size, embed_size, and pad_idx here.\n",
    "\n",
    "        # Create a recurrent network (use nn.GRU, not nn.LSTM) with batch_first = True\n",
    "        # Make sure you use hidden_size, num_layers, dropout, and bidirectional here.\n",
    "        \n",
    "        # Create a dropout layer (nn.Dropout) using dropout\n",
    "\n",
    "        # Define a linear layer (nn.Linear) that consists of num_classes units \n",
    "        #   and takes as input the output of the last timestep. In the bidirectional case, you should concatenate\n",
    "        #   the output of the last timestep of the forward direction with the output of the last timestep of the backward direction).\n",
    "\n",
    "\n",
    "    def forward(self, texts):\n",
    "        \"\"\"\n",
    "        texts: LongTensor [batch_size, MAX_LEN]\n",
    "        \n",
    "        Returns output: Tensor [batch_size, num_classes]\n",
    "        \"\"\"\n",
    "        ##### TODO #####\n",
    "\n",
    "        # Pass texts through your embedding layer to convert from word ids to word embeddings\n",
    "        #   Resulting: shape: [batch_size, max_len, embed_size]\n",
    "\n",
    "        # Pass the result through your recurrent network\n",
    "        #   See PyTorch documentation for resulting shape for nn.GRU\n",
    "        \n",
    "        # Concatenate the outputs of the last timestep for each direction (see torch.cat(...))\n",
    "        #   This depends on whether or not your model is bidirectional.\n",
    "        #   Resulting shape: [batch_size, num_dirs*hidden_size]\n",
    "        \n",
    "        # Apply dropout\n",
    "\n",
    "        # Pass your output through the linear layer and return its output \n",
    "        #   Resulting shape: [batch_size, num_classes]\n",
    "\n",
    "        ##### NOTE: Do not apply a sigmoid or softmax to the final output - done in training method!\n",
    "        \n",
    "        return None"
   ]
  },
  {
   "cell_type": "markdown",
   "metadata": {
    "id": "eDLTiJMyoLxJ"
   },
   "source": [
    "##Sanity Check: RNN Model\n",
    "\n",
    "The code below runs a sanity check for your `RNN` class. The tests are similar to the hidden ones in Gradescope. However, note that passing the sanity check does <b>not</b> guarantee that you will pass the autograder; it is intended to help you debug."
   ]
  },
  {
   "cell_type": "code",
   "execution_count": null,
   "metadata": {
    "id": "Duq7X2ClwXga"
   },
   "outputs": [],
   "source": [
    "### DO NOT EDIT ###\n",
    "\n",
    "if __name__ == '__main__':\n",
    "    # Test init\n",
    "    inputs = [{'vocab_size': 1000, 'embed_size': 16, 'hidden_size': 32, 'num_layers': 2, 'bidirectional': True, 'dropout': 0, 'num_classes': 2, 'pad_idx': 0}, {'vocab_size': 1000, 'embed_size': 16, 'hidden_size': 32, 'num_layers': 2, 'bidirectional': True, 'dropout': 0, 'num_classes': 4, 'pad_idx': 0}, {'vocab_size': 1000, 'embed_size': 16, 'hidden_size': 32, 'num_layers': 2, 'bidirectional': False, 'dropout': 0, 'num_classes': 2, 'pad_idx': 0}, {'vocab_size': 1000, 'embed_size': 16, 'hidden_size': 32, 'num_layers': 2, 'bidirectional': False, 'dropout': 0, 'num_classes': 4, 'pad_idx': 0}, {'vocab_size': 1000, 'embed_size': 16, 'hidden_size': 32, 'num_layers': 4, 'bidirectional': True, 'dropout': 0, 'num_classes': 2, 'pad_idx': 0}, {'vocab_size': 1000, 'embed_size': 16, 'hidden_size': 32, 'num_layers': 4, 'bidirectional': True, 'dropout': 0, 'num_classes': 4, 'pad_idx': 0}, {'vocab_size': 1000, 'embed_size': 16, 'hidden_size': 32, 'num_layers': 4, 'bidirectional': False, 'dropout': 0, 'num_classes': 2, 'pad_idx': 0}, {'vocab_size': 1000, 'embed_size': 16, 'hidden_size': 32, 'num_layers': 4, 'bidirectional': False, 'dropout': 0, 'num_classes': 4, 'pad_idx': 0}, {'vocab_size': 1000, 'embed_size': 16, 'hidden_size': 256, 'num_layers': 2, 'bidirectional': True, 'dropout': 0, 'num_classes': 2, 'pad_idx': 0}, {'vocab_size': 1000, 'embed_size': 16, 'hidden_size': 256, 'num_layers': 2, 'bidirectional': True, 'dropout': 0, 'num_classes': 4, 'pad_idx': 0}, {'vocab_size': 1000, 'embed_size': 16, 'hidden_size': 256, 'num_layers': 2, 'bidirectional': False, 'dropout': 0, 'num_classes': 2, 'pad_idx': 0}, {'vocab_size': 1000, 'embed_size': 16, 'hidden_size': 256, 'num_layers': 2, 'bidirectional': False, 'dropout': 0, 'num_classes': 4, 'pad_idx': 0}, {'vocab_size': 1000, 'embed_size': 16, 'hidden_size': 256, 'num_layers': 4, 'bidirectional': True, 'dropout': 0, 'num_classes': 2, 'pad_idx': 0}, {'vocab_size': 1000, 'embed_size': 16, 'hidden_size': 256, 'num_layers': 4, 'bidirectional': True, 'dropout': 0, 'num_classes': 4, 'pad_idx': 0}, {'vocab_size': 1000, 'embed_size': 16, 'hidden_size': 256, 'num_layers': 4, 'bidirectional': False, 'dropout': 0, 'num_classes': 2, 'pad_idx': 0}, {'vocab_size': 1000, 'embed_size': 16, 'hidden_size': 256, 'num_layers': 4, 'bidirectional': False, 'dropout': 0, 'num_classes': 4, 'pad_idx': 0}, {'vocab_size': 1000, 'embed_size': 64, 'hidden_size': 32, 'num_layers': 2, 'bidirectional': True, 'dropout': 0, 'num_classes': 2, 'pad_idx': 0}, {'vocab_size': 1000, 'embed_size': 64, 'hidden_size': 32, 'num_layers': 2, 'bidirectional': True, 'dropout': 0, 'num_classes': 4, 'pad_idx': 0}, {'vocab_size': 1000, 'embed_size': 64, 'hidden_size': 32, 'num_layers': 2, 'bidirectional': False, 'dropout': 0, 'num_classes': 2, 'pad_idx': 0}, {'vocab_size': 1000, 'embed_size': 64, 'hidden_size': 32, 'num_layers': 2, 'bidirectional': False, 'dropout': 0, 'num_classes': 4, 'pad_idx': 0}, {'vocab_size': 1000, 'embed_size': 64, 'hidden_size': 32, 'num_layers': 4, 'bidirectional': True, 'dropout': 0, 'num_classes': 2, 'pad_idx': 0}, {'vocab_size': 1000, 'embed_size': 64, 'hidden_size': 32, 'num_layers': 4, 'bidirectional': True, 'dropout': 0, 'num_classes': 4, 'pad_idx': 0}, {'vocab_size': 1000, 'embed_size': 64, 'hidden_size': 32, 'num_layers': 4, 'bidirectional': False, 'dropout': 0, 'num_classes': 2, 'pad_idx': 0}, {'vocab_size': 1000, 'embed_size': 64, 'hidden_size': 32, 'num_layers': 4, 'bidirectional': False, 'dropout': 0, 'num_classes': 4, 'pad_idx': 0}, {'vocab_size': 1000, 'embed_size': 64, 'hidden_size': 256, 'num_layers': 2, 'bidirectional': True, 'dropout': 0, 'num_classes': 2, 'pad_idx': 0}, {'vocab_size': 1000, 'embed_size': 64, 'hidden_size': 256, 'num_layers': 2, 'bidirectional': True, 'dropout': 0, 'num_classes': 4, 'pad_idx': 0}, {'vocab_size': 1000, 'embed_size': 64, 'hidden_size': 256, 'num_layers': 2, 'bidirectional': False, 'dropout': 0, 'num_classes': 2, 'pad_idx': 0}, {'vocab_size': 1000, 'embed_size': 64, 'hidden_size': 256, 'num_layers': 2, 'bidirectional': False, 'dropout': 0, 'num_classes': 4, 'pad_idx': 0}, {'vocab_size': 1000, 'embed_size': 64, 'hidden_size': 256, 'num_layers': 4, 'bidirectional': True, 'dropout': 0, 'num_classes': 2, 'pad_idx': 0}, {'vocab_size': 1000, 'embed_size': 64, 'hidden_size': 256, 'num_layers': 4, 'bidirectional': True, 'dropout': 0, 'num_classes': 4, 'pad_idx': 0}, {'vocab_size': 1000, 'embed_size': 64, 'hidden_size': 256, 'num_layers': 4, 'bidirectional': False, 'dropout': 0, 'num_classes': 2, 'pad_idx': 0}, {'vocab_size': 1000, 'embed_size': 64, 'hidden_size': 256, 'num_layers': 4, 'bidirectional': False, 'dropout': 0, 'num_classes': 4, 'pad_idx': 0}]\n",
    "    expected_outputs = [44546, 44676, 27202, 27268, 82178, 82308, 39874, 39940, 1620610, 1621636, 621698, 622212, 3986050, 3987076, 1411202, 1411716, 101762, 101892, 79810, 79876, 139394, 139524, 92482, 92548, 1742338, 1743364, 706562, 707076, 4107778, 4108804, 1496066, 1496580]\n",
    "\n",
    "    sanityCheckModel(inputs, RNN, expected_outputs, \"init\", None)\n",
    "    print()\n",
    "\n",
    "    # Test forward\n",
    "    inputs = [{'vocab_size': 29730, 'embed_size': 16, 'hidden_size': 32, 'num_layers': 2, 'bidirectional': True, 'dropout': 0, 'num_classes': 2, 'pad_idx': 0, 'batch_size': 1}, {'vocab_size': 29730, 'embed_size': 16, 'hidden_size': 32, 'num_layers': 2, 'bidirectional': True, 'dropout': 0, 'num_classes': 2, 'pad_idx': 0, 'batch_size': 2}, {'vocab_size': 29730, 'embed_size': 16, 'hidden_size': 32, 'num_layers': 2, 'bidirectional': True, 'dropout': 0, 'num_classes': 4, 'pad_idx': 0, 'batch_size': 1}, {'vocab_size': 29730, 'embed_size': 16, 'hidden_size': 32, 'num_layers': 2, 'bidirectional': True, 'dropout': 0, 'num_classes': 4, 'pad_idx': 0, 'batch_size': 2}, {'vocab_size': 29730, 'embed_size': 16, 'hidden_size': 32, 'num_layers': 2, 'bidirectional': False, 'dropout': 0, 'num_classes': 2, 'pad_idx': 0, 'batch_size': 1}, {'vocab_size': 29730, 'embed_size': 16, 'hidden_size': 32, 'num_layers': 2, 'bidirectional': False, 'dropout': 0, 'num_classes': 2, 'pad_idx': 0, 'batch_size': 2}, {'vocab_size': 29730, 'embed_size': 16, 'hidden_size': 32, 'num_layers': 2, 'bidirectional': False, 'dropout': 0, 'num_classes': 4, 'pad_idx': 0, 'batch_size': 1}, {'vocab_size': 29730, 'embed_size': 16, 'hidden_size': 32, 'num_layers': 2, 'bidirectional': False, 'dropout': 0, 'num_classes': 4, 'pad_idx': 0, 'batch_size': 2}, {'vocab_size': 29730, 'embed_size': 16, 'hidden_size': 32, 'num_layers': 4, 'bidirectional': True, 'dropout': 0, 'num_classes': 2, 'pad_idx': 0, 'batch_size': 1}, {'vocab_size': 29730, 'embed_size': 16, 'hidden_size': 32, 'num_layers': 4, 'bidirectional': True, 'dropout': 0, 'num_classes': 2, 'pad_idx': 0, 'batch_size': 2}, {'vocab_size': 29730, 'embed_size': 16, 'hidden_size': 32, 'num_layers': 4, 'bidirectional': True, 'dropout': 0, 'num_classes': 4, 'pad_idx': 0, 'batch_size': 1}, {'vocab_size': 29730, 'embed_size': 16, 'hidden_size': 32, 'num_layers': 4, 'bidirectional': True, 'dropout': 0, 'num_classes': 4, 'pad_idx': 0, 'batch_size': 2}, {'vocab_size': 29730, 'embed_size': 16, 'hidden_size': 32, 'num_layers': 4, 'bidirectional': False, 'dropout': 0, 'num_classes': 2, 'pad_idx': 0, 'batch_size': 1}, {'vocab_size': 29730, 'embed_size': 16, 'hidden_size': 32, 'num_layers': 4, 'bidirectional': False, 'dropout': 0, 'num_classes': 2, 'pad_idx': 0, 'batch_size': 2}, {'vocab_size': 29730, 'embed_size': 16, 'hidden_size': 32, 'num_layers': 4, 'bidirectional': False, 'dropout': 0, 'num_classes': 4, 'pad_idx': 0, 'batch_size': 1}, {'vocab_size': 29730, 'embed_size': 16, 'hidden_size': 32, 'num_layers': 4, 'bidirectional': False, 'dropout': 0, 'num_classes': 4, 'pad_idx': 0, 'batch_size': 2}, {'vocab_size': 29730, 'embed_size': 16, 'hidden_size': 64, 'num_layers': 2, 'bidirectional': True, 'dropout': 0, 'num_classes': 2, 'pad_idx': 0, 'batch_size': 1}, {'vocab_size': 29730, 'embed_size': 16, 'hidden_size': 64, 'num_layers': 2, 'bidirectional': True, 'dropout': 0, 'num_classes': 2, 'pad_idx': 0, 'batch_size': 2}, {'vocab_size': 29730, 'embed_size': 16, 'hidden_size': 64, 'num_layers': 2, 'bidirectional': True, 'dropout': 0, 'num_classes': 4, 'pad_idx': 0, 'batch_size': 1}, {'vocab_size': 29730, 'embed_size': 16, 'hidden_size': 64, 'num_layers': 2, 'bidirectional': True, 'dropout': 0, 'num_classes': 4, 'pad_idx': 0, 'batch_size': 2}, {'vocab_size': 29730, 'embed_size': 16, 'hidden_size': 64, 'num_layers': 2, 'bidirectional': False, 'dropout': 0, 'num_classes': 2, 'pad_idx': 0, 'batch_size': 1}, {'vocab_size': 29730, 'embed_size': 16, 'hidden_size': 64, 'num_layers': 2, 'bidirectional': False, 'dropout': 0, 'num_classes': 2, 'pad_idx': 0, 'batch_size': 2}, {'vocab_size': 29730, 'embed_size': 16, 'hidden_size': 64, 'num_layers': 2, 'bidirectional': False, 'dropout': 0, 'num_classes': 4, 'pad_idx': 0, 'batch_size': 1}, {'vocab_size': 29730, 'embed_size': 16, 'hidden_size': 64, 'num_layers': 2, 'bidirectional': False, 'dropout': 0, 'num_classes': 4, 'pad_idx': 0, 'batch_size': 2}, {'vocab_size': 29730, 'embed_size': 16, 'hidden_size': 64, 'num_layers': 4, 'bidirectional': True, 'dropout': 0, 'num_classes': 2, 'pad_idx': 0, 'batch_size': 1}, {'vocab_size': 29730, 'embed_size': 16, 'hidden_size': 64, 'num_layers': 4, 'bidirectional': True, 'dropout': 0, 'num_classes': 2, 'pad_idx': 0, 'batch_size': 2}, {'vocab_size': 29730, 'embed_size': 16, 'hidden_size': 64, 'num_layers': 4, 'bidirectional': True, 'dropout': 0, 'num_classes': 4, 'pad_idx': 0, 'batch_size': 1}, {'vocab_size': 29730, 'embed_size': 16, 'hidden_size': 64, 'num_layers': 4, 'bidirectional': True, 'dropout': 0, 'num_classes': 4, 'pad_idx': 0, 'batch_size': 2}, {'vocab_size': 29730, 'embed_size': 16, 'hidden_size': 64, 'num_layers': 4, 'bidirectional': False, 'dropout': 0, 'num_classes': 2, 'pad_idx': 0, 'batch_size': 1}, {'vocab_size': 29730, 'embed_size': 16, 'hidden_size': 64, 'num_layers': 4, 'bidirectional': False, 'dropout': 0, 'num_classes': 2, 'pad_idx': 0, 'batch_size': 2}, {'vocab_size': 29730, 'embed_size': 16, 'hidden_size': 64, 'num_layers': 4, 'bidirectional': False, 'dropout': 0, 'num_classes': 4, 'pad_idx': 0, 'batch_size': 1}, {'vocab_size': 29730, 'embed_size': 16, 'hidden_size': 64, 'num_layers': 4, 'bidirectional': False, 'dropout': 0, 'num_classes': 4, 'pad_idx': 0, 'batch_size': 2}]\n",
    "    expected_outputs = [torch.Size([1, 2]), torch.Size([2, 2]), torch.Size([1, 4]), torch.Size([2, 4]), torch.Size([1, 2]), torch.Size([2, 2]), torch.Size([1, 4]), torch.Size([2, 4]), torch.Size([1, 2]), torch.Size([2, 2]), torch.Size([1, 4]), torch.Size([2, 4]), torch.Size([1, 2]), torch.Size([2, 2]), torch.Size([1, 4]), torch.Size([2, 4]), torch.Size([1, 2]), torch.Size([2, 2]), torch.Size([1, 4]), torch.Size([2, 4]), torch.Size([1, 2]), torch.Size([2, 2]), torch.Size([1, 4]), torch.Size([2, 4]), torch.Size([1, 2]), torch.Size([2, 2]), torch.Size([1, 4]), torch.Size([2, 4]), torch.Size([1, 2]), torch.Size([2, 2]), torch.Size([1, 4]), torch.Size([2, 4])]\n",
    "    sanity_dataset = TextDataset(train_data, 'train', 5, 150)\n",
    "    sanity_loader = torch.utils.data.DataLoader(sanity_dataset, batch_size=50, shuffle=True, num_workers=2, drop_last=True)\n",
    "\n",
    "    sanityCheckModel(inputs, RNN, expected_outputs, \"forward\", sanity_loader)"
   ]
  },
  {
   "cell_type": "markdown",
   "metadata": {
    "id": "baD8lYAytdTV"
   },
   "source": [
    "## Train RNN Model\n",
    "First, we initialize the train and test dataloaders."
   ]
  },
  {
   "cell_type": "code",
   "execution_count": null,
   "metadata": {
    "id": "WCzNm8LDM5aT"
   },
   "outputs": [],
   "source": [
    "if __name__=='__main__':\n",
    "    THRESHOLD = 5 # Don't change this\n",
    "    MAX_LEN = 200 # Don't change this\n",
    "    BATCH_SIZE = 32 # Feel free to try other batch sizes\n",
    "\n",
    "    train_dataset = TextDataset(train_data, 'train', THRESHOLD, MAX_LEN)\n",
    "    train_loader = torch.utils.data.DataLoader(train_dataset, batch_size=BATCH_SIZE, shuffle=True, num_workers=2, drop_last=True)\n",
    "\n",
    "    test_dataset = TextDataset(test_data, 'test', THRESHOLD, MAX_LEN, train_dataset.idx2word, train_dataset.word2idx)\n",
    "    test_loader = torch.utils.data.DataLoader(test_dataset, batch_size=1, shuffle=False, num_workers=1, drop_last=False)"
   ]
  },
  {
   "cell_type": "markdown",
   "metadata": {
    "id": "lp5pAz8emxi2"
   },
   "source": [
    "Now you can instantiate your model. We provide you with some recommended hyperparameters; you should be able to get the desired accuracy with these, but feel free to play around with them."
   ]
  },
  {
   "cell_type": "code",
   "execution_count": null,
   "metadata": {
    "id": "CA-UairGErap"
   },
   "outputs": [],
   "source": [
    "if __name__=='__main__':\n",
    "    rnn_model = RNN(vocab_size = train_dataset.vocab_size, # Don't change this\n",
    "                embed_size = 128, \n",
    "                hidden_size = 128, \n",
    "                num_layers = 2,\n",
    "                bidirectional = True,\n",
    "                dropout = 0.5,\n",
    "                num_classes = 2, # Don't change this\n",
    "                pad_idx = train_dataset.word2idx[PAD]) # Don't change this\n",
    "\n",
    "    # Put your model on device\n",
    "    rnn_model = rnn_model.to(DEVICE)\n",
    "\n",
    "    print('The model has {:,d} trainable parameters'.format(count_parameters(rnn_model)))"
   ]
  },
  {
   "cell_type": "markdown",
   "metadata": {
    "id": "LqngFY4MoLec"
   },
   "source": [
    "Here, we create the criterion and optimizer; as with the CNN, we use cross-entropy loss and Adam optimization."
   ]
  },
  {
   "cell_type": "code",
   "execution_count": null,
   "metadata": {
    "id": "em6Rs58OlJ3Z"
   },
   "outputs": [],
   "source": [
    "if __name__=='__main__':    \n",
    "    LEARNING_RATE = 5e-4 # Feel free to try other learning rates\n",
    "\n",
    "    # Define your loss function\n",
    "    criterion = nn.CrossEntropyLoss().to(DEVICE)\n",
    "\n",
    "    # Define your optimizer\n",
    "    optimizer = optim.Adam(rnn_model.parameters(), lr=LEARNING_RATE)"
   ]
  },
  {
   "cell_type": "markdown",
   "metadata": {
    "id": "uEPsi3choUm5"
   },
   "source": [
    "Finally, we can train the model. We use the same `train_model(...)` function that we defined for the CNN. If the model is implemented correctly and you're using the GPU, this cell should take around <b>2 minutes</b> (or less). Feel free to change the number of epochs."
   ]
  },
  {
   "cell_type": "code",
   "execution_count": null,
   "metadata": {
    "id": "NR8Wckf0l2G7"
   },
   "outputs": [],
   "source": [
    "if __name__=='__main__':    \n",
    "    N_EPOCHS = 6 # Feel free to change this\n",
    "    \n",
    "    # train model for N_EPOCHS epochs\n",
    "    train_model(rnn_model, N_EPOCHS, train_loader, optimizer, criterion)"
   ]
  },
  {
   "cell_type": "markdown",
   "metadata": {
    "id": "j-SRIFfooYk6"
   },
   "source": [
    "## Evaluate RNN Model [20 points]\n",
    "\n",
    "Now we can evaluate the RNN. \n",
    "\n",
    "To pass the autograder for the RNN, you will need to achieve **82% accuracy** on the hidden test set on Gradescope. Note that the Gradescope test set is very similar, and the accuracies between the two datasets should be comparable."
   ]
  },
  {
   "cell_type": "code",
   "execution_count": null,
   "metadata": {
    "id": "HYon4AbHl5_M"
   },
   "outputs": [],
   "source": [
    "if __name__=='__main__':    \n",
    "    evaluate(rnn_model, test_loader, criterion, use_tqdm=True) # Compute test data accuracy"
   ]
  },
  {
   "cell_type": "markdown",
   "metadata": {
    "id": "8WQAV6O2xHvS"
   },
   "source": [
    "# What to Submit\n",
    "\n",
    "To submit the assignment, download this notebook as a <TT>.py</TT> file. You can do this by going to <TT>File > Download > Download .py</TT>. Then (optionally) rename it to `hwk2.py`.\n",
    "\n",
    "You will also need to save the `cnn_model` and `rnn_model`. You can run the cell below to do this. After you save the files to your Google Drive, you need to manually download the files to your computer, and then submit them to the autograder.\n",
    "\n",
    "You will submit the following files to the autograder:\n",
    "1.   `hwk2.py`, the download of this notebook as a `.py` file (**not** a `.ipynb` file)\n",
    "1.   `cnn.pt`, the saved version of your `cnn_model`\n",
    "1.   `rnn.pt`, the saved version of your `rnn_model`"
   ]
  },
  {
   "cell_type": "code",
   "execution_count": null,
   "metadata": {
    "id": "abbbMNi8X_ai"
   },
   "outputs": [],
   "source": [
    "### DO NOT EDIT ###\n",
    "\n",
    "if __name__=='__main__':\n",
    "    # from google.colab import drive\n",
    "    # drive.mount('/content/drive')\n",
    "    print()\n",
    "\n",
    "    try:\n",
    "        cnn_model is None\n",
    "        cnn_exists = True\n",
    "    except:\n",
    "        cnn_exists = False\n",
    "\n",
    "    try:\n",
    "        rnn_model is None\n",
    "        rnn_exists = True\n",
    "    except:\n",
    "        rnn_exists = False\n",
    "\n",
    "    if cnn_exists:\n",
    "        print(\"Saving CNN model....\") \n",
    "        # torch.save(cnn_model, \"drive/My Drive/cnn.pt\")\n",
    "        torch.save(cnn_model, \"saved_models/cnn.pt\")\n",
    "    if rnn_exists:\n",
    "        print(\"Saving RNN model....\") \n",
    "        # torch.save(rnn_model, \"drive/My Drive/rnn.pt\")\n",
    "        torch.save(cnn_model, \"saved_models/rnn.pt\")\n",
    "    print(\"Done!\")"
   ]
  },
  {
   "cell_type": "code",
   "source": [],
   "metadata": {
    "id": "v4o5fRQELX7G"
   },
   "execution_count": null,
   "outputs": []
  },
  {
   "cell_type": "code",
   "execution_count": null,
   "outputs": [],
   "source": [],
   "metadata": {
    "collapsed": false
   }
  },
  {
   "cell_type": "code",
   "execution_count": null,
   "outputs": [],
   "source": [],
   "metadata": {
    "collapsed": false
   }
  }
 ],
 "metadata": {
  "accelerator": "GPU",
  "colab": {
   "collapsed_sections": [],
   "provenance": []
  },
  "gpuClass": "standard",
  "kernelspec": {
   "display_name": "Python 3",
   "name": "python3"
  },
  "language_info": {
   "codemirror_mode": {
    "name": "ipython",
    "version": 3
   },
   "file_extension": ".py",
   "mimetype": "text/x-python",
   "name": "python",
   "nbconvert_exporter": "python",
   "pygments_lexer": "ipython3",
   "version": "3.6.2"
  }
 },
 "nbformat": 4,
 "nbformat_minor": 0
}
