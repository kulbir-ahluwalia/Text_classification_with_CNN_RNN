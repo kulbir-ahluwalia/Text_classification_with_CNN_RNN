{
 "cells": [
  {
   "cell_type": "markdown",
   "metadata": {
    "id": "pSy-sfxOsclS"
   },
   "source": [
    "# CS 447 Homework 2 $-$ Text Classification with Neural Networks\n",
    "In this homework, you will build machine learning models to detect the sentiment of movie reviews using the IMDb movie reviews dataset. Specifically, you will implement classifiers based on Convolutional Neural Networks (CNN's) and Recurrent Neural Networks (RNN's).\n",
    "\n",
    "In addition to the Pytorch tutorial we have provided on Coursera, we highly recommend that you take a look at the PyTorch tutorials before starting this assignment:\n",
    "<ul>\n",
    "<li><a href=\"https://pytorch.org/tutorials/beginner/pytorch_with_examples.html\">https://pytorch.org/tutorials/beginner/pytorch_with_examples.html</a>\n",
    "<li><a href=\"https://pytorch.org/tutorials/beginner/data_loading_tutorial.html\">https://pytorch.org/tutorials/beginner/data_loading_tutorial.html</a>\n",
    "<li><a href=\"https://github.com/yunjey/pytorch-tutorial\">https://github.com/yunjey/pytorch-tutorial</a>\n",
    "</ul>\n",
    "\n",
    "<font color='green'>While you work, we suggest that you keep your hardware accelerator set to \"CPU\" (the default for Colab). However, when you have finished debugging and are ready to train your models, you should select \"GPU\" as your runtime type. This will speed up the training of your models. You can find this by going to <TT>Runtime > Change Runtime Type</TT> and select \"GPU\" from the dropdown menu.</font>\n",
    "\n",
    "As usual, you should not import any other libraries."
   ]
  },
  {
   "cell_type": "code",
   "execution_count": 1,
   "metadata": {
    "id": "EyCOvTRQ1nb-"
   },
   "outputs": [
    {
     "name": "stdout",
     "output_type": "stream",
     "text": [
      "Using device: cuda:0\n"
     ]
    }
   ],
   "source": [
    "### DO NOT EDIT ###\n",
    "\n",
    "import torch\n",
    "\n",
    "DEVICE = torch.device('cuda:0' if torch.cuda.is_available() else 'cpu')\n",
    "\n",
    "if __name__=='__main__':\n",
    "    print('Using device:', DEVICE)"
   ]
  },
  {
   "cell_type": "markdown",
   "metadata": {
    "id": "zHbJ1-aDsWCG"
   },
   "source": [
    "# Step 1: Download the Data\n",
    "First we will download the dataset using [torchtext](https://torchtext.readthedocs.io/en/latest/index.html), which is a package that supports NLP for PyTorch. \n",
    "\n",
    "Unfortunately, you have to install the <TT>torchdata</TT> package on the Colab machine in order to access the data. To do this, run the cell below (you may need to click the \"Restart Runtime\" button when it finishes). You will have to do this every time you return to work on the homework.\n",
    "\n"
   ]
  },
  {
   "cell_type": "code",
   "execution_count": 2,
   "metadata": {
    "id": "rT4n4QzHAYe_"
   },
   "outputs": [
    {
     "name": "stdout",
     "output_type": "stream",
     "text": [
      "Requirement already satisfied: torchdata in /home/kulbir/anaconda3/envs/nlp_cuda116_python3_9/lib/python3.9/site-packages (0.4.1)\r\n",
      "Requirement already satisfied: requests in /home/kulbir/anaconda3/envs/nlp_cuda116_python3_9/lib/python3.9/site-packages (from torchdata) (2.28.1)\r\n",
      "Requirement already satisfied: urllib3>=1.25 in /home/kulbir/anaconda3/envs/nlp_cuda116_python3_9/lib/python3.9/site-packages (from torchdata) (1.26.11)\r\n",
      "Requirement already satisfied: torch==1.12.1 in /home/kulbir/anaconda3/envs/nlp_cuda116_python3_9/lib/python3.9/site-packages (from torchdata) (1.12.1)\r\n",
      "Requirement already satisfied: portalocker>=2.0.0 in /home/kulbir/anaconda3/envs/nlp_cuda116_python3_9/lib/python3.9/site-packages (from torchdata) (2.5.1)\r\n",
      "Requirement already satisfied: typing_extensions in /home/kulbir/anaconda3/envs/nlp_cuda116_python3_9/lib/python3.9/site-packages (from torch==1.12.1->torchdata) (4.3.0)\r\n",
      "Requirement already satisfied: idna<4,>=2.5 in /home/kulbir/anaconda3/envs/nlp_cuda116_python3_9/lib/python3.9/site-packages (from requests->torchdata) (3.3)\r\n",
      "Requirement already satisfied: charset-normalizer<3,>=2 in /home/kulbir/anaconda3/envs/nlp_cuda116_python3_9/lib/python3.9/site-packages (from requests->torchdata) (2.0.4)\r\n",
      "Requirement already satisfied: certifi>=2017.4.17 in /home/kulbir/anaconda3/envs/nlp_cuda116_python3_9/lib/python3.9/site-packages (from requests->torchdata) (2022.9.24)\r\n"
     ]
    }
   ],
   "source": [
    "!pip install torchdata"
   ]
  },
  {
   "cell_type": "markdown",
   "metadata": {
    "id": "bMVBA0ijAUgt"
   },
   "source": [
    "The following cell will get you `train_data` and `test_data`. It also does some basic tokenization.\n",
    "\n",
    "*   To access the list of textual tokens for the *i*th example, use `train_data[i][1]`\n",
    "*   To access the label for the *i*th example, use `train_data[i][0]`"
   ]
  },
  {
   "cell_type": "code",
   "execution_count": 3,
   "metadata": {
    "id": "dfX3bNby8FYL"
   },
   "outputs": [
    {
     "name": "stdout",
     "output_type": "stream",
     "text": [
      "Num. Train Examples: 20000\n",
      "Num. Test Examples: 5000\n",
      "the label for the *i*th example: neg \n",
      "list of textual tokens for the *i*th example: ['I', 'rented', 'I', 'AM', 'CURIOUS-YELLOW', 'from', 'my', 'video', 'store', 'because', 'of', 'all', 'the', 'controversy', 'that', 'surrounded', 'it', 'when', 'it', 'was', 'first', 'released', 'in', '1967', '.', 'I', 'also', 'heard', 'that', 'at', 'first', 'it', 'was', 'seized', 'by', 'U.S', '.', 'customs', 'if', 'it', 'ever', 'tried', 'to', 'enter', 'this', 'country', ',', 'therefore', 'being', 'a', 'fan', 'of', 'films', 'considered', '\"', 'controversial', '\"', 'I', 'really', 'had', 'to', 'see', 'this', 'for', 'myself.<br', '/><br', '/>The', 'plot', 'is', 'centered', 'around', 'a', 'young', 'Swedish', 'drama', 'student', 'named', 'Lena', 'who', 'wants', 'to', 'learn', 'everything', 'she', 'can', 'about', 'life', '.', 'In', 'particular', 'she', 'wants', 'to', 'focus', 'her', 'attentions', 'to', 'making', 'some', 'sort', 'of', 'documentary', 'on', 'what', 'the', 'average', 'Swede', 'thought', 'about', 'certain', 'political', 'issues', 'such', 'as', 'the', 'Vietnam', 'War', 'and', 'race', 'issues', 'in', 'the', 'United', 'States', '.', 'In', 'between', 'asking', 'politicians', 'and', 'ordinary', 'denizens', 'of', 'Stockholm', 'about', 'their', 'opinions', 'on', 'politics', ',', 'she', 'has', 'sex', 'with', 'her', 'drama', 'teacher', ',', 'classmates', ',', 'and', 'married', 'men.<br', '/><br', '/>What', 'kills', 'me', 'about', 'I', 'AM', 'CURIOUS-YELLOW', 'is', 'that', '40', 'years', 'ago', ',', 'this', 'was', 'considered', 'pornographic', '.', 'Really', ',', 'the', 'sex', 'and', 'nudity', 'scenes', 'are', 'few', 'and', 'far', 'between', ',', 'even', 'then', \"it's\", 'not', 'shot', 'like', 'some', 'cheaply', 'made', 'porno', '.', 'While', 'my', 'countrymen', 'mind', 'find', 'it', 'shocking', ',', 'in', 'reality', 'sex', 'and', 'nudity', 'are', 'a', 'major', 'staple', 'in', 'Swedish', 'cinema', '.', 'Even', 'Ingmar', 'Bergman', ',', 'arguably', 'their', 'answer', 'to', 'good', 'old', 'boy', 'John', 'Ford', ',', 'had', 'sex', 'scenes', 'in', 'his', 'films.<br', '/><br', '/>I', 'do', 'commend', 'the', 'filmmakers', 'for', 'the', 'fact', 'that', 'any', 'sex', 'shown', 'in', 'the', 'film', 'is', 'shown', 'for', 'artistic', 'purposes', 'rather', 'than', 'just', 'to', 'shock', 'people', 'and', 'make', 'money', 'to', 'be', 'shown', 'in', 'pornographic', 'theaters', 'in', 'America', '.', 'I', 'AM', 'CURIOUS-YELLOW', 'is', 'a', 'good', 'film', 'for', 'anyone', 'wanting', 'to', 'study', 'the', 'meat', 'and', 'potatoes', '(', 'no', 'pun', 'intended', ')', 'of', 'Swedish', 'cinema', '.', 'But', 'really', ',', 'this', 'film', \"doesn't\", 'have', 'much', 'of', 'a', 'plot', '.'] \n",
      "the label for the *i*th example: neg \n",
      "list of textual tokens for the *i*th example: ['\"', 'I', 'Am', 'Curious', ':', 'Yellow', '\"', 'is', 'a', 'risible', 'and', 'pretentious', 'steaming', 'pile', '.', 'It', \"doesn't\", 'matter', 'what', \"one's\", 'political', 'views', 'are', 'because', 'this', 'film', 'can', 'hardly', 'be', 'taken', 'seriously', 'on', 'any', 'level', '.', 'As', 'for', 'the', 'claim', 'that', 'frontal', 'male', 'nudity', 'is', 'an', 'automatic', 'NC-17', ',', 'that', \"isn't\", 'true', '.', \"I've\", 'seen', 'R-rated', 'films', 'with', 'male', 'nudity', '.', 'Granted', ',', 'they', 'only', 'offer', 'some', 'fleeting', 'views', ',', 'but', 'where', 'are', 'the', 'R-rated', 'films', 'with', 'gaping', 'vulvas', 'and', 'flapping', 'labia', '?', 'Nowhere', ',', 'because', 'they', \"don't\", 'exist', '.', 'The', 'same', 'goes', 'for', 'those', 'crappy', 'cable', 'shows', ':', 'schlongs', 'swinging', 'in', 'the', 'breeze', 'but', 'not', 'a', 'clitoris', 'in', 'sight', '.', 'And', 'those', 'pretentious', 'indie', 'movies', 'like', 'The', 'Brown', 'Bunny', ',', 'in', 'which', \"we're\", 'treated', 'to', 'the', 'site', 'of', 'Vincent', \"Gallo's\", 'throbbing', 'johnson', ',', 'but', 'not', 'a', 'trace', 'of', 'pink', 'visible', 'on', 'Chloe', 'Sevigny', '.', 'Before', 'crying', '(', 'or', 'implying', ')', '\"', 'double-standard', '\"', 'in', 'matters', 'of', 'nudity', ',', 'the', 'mentally', 'obtuse', 'should', 'take', 'into', 'account', 'one', 'unavoidably', 'obvious', 'anatomical', 'difference', 'between', 'men', 'and', 'women', ':', 'there', 'are', 'no', 'genitals', 'on', 'display', 'when', 'actresses', 'appears', 'nude', ',', 'and', 'the', 'same', 'cannot', 'be', 'said', 'for', 'a', 'man', '.', 'In', 'fact', ',', 'you', 'generally', \"won't\", 'see', 'female', 'genitals', 'in', 'an', 'American', 'film', 'in', 'anything', 'short', 'of', 'porn', 'or', 'explicit', 'erotica', '.', 'This', 'alleged', 'double-standard', 'is', 'less', 'a', 'double', 'standard', 'than', 'an', 'admittedly', 'depressing', 'ability', 'to', 'come', 'to', 'terms', 'culturally', 'with', 'the', 'insides', 'of', \"women's\", 'bodies', '.'] \n",
      "the label for the *i*th example: neg \n",
      "list of textual tokens for the *i*th example: ['If', 'only', 'to', 'avoid', 'making', 'this', 'type', 'of', 'film', 'in', 'the', 'future', '.', 'This', 'film', 'is', 'interesting', 'as', 'an', 'experiment', 'but', 'tells', 'no', 'cogent', 'story.<br', '/><br', '/>One', 'might', 'feel', 'virtuous', 'for', 'sitting', 'thru', 'it', 'because', 'it', 'touches', 'on', 'so', 'many', 'IMPORTANT', 'issues', 'but', 'it', 'does', 'so', 'without', 'any', 'discernable', 'motive', '.', 'The', 'viewer', 'comes', 'away', 'with', 'no', 'new', 'perspectives', '(', 'unless', 'one', 'comes', 'up', 'with', 'one', 'while', \"one's\", 'mind', 'wanders', ',', 'as', 'it', 'will', 'invariably', 'do', 'during', 'this', 'pointless', 'film).<br', '/><br', '/>One', 'might', 'better', 'spend', \"one's\", 'time', 'staring', 'out', 'a', 'window', 'at', 'a', 'tree', 'growing.<br', '/><br', '/>'] \n",
      "the label for the *i*th example: neg \n",
      "list of textual tokens for the *i*th example: ['This', 'film', 'was', 'probably', 'inspired', 'by', \"Godard's\", 'Masculin', ',', 'féminin', 'and', 'I', 'urge', 'you', 'to', 'see', 'that', 'film', 'instead.<br', '/><br', '/>The', 'film', 'has', 'two', 'strong', 'elements', 'and', 'those', 'are', ',', '(', '1', ')', 'the', 'realistic', 'acting', '(', '2', ')', 'the', 'impressive', ',', 'undeservedly', 'good', ',', 'photo', '.', 'Apart', 'from', 'that', ',', 'what', 'strikes', 'me', 'most', 'is', 'the', 'endless', 'stream', 'of', 'silliness', '.', 'Lena', 'Nyman', 'has', 'to', 'be', 'most', 'annoying', 'actress', 'in', 'the', 'world', '.', 'She', 'acts', 'so', 'stupid', 'and', 'with', 'all', 'the', 'nudity', 'in', 'this', \"film,...it's\", 'unattractive', '.', 'Comparing', 'to', \"Godard's\", 'film', ',', 'intellectuality', 'has', 'been', 'replaced', 'with', 'stupidity', '.', 'Without', 'going', 'too', 'far', 'on', 'this', 'subject', ',', 'I', 'would', 'say', 'that', 'follows', 'from', 'the', 'difference', 'in', 'ideals', 'between', 'the', 'French', 'and', 'the', 'Swedish', 'society.<br', '/><br', '/>A', 'movie', 'of', 'its', 'time', ',', 'and', 'place', '.', '2/10', '.'] \n",
      "the label for the *i*th example: neg \n",
      "list of textual tokens for the *i*th example: ['Oh', ',', 'brother...after', 'hearing', 'about', 'this', 'ridiculous', 'film', 'for', 'umpteen', 'years', 'all', 'I', 'can', 'think', 'of', 'is', 'that', 'old', 'Peggy', 'Lee', 'song..<br', '/><br', '/>\"Is', 'that', 'all', 'there', 'is??', '\"', '...I', 'was', 'just', 'an', 'early', 'teen', 'when', 'this', 'smoked', 'fish', 'hit', 'the', 'U.S', '.', 'I', 'was', 'too', 'young', 'to', 'get', 'in', 'the', 'theater', '(', 'although', 'I', 'did', 'manage', 'to', 'sneak', 'into', '\"', 'Goodbye', 'Columbus\")', '.', 'Then', 'a', 'screening', 'at', 'a', 'local', 'film', 'museum', 'beckoned', '-', 'Finally', 'I', 'could', 'see', 'this', 'film', ',', 'except', 'now', 'I', 'was', 'as', 'old', 'as', 'my', 'parents', 'were', 'when', 'they', 'schlepped', 'to', 'see', 'it!!<br', '/><br', '/>The', 'ONLY', 'reason', 'this', 'film', 'was', 'not', 'condemned', 'to', 'the', 'anonymous', 'sands', 'of', 'time', 'was', 'because', 'of', 'the', 'obscenity', 'case', 'sparked', 'by', 'its', 'U.S', '.', 'release', '.', 'MILLIONS', 'of', 'people', 'flocked', 'to', 'this', 'stinker', ',', 'thinking', 'they', 'were', 'going', 'to', 'see', 'a', 'sex', 'film...Instead', ',', 'they', 'got', 'lots', 'of', 'closeups', 'of', 'gnarly', ',', 'repulsive', 'Swedes', ',', 'on-street', 'interviews', 'in', 'bland', 'shopping', 'malls', ',', 'asinie', 'political', 'pretension...and', 'feeble', 'who-cares', 'simulated', 'sex', 'scenes', 'with', 'saggy', ',', 'pale', 'actors.<br', '/><br', '/>Cultural', 'icon', ',', 'holy', 'grail', ',', 'historic', 'artifact..whatever', 'this', 'thing', 'was', ',', 'shred', 'it', ',', 'burn', 'it', ',', 'then', 'stuff', 'the', 'ashes', 'in', 'a', 'lead', 'box!<br', '/><br', '/>Elite', 'esthetes', 'still', 'scrape', 'to', 'find', 'value', 'in', 'its', 'boring', 'pseudo', 'revolutionary', 'political', 'spewings..But', 'if', 'it', \"weren't\", 'for', 'the', 'censorship', 'scandal', ',', 'it', 'would', 'have', 'been', 'ignored', ',', 'then', 'forgotten.<br', '/><br', '/>Instead', ',', 'the', '\"', 'I', 'Am', 'Blank', ',', 'Blank', '\"', 'rhythymed', 'title', 'was', 'repeated', 'endlessly', 'for', 'years', 'as', 'a', 'titilation', 'for', 'porno', 'films', '(', 'I', 'am', 'Curious', ',', 'Lavender', '-', 'for', 'gay', 'films', ',', 'I', 'Am', 'Curious', ',', 'Black', '-', 'for', 'blaxploitation', 'films', ',', 'etc..', ')', 'and', 'every', 'ten', 'years', 'or', 'so', 'the', 'thing', 'rises', 'from', 'the', 'dead', ',', 'to', 'be', 'viewed', 'by', 'a', 'new', 'generation', 'of', 'suckers', 'who', 'want', 'to', 'see', 'that', '\"', 'naughty', 'sex', 'film', '\"', 'that', '\"', 'revolutionized', 'the', 'film', 'industry\"...<br', '/><br', '/>Yeesh', ',', 'avoid', 'like', 'the', 'plague..Or', 'if', 'you', 'MUST', 'see', 'it', '-', 'rent', 'the', 'video', 'and', 'fast', 'forward', 'to', 'the', '\"', 'dirty', '\"', 'parts', ',', 'just', 'to', 'get', 'it', 'over', 'with.<br', '/><br', '/>'] \n",
      "the label for the *i*th example: neg \n",
      "list of textual tokens for the *i*th example: ['I', 'would', 'put', 'this', 'at', 'the', 'top', 'of', 'my', 'list', 'of', 'films', 'in', 'the', 'category', 'of', 'unwatchable', 'trash', '!', 'There', 'are', 'films', 'that', 'are', 'bad', ',', 'but', 'the', 'worst', 'kind', 'are', 'the', 'ones', 'that', 'are', 'unwatchable', 'but', 'you', 'are', 'suppose', 'to', 'like', 'them', 'because', 'they', 'are', 'supposed', 'to', 'be', 'good', 'for', 'you', '!', 'The', 'sex', 'sequences', ',', 'so', 'shocking', 'in', 'its', 'day', ',', \"couldn't\", 'even', 'arouse', 'a', 'rabbit', '.', 'The', 'so', 'called', 'controversial', 'politics', 'is', 'strictly', 'high', 'school', 'sophomore', 'amateur', 'night', 'Marxism', '.', 'The', 'film', 'is', 'self-consciously', 'arty', 'in', 'the', 'worst', 'sense', 'of', 'the', 'term', '.', 'The', 'photography', 'is', 'in', 'a', 'harsh', 'grainy', 'black', 'and', 'white', '.', 'Some', 'scenes', 'are', 'out', 'of', 'focus', 'or', 'taken', 'from', 'the', 'wrong', 'angle', '.', 'Even', 'the', 'sound', 'is', 'bad', '!', 'And', 'some', 'people', 'call', 'this', 'art?<br', '/><br', '/>'] \n",
      "the label for the *i*th example: neg \n",
      "list of textual tokens for the *i*th example: ['Whoever', 'wrote', 'the', 'screenplay', 'for', 'this', 'movie', 'obviously', 'never', 'consulted', 'any', 'books', 'about', 'Lucille', 'Ball', ',', 'especially', 'her', 'autobiography', '.', \"I've\", 'never', 'seen', 'so', 'many', 'mistakes', 'in', 'a', 'biopic', ',', 'ranging', 'from', 'her', 'early', 'years', 'in', 'Celoron', 'and', 'Jamestown', 'to', 'her', 'later', 'years', 'with', 'Desi', '.', 'I', 'could', 'write', 'a', 'whole', 'list', 'of', 'factual', 'errors', ',', 'but', 'it', 'would', 'go', 'on', 'for', 'pages', '.', 'In', 'all', ',', 'I', 'believe', 'that', 'Lucille', 'Ball', 'is', 'one', 'of', 'those', 'inimitable', 'people', 'who', 'simply', 'cannot', 'be', 'portrayed', 'by', 'anyone', 'other', 'than', 'themselves', '.', 'If', 'I', 'were', 'Lucie', 'Arnaz', 'and', 'Desi', ',', 'Jr.', ',', 'I', 'would', 'be', 'irate', 'at', 'how', 'many', 'mistakes', 'were', 'made', 'in', 'this', 'film', '.', 'The', 'filmmakers', 'tried', 'hard', ',', 'but', 'the', 'movie', 'seems', 'awfully', 'sloppy', 'to', 'me', '.'] \n",
      "the label for the *i*th example: neg \n",
      "list of textual tokens for the *i*th example: ['When', 'I', 'first', 'saw', 'a', 'glimpse', 'of', 'this', 'movie', ',', 'I', 'quickly', 'noticed', 'the', 'actress', 'who', 'was', 'playing', 'the', 'role', 'of', 'Lucille', 'Ball', '.', 'Rachel', \"York's\", 'portrayal', 'of', 'Lucy', 'is', 'absolutely', 'awful', '.', 'Lucille', 'Ball', 'was', 'an', 'astounding', 'comedian', 'with', 'incredible', 'talent', '.', 'To', 'think', 'about', 'a', 'legend', 'like', 'Lucille', 'Ball', 'being', 'portrayed', 'the', 'way', 'she', 'was', 'in', 'the', 'movie', 'is', 'horrendous', '.', 'I', 'cannot', 'believe', 'out', 'of', 'all', 'the', 'actresses', 'in', 'the', 'world', 'who', 'could', 'play', 'a', 'much', 'better', 'Lucy', ',', 'the', 'producers', 'decided', 'to', 'get', 'Rachel', 'York', '.', 'She', 'might', 'be', 'a', 'good', 'actress', 'in', 'other', 'roles', 'but', 'to', 'play', 'the', 'role', 'of', 'Lucille', 'Ball', 'is', 'tough', '.', 'It', 'is', 'pretty', 'hard', 'to', 'find', 'someone', 'who', 'could', 'resemble', 'Lucille', 'Ball', ',', 'but', 'they', 'could', 'at', 'least', 'find', 'someone', 'a', 'bit', 'similar', 'in', 'looks', 'and', 'talent', '.', 'If', 'you', 'noticed', \"York's\", 'portrayal', 'of', 'Lucy', 'in', 'episodes', 'of', 'I', 'Love', 'Lucy', 'like', 'the', 'chocolate', 'factory', 'or', 'vitavetavegamin', ',', 'nothing', 'is', 'similar', 'in', 'any', 'way-her', 'expression', ',', 'voice', ',', 'or', 'movement.<br', '/><br', '/>To', 'top', 'it', 'all', 'off', ',', 'Danny', 'Pino', 'playing', 'Desi', 'Arnaz', 'is', 'horrible', '.', 'Pino', 'does', 'not', 'qualify', 'to', 'play', 'as', 'Ricky', '.', \"He's\", 'small', 'and', 'skinny', ',', 'his', 'accent', 'is', 'unreal', ',', 'and', 'once', 'again', ',', 'his', 'acting', 'is', 'unbelievable', '.', 'Although', 'Fred', 'and', 'Ethel', 'were', 'not', 'similar', 'either', ',', 'they', 'were', 'not', 'as', 'bad', 'as', 'the', 'characters', 'of', 'Lucy', 'and', 'Ricky.<br', '/><br', '/>Overall', ',', 'extremely', 'horrible', 'casting', 'and', 'the', 'story', 'is', 'badly', 'told', '.', 'If', 'people', 'want', 'to', 'understand', 'the', 'real', 'life', 'situation', 'of', 'Lucille', 'Ball', ',', 'I', 'suggest', 'watching', 'A&E', 'Biography', 'of', 'Lucy', 'and', 'Desi', ',', 'read', 'the', 'book', 'from', 'Lucille', 'Ball', 'herself', ',', 'or', 'PBS', \"'\", 'American', 'Masters', ':', 'Finding', 'Lucy', '.', 'If', 'you', 'want', 'to', 'see', 'a', 'docudrama', ',', '\"', 'Before', 'the', 'Laughter', '\"', 'would', 'be', 'a', 'better', 'choice', '.', 'The', 'casting', 'of', 'Lucille', 'Ball', 'and', 'Desi', 'Arnaz', 'in', '\"', 'Before', 'the', 'Laughter', '\"', 'is', 'much', 'better', 'compared', 'to', 'this', '.', 'At', 'least', ',', 'a', 'similar', 'aspect', 'is', 'shown', 'rather', 'than', 'nothing', '.'] \n",
      "the label for the *i*th example: neg \n",
      "list of textual tokens for the *i*th example: ['Who', 'are', 'these', '\"', 'They\"-', 'the', 'actors', '?', 'the', 'filmmakers', '?', 'Certainly', \"couldn't\", 'be', 'the', 'audience-', 'this', 'is', 'among', 'the', 'most', 'air-puffed', 'productions', 'in', 'existence', '.', \"It's\", 'the', 'kind', 'of', 'movie', 'that', 'looks', 'like', 'it', 'was', 'a', 'lot', 'of', 'fun', 'to', 'shoot\\x97', 'TOO', 'much', 'fun', ',', 'nobody', 'is', 'getting', 'any', 'actual', 'work', 'done', ',', 'and', 'that', 'almost', 'always', 'makes', 'for', 'a', 'movie', \"that's\", 'no', 'fun', 'to', 'watch.<br', '/><br', '/>Ritter', 'dons', 'glasses', 'so', 'as', 'to', 'hammer', 'home', 'his', \"character's\", 'status', 'as', 'a', 'sort', 'of', 'doppleganger', 'of', 'the', 'bespectacled', 'Bogdanovich', ';', 'the', 'scenes', 'with', 'the', 'breezy', 'Ms', '.', 'Stratten', 'are', 'sweet', ',', 'but', 'have', 'an', 'embarrassing', ',', \"look-guys-I'm-dating-the-prom-queen\", 'feel', 'to', 'them', '.', 'Ben', 'Gazzara', 'sports', 'his', 'usual', \"cat's-got-canary\", 'grin', 'in', 'a', 'futile', 'attempt', 'to', 'elevate', 'the', 'meager', 'plot', ',', 'which', 'requires', 'him', 'to', 'pursue', 'Audrey', 'Hepburn', 'with', 'all', 'the', 'interest', 'of', 'a', 'narcoleptic', 'at', 'an', 'insomnia', 'clinic', '.', 'In', 'the', 'meantime', ',', 'the', 'budding', \"couple's\", 'respective', 'children', '(', 'nepotism', 'alert', ':', \"Bogdanovich's\", 'daughters', ')', 'spew', 'cute', 'and', 'pick', 'up', 'some', 'fairly', 'disturbing', 'pointers', 'on', \"'\", 'love', \"'\", 'while', 'observing', 'their', 'parents', '.', '(', 'Ms', '.', 'Hepburn', ',', 'drawing', 'on', 'her', 'dignity', ',', 'manages', 'to', 'rise', 'above', 'the', 'proceedings-', 'but', 'she', 'has', 'the', 'monumental', 'challenge', 'of', 'playing', 'herself', ',', 'ostensibly.', ')', 'Everybody', 'looks', 'great', ',', 'but', 'so', 'what', '?', \"It's\", 'a', 'movie', 'and', 'we', 'can', 'expect', 'that', 'much', ',', 'if', \"that's\", 'what', \"you're\", 'looking', 'for', \"you'd\", 'be', 'better', 'off', 'picking', 'up', 'a', 'copy', 'of', 'Vogue.<br', '/><br', '/>Oh-', 'and', 'it', 'has', 'to', 'be', 'mentioned', 'that', 'Colleen', 'Camp', 'thoroughly', 'annoys', ',', 'even', 'apart', 'from', 'her', 'singing', ',', 'which', ',', 'while', 'competent', ',', 'is', 'wholly', 'unconvincing..', '.', 'the', 'country', 'and', 'western', 'numbers', 'are', 'woefully', 'mismatched', 'with', 'the', 'standards', 'on', 'the', 'soundtrack', '.', 'Surely', 'this', 'is', 'NOT', 'what', 'Gershwin', '(', 'who', 'wrote', 'the', 'song', 'from', 'which', 'the', \"movie's\", 'title', 'is', 'derived', ')', 'had', 'in', 'mind', ';', 'his', 'stage', 'musicals', 'of', 'the', \"20's\", 'may', 'have', 'been', 'slight', ',', 'but', 'at', 'least', 'they', 'were', 'long', 'on', 'charm', '.', '\"', 'They', 'All', 'Laughed', '\"', 'tries', 'to', 'coast', 'on', 'its', 'good', 'intentions', ',', 'but', 'nobody-', 'least', 'of', 'all', 'Peter', 'Bogdanovich', '-', 'has', 'the', 'good', 'sense', 'to', 'put', 'on', 'the', 'brakes.<br', '/><br', '/>Due', 'in', 'no', 'small', 'part', 'to', 'the', 'tragic', 'death', 'of', 'Dorothy', 'Stratten', ',', 'this', 'movie', 'has', 'a', 'special', 'place', 'in', 'the', 'heart', 'of', 'Mr', '.', 'Bogdanovich-', 'he', 'even', 'bought', 'it', 'back', 'from', 'its', 'producers', ',', 'then', 'distributed', 'it', 'on', 'his', 'own', 'and', 'went', 'bankrupt', 'when', 'it', \"didn't\", 'prove', 'popular', '.', 'His', 'rise', 'and', 'fall', 'is', 'among', 'the', 'more', 'sympathetic', 'and', 'tragic', 'of', 'Hollywood', 'stories', ',', 'so', \"there's\", 'no', 'joy', 'in', 'criticizing', 'the', 'film..', '.', 'there', '_is_', 'real', 'emotional', 'investment', 'in', 'Ms', '.', \"Stratten's\", 'scenes', '.', 'But', '\"', 'Laughed', '\"', 'is', 'a', 'faint', 'echo', 'of', '\"', 'The', 'Last', 'Picture', 'Show\"', ',', '\"', 'Paper', 'Moon', '\"', 'or', '\"', \"What's\", 'Up', ',', 'Doc\"-', 'following', '\"', 'Daisy', 'Miller', '\"', 'and', '\"', 'At', 'Long', 'Last', 'Love\"', ',', 'it', 'was', 'a', 'thundering', 'confirmation', 'of', 'the', 'phase', 'from', 'which', 'P.B', '.', 'has', 'never', 'emerged.<br', '/><br', '/>All', 'in', 'all', ',', 'though', ',', 'the', 'movie', 'is', 'harmless', ',', 'only', 'a', 'waste', 'of', 'rental', '.', 'I', 'want', 'to', 'watch', 'people', 'having', 'a', 'good', 'time', ',', \"I'll\", 'go', 'to', 'the', 'park', 'on', 'a', 'sunny', 'day', '.', 'For', 'filmic', 'expressions', 'of', 'joy', 'and', 'love', ',', \"I'll\", 'stick', 'to', 'Ernest', 'Lubitsch', 'and', 'Jaques', 'Demy..', '.'] \n",
      "the label for the *i*th example: neg \n",
      "list of textual tokens for the *i*th example: ['This', 'is', 'said', 'to', 'be', 'a', 'personal', 'film', 'for', 'Peter', 'Bogdonavitch', '.', 'He', 'based', 'it', 'on', 'his', 'life', 'but', 'changed', 'things', 'around', 'to', 'fit', 'the', 'characters', ',', 'who', 'are', 'detectives', '.', 'These', 'detectives', 'date', 'beautiful', 'models', 'and', 'have', 'no', 'problem', 'getting', 'them', '.', 'Sounds', 'more', 'like', 'a', 'millionaire', 'playboy', 'filmmaker', 'than', 'a', 'detective', ',', \"doesn't\", 'it', '?', 'This', 'entire', 'movie', 'was', 'written', 'by', 'Peter', ',', 'and', 'it', 'shows', 'how', 'out', 'of', 'touch', 'with', 'real', 'people', 'he', 'was', '.', \"You're\", 'supposed', 'to', 'write', 'what', 'you', 'know', ',', 'and', 'he', 'did', 'that', ',', 'indeed', '.', 'And', 'leaves', 'the', 'audience', 'bored', 'and', 'confused', ',', 'and', 'jealous', ',', 'for', 'that', 'matter', '.', 'This', 'is', 'a', 'curio', 'for', 'people', 'who', 'want', 'to', 'see', 'Dorothy', 'Stratten', ',', 'who', 'was', 'murdered', 'right', 'after', 'filming', '.', 'But', 'Patti', 'Hanson', ',', 'who', 'would', ',', 'in', 'real', 'life', ',', 'marry', 'Keith', 'Richards', ',', 'was', 'also', 'a', 'model', ',', 'like', 'Stratten', ',', 'but', 'is', 'a', 'lot', 'better', 'and', 'has', 'a', 'more', 'ample', 'part', '.', 'In', 'fact', ',', \"Stratten's\", 'part', 'seemed', 'forced', ';', 'added', '.', 'She', \"doesn't\", 'have', 'a', 'lot', 'to', 'do', 'with', 'the', 'story', ',', 'which', 'is', 'pretty', 'convoluted', 'to', 'begin', 'with', '.', 'All', 'in', 'all', ',', 'every', 'character', 'in', 'this', 'film', 'is', 'somebody', 'that', 'very', 'few', 'people', 'can', 'relate', 'with', ',', 'unless', \"you're\", 'millionaire', 'from', 'Manhattan', 'with', 'beautiful', 'supermodels', 'at', 'your', 'beckon', 'call', '.', 'For', 'the', 'rest', 'of', 'us', ',', \"it's\", 'an', 'irritating', 'snore', 'fest', '.', \"That's\", 'what', 'happens', 'when', \"you're\", 'out', 'of', 'touch', '.', 'You', 'entertain', 'your', 'few', 'friends', 'with', 'inside', 'jokes', ',', 'and', 'bore', 'all', 'the', 'rest', '.'] \n",
      "\n",
      "SAMPLE DATA:\n",
      "Sample text: ['I', 'was', 'reviewing', 'some', 'old', 'VHS', 'tapes', 'I', 'have', 'and', 'came', 'across', 'The', 'TV', 'show', 'John', 'Denver', '&', 'The', 'Muppets', 'A', 'Christmas', 'Together.This', 'made', 'me', 'go', 'to', 'my', 'computer', 'and', 'look', 'it', 'up', 'to', 'see', 'if', 'I', 'could', 'find', 'a', 'DVD', 'version', 'of', 'this', 'show', 'to', 'buy', '.', 'I', 'was', 'disappointed', 'not', 'to', 'be', 'able', 'to', 'find', 'it', 'yet', 'on', 'DVD', '.', 'The', 'show', 'aired', 'in', '1979', 'and', 'was', 'a', 'delightful', 'show', '.', 'I', 'have', 'the', 'record', 'and', 'the', 'CD', 'but', 'I', 'would', 'love', 'to', 'buy', 'a', 'DVD', 'version', 'of', 'this', 'show', '.', 'The', 'tape', 'is', 'old', 'and', 'picture', 'quality', 'is', 'pretty', 'good', 'but', 'fading', ',', 'the', 'sound', 'is', 'not', 'as', 'good', 'as', 'the', 'CD', '.', 'There', 'is', 'also', 'a', 'few', 'other', 'songs', 'not', 'put', 'on', 'the', 'CD', '.', 'As', 'a', 'Fan', 'of', 'John', 'Denver', 'and', 'of', 'the', 'Muppets', ',', 'a', 'DVD', 'of', 'this', 'show', 'would', 'really', 'be', 'a', 'good', 'seller', '.', 'If', 'you', \"don't\", 'have', 'the', 'CD', 'it', 'is', 'a', 'wonderful', 'Chritmas', 'collection', 'of', 'songs', 'taken', 'from', 'that', 'show', '.', 'The', 'album', 'is', 'also', 'good', 'if', 'you', 'can', 'find', 'it', 'and', 'still', 'have', 'a', 'record', 'player', 'to', 'play', 'it', 'on', '.']\n",
      "Sample label: pos \n",
      "\n",
      "Sample text: ['What', 'network', 'was', '', ',', 'Diagnosis', 'Murder', 'on', '?', 'I', 'thought', 'it', 'was', 'CBS', '.', 'Am', 'I', 'right', 'or?', '?', 'Also', ',', 'Back', 'in', 'those', 'days', ',', 'the', 'actual', 'production', 'H.Q', '.', 'was', 'near', 'about', 'the', 'Van', 'Nuys', 'Airport', '.', 'I', 'surely', 'remember', ',', 'because', 'I', 'practically', 'made', 'nearly', 'two', 'episodes', 'in', 'those', 'daze', '.', 'More', '.', 'I', 'remember', 'the', 'early', 'days', '.', 'I', 'had', 'found', 'an', 'article', 'in', \"Reader's\", 'Digest', 'giving', 'this', 'actor/writer', 'a', 'clue', 'to', 'a', 'terrific', 'episode', '.', 'So', 'just', 'for', 'suggesting', 'it', 'I', 'was', 'awarded', '.', 'Awarded', 'or', 'not', ',', 'I', 'sadly', \"didn't\", 'develop', 'it', ',', 'and', 'was', 'cut', 'out', 'of', 'it', 'all', 'due', 'to', 'poor', 'publicity', 'of', 'mine', '.', 'So', 'as', 'a', 'justification', 'I', 'learned', 'as', 'I', 'always', 'have', ',', 'the', 'hard', 'way..', '.', 'Roll', 'the', 'dice..Craps!!', '!', 'Just', 'a', 'side', 'bar', 'on', 'Mr', '.', 'Van', 'Dyke', '.', 'He', 'had', 'a', 'house', 'in', 'the', 'Brentwood', 'area', 'on', 'Chalon', 'Road', 'and', 'it', 'was', 'an', 'incredible', 'party', 'house', '.', 'Dick', 'had', 'a', 'terrific', 'sense', 'of', 'modernism', 'when', 'he', 'built', 'that', 'house', '.']\n",
      "Sample label: pos \n",
      "\n",
      "Sample text: ['Wow...<br', '/><br', '/>I', 'picked', 'this', 'up', 'at', 'the', 'local', 'Wal-Mart', 'after', 'reading', 'online', 'that', 'it', 'had', 'been', 'released', 'early', '.', \"I've\", 'been', 'following', 'this', 'online', 'for', 'some', 'time', ',', 'and', 'just', 'had', 'to', 'buy', 'the', 'film.<br', '/><br', '/>Wow...<br', '/><br', '/>I', 'guess', 'the', 'thing', 'that', 'really', 'struck', 'me', 'was', 'the', 'editing', ',', 'or', 'lack', 'thereof', '.', 'Time', 'and', 'again', ',', 'characters', '(', 'usually', 'The', 'Narrator', 'and', 'whoever', 'he', 'is', 'with', ')', 'are', 'shown', 'walking...and', 'walking...and', 'walking', '.', 'I', 'am', 'not', 'an', 'editor', ',', 'but', 'I', 'do', 'know', 'that', 'you', 'can', 'cut', 'between', 'someone', 'leaving', 'point', 'A', 'to', 'show', 'them', 'arriving', 'at', 'point', 'B', '.', 'There', 'is', 'no', 'need', 'to', 'show', 'almost', 'the', 'entire', 'journey', '!', 'Wow...<br', '/><br', '/>I', 'actually', 'ended', 'up', 'feeling', 'somewhat', 'sorry', 'for', 'the', 'actors', 'involved', 'in', 'this', '.', 'They', 'seem', 'to', 'have', 'been', 'given', 'no', 'direction', 'as', 'to', 'what', 'to', 'do', 'during', 'scenes', 'other', 'than', 'to', 'look', 'scared', 'or', 'look', 'happy', ',', 'depending', 'on', 'what', 'action', 'was', 'to', 'be', 'added', 'at', 'a', 'later', 'date.<br', '/><br', '/>Wow...<br', '/><br', '/>Why', 'it', 'was', 'decided', 'to', 'do', 'almost', 'all', 'the', 'effects', 'using', 'CG', 'is', 'beyond', 'me', '.', 'Even', 'ILM', 'still', 'employs', 'miniatures', 'sometimes', '.', 'One', 'of', 'the', 'most', 'distracting', 'uses', 'of', 'green', 'screen', 'in', 'this', 'film', 'is', 'the', 'constant', 'rushing', 'about', 'of', '(', 'according', 'to', 'the', 'end', 'credits', ')', 'the', 'same', 'group', 'of', 'people', 'representing', 'the', 'citizenry', 'of', 'different', 'towns', 'and', 'cities', ',', 'including', 'London', '.', 'At', 'times', 'these', 'folk', 'are', 'coming', 'and', 'going', 'with', 'no', 'regard', 'as', 'to', 'the', 'angle', 'of', 'the', 'shot', 'or', 'the', 'distance', 'they', 'are', 'from', 'the', 'camera', '.', 'In', 'one', 'shot', 'in', 'London', ',', 'there', 'appear', 'to', 'be', 'at', 'least', 'two', 'men', 'over', 'six', 'feet', 'tall', 'walking', 'just', 'behind', 'the', \"narrator's\", 'brother', '(', 'played', 'by', 'star', 'Anthony', 'Piana', 'without', 'his', 'distracting', 'mustache)', '.', 'Not', 'since', 'GETTYSBURG', 'have', 'I', 'seen', 'such', 'a', 'fake', 'piece', 'of', 'facial', 'hair.<br', '/><br', '/>Wow...<br', '/><br', '/>Why', 'Timothy', 'Hines', 'talked', 'up', 'this', 'film', 'the', 'way', 'he', 'did', 'is', 'beyond', 'me', '.', 'It', 'is', 'a', 'turkey', ',', 'plain', 'and', 'simple', '.', 'On', 'the', 'plus', 'side', '(', 'at', 'least', 'for', 'me', ')', 'it', 'has', 'provided', 'some', 'of', 'the', 'most', 'genuine', 'laugh-out-loud', 'bits', 'of', 'hilarity', 'I', 'have', 'seen', 'in', 'quite', 'a', 'while', '.']\n",
      "Sample label: neg \n",
      "\n",
      "Sample text: ['This', 'is', 'a', 'classic', 'action', 'flick', 'from', 'the', \"'\", '80s', 'featuring', 'Arnold', 'Schwarzenegger', 'in', 'one', 'of', 'his', 'most', 'memorable', 'roles', '.', 'Set', 'in', 'a', 'futuristic', 'police', 'state', 'where', 'the', 'government', 'controls', 'everything', ',', 'including', 'the', 'television', 'networks', '.', 'One', 'of', 'their', 'most', 'popular', 'TV', 'shows', 'is', '\"', 'The', 'Running', 'Man\"', ',', 'where', 'convicted', 'felons', 'are', 'hunted', 'down', 'and', 'killed', 'for', 'the', 'entertainment', 'of', 'millions', '.', \"It's\", 'set', 'up', 'like', 'a', 'game', 'show', ',', 'where', 'the', 'audience', 'votes', 'for', 'their', 'favorite', '\"', 'stalkers\"', ',', 'trained', 'killers', 'who', 'hunt', 'down', 'and', 'kill', 'the', \"show's\", 'unlucky', '\"', 'contestants\"', '.', 'Audience', 'members', 'also', 'win', 'prizes', 'for', 'correctly', 'predicting', 'who', 'will', 'be', 'killed', 'by', 'whom', '.', 'And', 'the', 'host', 'is', 'played', 'by', 'none', 'other', 'than', 'Family', \"Feud's\", 'Richard', 'Dawson', ',', \"who's\", 'game', 'show', 'experience', 'makes', 'him', 'well', 'suited', 'for', 'this', 'role', '.', 'When', 'Ben', 'Richards', '(', 'Arnold', ')', 'is', 'falsely', 'accused', 'of', 'mass', 'murder', ',', 'he', 'is', 'forced', 'to', 'play', 'this', 'sadistic', 'game.<br', '/><br', '/>This', 'movie', 'is', 'chock', 'full', 'of', 'classic', 'Arnold', 'one-liners', ',', 'such', 'as', 'his', 'famous', '\"', \"I'll\", 'be', 'back', '\"', 'right', 'before', 'he', 'enters', 'the', 'arena', '.', 'And', 'he', 'taunts', 'a', 'stalker', 'armed', 'with', 'a', 'flamethrower', 'with', '\"', 'How', 'about', 'a', 'light?', '\"', 'I', 'could', 'go', 'on', 'and', 'on', ',', 'but', 'I', \"don't\", 'want', 'to', 'spoil', 'the', 'movie', '.', \"It's\", 'funny', 'stuff!<br', '/><br', '/>Whether', 'it', 'was', 'intended', 'or', 'not', ',', 'this', 'movie', 'serves', 'as', 'a', 'great', 'parody', 'of', \"today's\", '\"', 'Reality', 'TV', '\"', 'craze', '.', 'Already', 'there', 'are', 'numerous', 'programs', 'that', 'show', 'people', 'enduring', 'pain', 'and', 'humiliation', 'for', 'the', 'entertainment', 'of', 'viewers', ',', 'and', 'even', 'court', 'cases', 'are', 'televised', 'for', 'their', '\"', 'entertainment', 'value\"', '.', 'Running', 'Man', 'demonstrates', 'what', 'would', 'happen', 'if', 'reality', 'TV', 'hit', 'rock', 'bottom', ',', 'and', 'it', 'is', 'a', 'scary', 'picture', '.', 'One', 'can', 'only', 'hope', 'that', 'the', 'networks', 'have', 'the', 'common', 'sense', 'not', 'to', 'let', 'it', 'go', 'that', 'far.<br', '/><br', '/>Overall', ',', 'this', 'is', 'a', 'fun', 'film', '&', 'I', 'highly', 'recommend', 'it', '.', '9', 'out', 'of', '10', '!']\n",
      "Sample label: pos \n",
      "\n",
      "Sample text: ['Well', ',', 'I', 'suppose', 'the', 'good', 'news', 'concerning', 'William', \"Winckler's\", '2001', 'opus', ',', '\"', 'The', 'Double-D', 'Avenger,', '\"', 'is', 'that', 'it', 'manages', 'to', 'unite', 'three', 'of', 'Russ', \"Meyer's\", 'mammarian', 'marvels--Kitten', 'Natividad', ',', 'Haji', 'and', 'Raven', 'de', 'la', 'Croix--in', 'one', 'picture', '.', '(', 'I', 'can', 'only', 'assume', 'that', 'Lorna', 'Maitland', ',', 'Tura', 'Satana', 'and', 'Babette', 'Bardot', 'were', 'busy', 'the', 'week', 'they', 'shot', 'this', 'thing...or', 'else', 'managed', 'to', 'see', 'a', 'copy', 'of', 'the', 'script', 'in', 'advance!', ')', 'The', 'bad', 'news', ',', 'though', '(', 'and', \"there's\", 'plenty', 'of', 'it)', ',', 'is', 'that', 'this', 'film--if', 'it', 'can', 'even', 'be', 'called', 'that', ',', 'having', 'been', 'shot', 'straight', 'to', 'video--is', 'a', 'complete', 'misfire', ',', 'a', 'total', 'abortion', ',', 'an', 'out-and-out', 'atrocity', ',', 'an', 'absolute', 'abomination', ',', 'and', 'truly', 'one', 'of', 'the', 'worst', 'pictures', 'that', 'I', 'have', 'ever', 'seen', '.', 'Look', 'no', 'further', 'for', 'the', 'lamest', 'superhero', 'movie', 'ever', 'made', '!', 'The', 'plot', 'here', ',', 'such', 'as', 'it', 'is', ',', 'deals', 'with', 'Kitten', 'gaining', 'superpowers', 'after', 'fellating', 'the', 'rare', 'cockazilla', 'plant', 'in', 'South', 'America', 'to', 'cure', 'her', 'breast', 'cancer', '(', 'oy)', ',', 'and', 'later', 'battling', 'a', 'trio', 'of', 'megalunged', 'bikini', 'dancers', 'back', 'in', 'L.A', '.', 'Too', 'bad', 'that', 'every', 'lame', 'boob', 'joke', 'trotted', 'out', 'falls', 'completely', '(', 'you', 'should', 'pardon', 'the', 'expression', ')', 'flat', ',', 'that', 'there', 'is', 'ZERO', 'actual', 'nudity', 'in', 'the', 'film', 'at', 'all', '(', 'other', 'than', 'some', 'old', 'photos', 'of', 'Kitten', 'in', 'her', 'heyday)', ',', 'and', 'that', 'some', 'shaving', 'cream', 'and', 'a', 'papier-mache', 'boulder', 'are', 'the', 'sum', 'total', 'of', 'the', 'special', 'FX', '.', 'The', 'Meyer', 'gals', 'here', 'are', 'a', 'bit', 'long', 'in', 'the', 'tooth/saggy', 'in', 'the', 'chest', ',', 'to', 'put', 'it', 'kindly', ',', 'although', 'Sheri', 'Dawn', 'Thomas', ',', 'as', 'bikini', 'girl', 'Ooga', 'Boobies', '(', '!)', ',', 'does', 'manage', 'to', ',', 'uh', ',', 'stand', 'out', 'nicely', '.', 'So', 'why', 'have', 'I', 'given', 'this', 'juvenile', ',', 'unfunny', ',', 'failed', 'embarrassment', 'of', 'a', 'movie', '2', 'stars', 'instead', 'of', '1', '?', 'To', 'be', 'succinct', ':', 'Joe', 'Bob', 'Briggs', '.', 'His', 'voice-over', 'commentary', 'in', 'the', 'special', 'features', 'of', 'the', 'DVD', 'I', 'just', 'watched', 'is', 'absolutely', 'hilarious', ',', 'especially', 'when', 'he', 'pulls', 'out', 'around', '100', 'synonyms', 'for', 'the', 'word', '\"', 'breast', '\"', 'from', 'the', '1,000+', 'on', 'his', 'Web', \"site's\", '\"', 'Canonical', 'Hooters', 'List.', '\"', 'The', 'man', 'is', 'a', 'national', 'treasure', ',', 'and', 'he', 'manages', 'to', 'upgrade', 'this', 'skeet', 'of', 'a', 'disc', 'to', 'coaster', 'status', '!']\n",
      "Sample label: neg \n",
      "\n"
     ]
    }
   ],
   "source": [
    "### DO NOT EDIT ###\n",
    "\n",
    "import torchtext\n",
    "import random\n",
    "\n",
    "def preprocess(review):\n",
    "    '''\n",
    "    Simple preprocessing function.\n",
    "    '''\n",
    "    res = []\n",
    "    for x in review.split(' '):\n",
    "        remove_beg=True if x[0] in {'(', '\"', \"'\"} else False\n",
    "        remove_end=True if x[-1] in {'.', ',', ';', ':', '?', '!', '\"', \"'\", ')'} else False\n",
    "        if remove_beg and remove_end: res += [x[0], x[1:-1], x[-1]]\n",
    "        elif remove_beg: res += [x[0], x[1:]]\n",
    "        elif remove_end: res += [x[:-1], x[-1]]\n",
    "        else: res += [x]\n",
    "    return res\n",
    "\n",
    "if __name__=='__main__':\n",
    "    train_data = torchtext.datasets.IMDB(root='.data', split='train')\n",
    "    train_data = list(train_data)\n",
    "    train_data = [(x[0], preprocess(x[1])) for x in train_data]\n",
    "    train_data, test_data = train_data[0:10000] + train_data[12500:12500+10000], train_data[10000:12500] + train_data[12500+10000:], \n",
    "\n",
    "    print('Num. Train Examples:', len(train_data))\n",
    "    print('Num. Test Examples:', len(test_data))\n",
    "\n",
    "\n",
    "    # for i in range(len(train_data)):\n",
    "    for i in range(0,10,1):\n",
    "        print(f\"the label for the *i*th example: {train_data[i][0]} \")\n",
    "        print(f\"list of textual tokens for the *i*th example: {train_data[i][1]} \")\n",
    "\n",
    "\n",
    "    # *   To access the list of textual tokens for the *i*th example, use `train_data[i][1]`\n",
    "    # *   To access the label for the *i*th example, use `train_data[i][0]`\n",
    "\n",
    "\n",
    "    print(\"\\nSAMPLE DATA:\")\n",
    "    for x in random.sample(train_data, 5):\n",
    "        print('Sample text:', x[1])\n",
    "        print('Sample label:', x[0], '\\n')"
   ]
  },
  {
   "cell_type": "markdown",
   "metadata": {
    "id": "_kfg8RcyskyU"
   },
   "source": [
    "# Step 2: Create Dataloader [20 points]\n",
    "\n",
    "\n"
   ]
  },
  {
   "cell_type": "markdown",
   "source": [
    "## <font color='red'>TODO:</font> Define the Dataset Class [20 Points]\n",
    "\n",
    "In the following cell, we will define the <b>dataset</b> class. The dataset contains the tokenized data for your model. You need to implement the following functions: \n",
    "\n",
    "*   <b>` build_dictionary(self)`:</b>  <b>[10 points]</b> Creates the dictionaries `idx2word` and `word2idx`. You will represent each word in the dataset with a unique index, and keep track of this in these dictionaries. Use the hyperparameter `threshold` to control which words appear in the dictionary: a training word’s frequency should be `>= threshold` to be included in the dictionary.\n",
    "\n",
    "* <b>`convert_text(self)`:</b> Converts each review in the dataset to a list of indices, given by your `word2idx` dictionary. You should store this in the `textual_ids` variable, and the function does not return anything. If a word is not present in the  `word2idx` dictionary, you should use the `<UNK>` token for that word. Be sure to append the `<END>` token to the end of each review.\n",
    "\n",
    "*   <b>` get_text(self, idx) `:</b> Return the review at `idx` in the dataset as an array of indices corresponding to the words in the review. If the length of the review is less than `max_len`, you should pad the review with the `<PAD>` character up to the length of `max_len`. If the length is greater than `max_len`, then it should only return the first `max_len` words. The return type should be `torch.LongTensor`.\n",
    "\n",
    "*   <b>`get_label(self, idx) `</b>: Return the value `1` if the label for `idx` in the dataset is `positive`, and should return `0` if it is `negative`. The return type should be `torch.LongTensor`.\n",
    "\n",
    "*  <b> ` __len__(self) `:</b> Return the total number of reviews in the dataset as an `int`.\n",
    "\n",
    "*   <b>` __getitem__(self, idx)`:</b> <b>[10 points]</b> Return the (padded) text, and the label. The return type for both these items should be `torch.LongTensor`. You should use the ` get_label(self, idx) ` and ` get_text(self, idx) ` functions here.\n",
    "\n",
    "\n",
    "<b>Note:</b> You should convert all words to lower case in your functions.\n",
    "\n",
    "<font color='green'><b>Hint:</b> Make sure that you use instance variables such as `self.threshold` throughout your code, rather than the global variable `THRESHOLD` (defined later on). The variable `THRESHOLD` will not be known to the autograder, and the use of it within the class will cause an autograder error.</font>"
   ],
   "metadata": {
    "collapsed": false
   }
  },
  {
   "cell_type": "code",
   "execution_count": 4,
   "metadata": {
    "id": "1irMn3LX2YDB"
   },
   "outputs": [],
   "source": [
    "PAD = '<PAD>'\n",
    "END = '<END>'\n",
    "UNK = '<UNK>'\n",
    "\n",
    "from torch.utils import data\n",
    "from collections import defaultdict\n",
    "\n",
    "class TextDataset(data.Dataset):\n",
    "    def __init__(self, examples, split, threshold, max_len, idx2word=None, word2idx=None):\n",
    "        ### DO NOT EDIT ###\n",
    "        \n",
    "        self.examples = examples\n",
    "        assert split in {'train', 'val', 'test'}\n",
    "        self.split = split\n",
    "        self.threshold = threshold\n",
    "        self.max_len = max_len\n",
    "\n",
    "        #custom\n",
    "        self.map_token_to_unigram_frequency = {}\n",
    "\n",
    "        # Dictionaries\n",
    "        self.idx2word = idx2word\n",
    "        self.word2idx = word2idx\n",
    "        if split == 'train':\n",
    "            self.build_dictionary()\n",
    "        self.vocab_size = len(self.word2idx)\n",
    "        \n",
    "        # Convert text to indices\n",
    "        self.textual_ids = []\n",
    "        self.convert_text()\n",
    "\n",
    "    \n",
    "    def build_dictionary(self): \n",
    "        '''\n",
    "        Build the dictionaries idx2word and word2idx. This is only called when split='train', as these\n",
    "        dictionaries are passed in to the __init__(...) function otherwise. Be sure to use self.threshold\n",
    "        to control which words are assigned indices in the dictionaries.\n",
    "        Returns nothing.\n",
    "        '''\n",
    "        assert self.split == 'train'\n",
    "        \n",
    "        # Don't change this\n",
    "        self.idx2word = {0:PAD, 1:END, 2: UNK}\n",
    "        self.word2idx = {PAD:0, END:1, UNK: 2}\n",
    "\n",
    "        ##### TODO #####\n",
    "        # Count the frequencies of all words in the training data (self.examples)\n",
    "        # Assign idx (starting from 3) to all words having word_freq >= self.threshold\n",
    "        # Make sure you call word.lower() on each word to convert it to lowercase\n",
    "        # print(\" BUILDING DICT\")\n",
    "        # print(f\"training dataset is: {self.examples[0]}\")\n",
    "\n",
    "        # ('pos', ['Your', 'life', 'is', 'good', 'when', 'you', 'have', 'money', ',', 'success', 'and', 'health'])\n",
    "\n",
    "        for data in self.examples:           #iterate through preprocessed sentences\n",
    "            # print(f\"data: {data}\")\n",
    "            testset_label, preprocessed_sentence = data[0], data[1]\n",
    "            # print(f\"testset_label: {testset_label}, preprocessed_sentence:{preprocessed_sentence}\")\n",
    "            for token in preprocessed_sentence:             #iterate through each token\n",
    "                # print(f\"lowercase token is: {token}\")\n",
    "                token = token.lower()\n",
    "\n",
    "                if token not in self.map_token_to_unigram_frequency.keys():\n",
    "                    self.map_token_to_unigram_frequency[token] = 0          # add token as key if not present as a key in map_token_to_unigram_frequency\n",
    "                self.map_token_to_unigram_frequency[token] += 1             # increment the frequency of unigram\n",
    "\n",
    "\n",
    "        # print(f\"self.map_token_to_unigram_frequency: {self.map_token_to_unigram_frequency}\")\n",
    "        index = 3\n",
    "        for token, freq in self.map_token_to_unigram_frequency.items():\n",
    "            if freq >= self.threshold:\n",
    "                self.idx2word[index] = token\n",
    "                self.word2idx[token] = index\n",
    "                index += 1\n",
    "        #\n",
    "        # print(f\"self.idx2word: {self.idx2word}\")\n",
    "        # print(f\"self.word2idx: {self.word2idx}\")\n",
    "\n",
    "        pass\n",
    "    \n",
    "    def convert_text(self):\n",
    "        '''\n",
    "        Convert each review in the dataset (self.examples) to a list of indices, given by self.word2idx.\n",
    "        Store this in self.textual_ids; returns nothing.\n",
    "        '''\n",
    "\n",
    "        ##### TODO #####\n",
    "        # Remember to replace a word with the <UNK> token if it does not exist in the word2idx dictionary.\n",
    "        # Remember to append the <END> token to the end of each review.\n",
    "        for data in self.examples:           #iterate through preprocessed sentences\n",
    "            # print(f\"data: {data}\")\n",
    "            testset_label, preprocessed_sentence = data[0], data[1]\n",
    "            converted_preprocessed_sentence = []\n",
    "            # print(f\"testset_label: {testset_label}, preprocessed_sentence:{preprocessed_sentence}\")\n",
    "            for token_index in range(len(preprocessed_sentence)):             #iterate through each token\n",
    "                token = preprocessed_sentence[token_index]\n",
    "                # print(f\"IN CONVERT TEXT: token: {token}\")\n",
    "                token = token.lower()\n",
    "                # print(f\"lowercase token is: {token}\")\n",
    "                if token not in self.word2idx.keys():\n",
    "                    # preprocessed_sentence[token_index] = self.word2idx[UNK]\n",
    "                    converted_preprocessed_sentence.append(self.word2idx[UNK])\n",
    "                if token in self.word2idx.keys():\n",
    "                    # preprocessed_sentence[token_index] = self.word2idx[token]\n",
    "                    converted_preprocessed_sentence.append(self.word2idx[token])\n",
    "\n",
    "            converted_preprocessed_sentence.append(self.word2idx[END])\n",
    "\n",
    "            # print(f\"testset_label: {testset_label}, converted preprocessed_sentence:{converted_preprocessed_sentence}\")\n",
    "            self.textual_ids.append([testset_label,converted_preprocessed_sentence])\n",
    "            # print(f\"self.textual_ids is: {self.textual_ids}\")\n",
    "\n",
    "        pass\n",
    "\n",
    "    def get_text(self, idx):\n",
    "        '''\n",
    "        Return the review at idx as a long tensor (torch.LongTensor) of integers corresponding to the words in the review.\n",
    "        You may need to pad as necessary (see above).\n",
    "\n",
    "        <b>` get_text(self, idx) `:</b> Return the review at `idx` in the dataset as an array of indices corresponding to the words in the review. If the length of the review is less than `max_len`, you should pad the review with the `<PAD>` character up to the length of `max_len`. If the length is greater than `max_len`, then it should only return the first `max_len` words. The return type should be `torch.LongTensor`.\n",
    "        '''\n",
    "\n",
    "        ##### TODO #####\n",
    "        review = self.examples[idx]\n",
    "        indice_review = self.textual_ids[idx][1]\n",
    "        # print(f\"indice review is: {indice_review}\")\n",
    "\n",
    "        if len(indice_review) >= self.max_len:\n",
    "            indice_review_long_tensor = torch.Tensor(indice_review[0:self.max_len])\n",
    "        elif len(indice_review) < self.max_len:\n",
    "            padding = [self.word2idx[PAD]] * (self.max_len - len(indice_review))\n",
    "            padded_version = indice_review + padding\n",
    "            # print(f\"padding list is: {padding} and padded version: {padded_version}\")\n",
    "            indice_review_long_tensor = torch.LongTensor(padded_version)\n",
    "            # indice_review_long_tensor = torch.Tensor(padded_version)\n",
    "\n",
    "\n",
    "        # print('Content of indice_review_long_tensor:', indice_review_long_tensor)\n",
    "        # print('Shape of indice_review_long_tensor:', indice_review_long_tensor.shape, '\\n')\n",
    "        # print('Type of indice_review_long_tensor:', indice_review_long_tensor.dtype, '\\n')\n",
    "\n",
    "\n",
    "\n",
    "        return (indice_review_long_tensor)\n",
    "    \n",
    "    def get_label(self, idx):\n",
    "        '''\n",
    "        This function should return the value 1 if the label for idx in the dataset is 'positive', \n",
    "        and 0 if it is 'negative'. The return type should be torch.LongTensor.\n",
    "        '''\n",
    "        ##### TODO #####\n",
    "        review_label = self.examples[idx][0]\n",
    "        # print(f\"review label: {review_label}\")\n",
    "\n",
    "        if review_label == 'pos':\n",
    "            return torch.squeeze(torch.LongTensor([1]))\n",
    "            # print('Shape of torch.squeeze(torch.Tensor(1)):', torch.squeeze(torch.Tensor(1)).shape, '\\n')\n",
    "            # return torch.squeeze(torch.Tensor([1]))\n",
    "\n",
    "        elif review_label == 'neg':\n",
    "            return torch.squeeze(torch.LongTensor([0]))\n",
    "            # print('Shape of torch.squeeze(torch.Tensor(0)):', torch.squeeze(torch.Tensor(0)).shape, '\\n')\n",
    "            # return torch.squeeze(torch.Tensor([0]))\n",
    "\n",
    "\n",
    "\n",
    "    def __len__(self):\n",
    "        '''\n",
    "        Return the number of reviews (int value) in the dataset\n",
    "        '''\n",
    "        ##### TODO #####\n",
    "        return int(len(self.examples))\n",
    "    \n",
    "    def __getitem__(self, idx):\n",
    "        '''\n",
    "        Return the review, and label of the review specified by idx.\n",
    "\n",
    "        *   <b>` __getitem__(self, idx)`:</b> <b>[10 points]</b> Return the (padded) text, and the label. The return type for both these items should be `torch.LongTensor`. You should use the ` get_label(self, idx) ` and ` get_text(self, idx) ` functions here.\n",
    "        '''\n",
    "        ##### TODO #####\n",
    "        # return self.examples[idx][1], self.examples[idx][0]\n",
    "        return self.get_text(idx), self.get_label(idx)"
   ]
  },
  {
   "cell_type": "markdown",
   "metadata": {
    "id": "HxVxiGGbFJAj"
   },
   "source": [
    "##Sanity Check: Dataset Class\n",
    "\n",
    "The code below runs a sanity check for your `Dataset` class. The tests are similar to the hidden ones in Gradescope. However, note that passing the sanity check does <b>not</b> guarantee that you will pass the autograder; it is intended to help you debug."
   ]
  },
  {
   "cell_type": "code",
   "execution_count": 5,
   "metadata": {
    "id": "bvHIZt8Z-RzK"
   },
   "outputs": [
    {
     "name": "stdout",
     "output_type": "stream",
     "text": [
      "Sample dataset:\n",
      "('pos', ['Your', 'life', 'is', 'good', 'when', 'you', 'have', 'money', ',', 'success', 'and', 'health'])\n",
      "('neg', ['Life', 'is', 'bad', 'when', 'you', 'got', 'not', 'a', 'lot'])\n",
      "\n",
      "--- TEST: idx2word and word2idx dictionaries ---\n",
      "\tthreshold: 1 \tmax_len: 3 \tPASSED \t\n",
      "\tthreshold: 2 \tmax_len: 3 \tPASSED \t\n",
      "\tthreshold: 3 \tmax_len: 3 \tPASSED \t\n",
      "\n",
      "--- TEST: len(dataset) ---\n",
      "\tPASSED\n",
      "\n",
      "--- TEST: __getitem__(self, idx) ---\n",
      "\tthreshold: 1 \tmax_len: 3 \tidx: 0 \tPASSED \t\n",
      "\tthreshold: 1 \tmax_len: 3 \tidx: 1 \tPASSED \t\n",
      "\tthreshold: 1 \tmax_len: 8 \tidx: 0 \tPASSED \t\n",
      "\tthreshold: 1 \tmax_len: 8 \tidx: 1 \tPASSED \t\n",
      "\tthreshold: 1 \tmax_len: 15 \tidx: 0 \tPASSED \t\n",
      "\tthreshold: 1 \tmax_len: 15 \tidx: 1 \tPASSED \t\n",
      "\tthreshold: 2 \tmax_len: 3 \tidx: 0 \tPASSED \t\n",
      "\tthreshold: 2 \tmax_len: 3 \tidx: 1 \tPASSED \t\n",
      "\tthreshold: 2 \tmax_len: 8 \tidx: 0 \tPASSED \t\n",
      "\tthreshold: 2 \tmax_len: 8 \tidx: 1 \tPASSED \t\n",
      "\tthreshold: 2 \tmax_len: 15 \tidx: 0 \tPASSED \t\n",
      "\tthreshold: 2 \tmax_len: 15 \tidx: 1 \tPASSED \t\n",
      "\tthreshold: 3 \tmax_len: 3 \tidx: 0 \tPASSED \t\n",
      "\tthreshold: 3 \tmax_len: 3 \tidx: 1 \tPASSED \t\n",
      "\tthreshold: 3 \tmax_len: 8 \tidx: 0 \tPASSED \t\n",
      "\tthreshold: 3 \tmax_len: 8 \tidx: 1 \tPASSED \t\n",
      "\tthreshold: 3 \tmax_len: 15 \tidx: 0 \tPASSED \t\n",
      "\tthreshold: 3 \tmax_len: 15 \tidx: 1 \tPASSED \t\n"
     ]
    }
   ],
   "source": [
    "### DO NOT EDIT ###\n",
    "\n",
    "def sanityCheckDataSet():\n",
    "    #\tRead in the sample corpus\n",
    "    reviews = [('pos', 'Your life is good when you have money, success and health'),\n",
    "               ('neg', 'Life is bad when you got not a lot')]\n",
    "    data = [(x[0], preprocess(x[1])) for x in reviews]\n",
    "    print(\"Sample dataset:\")\n",
    "    for x in data: print(x)\n",
    "\n",
    "    thresholds = [1,2,3]\n",
    "    print('\\n--- TEST: idx2word and word2idx dictionaries ---') # max_len does not matter for this test\n",
    "    correct = [[',', '<END>', '<PAD>', '<UNK>', 'a', 'and', 'bad', 'good', 'got', 'have', 'health', 'is', 'life', 'lot', 'money', 'not', 'success', 'when', 'you', 'your'], ['<END>', '<PAD>', '<UNK>', 'is', 'life', 'when', 'you'], ['<END>', '<PAD>', '<UNK>']]\n",
    "    for i in range(len(thresholds)):\n",
    "        dataset = TextDataset(data, 'train', threshold=thresholds[i], max_len=3)\n",
    "\n",
    "        has_passed, message = True, ''\n",
    "        if has_passed and (dataset.vocab_size != len(dataset.word2idx) or dataset.vocab_size != len(dataset.idx2word)):\n",
    "            has_passed, message = False, 'dataset.vocab_size (' + str(dataset.vocab_size) + ') must be the same length as dataset.word2idx (' + str(len(dataset.word2idx)) + ') and dataset.idx2word ('+str(len(dataset.idx2word)) +').'\n",
    "        if has_passed and (dataset.vocab_size != len(correct[i])):\n",
    "            has_passed, message = False, 'Your vocab size is incorrect. Expected: ' + str(len(correct[i])) + '\\tGot: ' + str(dataset.vocab_size)\n",
    "        if has_passed and sorted(list(dataset.idx2word.keys())) != list(range(0, dataset.vocab_size)):\n",
    "            has_passed, message = False, 'dataset.idx2word must have keys ranging from 0 to dataset.vocab_size-1. Keys in your dataset.idx2word: ' + str(sorted(list(dataset.idx2word.keys())))\n",
    "        if has_passed and sorted(list(dataset.word2idx.keys())) != correct[i]:\n",
    "            has_passed, message = False, 'Your dataset.word2idx has incorrect keys. Expected: ' + str(correct[i]) + '\\tGot: ' + str(sorted(list(dataset.word2idx.keys())))\n",
    "        if has_passed: # Check that word2idx and idx2word are consistent\n",
    "            widx = sorted(list(dataset.word2idx.items())) \n",
    "            idxw = sorted(list([(v,k) for k,v in dataset.idx2word.items()]))\n",
    "            if not (len(widx) == len(idxw) and all([widx[q] == idxw[q] for q in range(len(widx))])):\n",
    "                has_passed, message = False, 'Your dataset.word2idx and dataset.idx2word are not consistent. dataset.idx2word: ' + str(dataset.idx2word) + '\\tdataset.word2idx: ' + str(dataset.word2idx)\n",
    "\n",
    "        status = 'PASSED' if has_passed else 'FAILED'\n",
    "        print('\\tthreshold:', thresholds[i], '\\tmax_len:', 3, '\\t'+status, '\\t'+message)\n",
    "    \n",
    "    print('\\n--- TEST: len(dataset) ---')\n",
    "    has_passed = len(dataset) == 2\n",
    "    if has_passed: print('\\tPASSED')\n",
    "    else: print('\\tlen(dataset) is incorrect. Expected: 2\\tGot: ' + str(len(dataset)))\n",
    "\n",
    "    print('\\n--- TEST: __getitem__(self, idx) ---')\n",
    "    max_lens = [3,8,15]\n",
    "    idxes = [0,1]\n",
    "    combos = [{'threshold': t, 'max_len': m, 'idx': idx} for t in thresholds for m in max_lens for idx in idxes]\n",
    "    correct = [(torch.tensor([3, 4, 5]), torch.tensor(1)), (torch.tensor([ 4,  5, 15]), torch.tensor(0)), (torch.tensor([ 3,  4,  5,  6,  7,  8,  9, 10]), torch.tensor(1)), (torch.tensor([ 4,  5, 15,  7,  8, 16, 17, 18]), torch.tensor(0)), (torch.tensor([ 3,  4,  5,  6,  7,  8,  9, 10, 11, 12, 13, 14,  1,  0,  0]), torch.tensor(1)), (torch.tensor([ 4,  5, 15,  7,  8, 16, 17, 18, 19,  1,  0,  0,  0,  0,  0]), torch.tensor(0)), (torch.tensor([2, 3, 4]), torch.tensor(1)), (torch.tensor([3, 4, 2]), torch.tensor(0)), (torch.tensor([2, 3, 4, 2, 5, 6, 2, 2]), torch.tensor(1)), (torch.tensor([3, 4, 2, 5, 6, 2, 2, 2]), torch.tensor(0)), (torch.tensor([2, 3, 4, 2, 5, 6, 2, 2, 2, 2, 2, 2, 1, 0, 0]), torch.tensor(1)), (torch.tensor([3, 4, 2, 5, 6, 2, 2, 2, 2, 1, 0, 0, 0, 0, 0]), torch.tensor(0)), (torch.tensor([2, 2, 2]), torch.tensor(1)), (torch.tensor([2, 2, 2]), torch.tensor(0)), (torch.tensor([2, 2, 2, 2, 2, 2, 2, 2]), torch.tensor(1)), (torch.tensor([2, 2, 2, 2, 2, 2, 2, 2]), torch.tensor(0)), (torch.tensor([2, 2, 2, 2, 2, 2, 2, 2, 2, 2, 2, 2, 1, 0, 0]), torch.tensor(1)), (torch.tensor([2, 2, 2, 2, 2, 2, 2, 2, 2, 1, 0, 0, 0, 0, 0]), torch.tensor(0))]\n",
    "    for i in range(len(combos)):\n",
    "        combo = combos[i]\n",
    "        dataset = TextDataset(data, 'train', threshold=combo['threshold'], max_len=combo['max_len'])\n",
    "        returned = dataset.__getitem__(combo['idx'])\n",
    "\n",
    "        has_passed, message = True, ''\n",
    "        if has_passed and len(returned) != 2:\n",
    "            has_passed, message = False, 'dataset.__getitem__(idx) must return 2 things. Got ' + str(len(returned)) +' things instead.'\n",
    "        if has_passed and (type(returned[0]) != torch.Tensor or type(returned[1]) != torch.Tensor):\n",
    "            has_passed, message = False, 'Both returns must be of type torch.Tensor. Got: (' + str(type(returned[0])) + ', ' + str(type(returned[1])) + ')'\n",
    "        if has_passed and (returned[0].shape != correct[i][0].shape):\n",
    "            has_passed, message = False, 'Shape of first return is incorrect. Expected: ' + str(correct[i][0].shape) + '.\\tGot: ' + str(returned[0].shape)\n",
    "        if has_passed and (returned[1].shape != correct[i][1].shape):\n",
    "            has_passed, message = False, 'Shape of second return is incorrect. Expected: ' + str(correct[i][1].shape) + '.\\tGot: ' + str(returned[1].shape) + '\\n\\t\\tHint: torch.Size([]) means that the tensor should be dimensionless (just a number). Try squeezing your result.'\n",
    "        if has_passed and (returned[1] != correct[i][1]):\n",
    "            has_passed, message = False, 'Label (second return) is incorrect. Expected: ' + str(correct[i][1]) + '.\\tGot: ' + str(returned[1])\n",
    "        if has_passed:\n",
    "            correct_padding_idxes, your_padding_idxes = torch.where(correct[i][0] == 0)[0], torch.where(returned[0] == dataset.word2idx[PAD])[0]\n",
    "            if not (correct_padding_idxes.shape == your_padding_idxes.shape and torch.all(correct_padding_idxes == your_padding_idxes)):\n",
    "                has_passed, message = False, 'Padding is not correct. Expected padding indxes: ' + str(correct_padding_idxes) + '.\\tYour padding indexes: ' + str(your_padding_idxes)\n",
    "\n",
    "        status = 'PASSED' if has_passed else 'FAILED'\n",
    "        print('\\tthreshold:', combo['threshold'], '\\tmax_len:', combo['max_len'] , '\\tidx:', combo['idx'], '\\t'+status, '\\t'+message)\n",
    "\n",
    "if __name__ == '__main__':\n",
    "    sanityCheckDataSet()"
   ]
  },
  {
   "cell_type": "markdown",
   "metadata": {
    "id": "CR4VQbQCNZH6"
   },
   "source": [
    "The following cell builds the dataset on the IMDb movie reviews and prints an example:"
   ]
  },
  {
   "cell_type": "code",
   "execution_count": 6,
   "metadata": {
    "id": "HSxpGXj6ml9N"
   },
   "outputs": [
    {
     "name": "stdout",
     "output_type": "stream",
     "text": [
      "Vocab size: 19002 \n",
      "\n",
      "Example text:\n",
      "['Guys', 'and', 'Dolls', 'is', 'a', 'movie', 'itching', 'for', 'a', 'remake', '.', 'It', 'was', 'made', 'forty-eight', 'years', 'ago', '.', 'Its', 'two', 'main', 'stars', 'are', 'either', 'dead', 'or', '409', 'pounds', '.', 'Although', 'a', 'remake', ',', 'with', 'big', 'stars', 'now', ',', 'would', 'be', 'box-office', 'success', ',', 'it', 'would', 'not', 'be', 'able', 'to', 'capture', 'the', 'magic', 'that', 'went', 'into', 'this', 'version', '.', 'Its', 'boundless', 'energy', \"can't\", 'be', 'recaptured', ',', 'nor', 'can', 'the', 'pure', 'joy', 'you', 'get', 'when', 'watching', 'something', 'like', 'this', ':', 'a', 'huge', ',', 'widescreen', ',', 'big', 'entertainment', 'movie.<br', '/><br', '/>Marlon', 'Brando', '(', 'who', 'last', 'clocked', 'in', 'at', '409', 'lbs', '.', 'last', 'time', 'I', 'heard', ')', 'plays', 'Sky', 'Masterson', ',', 'one', 'of', 'the', 'biggest', 'gamblers', 'in', 'New', 'York', '.', 'Frank', 'Sinatra', 'is', 'Nathan', 'Detroit', ',', 'whose', 'as-often-as-he-can-find-a-speakeasy-for-it', 'crap', 'game', 'is', 'city-wide', 'famous', '.', 'However', ',', 'when', 'the', 'one', 'place', 'he', 'has', 'left', 'to', 'hold', 'it', 'is', 'charging', '$1,000', ',', 'Detroit', 'needs', 'the', 'money', 'fast', '.', 'He', 'bets', 'Masterson', '$1,000', 'that', 'he', \"can't\", 'take', 'missionary', 'Sarah', 'Brown', '(', 'Jean', 'Simmons', ')', 'to', 'Havana', 'with', 'him', 'the', 'next', 'day.<br', '/><br', '/>Guys', 'and', 'Dolls', 'is', 'basically', 'nothing', 'more', 'than', 'unsavory', 'types', 'singing', 'and', 'dancing', ',', 'which', 'usually', ',', 'as', 'it', 'does', 'here', ',', 'add', 'up', 'to', 'fun', '.', \"It's\", 'obvious', 'to', 'see', 'how', 'this', 'was', 'a', 'Broadway', 'musical', ':', 'there', \"weren't\", 'that', 'many', 'sets', ',', 'and', 'the', 'scenes', 'were', 'long', '.', 'If', 'I', 'was', 'to', 'complain', 'about', 'one', 'thing', ',', \"it's\", 'how', 'uneven', 'the', 'songs', 'were', '.', 'At', 'times', ',', 'there', 'were', 'two', 'songs', 'in', 'a', 'scene', ';', 'other', 'times', ',', 'thirty', 'minutes', 'went', 'by', 'without', 'one', '.', 'Guys', 'and', 'Dolls', 'is', 'never', 'boring', ',', 'just', 'a', 'great', 'time.<br', '/><br', '/>My', 'rating', ':', '8/10<br', '/><br', '/>Not', 'Rated', '.']\n",
      "tensor([1.3270e+03, 9.1000e+01, 6.6830e+03, 5.5000e+01, 4.1000e+01, 3.6900e+02,\n",
      "        2.0000e+00, 5.0000e+01, 4.1000e+01, 7.2780e+03, 2.4000e+01, 1.7000e+01,\n",
      "        1.9000e+01, 1.2900e+02, 2.0000e+00, 1.1400e+02, 1.1500e+02, 2.4000e+01,\n",
      "        3.7000e+02, 3.3400e+02, 1.3970e+03, 8.4100e+02, 1.1900e+02, 5.9200e+02,\n",
      "        4.5200e+02, 2.4500e+02, 2.0000e+00, 1.0991e+04, 2.4000e+01, 3.8600e+02,\n",
      "        4.1000e+01, 7.2780e+03, 3.8000e+01, 1.0500e+02, 8.7100e+02, 8.4100e+02,\n",
      "        3.9800e+02, 3.8000e+01, 3.6200e+02, 1.6700e+02, 1.4986e+04, 3.6500e+03,\n",
      "        3.8000e+01, 1.7000e+01, 3.6200e+02, 1.2500e+02, 1.6700e+02, 8.7700e+02,\n",
      "        3.4000e+01, 5.6450e+03, 1.3000e+01, 3.7420e+03, 1.5000e+01, 7.3700e+02,\n",
      "        2.5100e+02, 3.6000e+01, 9.0600e+02, 2.4000e+01, 3.7000e+02, 2.0000e+00,\n",
      "        8.3080e+03, 9.0700e+02, 1.6700e+02, 2.0000e+00, 3.8000e+01, 4.4000e+03,\n",
      "        6.9000e+01, 1.3000e+01, 2.3930e+03, 7.4800e+02, 2.6700e+02, 3.8400e+02,\n",
      "        1.8000e+01, 6.0400e+02, 1.1460e+03, 1.2700e+02, 3.6000e+01, 1.8500e+02,\n",
      "        4.1000e+01, 1.0320e+03, 3.8000e+01, 3.2860e+03, 3.8000e+01, 8.7100e+02,\n",
      "        2.5870e+03, 1.6650e+03, 5.2000e+01, 2.0000e+00, 1.1565e+04, 1.7500e+02,\n",
      "        6.4000e+01, 7.5500e+02, 2.0000e+00, 2.2000e+01, 2.7000e+01, 2.0000e+00,\n",
      "        2.0000e+00, 2.4000e+01, 7.5500e+02, 3.2300e+02, 3.0000e+00, 2.6000e+01,\n",
      "        1.7900e+02, 1.1950e+03, 1.0228e+04, 1.2058e+04, 3.8000e+01, 2.5300e+02,\n",
      "        1.1000e+01, 1.3000e+01, 3.7610e+03, 2.0000e+00, 2.2000e+01, 3.1100e+02,\n",
      "        5.5800e+02, 2.4000e+01, 3.4490e+03, 1.1400e+03, 5.5000e+01, 8.3650e+03,\n",
      "        1.2839e+04, 3.8000e+01, 1.0450e+03, 2.0000e+00, 1.2830e+03, 2.2690e+03,\n",
      "        5.5000e+01, 2.0000e+00, 2.1100e+03, 2.4000e+01, 1.5600e+03, 3.8000e+01,\n",
      "        1.8000e+01, 1.3000e+01, 2.5300e+02, 3.7100e+02, 7.3200e+02, 1.0300e+02,\n",
      "        1.5480e+03, 3.4000e+01, 1.5710e+03, 1.7000e+01, 5.5000e+01, 1.7241e+04,\n",
      "        2.0000e+00, 3.8000e+01, 1.2839e+04, 1.5680e+03, 1.3000e+01, 1.6600e+02])\n",
      "\n",
      "Example label:\n",
      "pos\n",
      "tensor(1)\n"
     ]
    }
   ],
   "source": [
    "### DO NOT EDIT ###\n",
    "\n",
    "if __name__=='__main__':\n",
    "    train_dataset = TextDataset(train_data, 'train', threshold=10, max_len=150)\n",
    "    print('Vocab size:', train_dataset.vocab_size, '\\n')\n",
    "\n",
    "    randidx = random.randint(0, len(train_dataset)-1)\n",
    "    text, label = train_dataset[randidx]\n",
    "    print('Example text:')\n",
    "    print(train_data[randidx][1])\n",
    "    print(text)\n",
    "    print('\\nExample label:')\n",
    "    print(train_data[randidx][0])\n",
    "    print(label)"
   ]
  },
  {
   "cell_type": "markdown",
   "metadata": {
    "id": "e_4FFhulaAod"
   },
   "source": [
    "# Step 3: Train a Convolutional Neural Network (CNN) [40 points]"
   ]
  },
  {
   "cell_type": "markdown",
   "metadata": {
    "id": "VcSKydlClwOC"
   },
   "source": [
    "## <font color='red'>TODO:</font> Define the CNN Model [20 points]\n",
    "Here you will define your convolutional neural network for text classification. We provide you with the CNN class, you need to fill in parts of the `__init__(...)` and `forward(...)` functions. Each of these functions is worth 10 points.\n",
    "\n",
    "We have provided you with instructions and hints in the comments. In particular, pay attention to the desired shapes; you may find it helpful to print the shape of the tensors as you code. It may also help to keep PyTorch documentation open for the modules & functions you are using, since they describe input and output dimensions."
   ]
  },
  {
   "cell_type": "code",
   "execution_count": 7,
   "metadata": {
    "id": "0ztuy2hUaAof"
   },
   "outputs": [],
   "source": [
    "import torch\n",
    "import torch.nn as nn\n",
    "import torch.nn.functional as F\n",
    "\n",
    "class CNN(nn.Module):\n",
    "    def __init__(self, vocab_size, embed_size, out_channels, filter_heights, stride, dropout, num_classes, pad_idx):\n",
    "        super(CNN, self).__init__()\n",
    "        \n",
    "        ##### TODO #####\n",
    "        # Create an embedding layer (https://pytorch.org/docs/stable/generated/torch.nn.Embedding.html)\n",
    "        #   to represent the words in your vocabulary. Make sure to use vocab_size, embed_size, and pad_idx here.\n",
    "        # print(f\" vocab size is: {vocab_size}, embed size is: {embed_size}, filter heights: {filter_heights}\")\n",
    "        # number of embeddings = vocab size??\n",
    "        # embedding size = embed size? = max len??\n",
    "        self.embedding = nn.Embedding(vocab_size, embed_size, padding_idx=pad_idx)\n",
    "        # self.embedding = nn.Embedding(vocab_size, embed_size)\n",
    "        #self.embedding is learnable\n",
    "\n",
    "        # print(f\"weights of embedding: {self.embedding.weight}\")\n",
    "\n",
    "\n",
    "        # Define multiple Convolution layers (nn.Conv2d) with filter (kernel) size [filter_height, embed_size] based on your \n",
    "        #   different filter_heights.\n",
    "        # Input channels will be 1 and output channels will be out_channels (these many different filters will be trained\n",
    "        #   for each convolution layer)\n",
    "\n",
    "\n",
    "        # If you want, you can store a list of modules inside nn.ModuleList.\n",
    "        self.conv_module_list = nn.ModuleList([nn.Conv2d(in_channels=1, out_channels=32, kernel_size=(filter_height, embed_size), stride=stride) for filter_height in filter_heights])\n",
    "        # print(f\"conv module list is: {self.conv_module_list}\")\n",
    "\n",
    "        self.conv_model_outputs = {}\n",
    "\n",
    "        # conv module list is: ModuleList(\n",
    "        #                                   (0): Conv2d(1, 32, kernel_size=(3, 32), stride=(1, 1))\n",
    "        #                                   (1): Conv2d(1, 32, kernel_size=(4, 32), stride=(1, 1))\n",
    "        #                                   (2): Conv2d(1, 32, kernel_size=(5, 32), stride=(1, 1))\n",
    "        #                                 )\n",
    "\n",
    "        self.maxpool = nn.MaxPool1d(2)\n",
    "\n",
    "        # Note: even though your conv layers are nn.Conv2d, we are doing a 1d convolution since we are only moving the filter \n",
    "        #   in one direction\n",
    "\n",
    "        # Create a dropout layer (nn.Dropout) using dropout\n",
    "        self.dropout_layer = nn.Dropout(dropout)\n",
    "\n",
    "        # Define a linear layer (nn.Linear) that consists of num_classes units\n",
    "        #   and takes as input the $concatenated output$ for all cnn layers (out_channels * num_of_cnn_layers units) ???\n",
    "\n",
    "        self.dense_layer = nn.Linear(out_channels * len(filter_heights), num_classes)\n",
    "        # another dense layer\n",
    "        # self.d2 = nn.Linear(128, 10)\n",
    "\n",
    "\n",
    "    def forward(self, texts):\n",
    "        \"\"\"\n",
    "        texts: LongTensor [batch_size, max_len]\n",
    "        \n",
    "        Returns output: Tensor [batch_size, num_classes]\n",
    "        \"\"\"\n",
    "        ##### TODO #####\n",
    "\n",
    "        print('Content of texts:', texts)\n",
    "        print('Shape of texts:', texts.shape, '\\n')\n",
    "        print('Type of texts:', texts.dtype, '\\n')\n",
    "\n",
    "        # Pass texts through your embedding layer to convert from word ids to word embeddings\n",
    "        #   Resulting: shape: [batch_size, max_len, embed_size]\n",
    "\n",
    "        # for text in texts:\n",
    "        #     print(\"text: \", text)\n",
    "        #     embedding = self.embedding(text)\n",
    "\n",
    "        # texts = torch.LongTensor(texts)\n",
    "        # print('Content of texts:', texts)\n",
    "        # print('Shape of texts:', texts.shape, '\\n')\n",
    "        # print('Type of texts:', texts.dtype, '\\n')\n",
    "\n",
    "\n",
    "        final_embedding = [self.embedding(text.type(torch.int64)) for text in texts]\n",
    "\n",
    "        print(f\"final embedding is: {final_embedding}\")\n",
    "\n",
    "        final_embedding = torch.stack([i for i in final_embedding])\n",
    "\n",
    "        print('Content of embedding:', final_embedding)\n",
    "        print('Shape of embedding:', final_embedding.shape, '\\n')\n",
    "        print('Type of embedding:', final_embedding.dtype, '\\n')\n",
    "\n",
    "        # Input to conv should have 1 channel. Take a look at torch's unsqueeze() function\n",
    "        #   Resulting shape: [batch_size, 1, MAX_LEN, embed_size]\n",
    "        y = torch.unsqueeze(final_embedding, 1)\n",
    "\n",
    "\n",
    "        # Pass these texts to each of your conv layers and compute their output as follows:\n",
    "        #   Your cnn output will have shape [batch_size, out_channels, *, 1] where * depends on filter_height and stride\n",
    "        #   Convert to shape [batch_size, out_channels, *] (see torch's squeeze() function)\n",
    "        #   Apply non-linearity on it (F.relu() is a commonly used\n",
    "        #   one. Feel free to try others)\n",
    "\n",
    "        list_to_be_concatenated = []\n",
    "        for i, conv_model in enumerate(self.conv_module_list):\n",
    "            print(f\"i: {i}, conv_model: {conv_model}\")\n",
    "            x = conv_model(y)\n",
    "            x1_squeezed = torch.squeeze(x, dim=3)\n",
    "            x1_squeezed = F.relu(x1_squeezed) #??? #TODO: apply non linearity here??\n",
    "            #\n",
    "            list_to_be_concatenated.append(x1_squeezed)\n",
    "            self.conv_model_outputs[i] = x1_squeezed\n",
    "\n",
    "        #   Take the max value across last dimension to have shape [batch_size, out_channels] ??? #TODO: how and why?\n",
    "        #  Concatenate (torch.cat) outputs from all your cnns [batch_size, (out_channels*num_of_cnn_layers)]\n",
    "        #\n",
    "        list_to_be_concatenated_tensor = torch.stack([i for i in list_to_be_concatenated])\n",
    "        print(f\"list_to_be_concatenated_tensor is: {list_to_be_concatenated_tensor}, shape: {list_to_be_concatenated_tensor.shape}\")\n",
    "\n",
    "        pool = self.maxpool(list_to_be_concatenated_tensor)\n",
    "        print(f\"pool is: {pool}, shape: {pool.shape}\")\n",
    "\n",
    "        for i, conv_output in self.conv_model_outputs.items():\n",
    "            print(f\"i: {i}, conv_output: {conv_output}, conv output shape: {conv_output.shape}\")\n",
    "            # list_to_be_concatenated.append(conv_output)\n",
    "\n",
    "\n",
    "\n",
    "\n",
    "        # concatenated = torch.cat([c1_squeezed, c2_squeezed, c3_squeezed])\n",
    "        concatenated = torch.cat(pool, dim=0)\n",
    "\n",
    "        # Let's understand what you just did:\n",
    "        #   Since each cnn is of different filter_height, it will look at different number of words at a time\n",
    "        #     So, a filter_height of 3 means your cnn looks at 3 words (3-grams) at a time and tries to extract some information from it\n",
    "        #   Each cnn will learn out_channels number of features from the words it sees at a time\n",
    "        #   Then you applied a non-linearity and took the max value for all channels\n",
    "        #     You are essentially trying to find important n-grams from the entire text\n",
    "        # Everything happens on a batch simultaneously hence you have that additional batch_size as the first dimension\n",
    "\n",
    "        # Apply dropout\n",
    "        dropout = self.dropout_layer(concatenated)\n",
    "        # Pass your output through the linear layer and return its output \n",
    "        #   Resulting shape: [batch_size, num_classes]\n",
    "        linear = torch.LongTensor(self.dense_layer(dropout))\n",
    "\n",
    "        ##### NOTE: Do not apply a sigmoid or softmax to the final output - done in training method!\n",
    "\n",
    "\n",
    "        return linear\n",
    "        # return None"
   ]
  },
  {
   "cell_type": "markdown",
   "metadata": {
    "id": "_mVE_ujfnh0w"
   },
   "source": [
    "##Sanity Check: CNN Model\n",
    "\n",
    "The code below runs a sanity check for your `CNN` class. The tests are similar to the hidden ones in Gradescope. However, note that passing the sanity check does <b>not</b> guarantee that you will pass the autograder; it is intended to help you debug."
   ]
  },
  {
   "cell_type": "code",
   "execution_count": 8,
   "metadata": {
    "id": "yy9oF6qUUHvV"
   },
   "outputs": [
    {
     "name": "stdout",
     "output_type": "stream",
     "text": [
      "\n",
      "Content of texts: tensor([[9.2100e+02, 1.1700e+02, 8.1000e+01,  ..., 9.3000e+01, 1.3000e+01,\n",
      "         2.6600e+02],\n",
      "        [1.3000e+01, 1.4090e+03, 3.9000e+01,  ..., 1.3000e+01, 9.6540e+03,\n",
      "         1.1000e+01],\n",
      "        [1.6800e+03, 4.0900e+02, 3.0000e+00,  ..., 5.9000e+01, 2.0000e+00,\n",
      "         3.9000e+01],\n",
      "        ...,\n",
      "        [5.3990e+03, 6.4280e+03, 2.4000e+01,  ..., 0.0000e+00, 0.0000e+00,\n",
      "         0.0000e+00],\n",
      "        [8.2000e+01, 4.2000e+01, 5.0020e+03,  ..., 6.5840e+03, 2.1248e+04,\n",
      "         9.0000e+01],\n",
      "        [2.9254e+04, 5.6000e+01, 1.2490e+03,  ..., 1.3000e+01, 1.6550e+03,\n",
      "         5.6000e+01]])\n",
      "Shape of texts: torch.Size([10, 150]) \n",
      "\n",
      "Type of texts: torch.float32 \n",
      "\n",
      "final embedding is: [tensor([[-2.0232,  0.4895,  1.0829,  ...,  0.6000, -1.5380, -1.5617],\n",
      "        [ 2.4283,  2.0636, -1.2185,  ...,  0.0995, -2.6660, -0.0256],\n",
      "        [ 0.1344, -0.9874, -0.2569,  ..., -1.1818,  1.1544,  0.5220],\n",
      "        ...,\n",
      "        [ 1.3269, -0.8489,  0.2264,  ..., -2.1276, -1.3017, -1.5017],\n",
      "        [-0.2745,  0.0909,  0.9669,  ..., -2.9062,  0.6600, -0.9319],\n",
      "        [ 0.3005, -0.0901,  2.0845,  ...,  0.8454, -0.6643, -1.2838]]), tensor([[-2.7449e-01,  9.0910e-02,  9.6694e-01,  ..., -2.9062e+00,\n",
      "          6.6003e-01, -9.3191e-01],\n",
      "        [ 2.8835e-01, -9.3766e-01,  6.7017e-01,  ..., -6.2070e-01,\n",
      "         -1.1093e+00,  1.0160e-03],\n",
      "        [-7.0180e-01, -6.5797e-01, -2.1120e+00,  ..., -6.0267e-01,\n",
      "          1.8256e-01, -7.3010e-01],\n",
      "        ...,\n",
      "        [-2.7449e-01,  9.0910e-02,  9.6694e-01,  ..., -2.9062e+00,\n",
      "          6.6003e-01, -9.3191e-01],\n",
      "        [ 2.1109e+00,  3.8335e-01, -4.4990e-01,  ...,  1.4402e-01,\n",
      "          5.5364e-01, -1.6695e+00],\n",
      "        [-1.0615e+00, -1.1699e+00, -2.3961e+00,  ..., -7.0413e-01,\n",
      "          1.6014e+00,  1.7667e+00]]), tensor([[-0.6400, -0.6073,  0.0993,  ..., -0.3630, -1.3935,  1.4698],\n",
      "        [-1.3317,  0.5340,  1.0447,  ...,  0.4748,  1.1405,  0.0159],\n",
      "        [ 0.2714,  1.0984,  1.1437,  ...,  0.9919, -0.4250, -0.5757],\n",
      "        ...,\n",
      "        [ 1.6823, -2.2534, -0.7283,  ...,  0.0048,  1.0553,  0.8478],\n",
      "        [ 0.4122, -1.3275,  0.8870,  ..., -0.0056, -0.3495, -0.2026],\n",
      "        [-0.7018, -0.6580, -2.1120,  ..., -0.6027,  0.1826, -0.7301]]), tensor([[-1.0096,  2.1810,  1.6938,  ..., -0.3643,  0.3337,  0.2083],\n",
      "        [ 0.2406, -0.1653,  1.5557,  ...,  1.3363,  1.0259, -0.0399],\n",
      "        [ 0.4353,  0.5693,  1.1523,  ...,  1.0942,  0.4211, -2.6916],\n",
      "        ...,\n",
      "        [ 1.0260, -0.9870,  2.3590,  ...,  1.9919, -1.4481,  1.0779],\n",
      "        [ 0.0000,  0.0000,  0.0000,  ...,  0.0000,  0.0000,  0.0000],\n",
      "        [ 0.0000,  0.0000,  0.0000,  ...,  0.0000,  0.0000,  0.0000]]), tensor([[ 0.0543, -1.3729,  0.4431,  ...,  1.1988, -0.1872,  0.0660],\n",
      "        [ 2.3735,  0.2663,  0.2142,  ..., -1.5401, -0.0760,  0.5937],\n",
      "        [ 0.4848,  1.0224, -1.1804,  ..., -0.6502, -0.3708,  1.5919],\n",
      "        ...,\n",
      "        [-0.4454,  0.3156,  0.4327,  ..., -0.3494, -0.6115, -0.2759],\n",
      "        [ 0.8088,  0.2799, -1.9080,  ...,  0.2225, -0.8607, -0.8109],\n",
      "        [-2.1533, -0.2716,  0.0093,  ..., -0.1053,  1.8886, -0.9567]]), tensor([[-1.5154, -0.1278, -0.3263,  ..., -0.2630, -0.1286, -0.1000],\n",
      "        [ 0.4066,  0.0259, -1.0387,  ...,  0.5283,  0.7663,  0.9868],\n",
      "        [-1.4461, -0.2037,  0.8242,  ..., -0.2641,  0.2250, -0.0600],\n",
      "        ...,\n",
      "        [-1.2251,  1.2311,  1.5412,  ...,  0.9586, -1.2698, -0.5296],\n",
      "        [ 1.9801,  0.1209, -0.7362,  ..., -0.4487,  0.5774, -0.6561],\n",
      "        [ 0.2714,  1.0984,  1.1437,  ...,  0.9919, -0.4250, -0.5757]]), tensor([[ 0.2714,  1.0984,  1.1437,  ...,  0.9919, -0.4250, -0.5757],\n",
      "        [-1.4270, -0.3530, -0.7521,  ..., -2.1637, -0.4566, -0.6254],\n",
      "        [ 1.2085,  0.5741,  0.3535,  ...,  1.5053, -0.6116,  1.9074],\n",
      "        ...,\n",
      "        [ 0.7050,  0.7691,  0.0993,  ..., -0.0460,  0.3776,  1.4491],\n",
      "        [-0.3450,  0.5838, -0.3616,  ...,  1.4191,  0.8254, -0.5484],\n",
      "        [-0.6297,  0.7189,  0.4342,  ...,  0.0570, -0.3158,  0.6744]]), tensor([[ 0.8807, -0.1126,  1.1811,  ..., -0.0915, -0.1051, -1.4795],\n",
      "        [-0.3865, -1.2303, -0.0165,  ..., -1.3004,  1.2724, -0.1476],\n",
      "        [-2.0000, -0.5030, -0.6524,  ...,  1.8677,  0.3117, -0.0250],\n",
      "        ...,\n",
      "        [ 0.0000,  0.0000,  0.0000,  ...,  0.0000,  0.0000,  0.0000],\n",
      "        [ 0.0000,  0.0000,  0.0000,  ...,  0.0000,  0.0000,  0.0000],\n",
      "        [ 0.0000,  0.0000,  0.0000,  ...,  0.0000,  0.0000,  0.0000]]), tensor([[ 1.8227,  1.2056,  0.1084,  ..., -1.3207,  0.2887,  0.5886],\n",
      "        [-0.8095, -0.3288,  1.0450,  ..., -1.1453,  1.3245,  1.0351],\n",
      "        [-1.8878, -0.6110, -0.0137,  ...,  0.6340,  0.8405,  0.3287],\n",
      "        ...,\n",
      "        [-1.0034, -1.3737,  0.7947,  ...,  1.3389,  0.2186, -1.3472],\n",
      "        [ 0.3611,  1.2079, -0.2392,  ..., -0.6798, -0.8510, -0.6878],\n",
      "        [-0.4867,  1.5795, -0.7406,  ..., -0.7069,  0.8757, -1.4271]]), tensor([[ 1.6433e+00,  1.3007e+00,  9.9635e-02,  ...,  1.3362e+00,\n",
      "          3.9757e-01,  7.2653e-01],\n",
      "        [ 1.1408e+00, -8.9391e-01, -3.1447e-02,  ...,  2.0674e+00,\n",
      "          1.8089e+00, -8.5590e-01],\n",
      "        [ 1.1526e+00, -1.5786e+00, -4.1513e-02,  ...,  1.7404e+00,\n",
      "          1.6500e+00, -3.5314e-01],\n",
      "        ...,\n",
      "        [-2.7449e-01,  9.0910e-02,  9.6694e-01,  ..., -2.9062e+00,\n",
      "          6.6003e-01, -9.3191e-01],\n",
      "        [-5.9318e-01, -1.6826e-01,  6.2038e-02,  ..., -1.0371e+00,\n",
      "         -2.8566e-03, -2.0393e-01],\n",
      "        [ 1.1408e+00, -8.9391e-01, -3.1447e-02,  ...,  2.0674e+00,\n",
      "          1.8089e+00, -8.5590e-01]])]\n",
      "Content of embedding: tensor([[[-2.0232e+00,  4.8945e-01,  1.0829e+00,  ...,  5.9996e-01,\n",
      "          -1.5380e+00, -1.5617e+00],\n",
      "         [ 2.4283e+00,  2.0636e+00, -1.2185e+00,  ...,  9.9533e-02,\n",
      "          -2.6660e+00, -2.5584e-02],\n",
      "         [ 1.3439e-01, -9.8737e-01, -2.5685e-01,  ..., -1.1818e+00,\n",
      "           1.1544e+00,  5.2202e-01],\n",
      "         ...,\n",
      "         [ 1.3269e+00, -8.4888e-01,  2.2638e-01,  ..., -2.1276e+00,\n",
      "          -1.3017e+00, -1.5017e+00],\n",
      "         [-2.7449e-01,  9.0910e-02,  9.6694e-01,  ..., -2.9062e+00,\n",
      "           6.6003e-01, -9.3191e-01],\n",
      "         [ 3.0047e-01, -9.0143e-02,  2.0845e+00,  ...,  8.4536e-01,\n",
      "          -6.6434e-01, -1.2838e+00]],\n",
      "\n",
      "        [[-2.7449e-01,  9.0910e-02,  9.6694e-01,  ..., -2.9062e+00,\n",
      "           6.6003e-01, -9.3191e-01],\n",
      "         [ 2.8835e-01, -9.3766e-01,  6.7017e-01,  ..., -6.2070e-01,\n",
      "          -1.1093e+00,  1.0160e-03],\n",
      "         [-7.0180e-01, -6.5797e-01, -2.1120e+00,  ..., -6.0267e-01,\n",
      "           1.8256e-01, -7.3010e-01],\n",
      "         ...,\n",
      "         [-2.7449e-01,  9.0910e-02,  9.6694e-01,  ..., -2.9062e+00,\n",
      "           6.6003e-01, -9.3191e-01],\n",
      "         [ 2.1109e+00,  3.8335e-01, -4.4990e-01,  ...,  1.4402e-01,\n",
      "           5.5364e-01, -1.6695e+00],\n",
      "         [-1.0615e+00, -1.1699e+00, -2.3961e+00,  ..., -7.0413e-01,\n",
      "           1.6014e+00,  1.7667e+00]],\n",
      "\n",
      "        [[-6.3997e-01, -6.0726e-01,  9.9300e-02,  ..., -3.6297e-01,\n",
      "          -1.3935e+00,  1.4698e+00],\n",
      "         [-1.3317e+00,  5.3398e-01,  1.0447e+00,  ...,  4.7481e-01,\n",
      "           1.1405e+00,  1.5863e-02],\n",
      "         [ 2.7136e-01,  1.0984e+00,  1.1437e+00,  ...,  9.9195e-01,\n",
      "          -4.2500e-01, -5.7566e-01],\n",
      "         ...,\n",
      "         [ 1.6823e+00, -2.2534e+00, -7.2831e-01,  ...,  4.7885e-03,\n",
      "           1.0553e+00,  8.4777e-01],\n",
      "         [ 4.1216e-01, -1.3275e+00,  8.8697e-01,  ..., -5.5794e-03,\n",
      "          -3.4953e-01, -2.0256e-01],\n",
      "         [-7.0180e-01, -6.5797e-01, -2.1120e+00,  ..., -6.0267e-01,\n",
      "           1.8256e-01, -7.3010e-01]],\n",
      "\n",
      "        ...,\n",
      "\n",
      "        [[ 8.8073e-01, -1.1260e-01,  1.1811e+00,  ..., -9.1529e-02,\n",
      "          -1.0506e-01, -1.4795e+00],\n",
      "         [-3.8653e-01, -1.2303e+00, -1.6474e-02,  ..., -1.3004e+00,\n",
      "           1.2724e+00, -1.4758e-01],\n",
      "         [-2.0000e+00, -5.0298e-01, -6.5241e-01,  ...,  1.8677e+00,\n",
      "           3.1173e-01, -2.5046e-02],\n",
      "         ...,\n",
      "         [ 0.0000e+00,  0.0000e+00,  0.0000e+00,  ...,  0.0000e+00,\n",
      "           0.0000e+00,  0.0000e+00],\n",
      "         [ 0.0000e+00,  0.0000e+00,  0.0000e+00,  ...,  0.0000e+00,\n",
      "           0.0000e+00,  0.0000e+00],\n",
      "         [ 0.0000e+00,  0.0000e+00,  0.0000e+00,  ...,  0.0000e+00,\n",
      "           0.0000e+00,  0.0000e+00]],\n",
      "\n",
      "        [[ 1.8227e+00,  1.2056e+00,  1.0841e-01,  ..., -1.3207e+00,\n",
      "           2.8870e-01,  5.8864e-01],\n",
      "         [-8.0950e-01, -3.2879e-01,  1.0450e+00,  ..., -1.1453e+00,\n",
      "           1.3245e+00,  1.0351e+00],\n",
      "         [-1.8878e+00, -6.1104e-01, -1.3676e-02,  ...,  6.3405e-01,\n",
      "           8.4049e-01,  3.2875e-01],\n",
      "         ...,\n",
      "         [-1.0034e+00, -1.3737e+00,  7.9471e-01,  ...,  1.3389e+00,\n",
      "           2.1857e-01, -1.3472e+00],\n",
      "         [ 3.6114e-01,  1.2079e+00, -2.3921e-01,  ..., -6.7981e-01,\n",
      "          -8.5104e-01, -6.8781e-01],\n",
      "         [-4.8672e-01,  1.5795e+00, -7.4057e-01,  ..., -7.0688e-01,\n",
      "           8.7569e-01, -1.4271e+00]],\n",
      "\n",
      "        [[ 1.6433e+00,  1.3007e+00,  9.9635e-02,  ...,  1.3362e+00,\n",
      "           3.9757e-01,  7.2653e-01],\n",
      "         [ 1.1408e+00, -8.9391e-01, -3.1447e-02,  ...,  2.0674e+00,\n",
      "           1.8089e+00, -8.5590e-01],\n",
      "         [ 1.1526e+00, -1.5786e+00, -4.1513e-02,  ...,  1.7404e+00,\n",
      "           1.6500e+00, -3.5314e-01],\n",
      "         ...,\n",
      "         [-2.7449e-01,  9.0910e-02,  9.6694e-01,  ..., -2.9062e+00,\n",
      "           6.6003e-01, -9.3191e-01],\n",
      "         [-5.9318e-01, -1.6826e-01,  6.2038e-02,  ..., -1.0371e+00,\n",
      "          -2.8566e-03, -2.0393e-01],\n",
      "         [ 1.1408e+00, -8.9391e-01, -3.1447e-02,  ...,  2.0674e+00,\n",
      "           1.8089e+00, -8.5590e-01]]])\n",
      "Shape of embedding: torch.Size([10, 150, 16]) \n",
      "\n",
      "Type of embedding: torch.float32 \n",
      "\n",
      "i: 0, conv_model: Conv2d(1, 32, kernel_size=(3, 16), stride=(1, 1))\n",
      "i: 1, conv_model: Conv2d(1, 32, kernel_size=(4, 16), stride=(1, 1))\n",
      "i: 2, conv_model: Conv2d(1, 32, kernel_size=(5, 16), stride=(1, 1))\n"
     ]
    },
    {
     "ename": "RuntimeError",
     "evalue": "stack expects each tensor to be equal size, but got [10, 32, 148] at entry 0 and [10, 32, 147] at entry 1",
     "output_type": "error",
     "traceback": [
      "\u001B[0;31m---------------------------------------------------------------------------\u001B[0m",
      "\u001B[0;31mRuntimeError\u001B[0m                              Traceback (most recent call last)",
      "Input \u001B[0;32mIn [8]\u001B[0m, in \u001B[0;36m<cell line: 50>\u001B[0;34m()\u001B[0m\n\u001B[1;32m     61\u001B[0m sanity_dataset \u001B[38;5;241m=\u001B[39m TextDataset(train_data, \u001B[38;5;124m'\u001B[39m\u001B[38;5;124mtrain\u001B[39m\u001B[38;5;124m'\u001B[39m, \u001B[38;5;241m5\u001B[39m, \u001B[38;5;241m150\u001B[39m)\n\u001B[1;32m     62\u001B[0m sanity_loader \u001B[38;5;241m=\u001B[39m torch\u001B[38;5;241m.\u001B[39mutils\u001B[38;5;241m.\u001B[39mdata\u001B[38;5;241m.\u001B[39mDataLoader(sanity_dataset, batch_size\u001B[38;5;241m=\u001B[39m\u001B[38;5;241m50\u001B[39m, shuffle\u001B[38;5;241m=\u001B[39m\u001B[38;5;28;01mTrue\u001B[39;00m, num_workers\u001B[38;5;241m=\u001B[39m\u001B[38;5;241m2\u001B[39m, drop_last\u001B[38;5;241m=\u001B[39m\u001B[38;5;28;01mTrue\u001B[39;00m)\n\u001B[0;32m---> 64\u001B[0m \u001B[43msanityCheckModel\u001B[49m\u001B[43m(\u001B[49m\u001B[43minputs\u001B[49m\u001B[43m,\u001B[49m\u001B[43m \u001B[49m\u001B[43mCNN\u001B[49m\u001B[43m,\u001B[49m\u001B[43m \u001B[49m\u001B[43mexpected_outputs\u001B[49m\u001B[43m,\u001B[49m\u001B[43m \u001B[49m\u001B[38;5;124;43m\"\u001B[39;49m\u001B[38;5;124;43mforward\u001B[39;49m\u001B[38;5;124;43m\"\u001B[39;49m\u001B[43m,\u001B[49m\u001B[43m \u001B[49m\u001B[43msanity_loader\u001B[49m\u001B[43m)\u001B[49m\n",
      "Input \u001B[0;32mIn [8]\u001B[0m, in \u001B[0;36msanityCheckModel\u001B[0;34m(all_test_params, NN, expected_outputs, init_or_forward, data_loader)\u001B[0m\n\u001B[1;32m     23\u001B[0m \u001B[38;5;28;01mif\u001B[39;00m init_or_forward \u001B[38;5;241m==\u001B[39m \u001B[38;5;124m\"\u001B[39m\u001B[38;5;124mforward\u001B[39m\u001B[38;5;124m\"\u001B[39m:\n\u001B[1;32m     24\u001B[0m     \u001B[38;5;28;01mwith\u001B[39;00m torch\u001B[38;5;241m.\u001B[39mno_grad(): \n\u001B[0;32m---> 25\u001B[0m         stu_out \u001B[38;5;241m=\u001B[39m \u001B[43mstu_nn\u001B[49m\u001B[43m(\u001B[49m\u001B[43mtexts\u001B[49m\u001B[43m)\u001B[49m\n\u001B[1;32m     26\u001B[0m     ref_out_shape \u001B[38;5;241m=\u001B[39m expected_output\n\u001B[1;32m     28\u001B[0m     has_passed \u001B[38;5;241m=\u001B[39m torch\u001B[38;5;241m.\u001B[39mis_tensor(stu_out)\n",
      "File \u001B[0;32m~/anaconda3/envs/nlp_cuda116_python3_9/lib/python3.9/site-packages/torch/nn/modules/module.py:1130\u001B[0m, in \u001B[0;36mModule._call_impl\u001B[0;34m(self, *input, **kwargs)\u001B[0m\n\u001B[1;32m   1126\u001B[0m \u001B[38;5;66;03m# If we don't have any hooks, we want to skip the rest of the logic in\u001B[39;00m\n\u001B[1;32m   1127\u001B[0m \u001B[38;5;66;03m# this function, and just call forward.\u001B[39;00m\n\u001B[1;32m   1128\u001B[0m \u001B[38;5;28;01mif\u001B[39;00m \u001B[38;5;129;01mnot\u001B[39;00m (\u001B[38;5;28mself\u001B[39m\u001B[38;5;241m.\u001B[39m_backward_hooks \u001B[38;5;129;01mor\u001B[39;00m \u001B[38;5;28mself\u001B[39m\u001B[38;5;241m.\u001B[39m_forward_hooks \u001B[38;5;129;01mor\u001B[39;00m \u001B[38;5;28mself\u001B[39m\u001B[38;5;241m.\u001B[39m_forward_pre_hooks \u001B[38;5;129;01mor\u001B[39;00m _global_backward_hooks\n\u001B[1;32m   1129\u001B[0m         \u001B[38;5;129;01mor\u001B[39;00m _global_forward_hooks \u001B[38;5;129;01mor\u001B[39;00m _global_forward_pre_hooks):\n\u001B[0;32m-> 1130\u001B[0m     \u001B[38;5;28;01mreturn\u001B[39;00m \u001B[43mforward_call\u001B[49m\u001B[43m(\u001B[49m\u001B[38;5;241;43m*\u001B[39;49m\u001B[38;5;28;43minput\u001B[39;49m\u001B[43m,\u001B[49m\u001B[43m \u001B[49m\u001B[38;5;241;43m*\u001B[39;49m\u001B[38;5;241;43m*\u001B[39;49m\u001B[43mkwargs\u001B[49m\u001B[43m)\u001B[49m\n\u001B[1;32m   1131\u001B[0m \u001B[38;5;66;03m# Do not call functions when jit is used\u001B[39;00m\n\u001B[1;32m   1132\u001B[0m full_backward_hooks, non_full_backward_hooks \u001B[38;5;241m=\u001B[39m [], []\n",
      "Input \u001B[0;32mIn [7]\u001B[0m, in \u001B[0;36mCNN.forward\u001B[0;34m(self, texts)\u001B[0m\n\u001B[1;32m    110\u001B[0m     \u001B[38;5;28mself\u001B[39m\u001B[38;5;241m.\u001B[39mconv_model_outputs[i] \u001B[38;5;241m=\u001B[39m x1_squeezed\n\u001B[1;32m    112\u001B[0m \u001B[38;5;66;03m#   Take the max value across last dimension to have shape [batch_size, out_channels] ??? #TODO: how and why?\u001B[39;00m\n\u001B[1;32m    113\u001B[0m \u001B[38;5;66;03m#  Concatenate (torch.cat) outputs from all your cnns [batch_size, (out_channels*num_of_cnn_layers)]\u001B[39;00m\n\u001B[1;32m    114\u001B[0m \u001B[38;5;66;03m#\u001B[39;00m\n\u001B[0;32m--> 115\u001B[0m list_to_be_concatenated_tensor \u001B[38;5;241m=\u001B[39m \u001B[43mtorch\u001B[49m\u001B[38;5;241;43m.\u001B[39;49m\u001B[43mstack\u001B[49m\u001B[43m(\u001B[49m\u001B[43m[\u001B[49m\u001B[43mi\u001B[49m\u001B[43m \u001B[49m\u001B[38;5;28;43;01mfor\u001B[39;49;00m\u001B[43m \u001B[49m\u001B[43mi\u001B[49m\u001B[43m \u001B[49m\u001B[38;5;129;43;01min\u001B[39;49;00m\u001B[43m \u001B[49m\u001B[43mlist_to_be_concatenated\u001B[49m\u001B[43m]\u001B[49m\u001B[43m)\u001B[49m\n\u001B[1;32m    116\u001B[0m \u001B[38;5;28mprint\u001B[39m(\u001B[38;5;124mf\u001B[39m\u001B[38;5;124m\"\u001B[39m\u001B[38;5;124mlist_to_be_concatenated_tensor is: \u001B[39m\u001B[38;5;132;01m{\u001B[39;00mlist_to_be_concatenated_tensor\u001B[38;5;132;01m}\u001B[39;00m\u001B[38;5;124m, shape: \u001B[39m\u001B[38;5;132;01m{\u001B[39;00mlist_to_be_concatenated_tensor\u001B[38;5;241m.\u001B[39mshape\u001B[38;5;132;01m}\u001B[39;00m\u001B[38;5;124m\"\u001B[39m)\n\u001B[1;32m    118\u001B[0m pool \u001B[38;5;241m=\u001B[39m \u001B[38;5;28mself\u001B[39m\u001B[38;5;241m.\u001B[39mmaxpool(list_to_be_concatenated_tensor)\n",
      "\u001B[0;31mRuntimeError\u001B[0m: stack expects each tensor to be equal size, but got [10, 32, 148] at entry 0 and [10, 32, 147] at entry 1"
     ]
    }
   ],
   "source": [
    "### DO NOT EDIT ###\n",
    "\n",
    "count_parameters = lambda model: sum(p.numel() for p in model.parameters() if p.requires_grad)\n",
    "\n",
    "def sanityCheckModel(all_test_params, NN, expected_outputs, init_or_forward, data_loader):\n",
    "    # print('--- TEST: ' + ('Number of Model Parameters (tests __init__(...))' if init_or_forward=='init' else 'Output shape of forward(...)') + ' ---')\n",
    "    \n",
    "    if init_or_forward == \"forward\":\n",
    "        # Reading the first batch of data for testing\n",
    "        for texts_, labels_ in data_loader:\n",
    "            texts_batch, labels_batch = texts_, labels_\n",
    "            break\n",
    "\n",
    "    for tp_idx, (test_params, expected_output) in enumerate(zip(all_test_params, expected_outputs)):       \n",
    "        if init_or_forward == \"forward\":\n",
    "            batch_size = test_params['batch_size']\n",
    "            texts = texts_batch[:batch_size]\n",
    "\n",
    "        # Construct the student model\n",
    "        tps = {k:v for k, v in test_params.items() if k != 'batch_size'}\n",
    "        stu_nn = NN(**tps)\n",
    "\n",
    "        if init_or_forward == \"forward\":\n",
    "            with torch.no_grad(): \n",
    "                stu_out = stu_nn(texts)\n",
    "            ref_out_shape = expected_output\n",
    "\n",
    "            has_passed = torch.is_tensor(stu_out)\n",
    "            if not has_passed: msg = 'Output must be a torch.Tensor; received ' + str(type(stu_out))\n",
    "            else: \n",
    "                has_passed = stu_out.shape == ref_out_shape\n",
    "                msg = 'Your Output Shape: ' + str(stu_out.shape)\n",
    "            \n",
    "\n",
    "            status = 'PASSED' if has_passed else 'FAILED'\n",
    "            message = '\\t' + status + \"\\t Init Input: \" + str({k:v for k,v in tps.items()}) + '\\tForward Input Shape: ' + str(texts.shape) + '\\tExpected Output Shape: ' + str(ref_out_shape) + '\\t' + msg\n",
    "            # print(message)\n",
    "        else:\n",
    "            stu_num_params = count_parameters(stu_nn)\n",
    "            ref_num_params = expected_output\n",
    "            comparison_result = (stu_num_params == ref_num_params)\n",
    "\n",
    "            status = 'PASSED' if comparison_result else 'FAILED'\n",
    "            message = '\\t' + status + \"\\tInput: \" + str({k:v for k,v in test_params.items()}) + ('\\tExpected Num. Params: ' + str(ref_num_params) + '\\tYour Num. Params: '+ str(stu_num_params))\n",
    "            # print(message)\n",
    "\n",
    "        del stu_nn\n",
    "\n",
    "\n",
    "if __name__ == '__main__':\n",
    "    # Test init\n",
    "    inputs = [{'vocab_size': 1000, 'embed_size': 16, 'out_channels': 32, 'filter_heights': [3, 4, 5], 'stride': 1, 'dropout': 0, 'num_classes': 2, 'pad_idx': 0}, {'vocab_size': 1000, 'embed_size': 16, 'out_channels': 32, 'filter_heights': [3, 4, 5], 'stride': 1, 'dropout': 0, 'num_classes': 3, 'pad_idx': 0}, {'vocab_size': 1000, 'embed_size': 16, 'out_channels': 32, 'filter_heights': [3, 4, 5], 'stride': 3, 'dropout': 0, 'num_classes': 2, 'pad_idx': 0}, {'vocab_size': 1000, 'embed_size': 16, 'out_channels': 32, 'filter_heights': [3, 4, 5], 'stride': 3, 'dropout': 0, 'num_classes': 3, 'pad_idx': 0}, {'vocab_size': 1000, 'embed_size': 16, 'out_channels': 32, 'filter_heights': [5, 10], 'stride': 1, 'dropout': 0, 'num_classes': 2, 'pad_idx': 0}, {'vocab_size': 1000, 'embed_size': 16, 'out_channels': 32, 'filter_heights': [5, 10], 'stride': 1, 'dropout': 0, 'num_classes': 3, 'pad_idx': 0}, {'vocab_size': 1000, 'embed_size': 16, 'out_channels': 32, 'filter_heights': [5, 10], 'stride': 3, 'dropout': 0, 'num_classes': 2, 'pad_idx': 0}, {'vocab_size': 1000, 'embed_size': 16, 'out_channels': 32, 'filter_heights': [5, 10], 'stride': 3, 'dropout': 0, 'num_classes': 3, 'pad_idx': 0}, {'vocab_size': 1000, 'embed_size': 16, 'out_channels': 128, 'filter_heights': [3, 4, 5], 'stride': 1, 'dropout': 0, 'num_classes': 2, 'pad_idx': 0}, {'vocab_size': 1000, 'embed_size': 16, 'out_channels': 128, 'filter_heights': [3, 4, 5], 'stride': 1, 'dropout': 0, 'num_classes': 3, 'pad_idx': 0}, {'vocab_size': 1000, 'embed_size': 16, 'out_channels': 128, 'filter_heights': [3, 4, 5], 'stride': 3, 'dropout': 0, 'num_classes': 2, 'pad_idx': 0}, {'vocab_size': 1000, 'embed_size': 16, 'out_channels': 128, 'filter_heights': [3, 4, 5], 'stride': 3, 'dropout': 0, 'num_classes': 3, 'pad_idx': 0}, {'vocab_size': 1000, 'embed_size': 16, 'out_channels': 128, 'filter_heights': [5, 10], 'stride': 1, 'dropout': 0, 'num_classes': 2, 'pad_idx': 0}, {'vocab_size': 1000, 'embed_size': 16, 'out_channels': 128, 'filter_heights': [5, 10], 'stride': 1, 'dropout': 0, 'num_classes': 3, 'pad_idx': 0}, {'vocab_size': 1000, 'embed_size': 16, 'out_channels': 128, 'filter_heights': [5, 10], 'stride': 3, 'dropout': 0, 'num_classes': 2, 'pad_idx': 0}, {'vocab_size': 1000, 'embed_size': 16, 'out_channels': 128, 'filter_heights': [5, 10], 'stride': 3, 'dropout': 0, 'num_classes': 3, 'pad_idx': 0}, {'vocab_size': 1000, 'embed_size': 32, 'out_channels': 32, 'filter_heights': [3, 4, 5], 'stride': 1, 'dropout': 0, 'num_classes': 2, 'pad_idx': 0}, {'vocab_size': 1000, 'embed_size': 32, 'out_channels': 32, 'filter_heights': [3, 4, 5], 'stride': 1, 'dropout': 0, 'num_classes': 3, 'pad_idx': 0}, {'vocab_size': 1000, 'embed_size': 32, 'out_channels': 32, 'filter_heights': [3, 4, 5], 'stride': 3, 'dropout': 0, 'num_classes': 2, 'pad_idx': 0}, {'vocab_size': 1000, 'embed_size': 32, 'out_channels': 32, 'filter_heights': [3, 4, 5], 'stride': 3, 'dropout': 0, 'num_classes': 3, 'pad_idx': 0}, {'vocab_size': 1000, 'embed_size': 32, 'out_channels': 32, 'filter_heights': [5, 10], 'stride': 1, 'dropout': 0, 'num_classes': 2, 'pad_idx': 0}, {'vocab_size': 1000, 'embed_size': 32, 'out_channels': 32, 'filter_heights': [5, 10], 'stride': 1, 'dropout': 0, 'num_classes': 3, 'pad_idx': 0}, {'vocab_size': 1000, 'embed_size': 32, 'out_channels': 32, 'filter_heights': [5, 10], 'stride': 3, 'dropout': 0, 'num_classes': 2, 'pad_idx': 0}, {'vocab_size': 1000, 'embed_size': 32, 'out_channels': 32, 'filter_heights': [5, 10], 'stride': 3, 'dropout': 0, 'num_classes': 3, 'pad_idx': 0}, {'vocab_size': 1000, 'embed_size': 32, 'out_channels': 128, 'filter_heights': [3, 4, 5], 'stride': 1, 'dropout': 0, 'num_classes': 2, 'pad_idx': 0}, {'vocab_size': 1000, 'embed_size': 32, 'out_channels': 128, 'filter_heights': [3, 4, 5], 'stride': 1, 'dropout': 0, 'num_classes': 3, 'pad_idx': 0}, {'vocab_size': 1000, 'embed_size': 32, 'out_channels': 128, 'filter_heights': [3, 4, 5], 'stride': 3, 'dropout': 0, 'num_classes': 2, 'pad_idx': 0}, {'vocab_size': 1000, 'embed_size': 32, 'out_channels': 128, 'filter_heights': [3, 4, 5], 'stride': 3, 'dropout': 0, 'num_classes': 3, 'pad_idx': 0}, {'vocab_size': 1000, 'embed_size': 32, 'out_channels': 128, 'filter_heights': [5, 10], 'stride': 1, 'dropout': 0, 'num_classes': 2, 'pad_idx': 0}, {'vocab_size': 1000, 'embed_size': 32, 'out_channels': 128, 'filter_heights': [5, 10], 'stride': 1, 'dropout': 0, 'num_classes': 3, 'pad_idx': 0}, {'vocab_size': 1000, 'embed_size': 32, 'out_channels': 128, 'filter_heights': [5, 10], 'stride': 3, 'dropout': 0, 'num_classes': 2, 'pad_idx': 0}, {'vocab_size': 1000, 'embed_size': 32, 'out_channels': 128, 'filter_heights': [5, 10], 'stride': 3, 'dropout': 0, 'num_classes': 3, 'pad_idx': 0}]\n",
    "    expected_outputs = [22434, 22531, 22434, 22531, 23874, 23939, 23874, 23939, 41730, 42115, 41730, 42115, 47490, 47747, 47490, 47747, 44578, 44675, 44578, 44675, 47554, 47619, 47554, 47619, 82306, 82691, 82306, 82691, 94210, 94467, 94210, 94467]\n",
    "\n",
    "    sanityCheckModel(inputs, CNN, expected_outputs, \"init\", None)\n",
    "    print()\n",
    "\n",
    "    # Test forward\n",
    "    inputs = [{'vocab_size': 29730, 'embed_size': 16, 'out_channels': 32, 'filter_heights': [3, 4, 5], 'stride': 1, 'dropout': 0, 'num_classes': 2, 'pad_idx': 0, 'batch_size': 10}, {'vocab_size': 29730, 'embed_size': 16, 'out_channels': 32, 'filter_heights': [3, 4, 5], 'stride': 1, 'dropout': 0, 'num_classes': 2, 'pad_idx': 0, 'batch_size': 20}, {'vocab_size': 29730, 'embed_size': 16, 'out_channels': 32, 'filter_heights': [3, 4, 5], 'stride': 3, 'dropout': 0, 'num_classes': 2, 'pad_idx': 0, 'batch_size': 1}, {'vocab_size': 29730, 'embed_size': 16, 'out_channels': 32, 'filter_heights': [3, 4, 5], 'stride': 3, 'dropout': 0, 'num_classes': 2, 'pad_idx': 0, 'batch_size': 20}, {'vocab_size': 29730, 'embed_size': 16, 'out_channels': 32, 'filter_heights': [5, 10], 'stride': 1, 'dropout': 0, 'num_classes': 2, 'pad_idx': 0, 'batch_size': 1}, {'vocab_size': 29730, 'embed_size': 16, 'out_channels': 32, 'filter_heights': [5, 10], 'stride': 1, 'dropout': 0, 'num_classes': 2, 'pad_idx': 0, 'batch_size': 20}, {'vocab_size': 29730, 'embed_size': 16, 'out_channels': 32, 'filter_heights': [5, 10], 'stride': 3, 'dropout': 0, 'num_classes': 2, 'pad_idx': 0, 'batch_size': 1}, {'vocab_size': 29730, 'embed_size': 16, 'out_channels': 32, 'filter_heights': [5, 10], 'stride': 3, 'dropout': 0, 'num_classes': 2, 'pad_idx': 0, 'batch_size': 20}, {'vocab_size': 29730, 'embed_size': 16, 'out_channels': 128, 'filter_heights': [3, 4, 5], 'stride': 1, 'dropout': 0, 'num_classes': 2, 'pad_idx': 0, 'batch_size': 1}, {'vocab_size': 29730, 'embed_size': 16, 'out_channels': 128, 'filter_heights': [3, 4, 5], 'stride': 1, 'dropout': 0, 'num_classes': 2, 'pad_idx': 0, 'batch_size': 20}, {'vocab_size': 29730, 'embed_size': 16, 'out_channels': 128, 'filter_heights': [3, 4, 5], 'stride': 3, 'dropout': 0, 'num_classes': 2, 'pad_idx': 0, 'batch_size': 1}, {'vocab_size': 29730, 'embed_size': 16, 'out_channels': 128, 'filter_heights': [3, 4, 5], 'stride': 3, 'dropout': 0, 'num_classes': 2, 'pad_idx': 0, 'batch_size': 20}, {'vocab_size': 29730, 'embed_size': 16, 'out_channels': 128, 'filter_heights': [5, 10], 'stride': 1, 'dropout': 0, 'num_classes': 2, 'pad_idx': 0, 'batch_size': 1}, {'vocab_size': 29730, 'embed_size': 16, 'out_channels': 128, 'filter_heights': [5, 10], 'stride': 1, 'dropout': 0, 'num_classes': 2, 'pad_idx': 0, 'batch_size': 20}, {'vocab_size': 29730, 'embed_size': 16, 'out_channels': 128, 'filter_heights': [5, 10], 'stride': 3, 'dropout': 0, 'num_classes': 2, 'pad_idx': 0, 'batch_size': 1}, {'vocab_size': 29730, 'embed_size': 16, 'out_channels': 128, 'filter_heights': [5, 10], 'stride': 3, 'dropout': 0, 'num_classes': 2, 'pad_idx': 0, 'batch_size': 20}, {'vocab_size': 29730, 'embed_size': 32, 'out_channels': 32, 'filter_heights': [3, 4, 5], 'stride': 1, 'dropout': 0, 'num_classes': 2, 'pad_idx': 0, 'batch_size': 1}, {'vocab_size': 29730, 'embed_size': 32, 'out_channels': 32, 'filter_heights': [3, 4, 5], 'stride': 1, 'dropout': 0, 'num_classes': 2, 'pad_idx': 0, 'batch_size': 20}, {'vocab_size': 29730, 'embed_size': 32, 'out_channels': 32, 'filter_heights': [3, 4, 5], 'stride': 3, 'dropout': 0, 'num_classes': 2, 'pad_idx': 0, 'batch_size': 1}, {'vocab_size': 29730, 'embed_size': 32, 'out_channels': 32, 'filter_heights': [3, 4, 5], 'stride': 3, 'dropout': 0, 'num_classes': 2, 'pad_idx': 0, 'batch_size': 20}, {'vocab_size': 29730, 'embed_size': 32, 'out_channels': 32, 'filter_heights': [5, 10], 'stride': 1, 'dropout': 0, 'num_classes': 2, 'pad_idx': 0, 'batch_size': 1}, {'vocab_size': 29730, 'embed_size': 32, 'out_channels': 32, 'filter_heights': [5, 10], 'stride': 1, 'dropout': 0, 'num_classes': 2, 'pad_idx': 0, 'batch_size': 20}, {'vocab_size': 29730, 'embed_size': 32, 'out_channels': 32, 'filter_heights': [5, 10], 'stride': 3, 'dropout': 0, 'num_classes': 2, 'pad_idx': 0, 'batch_size': 1}, {'vocab_size': 29730, 'embed_size': 32, 'out_channels': 32, 'filter_heights': [5, 10], 'stride': 3, 'dropout': 0, 'num_classes': 2, 'pad_idx': 0, 'batch_size': 20}, {'vocab_size': 29730, 'embed_size': 32, 'out_channels': 128, 'filter_heights': [3, 4, 5], 'stride': 1, 'dropout': 0, 'num_classes': 2, 'pad_idx': 0, 'batch_size': 1}, {'vocab_size': 29730, 'embed_size': 32, 'out_channels': 128, 'filter_heights': [3, 4, 5], 'stride': 1, 'dropout': 0, 'num_classes': 2, 'pad_idx': 0, 'batch_size': 20}, {'vocab_size': 29730, 'embed_size': 32, 'out_channels': 128, 'filter_heights': [3, 4, 5], 'stride': 3, 'dropout': 0, 'num_classes': 2, 'pad_idx': 0, 'batch_size': 1}, {'vocab_size': 29730, 'embed_size': 32, 'out_channels': 128, 'filter_heights': [3, 4, 5], 'stride': 3, 'dropout': 0, 'num_classes': 2, 'pad_idx': 0, 'batch_size': 20}, {'vocab_size': 29730, 'embed_size': 32, 'out_channels': 128, 'filter_heights': [5, 10], 'stride': 1, 'dropout': 0, 'num_classes': 2, 'pad_idx': 0, 'batch_size': 1}, {'vocab_size': 29730, 'embed_size': 32, 'out_channels': 128, 'filter_heights': [5, 10], 'stride': 1, 'dropout': 0, 'num_classes': 2, 'pad_idx': 0, 'batch_size': 20}, {'vocab_size': 29730, 'embed_size': 32, 'out_channels': 128, 'filter_heights': [5, 10], 'stride': 3, 'dropout': 0, 'num_classes': 2, 'pad_idx': 0, 'batch_size': 1}, {'vocab_size': 29730, 'embed_size': 32, 'out_channels': 128, 'filter_heights': [5, 10], 'stride': 3, 'dropout': 0, 'num_classes': 2, 'pad_idx': 0, 'batch_size': 20}]\n",
    "    expected_outputs = [torch.Size([1, 2]), torch.Size([20, 2]), torch.Size([1, 2]), torch.Size([20, 2]), torch.Size([1, 2]), torch.Size([20, 2]), torch.Size([1, 2]), torch.Size([20, 2]), torch.Size([1, 2]), torch.Size([20, 2]), torch.Size([1, 2]), torch.Size([20, 2]), torch.Size([1, 2]), torch.Size([20, 2]), torch.Size([1, 2]), torch.Size([20, 2]), torch.Size([1, 2]), torch.Size([20, 2]), torch.Size([1, 2]), torch.Size([20, 2]), torch.Size([1, 2]), torch.Size([20, 2]), torch.Size([1, 2]), torch.Size([20, 2]), torch.Size([1, 2]), torch.Size([20, 2]), torch.Size([1, 2]), torch.Size([20, 2]), torch.Size([1, 2]), torch.Size([20, 2]), torch.Size([1, 2]), torch.Size([20, 2])]\n",
    "    sanity_dataset = TextDataset(train_data, 'train', 5, 150)\n",
    "    sanity_loader = torch.utils.data.DataLoader(sanity_dataset, batch_size=50, shuffle=True, num_workers=2, drop_last=True)\n",
    "\n",
    "    sanityCheckModel(inputs, CNN, expected_outputs, \"forward\", sanity_loader)"
   ]
  },
  {
   "cell_type": "code",
   "execution_count": null,
   "outputs": [],
   "source": [
    "class MyModule(nn.Module):\n",
    "    def __init__(self):\n",
    "        super(MyModule, self).__init__()\n",
    "        self.linears = nn.ModuleList([nn.Linear(10, 10) for i in range(10)])\n",
    "\n",
    "    def forward(self, x):\n",
    "        # ModuleList can act as an iterable, or be indexed using ints\n",
    "        for i, l in enumerate(self.linears):\n",
    "            print(f\"i: {i}, l: {l}\")\n",
    "\n",
    "            first_part = self.linears[i // 2](x)\n",
    "            second_part =  l(x)\n",
    "            x = first_part + second_part\n",
    "\n",
    "        return x\n"
   ],
   "metadata": {
    "collapsed": false
   }
  },
  {
   "cell_type": "code",
   "execution_count": null,
   "outputs": [],
   "source": [
    "test_object = MyModule()\n",
    "test_object.forward(torch.ones(10,10))"
   ],
   "metadata": {
    "collapsed": false
   }
  },
  {
   "cell_type": "markdown",
   "metadata": {
    "id": "FupiBIfasCu_"
   },
   "source": [
    "## Train CNN Model\n",
    "\n",
    "First, we initialize the train and test <b>dataloaders</b>. A dataloader is responsible for providing batches of data to your model. Notice how we first instantiate datasets for the train and test data, and that we use the training vocabulary for both.\n",
    "\n",
    "You do not need to edit this cell."
   ]
  },
  {
   "cell_type": "code",
   "execution_count": null,
   "metadata": {
    "id": "J2QYl334n9ON"
   },
   "outputs": [],
   "source": [
    "if __name__=='__main__':\n",
    "    THRESHOLD = 5 # Don't change this\n",
    "    MAX_LEN = 200 # Don't change this\n",
    "    BATCH_SIZE = 32 # Feel free to try other batch sizes\n",
    "\n",
    "    train_dataset = TextDataset(train_data, 'train', THRESHOLD, MAX_LEN)\n",
    "    train_loader = torch.utils.data.DataLoader(train_dataset, batch_size=BATCH_SIZE, shuffle=True, num_workers=2, drop_last=True)\n",
    "\n",
    "    test_dataset = TextDataset(test_data, 'test', THRESHOLD, MAX_LEN, train_dataset.idx2word, train_dataset.word2idx)\n",
    "    test_loader = torch.utils.data.DataLoader(test_dataset, batch_size=1, shuffle=False, num_workers=1, drop_last=False)"
   ]
  },
  {
   "cell_type": "markdown",
   "metadata": {
    "id": "AvsctopWmeoY"
   },
   "source": [
    "Now we provide you with a function that takes your model and trains it on the data.\n",
    "\n",
    "You do not need to edit this cell. However, you may want to write code to save your model periodically, as Colab connections are not permanent. See the tutorial here if you wish to do this: https://pytorch.org/tutorials/beginner/saving_loading_models.html."
   ]
  },
  {
   "cell_type": "code",
   "execution_count": null,
   "metadata": {
    "id": "LD-Jj2rUFOzr"
   },
   "outputs": [],
   "source": [
    "### DO NOT EDIT ###\n",
    "\n",
    "from tqdm.notebook import tqdm\n",
    "\n",
    "def train_model(model, num_epochs, data_loader, optimizer, criterion):\n",
    "    print('Training Model...')\n",
    "    model.train()\n",
    "    for epoch in tqdm(range(num_epochs)):\n",
    "        epoch_loss = 0\n",
    "        epoch_acc = 0\n",
    "        for texts, labels in data_loader:\n",
    "            texts = texts.to(DEVICE) # shape: [batch_size, MAX_LEN]\n",
    "            labels = labels.to(DEVICE) # shape: [batch_size]\n",
    "\n",
    "            optimizer.zero_grad()\n",
    "\n",
    "            output = model(texts)\n",
    "            acc = accuracy(output, labels)\n",
    "            \n",
    "            loss = criterion(output, labels)\n",
    "            loss.backward()\n",
    "            optimizer.step()\n",
    "\n",
    "            epoch_loss += loss.item()\n",
    "            epoch_acc += acc.item()\n",
    "        print('[TRAIN]\\t Epoch: {:2d}\\t Loss: {:.4f}\\t Train Accuracy: {:.2f}%'.format(epoch+1, epoch_loss/len(data_loader), 100*epoch_acc/len(data_loader)))\n",
    "    print('Model Trained!\\n')"
   ]
  },
  {
   "cell_type": "markdown",
   "metadata": {
    "id": "FyIZS0WUhFA6"
   },
   "source": [
    "Here are some other helper functions we will need."
   ]
  },
  {
   "cell_type": "code",
   "execution_count": null,
   "metadata": {
    "id": "zVP2scuyhG5f"
   },
   "outputs": [],
   "source": [
    "### DO NOT EDIT ###\n",
    "\n",
    "def accuracy(output, labels):\n",
    "    \"\"\"\n",
    "    Returns accuracy per batch\n",
    "    output: Tensor [batch_size, n_classes]\n",
    "    labels: LongTensor [batch_size]\n",
    "    \"\"\"\n",
    "    preds = output.argmax(dim=1) # find predicted class\n",
    "    correct = (preds == labels).sum().float() # convert into float for division \n",
    "    acc = correct / len(labels)\n",
    "    return acc"
   ]
  },
  {
   "cell_type": "markdown",
   "metadata": {
    "id": "YjvX5c6Isw9e"
   },
   "source": [
    "Now you can instantiate your model. We provide you with some recommended hyperparameters; you should be able to get the desired accuracy with these, but feel free to play around with them."
   ]
  },
  {
   "cell_type": "code",
   "execution_count": null,
   "metadata": {
    "id": "M5UtdjGDuBty"
   },
   "outputs": [],
   "source": [
    "if __name__=='__main__':\n",
    "    cnn_model = CNN(vocab_size = train_dataset.vocab_size, # Don't change this\n",
    "                embed_size = 128, \n",
    "                out_channels = 64, \n",
    "                filter_heights = [2, 3, 4], \n",
    "                stride = 1, \n",
    "                dropout = 0.5, \n",
    "                num_classes = 2, # Don't change this\n",
    "                pad_idx = train_dataset.word2idx[PAD]) # Don't change this\n",
    "\n",
    "    # Put your model on the device (cuda or cpu)\n",
    "    cnn_model = cnn_model.to(DEVICE)\n",
    "    \n",
    "    print('The model has {:,d} trainable parameters'.format(count_parameters(cnn_model)))"
   ]
  },
  {
   "cell_type": "markdown",
   "metadata": {
    "id": "SeHpqw6zvkhI"
   },
   "source": [
    "Next, we create the **criterion**, which is our loss function: it is a measure of how well the model matches the empirical distribution of the data. We use cross-entropy loss (https://en.wikipedia.org/wiki/Cross_entropy).\n",
    "\n",
    "We also define the **optimizer**, which performs gradient descent. We use the Adam optimizer (https://arxiv.org/pdf/1412.6980.pdf), which has been shown to work well on these types of models."
   ]
  },
  {
   "cell_type": "code",
   "execution_count": null,
   "metadata": {
    "id": "FoeyQL4PoNoH"
   },
   "outputs": [],
   "source": [
    "import torch.optim as optim\n",
    "\n",
    "if __name__=='__main__':    \n",
    "    LEARNING_RATE = 5e-4 # Feel free to try other learning rates\n",
    "\n",
    "    # Define the loss function\n",
    "    criterion = nn.CrossEntropyLoss().to(DEVICE)\n",
    "\n",
    "    # Define the optimizer\n",
    "    optimizer = optim.Adam(cnn_model.parameters(), lr=LEARNING_RATE)"
   ]
  },
  {
   "cell_type": "markdown",
   "metadata": {
    "id": "RopLfAJ9wOHN"
   },
   "source": [
    "Finally, we can train the model. If the model is implemented correctly and you're using the GPU, this cell should take around <b>4 minutes</b> (or less). Feel free to change the number of epochs."
   ]
  },
  {
   "cell_type": "code",
   "execution_count": null,
   "metadata": {
    "id": "lPOs1FifoNoN"
   },
   "outputs": [],
   "source": [
    "if __name__=='__main__':    \n",
    "    N_EPOCHS = 10 # Feel free to change this\n",
    "    \n",
    "    # train model for N_EPOCHS epochs\n",
    "    train_model(cnn_model, N_EPOCHS, train_loader, optimizer, criterion)"
   ]
  },
  {
   "cell_type": "markdown",
   "metadata": {
    "id": "Q-OJbZ72t6Yq"
   },
   "source": [
    "## Evaluate CNN Model [20 points]\n",
    "\n",
    "Now that we have trained a model for text classification, it is time to evaluate it. We have provided you with a function to do this; you do not need to modify anything.\n",
    "\n",
    "To pass the autograder for the CNN, you will need to achieve **82% accuracy** on the hidden test set on Gradescope. Note that the Gradescope test set is very similar, and the accuracies between the two datasets should be comparable."
   ]
  },
  {
   "cell_type": "code",
   "execution_count": null,
   "metadata": {
    "id": "vTiiYDZIF--7"
   },
   "outputs": [],
   "source": [
    "### DO NOT EDIT ###\n",
    "\n",
    "import random\n",
    "\n",
    "def evaluate(model, data_loader, criterion, use_tqdm=False):\n",
    "    print('Evaluating performance on the test dataset...')\n",
    "    model.eval()\n",
    "    epoch_loss = 0\n",
    "    epoch_acc = 0\n",
    "    all_predictions = []\n",
    "    print(\"\\nSOME PREDICTIONS FROM THE MODEL:\")\n",
    "    iterator = tqdm(data_loader) if use_tqdm else data_loader\n",
    "    total = 0\n",
    "    for texts, labels in iterator:\n",
    "        bs = texts.shape[0]\n",
    "        total += bs\n",
    "        texts = texts.to(DEVICE)\n",
    "        labels = labels.to(DEVICE)\n",
    "        \n",
    "        output = model(texts)\n",
    "        acc = accuracy(output, labels) * len(labels)\n",
    "        pred = output.argmax(dim=1)\n",
    "        all_predictions.append(pred)\n",
    "        \n",
    "        loss = criterion(output, labels) * len(labels)\n",
    "        \n",
    "        epoch_loss += loss.item()\n",
    "        epoch_acc += acc.item()\n",
    "\n",
    "        if random.random() < 0.0015 and bs == 1:\n",
    "            print(\"Input: \"+' '.join([data_loader.dataset.idx2word[idx] for idx in texts[0].tolist() if idx not in {data_loader.dataset.word2idx[PAD], data_loader.dataset.word2idx[END]}]))\n",
    "            print(\"Prediction:\", pred.item(), '\\tCorrect Output:', labels.item(), '\\n')\n",
    "\n",
    "    full_acc = 100*epoch_acc/total\n",
    "    full_loss = epoch_loss/total\n",
    "    print('[TEST]\\t Loss: {:.4f}\\t Accuracy: {:.2f}%'.format(full_loss, full_acc))\n",
    "    predictions = torch.cat(all_predictions)\n",
    "    return predictions, full_acc, full_loss"
   ]
  },
  {
   "cell_type": "code",
   "execution_count": null,
   "metadata": {
    "id": "Z718w8e0oNoS"
   },
   "outputs": [],
   "source": [
    "if __name__=='__main__':\n",
    "    evaluate(cnn_model, test_loader, criterion, use_tqdm=True) # Compute test data accuracy"
   ]
  },
  {
   "cell_type": "markdown",
   "metadata": {
    "id": "BRCFvjwDthiA"
   },
   "source": [
    "# Step 4: Train a Recurrent Neural Network (RNN) [40 points]\n",
    "You will now build a text clasification model that is based on **recurrences**."
   ]
  },
  {
   "cell_type": "markdown",
   "metadata": {
    "id": "Y-t8tlZviV2x"
   },
   "source": [
    "## <font color='red'>TODO:</font> Define the RNN Model [20 points]\n",
    "\n",
    "First, you will define the RNN. As with the CNN, we provide you with the skeleton of the class, and you need to fill in parts of the `__init__(...)` and `forward(...)` methods. Each of these functions is worth 10 points."
   ]
  },
  {
   "cell_type": "code",
   "execution_count": null,
   "metadata": {
    "id": "2nc_HxbP6klI"
   },
   "outputs": [],
   "source": [
    "class RNN(nn.Module):\n",
    "    def __init__(self, vocab_size, embed_size, hidden_size, num_layers, bidirectional, dropout, num_classes, pad_idx):\n",
    "        super(RNN, self).__init__()\n",
    "        self.hidden_size = hidden_size\n",
    "        self.num_layers = num_layers\n",
    "\n",
    "        ##### TODO #####\n",
    "\n",
    "        # Create an embedding layer (https://pytorch.org/docs/stable/generated/torch.nn.Embedding.html)\n",
    "        #   to represent the words in your vocabulary. Make sure to use vocab_size, embed_size, and pad_idx here.\n",
    "\n",
    "        # Create a recurrent network (use nn.GRU, not nn.LSTM) with batch_first = True\n",
    "        # Make sure you use hidden_size, num_layers, dropout, and bidirectional here.\n",
    "        \n",
    "        # Create a dropout layer (nn.Dropout) using dropout\n",
    "\n",
    "        # Define a linear layer (nn.Linear) that consists of num_classes units \n",
    "        #   and takes as input the output of the last timestep. In the bidirectional case, you should concatenate\n",
    "        #   the output of the last timestep of the forward direction with the output of the last timestep of the backward direction).\n",
    "\n",
    "\n",
    "    def forward(self, texts):\n",
    "        \"\"\"\n",
    "        texts: LongTensor [batch_size, MAX_LEN]\n",
    "        \n",
    "        Returns output: Tensor [batch_size, num_classes]\n",
    "        \"\"\"\n",
    "        ##### TODO #####\n",
    "\n",
    "        # Pass texts through your embedding layer to convert from word ids to word embeddings\n",
    "        #   Resulting: shape: [batch_size, max_len, embed_size]\n",
    "\n",
    "        # Pass the result through your recurrent network\n",
    "        #   See PyTorch documentation for resulting shape for nn.GRU\n",
    "        \n",
    "        # Concatenate the outputs of the last timestep for each direction (see torch.cat(...))\n",
    "        #   This depends on whether or not your model is bidirectional.\n",
    "        #   Resulting shape: [batch_size, num_dirs*hidden_size]\n",
    "        \n",
    "        # Apply dropout\n",
    "\n",
    "        # Pass your output through the linear layer and return its output \n",
    "        #   Resulting shape: [batch_size, num_classes]\n",
    "\n",
    "        ##### NOTE: Do not apply a sigmoid or softmax to the final output - done in training method!\n",
    "        \n",
    "        return None"
   ]
  },
  {
   "cell_type": "markdown",
   "metadata": {
    "id": "eDLTiJMyoLxJ"
   },
   "source": [
    "##Sanity Check: RNN Model\n",
    "\n",
    "The code below runs a sanity check for your `RNN` class. The tests are similar to the hidden ones in Gradescope. However, note that passing the sanity check does <b>not</b> guarantee that you will pass the autograder; it is intended to help you debug."
   ]
  },
  {
   "cell_type": "code",
   "execution_count": null,
   "metadata": {
    "id": "Duq7X2ClwXga"
   },
   "outputs": [],
   "source": [
    "### DO NOT EDIT ###\n",
    "\n",
    "if __name__ == '__main__':\n",
    "    # Test init\n",
    "    inputs = [{'vocab_size': 1000, 'embed_size': 16, 'hidden_size': 32, 'num_layers': 2, 'bidirectional': True, 'dropout': 0, 'num_classes': 2, 'pad_idx': 0}, {'vocab_size': 1000, 'embed_size': 16, 'hidden_size': 32, 'num_layers': 2, 'bidirectional': True, 'dropout': 0, 'num_classes': 4, 'pad_idx': 0}, {'vocab_size': 1000, 'embed_size': 16, 'hidden_size': 32, 'num_layers': 2, 'bidirectional': False, 'dropout': 0, 'num_classes': 2, 'pad_idx': 0}, {'vocab_size': 1000, 'embed_size': 16, 'hidden_size': 32, 'num_layers': 2, 'bidirectional': False, 'dropout': 0, 'num_classes': 4, 'pad_idx': 0}, {'vocab_size': 1000, 'embed_size': 16, 'hidden_size': 32, 'num_layers': 4, 'bidirectional': True, 'dropout': 0, 'num_classes': 2, 'pad_idx': 0}, {'vocab_size': 1000, 'embed_size': 16, 'hidden_size': 32, 'num_layers': 4, 'bidirectional': True, 'dropout': 0, 'num_classes': 4, 'pad_idx': 0}, {'vocab_size': 1000, 'embed_size': 16, 'hidden_size': 32, 'num_layers': 4, 'bidirectional': False, 'dropout': 0, 'num_classes': 2, 'pad_idx': 0}, {'vocab_size': 1000, 'embed_size': 16, 'hidden_size': 32, 'num_layers': 4, 'bidirectional': False, 'dropout': 0, 'num_classes': 4, 'pad_idx': 0}, {'vocab_size': 1000, 'embed_size': 16, 'hidden_size': 256, 'num_layers': 2, 'bidirectional': True, 'dropout': 0, 'num_classes': 2, 'pad_idx': 0}, {'vocab_size': 1000, 'embed_size': 16, 'hidden_size': 256, 'num_layers': 2, 'bidirectional': True, 'dropout': 0, 'num_classes': 4, 'pad_idx': 0}, {'vocab_size': 1000, 'embed_size': 16, 'hidden_size': 256, 'num_layers': 2, 'bidirectional': False, 'dropout': 0, 'num_classes': 2, 'pad_idx': 0}, {'vocab_size': 1000, 'embed_size': 16, 'hidden_size': 256, 'num_layers': 2, 'bidirectional': False, 'dropout': 0, 'num_classes': 4, 'pad_idx': 0}, {'vocab_size': 1000, 'embed_size': 16, 'hidden_size': 256, 'num_layers': 4, 'bidirectional': True, 'dropout': 0, 'num_classes': 2, 'pad_idx': 0}, {'vocab_size': 1000, 'embed_size': 16, 'hidden_size': 256, 'num_layers': 4, 'bidirectional': True, 'dropout': 0, 'num_classes': 4, 'pad_idx': 0}, {'vocab_size': 1000, 'embed_size': 16, 'hidden_size': 256, 'num_layers': 4, 'bidirectional': False, 'dropout': 0, 'num_classes': 2, 'pad_idx': 0}, {'vocab_size': 1000, 'embed_size': 16, 'hidden_size': 256, 'num_layers': 4, 'bidirectional': False, 'dropout': 0, 'num_classes': 4, 'pad_idx': 0}, {'vocab_size': 1000, 'embed_size': 64, 'hidden_size': 32, 'num_layers': 2, 'bidirectional': True, 'dropout': 0, 'num_classes': 2, 'pad_idx': 0}, {'vocab_size': 1000, 'embed_size': 64, 'hidden_size': 32, 'num_layers': 2, 'bidirectional': True, 'dropout': 0, 'num_classes': 4, 'pad_idx': 0}, {'vocab_size': 1000, 'embed_size': 64, 'hidden_size': 32, 'num_layers': 2, 'bidirectional': False, 'dropout': 0, 'num_classes': 2, 'pad_idx': 0}, {'vocab_size': 1000, 'embed_size': 64, 'hidden_size': 32, 'num_layers': 2, 'bidirectional': False, 'dropout': 0, 'num_classes': 4, 'pad_idx': 0}, {'vocab_size': 1000, 'embed_size': 64, 'hidden_size': 32, 'num_layers': 4, 'bidirectional': True, 'dropout': 0, 'num_classes': 2, 'pad_idx': 0}, {'vocab_size': 1000, 'embed_size': 64, 'hidden_size': 32, 'num_layers': 4, 'bidirectional': True, 'dropout': 0, 'num_classes': 4, 'pad_idx': 0}, {'vocab_size': 1000, 'embed_size': 64, 'hidden_size': 32, 'num_layers': 4, 'bidirectional': False, 'dropout': 0, 'num_classes': 2, 'pad_idx': 0}, {'vocab_size': 1000, 'embed_size': 64, 'hidden_size': 32, 'num_layers': 4, 'bidirectional': False, 'dropout': 0, 'num_classes': 4, 'pad_idx': 0}, {'vocab_size': 1000, 'embed_size': 64, 'hidden_size': 256, 'num_layers': 2, 'bidirectional': True, 'dropout': 0, 'num_classes': 2, 'pad_idx': 0}, {'vocab_size': 1000, 'embed_size': 64, 'hidden_size': 256, 'num_layers': 2, 'bidirectional': True, 'dropout': 0, 'num_classes': 4, 'pad_idx': 0}, {'vocab_size': 1000, 'embed_size': 64, 'hidden_size': 256, 'num_layers': 2, 'bidirectional': False, 'dropout': 0, 'num_classes': 2, 'pad_idx': 0}, {'vocab_size': 1000, 'embed_size': 64, 'hidden_size': 256, 'num_layers': 2, 'bidirectional': False, 'dropout': 0, 'num_classes': 4, 'pad_idx': 0}, {'vocab_size': 1000, 'embed_size': 64, 'hidden_size': 256, 'num_layers': 4, 'bidirectional': True, 'dropout': 0, 'num_classes': 2, 'pad_idx': 0}, {'vocab_size': 1000, 'embed_size': 64, 'hidden_size': 256, 'num_layers': 4, 'bidirectional': True, 'dropout': 0, 'num_classes': 4, 'pad_idx': 0}, {'vocab_size': 1000, 'embed_size': 64, 'hidden_size': 256, 'num_layers': 4, 'bidirectional': False, 'dropout': 0, 'num_classes': 2, 'pad_idx': 0}, {'vocab_size': 1000, 'embed_size': 64, 'hidden_size': 256, 'num_layers': 4, 'bidirectional': False, 'dropout': 0, 'num_classes': 4, 'pad_idx': 0}]\n",
    "    expected_outputs = [44546, 44676, 27202, 27268, 82178, 82308, 39874, 39940, 1620610, 1621636, 621698, 622212, 3986050, 3987076, 1411202, 1411716, 101762, 101892, 79810, 79876, 139394, 139524, 92482, 92548, 1742338, 1743364, 706562, 707076, 4107778, 4108804, 1496066, 1496580]\n",
    "\n",
    "    sanityCheckModel(inputs, RNN, expected_outputs, \"init\", None)\n",
    "    print()\n",
    "\n",
    "    # Test forward\n",
    "    inputs = [{'vocab_size': 29730, 'embed_size': 16, 'hidden_size': 32, 'num_layers': 2, 'bidirectional': True, 'dropout': 0, 'num_classes': 2, 'pad_idx': 0, 'batch_size': 1}, {'vocab_size': 29730, 'embed_size': 16, 'hidden_size': 32, 'num_layers': 2, 'bidirectional': True, 'dropout': 0, 'num_classes': 2, 'pad_idx': 0, 'batch_size': 2}, {'vocab_size': 29730, 'embed_size': 16, 'hidden_size': 32, 'num_layers': 2, 'bidirectional': True, 'dropout': 0, 'num_classes': 4, 'pad_idx': 0, 'batch_size': 1}, {'vocab_size': 29730, 'embed_size': 16, 'hidden_size': 32, 'num_layers': 2, 'bidirectional': True, 'dropout': 0, 'num_classes': 4, 'pad_idx': 0, 'batch_size': 2}, {'vocab_size': 29730, 'embed_size': 16, 'hidden_size': 32, 'num_layers': 2, 'bidirectional': False, 'dropout': 0, 'num_classes': 2, 'pad_idx': 0, 'batch_size': 1}, {'vocab_size': 29730, 'embed_size': 16, 'hidden_size': 32, 'num_layers': 2, 'bidirectional': False, 'dropout': 0, 'num_classes': 2, 'pad_idx': 0, 'batch_size': 2}, {'vocab_size': 29730, 'embed_size': 16, 'hidden_size': 32, 'num_layers': 2, 'bidirectional': False, 'dropout': 0, 'num_classes': 4, 'pad_idx': 0, 'batch_size': 1}, {'vocab_size': 29730, 'embed_size': 16, 'hidden_size': 32, 'num_layers': 2, 'bidirectional': False, 'dropout': 0, 'num_classes': 4, 'pad_idx': 0, 'batch_size': 2}, {'vocab_size': 29730, 'embed_size': 16, 'hidden_size': 32, 'num_layers': 4, 'bidirectional': True, 'dropout': 0, 'num_classes': 2, 'pad_idx': 0, 'batch_size': 1}, {'vocab_size': 29730, 'embed_size': 16, 'hidden_size': 32, 'num_layers': 4, 'bidirectional': True, 'dropout': 0, 'num_classes': 2, 'pad_idx': 0, 'batch_size': 2}, {'vocab_size': 29730, 'embed_size': 16, 'hidden_size': 32, 'num_layers': 4, 'bidirectional': True, 'dropout': 0, 'num_classes': 4, 'pad_idx': 0, 'batch_size': 1}, {'vocab_size': 29730, 'embed_size': 16, 'hidden_size': 32, 'num_layers': 4, 'bidirectional': True, 'dropout': 0, 'num_classes': 4, 'pad_idx': 0, 'batch_size': 2}, {'vocab_size': 29730, 'embed_size': 16, 'hidden_size': 32, 'num_layers': 4, 'bidirectional': False, 'dropout': 0, 'num_classes': 2, 'pad_idx': 0, 'batch_size': 1}, {'vocab_size': 29730, 'embed_size': 16, 'hidden_size': 32, 'num_layers': 4, 'bidirectional': False, 'dropout': 0, 'num_classes': 2, 'pad_idx': 0, 'batch_size': 2}, {'vocab_size': 29730, 'embed_size': 16, 'hidden_size': 32, 'num_layers': 4, 'bidirectional': False, 'dropout': 0, 'num_classes': 4, 'pad_idx': 0, 'batch_size': 1}, {'vocab_size': 29730, 'embed_size': 16, 'hidden_size': 32, 'num_layers': 4, 'bidirectional': False, 'dropout': 0, 'num_classes': 4, 'pad_idx': 0, 'batch_size': 2}, {'vocab_size': 29730, 'embed_size': 16, 'hidden_size': 64, 'num_layers': 2, 'bidirectional': True, 'dropout': 0, 'num_classes': 2, 'pad_idx': 0, 'batch_size': 1}, {'vocab_size': 29730, 'embed_size': 16, 'hidden_size': 64, 'num_layers': 2, 'bidirectional': True, 'dropout': 0, 'num_classes': 2, 'pad_idx': 0, 'batch_size': 2}, {'vocab_size': 29730, 'embed_size': 16, 'hidden_size': 64, 'num_layers': 2, 'bidirectional': True, 'dropout': 0, 'num_classes': 4, 'pad_idx': 0, 'batch_size': 1}, {'vocab_size': 29730, 'embed_size': 16, 'hidden_size': 64, 'num_layers': 2, 'bidirectional': True, 'dropout': 0, 'num_classes': 4, 'pad_idx': 0, 'batch_size': 2}, {'vocab_size': 29730, 'embed_size': 16, 'hidden_size': 64, 'num_layers': 2, 'bidirectional': False, 'dropout': 0, 'num_classes': 2, 'pad_idx': 0, 'batch_size': 1}, {'vocab_size': 29730, 'embed_size': 16, 'hidden_size': 64, 'num_layers': 2, 'bidirectional': False, 'dropout': 0, 'num_classes': 2, 'pad_idx': 0, 'batch_size': 2}, {'vocab_size': 29730, 'embed_size': 16, 'hidden_size': 64, 'num_layers': 2, 'bidirectional': False, 'dropout': 0, 'num_classes': 4, 'pad_idx': 0, 'batch_size': 1}, {'vocab_size': 29730, 'embed_size': 16, 'hidden_size': 64, 'num_layers': 2, 'bidirectional': False, 'dropout': 0, 'num_classes': 4, 'pad_idx': 0, 'batch_size': 2}, {'vocab_size': 29730, 'embed_size': 16, 'hidden_size': 64, 'num_layers': 4, 'bidirectional': True, 'dropout': 0, 'num_classes': 2, 'pad_idx': 0, 'batch_size': 1}, {'vocab_size': 29730, 'embed_size': 16, 'hidden_size': 64, 'num_layers': 4, 'bidirectional': True, 'dropout': 0, 'num_classes': 2, 'pad_idx': 0, 'batch_size': 2}, {'vocab_size': 29730, 'embed_size': 16, 'hidden_size': 64, 'num_layers': 4, 'bidirectional': True, 'dropout': 0, 'num_classes': 4, 'pad_idx': 0, 'batch_size': 1}, {'vocab_size': 29730, 'embed_size': 16, 'hidden_size': 64, 'num_layers': 4, 'bidirectional': True, 'dropout': 0, 'num_classes': 4, 'pad_idx': 0, 'batch_size': 2}, {'vocab_size': 29730, 'embed_size': 16, 'hidden_size': 64, 'num_layers': 4, 'bidirectional': False, 'dropout': 0, 'num_classes': 2, 'pad_idx': 0, 'batch_size': 1}, {'vocab_size': 29730, 'embed_size': 16, 'hidden_size': 64, 'num_layers': 4, 'bidirectional': False, 'dropout': 0, 'num_classes': 2, 'pad_idx': 0, 'batch_size': 2}, {'vocab_size': 29730, 'embed_size': 16, 'hidden_size': 64, 'num_layers': 4, 'bidirectional': False, 'dropout': 0, 'num_classes': 4, 'pad_idx': 0, 'batch_size': 1}, {'vocab_size': 29730, 'embed_size': 16, 'hidden_size': 64, 'num_layers': 4, 'bidirectional': False, 'dropout': 0, 'num_classes': 4, 'pad_idx': 0, 'batch_size': 2}]\n",
    "    expected_outputs = [torch.Size([1, 2]), torch.Size([2, 2]), torch.Size([1, 4]), torch.Size([2, 4]), torch.Size([1, 2]), torch.Size([2, 2]), torch.Size([1, 4]), torch.Size([2, 4]), torch.Size([1, 2]), torch.Size([2, 2]), torch.Size([1, 4]), torch.Size([2, 4]), torch.Size([1, 2]), torch.Size([2, 2]), torch.Size([1, 4]), torch.Size([2, 4]), torch.Size([1, 2]), torch.Size([2, 2]), torch.Size([1, 4]), torch.Size([2, 4]), torch.Size([1, 2]), torch.Size([2, 2]), torch.Size([1, 4]), torch.Size([2, 4]), torch.Size([1, 2]), torch.Size([2, 2]), torch.Size([1, 4]), torch.Size([2, 4]), torch.Size([1, 2]), torch.Size([2, 2]), torch.Size([1, 4]), torch.Size([2, 4])]\n",
    "    sanity_dataset = TextDataset(train_data, 'train', 5, 150)\n",
    "    sanity_loader = torch.utils.data.DataLoader(sanity_dataset, batch_size=50, shuffle=True, num_workers=2, drop_last=True)\n",
    "\n",
    "    sanityCheckModel(inputs, RNN, expected_outputs, \"forward\", sanity_loader)"
   ]
  },
  {
   "cell_type": "markdown",
   "metadata": {
    "id": "baD8lYAytdTV"
   },
   "source": [
    "## Train RNN Model\n",
    "First, we initialize the train and test dataloaders."
   ]
  },
  {
   "cell_type": "code",
   "execution_count": null,
   "metadata": {
    "id": "WCzNm8LDM5aT"
   },
   "outputs": [],
   "source": [
    "if __name__=='__main__':\n",
    "    THRESHOLD = 5 # Don't change this\n",
    "    MAX_LEN = 200 # Don't change this\n",
    "    BATCH_SIZE = 32 # Feel free to try other batch sizes\n",
    "\n",
    "    train_dataset = TextDataset(train_data, 'train', THRESHOLD, MAX_LEN)\n",
    "    train_loader = torch.utils.data.DataLoader(train_dataset, batch_size=BATCH_SIZE, shuffle=True, num_workers=2, drop_last=True)\n",
    "\n",
    "    test_dataset = TextDataset(test_data, 'test', THRESHOLD, MAX_LEN, train_dataset.idx2word, train_dataset.word2idx)\n",
    "    test_loader = torch.utils.data.DataLoader(test_dataset, batch_size=1, shuffle=False, num_workers=1, drop_last=False)"
   ]
  },
  {
   "cell_type": "markdown",
   "metadata": {
    "id": "lp5pAz8emxi2"
   },
   "source": [
    "Now you can instantiate your model. We provide you with some recommended hyperparameters; you should be able to get the desired accuracy with these, but feel free to play around with them."
   ]
  },
  {
   "cell_type": "code",
   "execution_count": null,
   "metadata": {
    "id": "CA-UairGErap"
   },
   "outputs": [],
   "source": [
    "if __name__=='__main__':\n",
    "    rnn_model = RNN(vocab_size = train_dataset.vocab_size, # Don't change this\n",
    "                embed_size = 128, \n",
    "                hidden_size = 128, \n",
    "                num_layers = 2,\n",
    "                bidirectional = True,\n",
    "                dropout = 0.5,\n",
    "                num_classes = 2, # Don't change this\n",
    "                pad_idx = train_dataset.word2idx[PAD]) # Don't change this\n",
    "\n",
    "    # Put your model on device\n",
    "    rnn_model = rnn_model.to(DEVICE)\n",
    "\n",
    "    print('The model has {:,d} trainable parameters'.format(count_parameters(rnn_model)))"
   ]
  },
  {
   "cell_type": "markdown",
   "metadata": {
    "id": "LqngFY4MoLec"
   },
   "source": [
    "Here, we create the criterion and optimizer; as with the CNN, we use cross-entropy loss and Adam optimization."
   ]
  },
  {
   "cell_type": "code",
   "execution_count": null,
   "metadata": {
    "id": "em6Rs58OlJ3Z"
   },
   "outputs": [],
   "source": [
    "if __name__=='__main__':    \n",
    "    LEARNING_RATE = 5e-4 # Feel free to try other learning rates\n",
    "\n",
    "    # Define your loss function\n",
    "    criterion = nn.CrossEntropyLoss().to(DEVICE)\n",
    "\n",
    "    # Define your optimizer\n",
    "    optimizer = optim.Adam(rnn_model.parameters(), lr=LEARNING_RATE)"
   ]
  },
  {
   "cell_type": "markdown",
   "metadata": {
    "id": "uEPsi3choUm5"
   },
   "source": [
    "Finally, we can train the model. We use the same `train_model(...)` function that we defined for the CNN. If the model is implemented correctly and you're using the GPU, this cell should take around <b>2 minutes</b> (or less). Feel free to change the number of epochs."
   ]
  },
  {
   "cell_type": "code",
   "execution_count": null,
   "metadata": {
    "id": "NR8Wckf0l2G7"
   },
   "outputs": [],
   "source": [
    "if __name__=='__main__':    \n",
    "    N_EPOCHS = 6 # Feel free to change this\n",
    "    \n",
    "    # train model for N_EPOCHS epochs\n",
    "    train_model(rnn_model, N_EPOCHS, train_loader, optimizer, criterion)"
   ]
  },
  {
   "cell_type": "markdown",
   "metadata": {
    "id": "j-SRIFfooYk6"
   },
   "source": [
    "## Evaluate RNN Model [20 points]\n",
    "\n",
    "Now we can evaluate the RNN. \n",
    "\n",
    "To pass the autograder for the RNN, you will need to achieve **82% accuracy** on the hidden test set on Gradescope. Note that the Gradescope test set is very similar, and the accuracies between the two datasets should be comparable."
   ]
  },
  {
   "cell_type": "code",
   "execution_count": null,
   "metadata": {
    "id": "HYon4AbHl5_M"
   },
   "outputs": [],
   "source": [
    "if __name__=='__main__':    \n",
    "    evaluate(rnn_model, test_loader, criterion, use_tqdm=True) # Compute test data accuracy"
   ]
  },
  {
   "cell_type": "markdown",
   "metadata": {
    "id": "8WQAV6O2xHvS"
   },
   "source": [
    "# What to Submit\n",
    "\n",
    "To submit the assignment, download this notebook as a <TT>.py</TT> file. You can do this by going to <TT>File > Download > Download .py</TT>. Then (optionally) rename it to `hwk2.py`.\n",
    "\n",
    "You will also need to save the `cnn_model` and `rnn_model`. You can run the cell below to do this. After you save the files to your Google Drive, you need to manually download the files to your computer, and then submit them to the autograder.\n",
    "\n",
    "You will submit the following files to the autograder:\n",
    "1.   `hwk2.py`, the download of this notebook as a `.py` file (**not** a `.ipynb` file)\n",
    "1.   `cnn.pt`, the saved version of your `cnn_model`\n",
    "1.   `rnn.pt`, the saved version of your `rnn_model`"
   ]
  },
  {
   "cell_type": "code",
   "execution_count": null,
   "metadata": {
    "id": "abbbMNi8X_ai"
   },
   "outputs": [],
   "source": [
    "### DO NOT EDIT ###\n",
    "\n",
    "if __name__=='__main__':\n",
    "    # from google.colab import drive\n",
    "    # drive.mount('/content/drive')\n",
    "    print()\n",
    "\n",
    "    try:\n",
    "        cnn_model is None\n",
    "        cnn_exists = True\n",
    "    except:\n",
    "        cnn_exists = False\n",
    "\n",
    "    try:\n",
    "        rnn_model is None\n",
    "        rnn_exists = True\n",
    "    except:\n",
    "        rnn_exists = False\n",
    "\n",
    "    if cnn_exists:\n",
    "        print(\"Saving CNN model....\") \n",
    "        # torch.save(cnn_model, \"drive/My Drive/cnn.pt\")\n",
    "        torch.save(cnn_model, \"saved_models/cnn.pt\")\n",
    "    if rnn_exists:\n",
    "        print(\"Saving RNN model....\") \n",
    "        # torch.save(rnn_model, \"drive/My Drive/rnn.pt\")\n",
    "        torch.save(cnn_model, \"saved_models/rnn.pt\")\n",
    "    print(\"Done!\")"
   ]
  },
  {
   "cell_type": "code",
   "source": [],
   "metadata": {
    "id": "v4o5fRQELX7G"
   },
   "execution_count": null,
   "outputs": []
  },
  {
   "cell_type": "code",
   "execution_count": null,
   "outputs": [],
   "source": [],
   "metadata": {
    "collapsed": false
   }
  },
  {
   "cell_type": "code",
   "execution_count": null,
   "outputs": [],
   "source": [],
   "metadata": {
    "collapsed": false
   }
  }
 ],
 "metadata": {
  "accelerator": "GPU",
  "colab": {
   "collapsed_sections": [],
   "provenance": []
  },
  "gpuClass": "standard",
  "kernelspec": {
   "display_name": "Python 3",
   "name": "python3"
  },
  "language_info": {
   "codemirror_mode": {
    "name": "ipython",
    "version": 3
   },
   "file_extension": ".py",
   "mimetype": "text/x-python",
   "name": "python",
   "nbconvert_exporter": "python",
   "pygments_lexer": "ipython3",
   "version": "3.6.2"
  }
 },
 "nbformat": 4,
 "nbformat_minor": 0
}
