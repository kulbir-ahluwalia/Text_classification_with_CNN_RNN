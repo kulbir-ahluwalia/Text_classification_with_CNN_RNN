{
 "cells": [
  {
   "cell_type": "code",
   "execution_count": 1,
   "metadata": {
    "collapsed": true
   },
   "outputs": [],
   "source": [
    "import torch\n",
    "import torch.nn as nn\n",
    "\n",
    "\n",
    "# input_size = 10 = The number of expected features in the input x\n",
    "#\n",
    "# hidden_size = 20 = The number of features in the hidden state h\n",
    "#\n",
    "# num_layers = 2 = Number of recurrent layers. E.g., setting num_layers=2 would mean stacking two GRUs together to form a stacked GRU,\n",
    "# with the second GRU taking in outputs of the first GRU and computing the final results. Default: 1\n",
    "\n",
    "\n",
    "# batch_first – If True, then the input and output tensors are provided as (batch, seq, feature) instead of (seq, batch, feature). Note that this does not apply to hidden or cell states. See the Inputs/Outputs sections below for details. Default: False\n",
    "#\n",
    "# dropout – If non-zero, introduces a Dropout layer on the outputs of each GRU layer except the last layer, with dropout probability equal to dropout. Default: 0\n",
    "#\n",
    "# bidirectional – If True, becomes a bidirectional GRU. Default: False\n",
    "\n",
    "rnn = nn.GRU(input_size=10, hidden_size=20, num_layers=2, bidirectional=True, batch_first=True, dropout=0.5)\n",
    "\n"
   ]
  },
  {
   "cell_type": "code",
   "execution_count": 2,
   "outputs": [
    {
     "name": "stdout",
     "output_type": "stream",
     "text": [
      " shape: torch.Size([3, 5, 10]), linear dtype: torch.float32\n"
     ]
    }
   ],
   "source": [
    "# input = L, N, H_in = sequence length, Batch size, Input size\n",
    "# when batch_first=true, then input = N, L, H_in = Batch size, sequence length, Input size\n",
    "\n",
    "# Batch_size = 3\n",
    "# Seq_len = 5\n",
    "# hidden layer input size = 10\n",
    "\n",
    "input = torch.randn(3, 5, 10)\n",
    "print(f\" shape: {input.shape}, linear dtype: {input.dtype}\")"
   ],
   "metadata": {
    "collapsed": false
   }
  },
  {
   "cell_type": "code",
   "execution_count": 3,
   "outputs": [
    {
     "name": "stdout",
     "output_type": "stream",
     "text": [
      " h0: torch.Size([4, 3, 20]), h0 dtype: torch.float32, device:-1\n"
     ]
    }
   ],
   "source": [
    "# h0 = tensor of shape\n",
    "# D * num_layers, N, H_out\n",
    "# = D * num_layers, Batch size, Hidden_size\n",
    "# D = 2 if bidirectional = true otherwise 1\n",
    "\n",
    "# D * num_layers = 2 * 2\n",
    "\n",
    "# batch size = 3\n",
    "# h out = 20\n",
    "\n",
    "\n",
    "h0 = torch.randn(4, 3, 20)\n",
    "print(f\" h0: {h0.shape}, h0 dtype: {h0.dtype}, device:{h0.get_device()}\")\n"
   ],
   "metadata": {
    "collapsed": false
   }
  },
  {
   "cell_type": "code",
   "execution_count": 4,
   "outputs": [
    {
     "name": "stdout",
     "output_type": "stream",
     "text": [
      "  output: torch.Size([3, 5, 40]), output dtype: torch.float32\n",
      " hn: torch.Size([4, 3, 20]), hn dtype: torch.float32\n"
     ]
    }
   ],
   "source": [
    "# output = tensor of shape (L, H_in) = or = (N, L, D * H_out) when batch_first=true\n",
    "# L = seq len = max len\n",
    "\n",
    "# h_n = tensor of shape (D*num_layers, N, H_out)\n",
    "#       containing the final hidden state for the input sequence.\n",
    "\n",
    "\n",
    "output, hn = rnn(input, h0)\n",
    "print(f\"  output: {output.shape}, output dtype: {output.dtype}\")\n",
    "print(f\" hn: {hn.shape}, hn dtype: {hn.dtype}\")\n",
    "\n"
   ],
   "metadata": {
    "collapsed": false
   }
  },
  {
   "cell_type": "markdown",
   "source": [
    "## Sort the dictionary by key"
   ],
   "metadata": {
    "collapsed": false
   }
  },
  {
   "cell_type": "code",
   "execution_count": 2,
   "outputs": [
    {
     "name": "stdout",
     "output_type": "stream",
     "text": [
      "OrderedDict([('rajnish', '9'), ('ravi', '10'), ('sanjeev', '15'), ('suraj', '32'), ('yash', '2')])\n"
     ]
    }
   ],
   "source": [
    "# Creates a sorted dictionary (sorted by key)\n",
    "from collections import OrderedDict\n",
    "\n",
    "# sort in lexicographical order\n",
    "dict = {'ravi': '10', 'rajnish': '9', 'sanjeev': '15', 'yash': '2', 'suraj': '32'}\n",
    "\n",
    "dict1 = OrderedDict(sorted(dict.items()))\n",
    "print(dict1)"
   ],
   "metadata": {
    "collapsed": false
   }
  },
  {
   "cell_type": "code",
   "execution_count": null,
   "outputs": [],
   "source": [],
   "metadata": {
    "collapsed": false,
    "pycharm": {
     "is_executing": true
    }
   }
  },
  {
   "cell_type": "code",
   "execution_count": 3,
   "outputs": [
    {
     "data": {
      "text/plain": "dict_items([('ravi', '10'), ('rajnish', '9'), ('sanjeev', '15'), ('yash', '2'), ('suraj', '32')])"
     },
     "execution_count": 3,
     "metadata": {},
     "output_type": "execute_result"
    }
   ],
   "source": [
    "dict.items()"
   ],
   "metadata": {
    "collapsed": false
   }
  },
  {
   "cell_type": "code",
   "execution_count": 6,
   "outputs": [],
   "source": [
    "sorted_items = sorted(dict.items())"
   ],
   "metadata": {
    "collapsed": false
   }
  },
  {
   "cell_type": "code",
   "execution_count": 8,
   "outputs": [
    {
     "name": "stdout",
     "output_type": "stream",
     "text": [
      "token: rajnish, freq: 9\n",
      "token: ravi, freq: 10\n",
      "token: sanjeev, freq: 15\n",
      "token: suraj, freq: 32\n",
      "token: yash, freq: 2\n"
     ]
    }
   ],
   "source": [
    "for token, freq in sorted_items:\n",
    "    print(f\"token: {token}, freq: {freq}\")"
   ],
   "metadata": {
    "collapsed": false
   }
  },
  {
   "cell_type": "code",
   "execution_count": null,
   "outputs": [],
   "source": [],
   "metadata": {
    "collapsed": false
   }
  }
 ],
 "metadata": {
  "kernelspec": {
   "display_name": "Python 3",
   "language": "python",
   "name": "python3"
  },
  "language_info": {
   "codemirror_mode": {
    "name": "ipython",
    "version": 2
   },
   "file_extension": ".py",
   "mimetype": "text/x-python",
   "name": "python",
   "nbconvert_exporter": "python",
   "pygments_lexer": "ipython2",
   "version": "2.7.6"
  }
 },
 "nbformat": 4,
 "nbformat_minor": 0
}
