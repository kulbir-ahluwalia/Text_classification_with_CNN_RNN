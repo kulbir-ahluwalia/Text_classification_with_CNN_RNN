{
 "cells": [
  {
   "cell_type": "markdown",
   "metadata": {
    "id": "pSy-sfxOsclS"
   },
   "source": [
    "# CS 447 Homework 2 $-$ Text Classification with Neural Networks\n",
    "In this homework, you will build machine learning models to detect the sentiment of movie reviews using the IMDb movie reviews dataset. Specifically, you will implement classifiers based on Convolutional Neural Networks (CNN's) and Recurrent Neural Networks (RNN's).\n",
    "\n",
    "In addition to the Pytorch tutorial we have provided on Coursera, we highly recommend that you take a look at the PyTorch tutorials before starting this assignment:\n",
    "<ul>\n",
    "<li><a href=\"https://pytorch.org/tutorials/beginner/pytorch_with_examples.html\">https://pytorch.org/tutorials/beginner/pytorch_with_examples.html</a>\n",
    "<li><a href=\"https://pytorch.org/tutorials/beginner/data_loading_tutorial.html\">https://pytorch.org/tutorials/beginner/data_loading_tutorial.html</a>\n",
    "<li><a href=\"https://github.com/yunjey/pytorch-tutorial\">https://github.com/yunjey/pytorch-tutorial</a>\n",
    "</ul>\n",
    "\n",
    "<font color='green'>While you work, we suggest that you keep your hardware accelerator set to \"CPU\" (the default for Colab). However, when you have finished debugging and are ready to train your models, you should select \"GPU\" as your runtime type. This will speed up the training of your models. You can find this by going to <TT>Runtime > Change Runtime Type</TT> and select \"GPU\" from the dropdown menu.</font>\n",
    "\n",
    "As usual, you should not import any other libraries."
   ]
  },
  {
   "cell_type": "code",
   "execution_count": 2,
   "metadata": {
    "id": "EyCOvTRQ1nb-"
   },
   "outputs": [
    {
     "name": "stdout",
     "output_type": "stream",
     "text": [
      "Using device: cuda:0\n"
     ]
    }
   ],
   "source": [
    "### DO NOT EDIT ###\n",
    "\n",
    "import torch\n",
    "\n",
    "DEVICE = torch.device('cuda:0' if torch.cuda.is_available() else 'cpu')\n",
    "\n",
    "if __name__=='__main__':\n",
    "    print('Using device:', DEVICE)"
   ]
  },
  {
   "cell_type": "markdown",
   "metadata": {
    "id": "zHbJ1-aDsWCG"
   },
   "source": [
    "# Step 1: Download the Data\n",
    "First we will download the dataset using [torchtext](https://torchtext.readthedocs.io/en/latest/index.html), which is a package that supports NLP for PyTorch. \n",
    "\n",
    "Unfortunately, you have to install the <TT>torchdata</TT> package on the Colab machine in order to access the data. To do this, run the cell below (you may need to click the \"Restart Runtime\" button when it finishes). You will have to do this every time you return to work on the homework.\n",
    "\n"
   ]
  },
  {
   "cell_type": "code",
   "execution_count": 3,
   "metadata": {
    "id": "rT4n4QzHAYe_"
   },
   "outputs": [
    {
     "name": "stdout",
     "output_type": "stream",
     "text": [
      "Requirement already satisfied: torchdata in /home/kulbir/anaconda3/envs/nlp_cuda116_python3_9/lib/python3.9/site-packages (0.4.1)\r\n",
      "Requirement already satisfied: torch==1.12.1 in /home/kulbir/anaconda3/envs/nlp_cuda116_python3_9/lib/python3.9/site-packages (from torchdata) (1.12.1)\r\n",
      "Requirement already satisfied: requests in /home/kulbir/anaconda3/envs/nlp_cuda116_python3_9/lib/python3.9/site-packages (from torchdata) (2.28.1)\r\n",
      "Requirement already satisfied: portalocker>=2.0.0 in /home/kulbir/anaconda3/envs/nlp_cuda116_python3_9/lib/python3.9/site-packages (from torchdata) (2.5.1)\r\n",
      "Requirement already satisfied: urllib3>=1.25 in /home/kulbir/anaconda3/envs/nlp_cuda116_python3_9/lib/python3.9/site-packages (from torchdata) (1.26.11)\r\n",
      "Requirement already satisfied: typing_extensions in /home/kulbir/anaconda3/envs/nlp_cuda116_python3_9/lib/python3.9/site-packages (from torch==1.12.1->torchdata) (4.3.0)\r\n",
      "Requirement already satisfied: charset-normalizer<3,>=2 in /home/kulbir/anaconda3/envs/nlp_cuda116_python3_9/lib/python3.9/site-packages (from requests->torchdata) (2.0.4)\r\n",
      "Requirement already satisfied: certifi>=2017.4.17 in /home/kulbir/anaconda3/envs/nlp_cuda116_python3_9/lib/python3.9/site-packages (from requests->torchdata) (2022.9.24)\r\n",
      "Requirement already satisfied: idna<4,>=2.5 in /home/kulbir/anaconda3/envs/nlp_cuda116_python3_9/lib/python3.9/site-packages (from requests->torchdata) (3.3)\r\n"
     ]
    }
   ],
   "source": [
    "!pip install torchdata"
   ]
  },
  {
   "cell_type": "markdown",
   "metadata": {
    "id": "bMVBA0ijAUgt"
   },
   "source": [
    "The following cell will get you `train_data` and `test_data`. It also does some basic tokenization.\n",
    "\n",
    "*   To access the list of textual tokens for the *i*th example, use `train_data[i][1]`\n",
    "*   To access the label for the *i*th example, use `train_data[i][0]`"
   ]
  },
  {
   "cell_type": "code",
   "execution_count": 4,
   "metadata": {
    "id": "dfX3bNby8FYL"
   },
   "outputs": [
    {
     "name": "stdout",
     "output_type": "stream",
     "text": [
      "Num. Train Examples: 20000\n",
      "Num. Test Examples: 5000\n",
      "the label for the *i*th example: pos \n",
      "list of textual tokens for the *i*th example: ['Zentropa', 'has', 'much', 'in', 'common', 'with', 'The', 'Third', 'Man', ',', 'another', 'noir-like', 'film', 'set', 'among', 'the', 'rubble', 'of', 'postwar', 'Europe', '.', 'Like', 'TTM', ',', 'there', 'is', 'much', 'inventive', 'camera', 'work', '.', 'There', 'is', 'an', 'innocent', 'American', 'who', 'gets', 'emotionally', 'involved', 'with', 'a', 'woman', 'he', \"doesn't\", 'really', 'understand', ',', 'and', 'whose', 'naivety', 'is', 'all', 'the', 'more', 'striking', 'in', 'contrast', 'with', 'the', 'natives.<br', '/><br', '/>But', \"I'd\", 'have', 'to', 'say', 'that', 'The', 'Third', 'Man', 'has', 'a', 'more', 'well-crafted', 'storyline', '.', 'Zentropa', 'is', 'a', 'bit', 'disjointed', 'in', 'this', 'respect', '.', 'Perhaps', 'this', 'is', 'intentional', ':', 'it', 'is', 'presented', 'as', 'a', 'dream/nightmare', ',', 'and', 'making', 'it', 'too', 'coherent', 'would', 'spoil', 'the', 'effect', '.', '<br', '/><br', '/>This', 'movie', 'is', 'unrelentingly', 'grim--\"noir', '\"', 'in', 'more', 'than', 'one', 'sense', ';', 'one', 'never', 'sees', 'the', 'sun', 'shine', '.', 'Grim', ',', 'but', 'intriguing', ',', 'and', 'frightening', '.'] \n",
      "the label for the *i*th example: pos \n",
      "list of textual tokens for the *i*th example: ['Zentropa', 'is', 'the', 'most', 'original', 'movie', \"I've\", 'seen', 'in', 'years', '.', 'If', 'you', 'like', 'unique', 'thrillers', 'that', 'are', 'influenced', 'by', 'film', 'noir', ',', 'then', 'this', 'is', 'just', 'the', 'right', 'cure', 'for', 'all', 'of', 'those', 'Hollywood', 'summer', 'blockbusters', 'clogging', 'the', 'theaters', 'these', 'days', '.', 'Von', \"Trier's\", 'follow-ups', 'like', 'Breaking', 'the', 'Waves', 'have', 'gotten', 'more', 'acclaim', ',', 'but', 'this', 'is', 'really', 'his', 'best', 'work', '.', 'It', 'is', 'flashy', 'without', 'being', 'distracting', 'and', 'offers', 'the', 'perfect', 'combination', 'of', 'suspense', 'and', 'dark', 'humor', '.', \"It's\", 'too', 'bad', 'he', 'decided', 'handheld', 'cameras', 'were', 'the', 'wave', 'of', 'the', 'future', '.', \"It's\", 'hard', 'to', 'say', 'who', 'talked', 'him', 'away', 'from', 'the', 'style', 'he', 'exhibits', 'here', ',', 'but', \"it's\", \"everyone's\", 'loss', 'that', 'he', 'went', 'into', 'his', 'heavily', 'theoretical', 'dogma', 'direction', 'instead', '.'] \n",
      "the label for the *i*th example: pos \n",
      "list of textual tokens for the *i*th example: ['Lars', 'Von', 'Trier', 'is', 'never', 'backward', 'in', 'trying', 'out', 'new', 'techniques', '.', 'Some', 'of', 'them', 'are', 'very', 'original', 'while', 'others', 'are', 'best', 'forgotten.<br', '/><br', '/>He', 'depicts', 'postwar', 'Germany', 'as', 'a', 'nightmarish', 'train', 'journey', '.', 'With', 'so', 'many', 'cities', 'lying', 'in', 'ruins', ',', 'Leo', 'Kessler', 'a', 'young', 'American', 'of', 'German', 'descent', 'feels', 'obliged', 'to', 'help', 'in', 'their', 'restoration', '.', 'It', 'is', 'not', 'a', 'simple', 'task', 'as', 'he', 'quickly', 'finds', 'out.<br', '/><br', '/>His', 'uncle', 'finds', 'him', 'a', 'job', 'as', 'a', 'night', 'conductor', 'on', 'the', 'Zentropa', 'Railway', 'Line', '.', 'His', 'job', 'is', 'to', 'attend', 'to', 'the', 'needs', 'of', 'the', 'passengers', '.', 'When', 'the', 'shoes', 'are', 'polished', 'a', 'chalk', 'mark', 'is', 'made', 'on', 'the', 'soles', '.', 'A', 'terrible', 'argument', 'ensues', 'when', 'a', \"passenger's\", 'shoes', 'are', 'not', 'chalked', 'despite', 'the', 'fact', 'they', 'have', 'been', 'polished', '.', 'There', 'are', 'many', 'allusions', 'to', 'the', 'German', 'fanaticism', 'of', 'adherence', 'to', 'such', 'stupid', 'details.<br', '/><br', '/>The', 'railway', 'journey', 'is', 'like', 'an', 'allegory', 'representing', \"man's\", 'procession', 'through', 'life', 'with', 'all', 'its', 'trials', 'and', 'tribulations', '.', 'In', 'one', 'sequence', 'Leo', 'dashes', 'through', 'the', 'back', 'carriages', 'to', 'discover', 'them', 'filled', 'with', 'half-starved', 'bodies', 'appearing', 'to', 'have', 'just', 'escaped', 'from', 'Auschwitz', '', '.', 'These', 'images', ',', 'horrible', 'as', 'they', 'are', ',', 'are', 'fleeting', 'as', 'in', 'a', 'dream', ',', 'each', 'with', 'its', 'own', 'terrible', 'impact', 'yet', 'unconnected.<br', '/><br', '/>At', 'a', 'station', 'called', 'Urmitz', 'Leo', 'jumps', 'from', 'the', 'train', 'with', 'a', 'parceled', 'bomb', '.', 'In', 'view', 'of', 'many', 'by-standers', 'he', 'connects', 'the', 'bomb', 'to', 'the', 'underside', 'of', 'a', 'carriage', '.', 'He', 'returns', 'to', 'his', 'cabin', 'and', 'makes', 'a', 'connection', 'to', 'a', 'time', 'clock', '.', 'Later', 'he', 'jumps', 'from', 'the', 'train', '(', 'at', 'high', 'speed', ')', 'and', 'lies', 'in', 'the', 'cool', 'grass', 'on', 'a', 'river', 'bank', '.', 'Looking', 'at', 'the', 'stars', 'above', 'he', 'decides', 'that', 'his', 'job', 'is', 'to', 'build', 'and', 'not', 'destroy', '.', 'Subsequently', 'as', 'he', 'sees', 'the', 'train', 'approaching', 'a', 'giant', 'bridge', 'he', 'runs', 'at', 'breakneck', 'speed', 'to', 'board', 'the', 'train', 'and', 'stop', 'the', 'clock', '.', 'If', 'you', 'care', 'to', 'analyse', 'the', 'situation', 'it', 'is', 'a', 'completely', 'impossible', 'task', '.', 'Quite', 'ridiculous', 'in', 'fact', '.', 'It', 'could', 'only', 'happen', 'in', 'a', 'dream.<br', '/><br', \"/>It's\", 'strange', 'how', 'one', 'remembers', 'little', 'details', 'such', 'as', 'a', 'row', 'of', 'cups', 'hanging', 'on', 'hooks', 'and', 'rattling', 'away', 'with', 'the', 'swaying', 'of', 'the', 'train.<br', '/><br', '/>Despite', 'the', 'fact', 'that', 'this', 'film', 'is', 'widely', 'acclaimed', ',', 'I', 'prefer', 'Lars', 'Von', \"Trier's\", 'later', 'films', '(', 'Breaking', 'the', 'Waves', 'and', 'The', 'Idiots)', '.', 'The', 'bomb', 'scene', 'described', 'above', 'really', 'put', 'me', 'off', '.', 'Perhaps', \"I'm\", 'a', 'realist', '.'] \n",
      "the label for the *i*th example: pos \n",
      "list of textual tokens for the *i*th example: ['*Contains', 'spoilers', 'due', 'to', 'me', 'having', 'to', 'describe', 'some', 'film', 'techniques', ',', 'so', 'read', 'at', 'your', 'own', 'risk!*<br', '/><br', '/>I', 'loved', 'this', 'film', '.', 'The', 'use', 'of', 'tinting', 'in', 'some', 'of', 'the', 'scenes', 'makes', 'it', 'seem', 'like', 'an', 'old', 'photograph', 'come', 'to', 'life', '.', 'I', 'also', 'enjoyed', 'the', 'projection', 'of', 'people', 'on', 'a', 'back', 'screen', '.', 'For', 'instance', ',', 'in', 'one', 'scene', ',', 'Leopold', 'calls', 'his', 'wife', 'and', 'she', 'is', 'projected', 'behind', 'him', 'rather', 'than', 'in', 'a', 'typical', 'split', 'screen', '.', 'Her', 'face', 'is', 'huge', 'in', 'the', 'back', 'and', \"Leo's\", 'is', 'in', 'the', 'foreground.<br', '/><br', '/>One', 'of', 'the', 'best', 'uses', 'of', 'this', 'is', 'when', 'the', 'young', 'boys', 'kill', 'the', 'Ravensteins', 'on', 'the', 'train', ',', 'a', 'scene', 'shot', 'in', 'an', 'almost', 'political', 'poster', 'style', ',', 'with', 'facial', 'close', 'ups', '.', 'It', 'reminded', 'me', 'of', 'Battleship', 'Potemkin', ',', 'that', 'intense', 'constant', 'style', 'coupled', 'with', 'the', 'spray', 'of', 'red', 'to', 'convey', 'tons', 'of', 'horror', 'without', 'much', 'gore', '.', 'Same', 'with', 'the', 'scene', 'when', 'Katharina', 'finds', 'her', 'father', 'dead', 'in', 'the', 'bathtub...you', 'can', 'only', 'see', 'the', 'red', 'water', 'on', 'the', 'side', '.', 'It', 'is', 'one', 'of', 'the', 'things', 'I', 'love', 'about', 'Von', 'Trier', ',', 'his', 'understatement', 'of', 'horror', ',', 'which', 'ends', 'up', 'making', 'it', 'all', 'the', 'more', 'creepy.<br', '/><br', '/>The', 'use', 'of', 'text', 'in', 'the', 'film', 'was', 'unique', ',', 'like', 'when', \"Leo's\", 'character', 'is', 'pushed', 'by', 'the', 'word', ',', '\"', 'Werewolf.', '\"', 'I', 'have', 'never', 'seen', 'anything', 'like', 'that', 'in', 'a', 'film.<br', '/><br', '/>The', 'use', 'of', 'black', 'comedy', 'in', 'this', 'film', 'was', 'well', 'done', '.', 'Ernst-Hugo', 'Järegård', 'is', 'great', 'as', \"Leo's\", 'uncle', '.', 'It', 'brings', 'up', 'the', 'snickers', 'I', 'got', 'from', 'his', 'role', 'in', 'the', 'Kingdom', '(', 'Riget.', ')', 'This', 'humor', 'makes', 'the', 'plotline', 'of', 'absurd', 'anal', 'retentiveness', 'of', 'train', 'conductors', 'against', 'the', 'terrible', 'backdrop', 'of', 'WW2', 'and', 'all', 'the', 'chaos', ',', 'easier', 'to', 'take', '.', 'It', 'reminds', 'me', 'of', 'Riget', 'in', 'the', 'way', 'the', 'hospital', 'administrator', 'is', 'trying', 'to', 'maintain', 'a', 'normalcy', 'at', 'the', 'end', 'of', 'part', 'one', 'when', 'everything', 'is', 'going', 'crazy', '.', 'It', 'shows', 'that', 'some', 'people', 'are', 'truly', 'oblivious', 'to', 'the', 'awful', 'things', 'happening', 'around', 'them', '.', 'Yet', 'some', 'people', ',', 'like', 'Leo', ',', 'are', 'tuned', 'in', ',', 'but', 'do', 'nothing', 'positive', 'about', 'it.<br', '/><br', '/>The', 'voice', 'over', ',', 'done', 'expertly', 'well', 'by', 'Max', 'von', 'Sydow', ',', 'is', 'amusing', 'too', '.', 'It', 'draws', 'you', 'into', 'the', 'story', 'and', 'makes', 'you', 'jump', 'into', \"Leo's\", 'head', ',', 'which', 'at', 'times', 'is', 'a', 'scary', 'place', 'to', 'be.<br', '/><br', '/>The', 'movie', 'brings', 'up', 'the', 'point', 'that', 'one', 'is', 'a', 'coward', 'if', 'they', \"don't\", 'choose', 'a', 'side', '.', 'I', 'see', 'the', 'same', 'idea', 'used', 'in', 'Dancer', 'in', 'the', 'Dark', ',', 'where', \"Bjork's\", 'character', \"doesn't\", 'speak', 'up', 'for', 'herself', 'and', 'ends', 'up', 'being', 'her', 'own', 'destruction', '.', 'Actually', ',', 'at', 'one', 'time', ',', 'Von', 'Trier', 'seemed', 'anti-woman', 'to', 'me', ',', 'by', 'making', 'Breaking', 'the', 'Waves', 'and', 'Dancer', ',', 'but', 'now', 'I', 'know', 'his', 'male', 'characters', \"don't\", 'fare', 'well', 'either', '!', 'I', 'found', 'myself', 'at', 'the', 'same', 'place', 'during', 'the', 'end', 'of', 'Dancer', ',', 'when', 'you', 'seriously', 'want', 'the', 'main', 'character', 'to', 'rethink', 'their', 'actions', ',', 'but', 'of', 'course', ',', 'they', 'never', 'do', '!'] \n",
      "the label for the *i*th example: pos \n",
      "list of textual tokens for the *i*th example: ['That', 'was', 'the', 'first', 'thing', 'that', 'sprang', 'to', 'mind', 'as', 'I', 'watched', 'the', 'closing', 'credits', 'to', 'Europa', 'make', 'there', 'was', 'across', 'the', 'screen', ',', 'never', 'in', 'my', 'entire', 'life', 'have', 'I', 'seen', 'a', 'film', 'of', 'such', 'technical', 'genius', ',', 'the', 'visuals', 'of', 'Europa', 'are', 'so', 'impressive', 'that', 'any', 'film', 'I', 'watch', 'in', \"it's\", 'wake', 'will', 'only', 'pale', 'in', 'comparison', ',', 'forget', 'your', 'Michael', 'Bay', ',', 'Ridley', 'Scott', 'slick', 'Hollywood', 'cinematography', ',', 'Europa', 'has', 'more', 'ethereal', 'beauty', 'than', 'anything', 'those', 'two', 'could', 'conjure', 'up', 'in', 'a', 'million', 'years', '.', 'Now', \"I'd\", 'be', 'the', 'first', 'to', 'hail', 'Lars', 'von', 'Trier', 'a', 'genius', 'just', 'off', 'the', 'back', 'of', 'his', 'films', 'Breaking', 'the', 'Waves', 'and', 'Dancer', 'in', 'the', 'Dark', ',', 'but', 'this', 'is', 'stupid', ',', 'the', 'fact', 'that', 'Europa', 'has', 'gone', 'un-noticed', 'by', 'film', 'experts', 'for', 'so', 'long', 'is', 'a', 'crime', 'against', 'cinema', ',', 'whilst', 'overrated', 'rubbish', 'like', 'Crouching', 'Tiger', ',', 'Hidden', 'Dragon', 'and', 'Life', 'is', 'Beautiful', 'clean', 'up', 'at', 'the', 'academy', 'awards', '(', 'but', 'what', 'do', 'the', 'know', ')', 'Europa', 'has', 'been', 'hidden', 'away', ',', 'absent', 'form', 'video', 'stores', 'and', '(', 'until', 'recently', ')', 'any', 'British', 'TV', 'channels', '.', '<br', '/><br', '/>The', 'visuals', 'in', 'Europa', 'are', 'not', 'MTV', 'gloss', ';', \"it's\", 'not', 'a', 'case', 'of', 'style', 'over', 'substance', ',', 'its', 'more', 'a', 'case', 'of', 'substance', 'dictating', 'style', '.', 'Much', 'like', 'his', 'first', 'film', 'The', 'Element', 'of', 'Crime', ',', 'von', 'Trier', 'uses', 'the', 'perspective', 'of', 'the', 'main', 'character', 'to', 'draw', 'us', 'into', 'his', 'world', ',', 'and', 'much', 'like', 'Element', ',', 'the', 'film', 'begins', 'with', 'the', 'main', 'character', '(', 'or', 'in', 'the', 'case', 'of', 'Europa', ',', 'we', 'the', 'audience', ')', 'being', 'hypnotized', '.', 'As', 'we', 'move', 'down', 'the', 'tracks', ',', 'the', 'voice', 'of', 'the', 'Narrator', '(', 'Max', 'von', 'Sydow', ')', 'counts', 'us', 'down', 'into', 'a', 'deep', 'sleep', ',', 'until', 'we', 'awake', 'in', 'Europa', '.', 'This', 'allows', 'von', 'Trier', 'and', 'his', 'three', 'cinematographers', 'to', 'pay', 'with', 'the', 'conventions', 'of', 'time', 'and', 'imagery', ',', 'there', 'are', 'many', 'scenes', 'in', 'Europa', 'when', 'a', 'character', 'in', 'the', 'background', ',', 'who', 'is', 'in', 'black', 'and', 'white', ',', 'will', 'interact', 'with', 'a', 'person', 'in', 'the', 'foreground', 'who', 'will', 'be', 'colour', ',', 'von', 'Trier', 'is', 'trying', 'to', 'show', 'us', 'how', 'much', 'precedence', 'the', 'coloured', 'item', 'or', 'person', 'has', 'over', 'the', 'plot', ',', 'for', 'instance', ',', \"it's\", 'no', 'surprise', 'that', 'the', 'first', 'shot', 'of', 'Leopold', 'Kessler', '(', 'Jean-marc', 'Barr', ')', 'is', 'in', 'colour', ',', 'since', 'he', 'is', 'the', 'only', 'character', \"who's\", 'actions', 'have', 'superiority', 'over', 'the', 'film', '.', '<br', '/><br', '/>The', 'performances', 'are', 'good', ',', 'they', 'may', 'not', 'be', 'on', 'par', 'with', 'performances', 'in', 'later', 'von', 'Trier', 'films', ',', 'but', \"that's\", 'just', 'because', 'the', 'images', 'are', 'sometimes', 'so', 'distracting', 'that', 'you', \"don't\", 'really', 'pick', 'up', 'on', 'them', 'the', 'first', 'time', 'round', '.', 'But', 'I', 'would', 'like', 'to', 'point', 'out', 'the', 'fantastic', 'performance', 'of', 'Jean-Marc', 'Barr', 'in', 'the', 'lead', 'role', ',', 'whose', 'blind', 'idealism', 'is', 'slowly', 'warn', 'down', 'by', 'the', 'two', 'opposing', 'sides', ',', 'until', 'he', 'erupts', 'in', 'the', 'films', 'final', 'act', '.', 'Again', ',', 'muck', 'like', 'The', 'Element', 'of', 'Crime', ',', 'the', 'film', 'ends', 'with', 'our', 'hero', 'unable', 'to', 'wake', 'up', 'from', 'his', 'nightmare', 'state', ',', 'left', 'in', 'this', 'terrible', 'place', ',', 'with', 'only', 'the', 'continuing', 'narration', 'of', 'von', 'Sydow', 'to', 'seal', 'his', 'fate', '.', 'Europa', 'is', 'a', 'tremendous', 'film', ',', 'and', 'I', 'cant', 'help', 'thinking', 'what', 'a', 'shame', 'that', 'von', 'Trier', 'has', 'abandoned', 'this', 'way', 'of', 'filming', ',', 'since', 'he', 'was', 'clearly', 'one', 'of', 'the', 'most', 'talented', 'visual', 'directors', 'working', 'at', 'that', 'time', ',', 'Europa', ',', 'much', 'like', 'the', 'rest', 'of', 'his', 'cinematic', 'cannon', 'is', 'filled', 'with', 'a', 'wealth', 'of', 'iconic', 'scenes', '.', 'His', 'dedication', 'to', 'composition', 'and', 'mise-en-scene', 'is', 'unrivalled', ',', 'not', 'to', 'mention', 'his', 'use', 'of', 'sound', 'and', 'production', 'design', '.', 'But', 'since', 'his', 'no-frills', 'melodramas', 'turned', 'out', 'to', 'be', 'Breaking', 'the', 'Waves', 'and', 'Dancer', 'in', 'the', 'Dark', 'then', 'who', 'can', 'argue', ',', 'but', 'it', 'does', 'seems', 'like', 'a', 'waste', 'of', 'an', 'imaginative', 'talent', '.', '10/10'] \n",
      "the label for the *i*th example: pos \n",
      "list of textual tokens for the *i*th example: ['I', 'had', 'started', 'to', 'lose', 'my', 'faith', 'in', 'films', 'of', 'recent', 'being', 'inundated', 'with', 'the', 'typical', 'Genre', 'Hollywood', 'film', '.', 'Story', 'lines', 'fail', ',', 'and', 'camera', 'work', 'is', 'merely', 'copied', 'from', 'the', 'last', 'film', 'of', 'similiar', 'taste', '.', 'But', ',', 'then', 'I', 'saw', 'Zentropa', '(', 'Europa', ')', 'and', 'my', 'faith', 'was', 'renewed', '.', 'Not', 'only', 'is', 'the', 'metaphorical', 'storyline', 'enthralling', 'but', 'the', 'use', 'of', 'color', 'and', 'black', 'and', 'white', 'is', 'visually', 'stimulating', '.', 'The', 'narrator', '(', 'Max', 'Von', 'Sydow', ')', 'takes', 'you', 'through', 'a', 'spellbounding', 'journey', 'every', 'step', 'of', 'the', 'way', 'and', 'engrosses', 'you', 'into', 'Europa', '1945', '.', 'We', 'have', 'all', 'seen', 'death', 'put', 'on', 'screen', 'in', 'a', 'hundred', 'thousand', 'ways', 'but', 'the', 'beauty', 'of', 'this', 'film', 'is', 'how', 'it', 'takes', 'you', 'through', 'every', 'slow-moving', 'moment', 'that', 'leads', 'you', 'to', 'death', '.', 'Unlike', 'many', 'films', 'it', \"doesn't\", 'cut', 'after', 'one', 'second', 'of', 'showing', '(', 'for', 'example', ')', 'a', 'knife', 'but', 'forces', 'you', 'to', 'watch', 'the', 'devastating', 'yet', 'sensuous', 'beauty', 'of', 'a', \"man's\", 'final', 'moments', '.', 'I', 'think', 'we', 'can', 'all', 'take', 'something', 'different', 'away', 'from', 'what', 'this', 'movie', 'is', 'trying', 'to', 'say', 'but', 'it', 'is', 'definitely', 'worth', 'taking', 'the', 'time', 'to', 'find', 'out', 'what', 'it', 'all', 'really', 'means', '.', 'I', 'would', 'love', 'to', 'talk', 'more', 'in', 'depth', 'about', 'the', 'film', 'for', 'any', 'one', 'who', 'wishes', 'to', 'send', 'me', 'an', 'email', '.', 'Enjoy', 'it', '!'] \n",
      "the label for the *i*th example: pos \n",
      "list of textual tokens for the *i*th example: ['Critics', 'need', 'to', 'review', 'what', 'they', 'class', 'as', 'a', 'quality', 'movie', '.', 'I', 'think', 'the', 'critics', 'have', 'seen', 'too', 'many', 'actions', 'films', 'and', 'have', 'succumbed', 'to', 'the', 'Matrix', 'style', 'of', 'films', '.', 'Europa', 'is', 'a', 'breath', 'of', 'fresh', 'air', ',', 'a', 'film', 'with', 'so', 'many', 'layers', 'that', 'one', 'viewing', 'is', 'not', 'enough', 'to', 'understand', 'or', 'appreciate', 'this', 'outstanding', 'film', '.', 'Lars', 'von', 'Trier', 'shows', 'that', 'old', 'styles', 'of', 'filming', 'can', 'produce', 'marvellous', 'cinema', 'and', 'build', 'drama', 'and', 'tension', '.', 'The', 'back', 'projection', 'effect', 'he', 'uses', 'during', 'the', 'film', 'arouses', 'and', 'enhances', 'the', 'characters', ',', 'and', 'the', 'focus', 'of', 'the', 'conversation', 'they', 'are', 'having', '.', 'Other', 'effects', 'he', 'uses', 'such', 'as', 'the', 'colour', 'and', 'black', 'and', 'white', 'in', 'one', 'scene', 'much', 'like', 'Hitchcock', 'and', 'the', 'girl', 'with', 'the', 'red', 'coat', 'grabs', 'attention', 'and', 'enhances', 'the', 'drama', 'and', 'meaning', 'of', 'the', 'scene', '.', 'The', 'commentary', 'is', 'superb', 'and', 'has', 'a', 'hypnotic', 'effect', ',', 'again', 'maintaining', 'the', 'focus', 'on', 'the', 'central', 'characters', 'in', 'the', 'scene', 'and', 'there', 'actions.<br', '/><br', '/>I', 'could', 'talk', 'about', 'the', 'effects', 'more', 'but', 'I', 'think', 'you', 'all', 'would', 'agree', 'they', 'push', 'this', 'film', 'into', 'a', 'category', 'of', 'its', 'own', ',', 'and', 'really', 'heighten', 'the', 'drama', 'of', 'the', 'film', '.', 'A', 'film', 'to', 'buy', 'if', 'you', \"don't\", 'own', 'already', 'and', 'one', 'to', 'see', 'if', 'you', 'have', 'not.<br', '/><br', '/>10/10', \"Don't\", 'miss', 'this', 'artistic', 'noir', 'film', 'from', 'one', 'of', 'the', 'great', 'film', 'directors', '.'] \n",
      "the label for the *i*th example: pos \n",
      "list of textual tokens for the *i*th example: ['It', 'is', 'not', 'every', \"film's\", 'job', 'to', 'stimulate', 'you', 'superficially', '.', 'I', 'will', 'take', 'an', 'ambitious', 'failure', 'over', 'a', 'mass-market', 'hit', 'any', 'day', '.', 'While', 'this', 'really', \"can't\", 'be', 'described', 'as', 'a', 'failure', ',', 'the', 'sum', 'of', 'its', 'parts', 'remains', 'ambiguous', '.', 'That', 'indecipherable', 'quality', 'tantalizes', 'me', 'into', 'watching', 'it', 'again', 'and', 'again', '.', 'This', 'is', 'a', 'challenging', ',', 'provocative', 'movie', 'that', 'does', 'not', 'wrap', 'things', 'up', 'neatly', '.', 'The', 'problem', 'with', 'the', 'movie', 'is', 'in', 'its', 'structure', '.', 'Its', 'inpenetrable', 'plot', 'seems', 'to', 'be', 'winding', 'up', ',', 'just', 'as', 'a', 'second', 'ending', 'is', 'tacked', 'on', '.', 'Though', 'everything', 'is', 'technically', 'dazzling', ',', 'the', 'movie', 'is', 'exactly', 'too', 'long', 'by', 'that', 'unit', '.', 'The', 'long-delayed', 'climax', 'of', \"Leo's\", 'awakening', 'comes', 'about', '20', 'minutes', 'late.<br', '/><br', '/>Great', 'cinematography', 'often', 'comes', 'at', 'the', 'expense', 'of', 'a', 'decent', 'script', ',', 'but', 'here', 'the', 'innovative', 'camera', 'technique', 'offers', 'a', 'wealth', 'of', 'visual', 'ideas', '.', 'The', 'compositing', 'artifice', 'is', 'provocative', 'and', 'engaging', ';', 'A', 'character', 'is', 'rear-projected', 'but', 'his', 'own', 'hand', 'in', 'the', 'foreground', \"isn't\", '.', 'The', 'world', 'depicted', 'is', 'deliberate', ',', 'treacherous', 'and', 'absurd', '.', 'Keep', 'your', 'eyes', 'peeled', 'for', 'a', 'memorable', ',', 'technically', 'astonishing', 'assassination', 'that', 'will', 'make', 'your', 'jaw', 'drop.<br', '/><br', '/>The', 'compositions', 'are', 'stunning', '.', 'Whomever', 'chose', 'to', 'release', 'the', '(', 'out', 'of', 'print', ')', 'videotape', 'in', 'the', 'pan', '&', 'scan', 'format', 'must', 'have', 'never', 'seen', 'it', '.', 'Where', 'is', 'the', 'DVD?<br', '/><br', '/>It', 'is', 'unfathomable', 'how', 'anyone', 'could', 'give', 'this', 'much', 'originality', 'a', 'bad', 'review', '.', 'You', 'should', 'see', 'it', 'at', 'least', 'once', '.', 'You', 'get', 'the', 'sense', 'that', 'von', 'Trier', 'bit', 'off', 'more', 'than', 'he', 'could', 'chew', ',', 'but', 'this', 'movie', 'ends', 'up', 'being', 'richer', 'for', 'it', '.', 'I', 'suspect', 'he', 'is', 'familiar', 'with', \"Hitchcock's\", 'Foreign', 'Correspondent', 'in', 'which', 'devious', 'Europeans', 'also', 'manipulate', 'an', 'American', 'dupe', 'and', 'several', 'Welles', 'movies', 'that', 'take', 'delirious', 'joy', 'in', 'technique', 'as', 'much', 'as', 'he', 'does', '.', 'All', 'von', 'Trier', 'movies', 'explore', 'the', 'plight', 'of', 'the', 'naif', 'amidst', 'unforgiving', 'societies', '.', 'After', 'Zentropa', ',', 'von', 'Trier', 'moved', 'away', 'from', 'this', 'type', 'of', 'audacious', 'technical', 'experiment', 'towards', 'dreary', ',', 'over-rated', ',', 'un-nuanced', 'sap', 'like', 'Breaking', 'the', 'Waves', 'and', 'Dancer', 'in', 'the', 'Dark', '.'] \n",
      "the label for the *i*th example: pos \n",
      "list of textual tokens for the *i*th example: ['The', 'best', 'way', 'for', 'me', 'to', 'describe', 'Europa', ',', 'which', 'is', 'high', 'on', 'the', 'list', 'of', 'my', 'favourite', 'films', ',', 'is', 'the', 'exclamation', 'that', 'came', 'from', 'a', 'companion', 'after', 'the', 'film', 'ended', ':', '\"', 'I', \"didn't\", 'know', 'films', 'could', 'be', 'made', 'like', 'that\"', '.', 'Entirely', 'original', 'in', \"it's\", 'visual', 'style', ',', 'it', 'is', 'one', 'of', 'the', 'best', 'examples', 'of', 'what', 'cinema', 'can', 'be', '.', \"It's\", 'as', 'far', 'away', 'from', 'the', '\"', 'master', 'and', 'coverage', '\"', 'style', 'of', 'shooting', 'as', 'one', 'can', 'get', ';', 'perfectly', 'integrating', 'many', 'layers', 'of', 'image', ',', 'sound', ',', 'effects', ',', 'props', ',', 'dialogue', ',', 'voice', 'over', ',', 'performance', ',', 'editing', ',', 'lighting', ',', 'etc..', '.', 'all', 'equal', ',', 'none', 'predominant', '.', 'Despite', \"Hollywood's\", '\"', 'dialogue', '\"', 'myopia', ',', 'cinema', 'is', 'not', 'about', 'dialogue', ',', 'nor', 'is', 'it', 'about', 'beautiful', 'lighting', ',', 'action', 'or', 'music', '.', 'It', 'works', 'best', 'when', 'all', 'the', 'elements', 'are', 'on', 'an', 'equal', 'footing', ',', 'where', 'ONLY', 'the', 'BLENDING', 'of', 'those', 'elements', ',', 'in', 'the', 'order', 'or', 'combination', 'in', 'which', 'they', 'are', 'presented', ',', 'will', 'communicate', 'the', 'idea', '.', 'Reduce', 'or', 'eliminate', 'the', 'contribution', 'of', 'one', 'element', ',', 'and', 'the', 'film', 'has', 'no', 'meaning', '.', '\"', 'Europa', '\"', 'is', 'what', 'cinema', 'should', 'strive', 'to', 'be', '.'] \n",
      "the label for the *i*th example: pos \n",
      "list of textual tokens for the *i*th example: ['Released', 'as', 'Zentropa', 'in', 'North', 'America', 'to', 'avoid', 'confusion', 'with', 'Agniezska', \"Holland's\", 'own', 'Holocaust', 'film', 'Europa', 'Europa', ',', 'this', 'third', 'theatrical', 'feature', 'by', 'a', 'filmmaker', 'who', 'never', 'ceases', 'to', 'surprise', ',', 'inspire', 'or', 'downright', 'shock', 'is', 'a', 'bizarre', ',', 'nostalgic', ',', 'elaborate', 'film', 'about', 'a', 'naive', 'American', 'in', 'Germany', 'shortly', 'following', 'the', 'end', 'of', 'WWII', '.', 'The', 'American', ',', 'named', 'Leo', ',', \"doesn't\", 'fully', 'get', 'what', \"he's\", 'doing', 'there', '.', 'He', 'has', 'come', 'to', 'take', 'part', 'in', 'fixing', 'up', 'the', 'country', 'since', ',', 'in', 'his', 'mind', ',', \"it's\", 'about', 'time', 'Germany', 'was', 'shown', 'some', 'charity', '.', 'No', 'matter', 'how', 'that', 'sounds', ',', 'he', 'is', 'not', 'a', 'Nazi', 'sympathizer', 'or', 'so', 'much', 'as', 'especially', 'pro-German', ',', 'merely', 'mixed', 'up', '.', 'His', 'uncle', ',', 'who', 'works', 'on', 'the', 'railroad', ',', 'gets', 'Leo', 'a', 'job', 'as', 'a', 'helmsman', 'on', 'a', 'sleeping', 'car', ',', 'and', 'he', 'is', 'increasingly', 'enmeshed', 'in', 'a', 'vortex', 'of', '1945', \"Germany's\", 'horrors', 'and', 'enigmas.<br', '/><br', '/>This', 'progression', 'starts', 'when', 'Leo', ',', 'played', 'rather', 'memorably', 'by', 'the', 'calm', 'yet', 'restless', 'actor', 'Jean-Marc', 'Barr', ',', 'meets', 'a', 'sultry', 'heiress', 'on', 'the', 'train', 'played', 'by', 'Barbara', 'Sukowa', ',', 'an', 'actress', 'with', 'gentility', 'on', 'the', 'surface', 'but', 'internal', 'vigor', '.', 'She', 'seduces', 'him', 'and', 'then', 'takes', 'him', 'home', 'to', 'meet', 'her', 'family', ',', 'which', 'owns', 'the', 'company', 'which', 'manufactures', 'the', 'trains', '.', 'These', 'were', 'the', 'precise', 'trains', 'that', 'took', 'Jews', 'to', 'their', 'deaths', 'during', 'the', 'war', ',', 'but', 'now', 'they', 'run', 'a', 'drab', 'day-to-day', 'timetable', ',', 'and', 'the', \"woman's\", 'Uncle', 'Kessler', 'postures', 'as', 'another', 'one', 'of', 'those', 'good', 'Germans', 'who', 'were', 'just', 'doing', 'their', 'jobs', '.', 'There', 'is', 'also', 'Udo', 'Kier', ',', 'the', 'tremendous', 'actor', 'who', 'blew', 'me', 'away', 'in', 'Von', \"Trier's\", 'shocking', 'second', 'film', 'Epidemic', ',', 'though', 'here', 'he', 'is', 'mere', 'scenery.<br', '/><br', '/>Another', 'guest', 'at', 'the', 'house', 'is', 'Eddie', 'Constantine', ',', 'an', 'actor', 'with', 'a', 'quiet', 'strength', ',', 'playing', 'a', 'somber', 'American', 'intelligence', 'man', '.', 'He', 'can', 'confirm', 'that', 'Uncle', 'Kessler', 'was', 'a', 'war', 'criminal', ',', 'though', 'it', 'is', 'all', 'completely', 'baffling', 'to', 'Leo', '.', 'Americans', 'have', 'been', 'characterized', 'as', 'gullible', 'rubes', 'out', 'of', 'their', 'element', 'for', 'decades', ',', 'but', 'little', 'have', 'they', 'been', 'more', 'blithely', 'unconcerned', 'than', 'Leo', ',', 'who', 'goes', 'back', 'to', 'his', 'job', 'on', 'what', 'gradually', 'looks', 'like', 'his', 'own', 'customized', 'death', 'train.<br', '/><br', '/>The', 'story', 'is', 'told', 'in', 'a', 'purposely', 'uncoordinated', 'manner', 'by', 'the', \"film's\", 'Danish', 'director', ',', 'Lars', 'Von', 'Trier', ',', 'whose', 'anchor', 'is', 'in', 'the', \"film's\", 'breathtaking', 'editing', 'and', 'cinematography', '.', 'He', 'shoots', 'in', 'black', 'and', 'white', 'and', 'color', ',', 'he', 'uses', 'double-exposures', ',', 'optical', 'effects', 'and', 'trick', 'photography', ',', 'having', 'actors', 'interact', 'with', 'rear-projected', 'footage', ',', 'he', 'places', 'his', 'characters', 'inside', 'a', 'richly', 'shaded', 'visceral', 'world', 'so', 'that', 'they', 'sometimes', 'feel', 'like', 'insects', ',', 'caught', 'between', 'glass', 'for', 'our', 'more', 'precise', 'survey.<br', '/><br', '/>This', 'Grand', 'Jury', 'Prize-winning', 'surrealist', 'work', 'is', 'allegorical', ',', 'but', 'maybe', 'in', 'a', 'distinct', 'tone', 'for', 'every', 'viewer', '.', 'I', 'interpret', 'it', 'as', 'a', 'film', 'about', 'the', 'last', 'legs', 'of', 'Nazism', ',', 'symbolized', 'by', 'the', 'train', ',', 'and', 'the', 'ethical', 'accountability', 'of', 'Americans', 'and', 'others', 'who', 'appeared', 'too', 'late', 'to', 'salvage', 'the', 'martyrs', 'of', 'these', 'trains', 'and', 'the', 'camps', 'where', 'they', 'distributed', 'their', 'condemned', 'shiploads', '.', 'During', 'the', 'time', 'frame', 'of', 'the', 'movie', ',', 'and', 'the', 'Nazi', 'state', ',', 'and', 'such', 'significance', 'to', 'the', 'train', ',', 'are', 'dead', ',', 'but', 'like', 'decapitated', 'chickens', 'they', 'persist', 'in', 'jolting', 'through', 'their', 'reflexes.<br', '/><br', '/>The', 'characters', ',', 'music', ',', 'dialogue', ',', 'and', 'plot', 'are', 'deliberately', 'hammy', 'and', 'almost', 'satirically', 'procured', 'from', 'film', 'noir', 'conventions', '.', 'The', 'most', 'entrancing', 'points', 'in', 'the', 'movie', 'are', 'the', 'entirely', 'cinematographic', 'ones', '.', 'Two', 'trains', 'halting', 'back', 'and', 'forth', ',', 'Barr', 'on', 'one', 'and', 'Sukowa', 'on', 'another', '.', 'An', 'underwater', 'shot', 'of', 'proliferating', 'blood', '.', 'An', 'uncommonly', 'expressive', 'sequence', 'on', 'what', 'it', 'must', 'be', 'like', 'to', 'drown', '.', 'And', 'most', 'metaphysically', 'affecting', 'of', 'all', ',', 'an', 'anesthetic', 'shot', 'of', 'train', 'tracks', ',', 'as', 'Max', 'von', \"Sydow's\", 'voice', 'allures', 'us', 'to', 'hark', 'back', 'to', 'Europe', 'with', 'him', ',', 'and', 'abandon', 'our', 'personal', 'restraint', '.'] \n",
      "\n",
      "SAMPLE DATA:\n",
      "Sample text: ['Even', 'if', 'you', 'could', 'get', 'past', 'the', 'idea', 'that', 'these', 'boring', 'characters', 'personally', 'witnessed', 'every', 'Significant', 'Moment', 'of', 'the', '1960s', '(', 'ok', ',', 'so', 'Katie', \"didn't\", 'join', 'the', 'Manson', 'Family', ',', 'and', 'nobody', 'died', 'at', 'Altamont)', ',', 'this', 'movie', 'was', 'still', 'unbelievably', 'awful', '.', 'I', 'got', 'the', 'impression', 'that', 'the', '\"', 'writers', '\"', 'just', 'locked', 'themselves', 'in', 'a', 'room', 'and', 'watched', '\"', 'Forrest', 'Gump,', '\"', '\"', 'The', 'Wonder', 'Years,', '\"', 'and', 'Oliver', \"Stone's\", '60s', 'films', 'over', 'and', 'over', 'again', 'and', 'called', 'it', 'research', '.', 'A', 'Canadian', 'television', 'critic', 'called', 'the', 'conclusion', 'of', 'the', 'first', 'episode', '\"', 'head', 'spinning\"', '.', 'He', 'was', 'right', '.']\n",
      "Sample label: neg \n",
      "\n",
      "Sample text: ['Woody', 'Allen', ',', 'when', 'at', 'his', 'best', ',', 'has', 'one', 'of', 'the', 'sharpest', 'pens', 'around', '.', 'He', 'can', 'make', 'an', 'acute', 'observation', 'and', 'wrap', 'it', 'around', 'a', 'punch', 'line', 'like', 'nobody', 'else', '.', 'However', ',', 'when', \"he's\", 'at', 'his', 'worst', 'his', 'movies', 'can', 'stench', 'of', 'pretentiousness', '.', 'Unfortunately', ',', '\"', 'Melinda', 'and', 'Melinda', '\"', 'has', 'this', 'stench', 'from', 'opening', 'to', 'closing', '.', 'The', 'set', 'up', 'is', 'one', 'of', 'his', 'more', 'intriguing', 'ideas', 'in', 'a', 'while', '.', 'Four', 'friends', 'sit', 'in', 'a', 'restaurant', 'discussing', 'whether', 'the', 'essence', 'of', 'life', 'is', 'comedy', 'or', 'drama', '.', 'To', 'help', 'settle', 'the', 'argument', ',', 'one', 'man', 'relates', 'the', 'beginning', 'of', 'a', 'story', 'and', 'asks', 'the', 'two', 'other', 'men', 'arguing', '(', 'one', 'a', 'comic', 'playwright', ',', 'the', 'other', 'a', 'dramatic', 'playwright', ')', 'whether', 'the', 'story', 'is', 'a', 'comedy', 'or', 'a', 'tragedy', '.', 'The', 'two', 'men', 'then', 'continue', 'the', 'story', 'and', 'the', 'movie', 'plays', 'out', 'the', 'stories', 'that', 'they', 'weave', '.', 'Now', ',', 'when', 'I', 'first', 'heard', 'about', 'this', 'film', ',', 'my', 'understanding', 'was', 'that', 'they', 'tell', 'the', 'exact', 'same', 'story', ',', 'the', 'genre', '(', 'comedy', 'or', 'drama', ')', 'only', 'changes', 'by', 'how', 'you', 'look', 'at', 'it', '.', 'Now', 'that', 'would', 'have', 'been', 'interesting', '.', 'However', ',', 'the', 'stories', 'only', 'share', 'one', 'main', 'element', 'and', 'a', 'few', 'side', 'elements', '.', 'They', 'are', 'entirely', 'different', 'stories', 'with', 'major', 'plot', 'differences', '.', 'The', 'drama', 'is', 'so', 'stiffly', 'scripted', 'and', 'pretentious', 'that', 'it', 'can', 'only', 'really', 'work', 'as', 'self-parody', '.', 'If', 'this', 'was', 'the', 'point', ',', 'then', 'it', 'failed', 'because', 'these', 'elements', 'prevent', 'the', 'audience', 'from', 'feeling', 'any', 'emotional', 'investment', 'in', 'any', 'of', 'the', 'characters', '.', 'The', 'comedy', 'is', 'the', 'story', 'that', 'has', 'moments', 'of', 'success', ',', 'but', 'they', 'are', 'still', 'short', 'and', 'fleeting', '.', 'Will', 'Farrell', 'is', 'obviously', 'meant', 'to', 'be', 'the', 'stand-in', 'for', 'Woody', ',', 'but', 'he', 'could', 'have', 'played', 'this', 'character', 'so', 'much', 'more', 'believably', 'without', 'adding', \"Woody's\", 'stutters', 'and', 'hand-ticks', '.', 'Woody', 'is', 'the', 'best', 'at', 'being', 'Woody', '.', 'When', 'someone', 'else', 'tries', ',', \"they're\", 'not', 'playing', 'a', 'character', ',', 'they', 'are', 'modeling', 'a', 'recognizable', 'actor', '.', 'This', 'type', 'of', 'thing', 'only', 'pulls', 'the', 'audience', 'out', 'of', 'the', 'story.<br', '/><br', '/>My', 'favorite', 'Woody', 'Allen', 'movies', 'make', 'me', 'leave', 'the', 'theater', 'a', 'little', 'bit', 'lighter', 'in', 'spirit', 'than', 'I', 'walked', 'in', '.', 'This', 'one', 'made', 'me', 'wish', 'I', 'could', 'get', 'my', 'money', 'back', '.']\n",
      "Sample label: neg \n",
      "\n",
      "Sample text: ['I', 'gave', 'this', 'movie', 'a', '2', ',', 'and', 'though', 'I', 'consider', 'myself', 'a', 'science', 'fiction', 'fan', ',', 'I', 'found', 'this', 'movie', 'very', 'difficult', 'to', 'take', 'seriously', '.', 'It', 'was', 'on', 'AMC', 'one', 'late', 'night', ',', 'and', \"I'm\", 'glad', 'I', 'saw', 'it', 'for', 'free', '.', 'This', 'movie', 'is', 'probably', 'good', 'for', 'a', 'few', 'laughs', ',', 'but', 'not', 'much', 'more.<br', '/><br', '/>The', 'special', 'effects', 'are', 'about', 'average', 'for', 'the', 'time', 'period', '-', 'not', 'awful', ',', 'but', 'not', 'great', ',', 'either', '.', 'Of', 'course', 'we', 'know', 'more', 'about', 'Mars', 'now', 'than', 'we', 'did', 'back', 'then', ',', 'but', 'we', 'really', \"can't\", 'hold', 'that', 'against', 'this', 'film', '.', 'The', 'main', 'reason', 'I', 'did', 'not', 'like', 'this', 'movie', 'is', 'because', 'of', 'the', 'story.<br', '/><br', '/>There', 'were', 'several', 'parts', 'of', 'this', 'movie', 'that', 'I', 'wish', 'would', 'have', 'been', 'explored', 'in', 'a', 'little', 'more', 'detail', '-', 'the', \"astronaut's\", 'injury/condition', ',', 'the', 'city', 'on', 'Mars', ',', 'the', 'creature', 'in', 'the', 'lake', ',', 'etc', '.', 'Overall', ',', 'the', 'movie', 'is', 'much', 'like', 'a', 'lengthy', 'episode', 'of', 'the', '1960s', 'version', 'of', 'The', 'Outer', 'Limits', '-', 'complete', 'with', 'a', 'cheesy', 'ending', '.']\n",
      "Sample label: neg \n",
      "\n",
      "Sample text: ['I', 'did', 'enjoy', 'this', 'film', ',', 'I', 'thought', 'it', 'ended', 'up', 'being', 'an', 'old', 'fashioned', 'love', 'story', 'with', 'a', 'few', 'twists', '.', 'I', 'expected', 'him', 'to', 'get', 'the', 'girl', ',', 'I', \"won't\", 'tell', 'you', 'if', 'he', 'does', 'or', 'not', 'you', 'will', 'need', 'to', 'watch', 'the', 'movie', 'to', 'find', 'out', '.', 'Overall', 'if', 'you', 'are', 'looking', 'to', 'watch', 'a', 'love', 'story', 'this', 'one', 'will', 'suffice', '.']\n",
      "Sample label: pos \n",
      "\n",
      "Sample text: ['This', 'apology', 'for', 'a', 'movie', 'is', 'about', 'absolutely', 'nothing', '!', 'Rachel', 'Griffiths', 'must', 'have', 'needed', 'the', 'money', '.', 'The', 'film', 'must', 'have', 'been', 'made', 'on', 'a', 'very', 'low', 'budget', ',', 'because', 'the', 'lighting', 'was', 'non', 'existent', '.', 'I', 'made', 'a', 'vow', 'if', 'I', 'ever', 'see', 'Pete', 'Postlesumthingor', 'other', \"I'll\", 'commit', 'suicide', '.', \"I'd\", 'be', 'happy', 'to', 'know', 'if', 'there', 'was', '1', ')', 'a', 'plot', 'or', '2)a', 'script', '.', 'My', 'biggest', 'regret', 'is', 'I', 'wasted', 'my', 'time', 'watching', 'this', 'rubbish', '.']\n",
      "Sample label: neg \n",
      "\n"
     ]
    }
   ],
   "source": [
    "### DO NOT EDIT ###\n",
    "\n",
    "import torchtext\n",
    "import random\n",
    "\n",
    "def preprocess(review):\n",
    "    '''\n",
    "    Simple preprocessing function.\n",
    "    '''\n",
    "    res = []\n",
    "    for x in review.split(' '):\n",
    "        remove_beg=True if x[0] in {'(', '\"', \"'\"} else False\n",
    "        remove_end=True if x[-1] in {'.', ',', ';', ':', '?', '!', '\"', \"'\", ')'} else False\n",
    "        if remove_beg and remove_end: res += [x[0], x[1:-1], x[-1]]\n",
    "        elif remove_beg: res += [x[0], x[1:]]\n",
    "        elif remove_end: res += [x[:-1], x[-1]]\n",
    "        else: res += [x]\n",
    "    return res\n",
    "\n",
    "if __name__=='__main__':\n",
    "    train_data = torchtext.datasets.IMDB(root='.data', split='train')\n",
    "    train_data = list(train_data)\n",
    "    train_data = [(x[0], preprocess(x[1])) for x in train_data]\n",
    "    train_data, test_data = train_data[0:10000] + train_data[12500:12500+10000], train_data[10000:12500] + train_data[12500+10000:], \n",
    "\n",
    "    print('Num. Train Examples:', len(train_data))\n",
    "    print('Num. Test Examples:', len(test_data))\n",
    "\n",
    "\n",
    "    # for i in range(len(train_data)):\n",
    "    for i in range(0,10,1):\n",
    "        print(f\"the label for the *i*th example: {train_data[i][0]} \")\n",
    "        print(f\"list of textual tokens for the *i*th example: {train_data[i][1]} \")\n",
    "\n",
    "\n",
    "    # *   To access the list of textual tokens for the *i*th example, use `train_data[i][1]`\n",
    "    # *   To access the label for the *i*th example, use `train_data[i][0]`\n",
    "\n",
    "\n",
    "    print(\"\\nSAMPLE DATA:\")\n",
    "    for x in random.sample(train_data, 5):\n",
    "        print('Sample text:', x[1])\n",
    "        print('Sample label:', x[0], '\\n')"
   ]
  },
  {
   "cell_type": "markdown",
   "metadata": {
    "id": "_kfg8RcyskyU"
   },
   "source": [
    "# Step 2: Create Dataloader [20 points]\n",
    "\n",
    "\n"
   ]
  },
  {
   "cell_type": "markdown",
   "metadata": {},
   "source": [
    "## <font color='red'>TODO:</font> Define the Dataset Class [20 Points]\n",
    "\n",
    "In the following cell, we will define the <b>dataset</b> class. The dataset contains the tokenized data for your model. You need to implement the following functions: \n",
    "\n",
    "*   <b>` build_dictionary(self)`:</b>  <b>[10 points]</b> Creates the dictionaries `idx2word` and `word2idx`. You will represent each word in the dataset with a unique index, and keep track of this in these dictionaries. Use the hyperparameter `threshold` to control which words appear in the dictionary: a training word’s frequency should be `>= threshold` to be included in the dictionary.\n",
    "\n",
    "* <b>`convert_text(self)`:</b> Converts each review in the dataset to a list of indices, given by your `word2idx` dictionary. You should store this in the `textual_ids` variable, and the function does not return anything. If a word is not present in the  `word2idx` dictionary, you should use the `<UNK>` token for that word. Be sure to append the `<END>` token to the end of each review.\n",
    "\n",
    "*   <b>` get_text(self, idx) `:</b> Return the review at `idx` in the dataset as an array of indices corresponding to the words in the review. If the length of the review is less than `max_len`, you should pad the review with the `<PAD>` character up to the length of `max_len`. If the length is greater than `max_len`, then it should only return the first `max_len` words. The return type should be `torch.LongTensor`.\n",
    "\n",
    "*   <b>`get_label(self, idx) `</b>: Return the value `1` if the label for `idx` in the dataset is `positive`, and should return `0` if it is `negative`. The return type should be `torch.LongTensor`.\n",
    "\n",
    "*  <b> ` __len__(self) `:</b> Return the total number of reviews in the dataset as an `int`.\n",
    "\n",
    "*   <b>` __getitem__(self, idx)`:</b> <b>[10 points]</b> Return the (padded) text, and the label. The return type for both these items should be `torch.LongTensor`. You should use the ` get_label(self, idx) ` and ` get_text(self, idx) ` functions here.\n",
    "\n",
    "\n",
    "<b>Note:</b> You should convert all words to lower case in your functions.\n",
    "\n",
    "<font color='green'><b>Hint:</b> Make sure that you use instance variables such as `self.threshold` throughout your code, rather than the global variable `THRESHOLD` (defined later on). The variable `THRESHOLD` will not be known to the autograder, and the use of it within the class will cause an autograder error.</font>"
   ]
  },
  {
   "cell_type": "code",
   "execution_count": 5,
   "metadata": {
    "id": "1irMn3LX2YDB"
   },
   "outputs": [],
   "source": [
    "PAD = '<PAD>'\n",
    "END = '<END>'\n",
    "UNK = '<UNK>'\n",
    "\n",
    "from torch.utils import data\n",
    "from collections import defaultdict\n",
    "\n",
    "class TextDataset(data.Dataset):\n",
    "    def __init__(self, examples, split, threshold, max_len, idx2word=None, word2idx=None):\n",
    "        ### DO NOT EDIT ###\n",
    "        \n",
    "        self.examples = examples\n",
    "        assert split in {'train', 'val', 'test'}\n",
    "        self.split = split\n",
    "        self.threshold = threshold\n",
    "        self.max_len = max_len\n",
    "\n",
    "        #custom\n",
    "        self.map_token_to_unigram_frequency = {}\n",
    "\n",
    "        # Dictionaries\n",
    "        self.idx2word = idx2word\n",
    "        self.word2idx = word2idx\n",
    "        if split == 'train':\n",
    "            self.build_dictionary()\n",
    "        self.vocab_size = len(self.word2idx)\n",
    "        \n",
    "        # Convert text to indices\n",
    "        self.textual_ids = []\n",
    "        self.convert_text()\n",
    "\n",
    "    \n",
    "    def build_dictionary(self): \n",
    "        '''\n",
    "        Build the dictionaries idx2word and word2idx. This is only called when split='train', as these\n",
    "        dictionaries are passed in to the __init__(...) function otherwise. Be sure to use self.threshold\n",
    "        to control which words are assigned indices in the dictionaries.\n",
    "        Returns nothing.\n",
    "        '''\n",
    "        assert self.split == 'train'\n",
    "        \n",
    "        # Don't change this\n",
    "        self.idx2word = {0:PAD, 1:END, 2: UNK}\n",
    "        self.word2idx = {PAD:0, END:1, UNK: 2}\n",
    "\n",
    "        ##### TODO #####\n",
    "        # Count the frequencies of all words in the training data (self.examples)\n",
    "        # Assign idx (starting from 3) to all words having word_freq >= self.threshold\n",
    "        # Make sure you call word.lower() on each word to convert it to lowercase\n",
    "        # print(\" BUILDING DICT\")\n",
    "        # print(f\"training dataset is: {self.examples[0]}\")\n",
    "\n",
    "        # ('pos', ['Your', 'life', 'is', 'good', 'when', 'you', 'have', 'money', ',', 'success', 'and', 'health'])\n",
    "\n",
    "        for data in self.examples:           #iterate through preprocessed sentences\n",
    "            # print(f\"data: {data}\")\n",
    "            testset_label, preprocessed_sentence = data[0], data[1]\n",
    "            # print(f\"testset_label: {testset_label}, preprocessed_sentence:{preprocessed_sentence}\")\n",
    "            for token in preprocessed_sentence:             #iterate through each token\n",
    "                # print(f\"lowercase token is: {token}\")\n",
    "                token = token.lower()\n",
    "\n",
    "                if token not in self.map_token_to_unigram_frequency.keys():\n",
    "                    self.map_token_to_unigram_frequency[token] = 0          # add token as key if not present as a key in map_token_to_unigram_frequency\n",
    "                self.map_token_to_unigram_frequency[token] += 1             # increment the frequency of unigram\n",
    "\n",
    "\n",
    "        # print(f\"self.map_token_to_unigram_frequency: {self.map_token_to_unigram_frequency}\")\n",
    "        index = 3\n",
    "        for token, freq in self.map_token_to_unigram_frequency.items():\n",
    "            if freq >= self.threshold:\n",
    "                self.idx2word[index] = token\n",
    "                self.word2idx[token] = index\n",
    "                index += 1\n",
    "        #\n",
    "        # print(f\"self.idx2word: {self.idx2word}\")\n",
    "        # print(f\"self.word2idx: {self.word2idx}\")\n",
    "\n",
    "        pass\n",
    "    \n",
    "    def convert_text(self):\n",
    "        '''\n",
    "        Convert each review in the dataset (self.examples) to a list of indices, given by self.word2idx.\n",
    "        Store this in self.textual_ids; returns nothing.\n",
    "        '''\n",
    "\n",
    "        ##### TODO #####\n",
    "        # Remember to replace a word with the <UNK> token if it does not exist in the word2idx dictionary.\n",
    "        # Remember to append the <END> token to the end of each review.\n",
    "        for data in self.examples:           #iterate through preprocessed sentences\n",
    "            # print(f\"data: {data}\")\n",
    "            testset_label, preprocessed_sentence = data[0], data[1]\n",
    "            converted_preprocessed_sentence = []\n",
    "            # print(f\"testset_label: {testset_label}, preprocessed_sentence:{preprocessed_sentence}\")\n",
    "            for token_index in range(len(preprocessed_sentence)):             #iterate through each token\n",
    "                token = preprocessed_sentence[token_index]\n",
    "                # print(f\"IN CONVERT TEXT: token: {token}\")\n",
    "                token = token.lower()\n",
    "                # print(f\"lowercase token is: {token}\")\n",
    "                if token not in self.word2idx.keys():\n",
    "                    # preprocessed_sentence[token_index] = self.word2idx[UNK]\n",
    "                    converted_preprocessed_sentence.append(self.word2idx[UNK])\n",
    "                if token in self.word2idx.keys():\n",
    "                    # preprocessed_sentence[token_index] = self.word2idx[token]\n",
    "                    converted_preprocessed_sentence.append(self.word2idx[token])\n",
    "\n",
    "            converted_preprocessed_sentence.append(self.word2idx[END])\n",
    "\n",
    "            # print(f\"testset_label: {testset_label}, converted preprocessed_sentence:{converted_preprocessed_sentence}\")\n",
    "            self.textual_ids.append([testset_label,converted_preprocessed_sentence])\n",
    "            # print(f\"self.textual_ids is: {self.textual_ids}\")\n",
    "\n",
    "        pass\n",
    "\n",
    "    def get_text(self, idx):\n",
    "        '''\n",
    "        Return the review at idx as a long tensor (torch.LongTensor) of integers corresponding to the words in the review.\n",
    "        You may need to pad as necessary (see above).\n",
    "\n",
    "        <b>` get_text(self, idx) `:</b> Return the review at `idx` in the dataset as an array of indices corresponding to the words in the review. If the length of the review is less than `max_len`, you should pad the review with the `<PAD>` character up to the length of `max_len`. If the length is greater than `max_len`, then it should only return the first `max_len` words. The return type should be `torch.LongTensor`.\n",
    "        '''\n",
    "\n",
    "        ##### TODO #####\n",
    "        review = self.examples[idx]\n",
    "        indice_review = self.textual_ids[idx][1]\n",
    "        # print(f\"indice review is: {indice_review}\")\n",
    "\n",
    "        if len(indice_review) >= self.max_len:\n",
    "            indice_review_long_tensor = torch.Tensor(indice_review[0:self.max_len])\n",
    "        elif len(indice_review) < self.max_len:\n",
    "            padding = [self.word2idx[PAD]] * (self.max_len - len(indice_review))\n",
    "            padded_version = indice_review + padding\n",
    "            # print(f\"padding list is: {padding} and padded version: {padded_version}\")\n",
    "            indice_review_long_tensor = torch.LongTensor(padded_version)\n",
    "            # indice_review_long_tensor = torch.Tensor(padded_version)\n",
    "\n",
    "\n",
    "        # print('Content of indice_review_long_tensor:', indice_review_long_tensor)\n",
    "        # print('Shape of indice_review_long_tensor:', indice_review_long_tensor.shape, '\\n')\n",
    "        # print('Type of indice_review_long_tensor:', indice_review_long_tensor.dtype, '\\n')\n",
    "\n",
    "\n",
    "\n",
    "        return (indice_review_long_tensor)\n",
    "    \n",
    "    def get_label(self, idx):\n",
    "        '''\n",
    "        This function should return the value 1 if the label for idx in the dataset is 'positive', \n",
    "        and 0 if it is 'negative'. The return type should be torch.LongTensor.\n",
    "        '''\n",
    "        ##### TODO #####\n",
    "        review_label = self.examples[idx][0]\n",
    "        # print(f\"review label: {review_label}\")\n",
    "\n",
    "        if review_label == 'pos':\n",
    "            return torch.squeeze(torch.LongTensor([1]))\n",
    "            # print('Shape of torch.squeeze(torch.Tensor(1)):', torch.squeeze(torch.Tensor(1)).shape, '\\n')\n",
    "            # return torch.squeeze(torch.Tensor([1]))\n",
    "\n",
    "        elif review_label == 'neg':\n",
    "            return torch.squeeze(torch.LongTensor([0]))\n",
    "            # print('Shape of torch.squeeze(torch.Tensor(0)):', torch.squeeze(torch.Tensor(0)).shape, '\\n')\n",
    "            # return torch.squeeze(torch.Tensor([0]))\n",
    "\n",
    "\n",
    "\n",
    "    def __len__(self):\n",
    "        '''\n",
    "        Return the number of reviews (int value) in the dataset\n",
    "        '''\n",
    "        ##### TODO #####\n",
    "        return int(len(self.examples))\n",
    "    \n",
    "    def __getitem__(self, idx):\n",
    "        '''\n",
    "        Return the review, and label of the review specified by idx.\n",
    "\n",
    "        *   <b>` __getitem__(self, idx)`:</b> <b>[10 points]</b> Return the (padded) text, and the label. The return type for both these items should be `torch.LongTensor`. You should use the ` get_label(self, idx) ` and ` get_text(self, idx) ` functions here.\n",
    "        '''\n",
    "        ##### TODO #####\n",
    "        # return self.examples[idx][1], self.examples[idx][0]\n",
    "        return self.get_text(idx), self.get_label(idx)"
   ]
  },
  {
   "cell_type": "markdown",
   "metadata": {
    "id": "HxVxiGGbFJAj"
   },
   "source": [
    "##Sanity Check: Dataset Class\n",
    "\n",
    "The code below runs a sanity check for your `Dataset` class. The tests are similar to the hidden ones in Gradescope. However, note that passing the sanity check does <b>not</b> guarantee that you will pass the autograder; it is intended to help you debug."
   ]
  },
  {
   "cell_type": "code",
   "execution_count": 6,
   "metadata": {
    "id": "bvHIZt8Z-RzK"
   },
   "outputs": [
    {
     "name": "stdout",
     "output_type": "stream",
     "text": [
      "Sample dataset:\n",
      "('pos', ['Your', 'life', 'is', 'good', 'when', 'you', 'have', 'money', ',', 'success', 'and', 'health'])\n",
      "('neg', ['Life', 'is', 'bad', 'when', 'you', 'got', 'not', 'a', 'lot'])\n",
      "\n",
      "--- TEST: idx2word and word2idx dictionaries ---\n",
      "\tthreshold: 1 \tmax_len: 3 \tPASSED \t\n",
      "\tthreshold: 2 \tmax_len: 3 \tPASSED \t\n",
      "\tthreshold: 3 \tmax_len: 3 \tPASSED \t\n",
      "\n",
      "--- TEST: len(dataset) ---\n",
      "\tPASSED\n",
      "\n",
      "--- TEST: __getitem__(self, idx) ---\n",
      "\tthreshold: 1 \tmax_len: 3 \tidx: 0 \tPASSED \t\n",
      "\tthreshold: 1 \tmax_len: 3 \tidx: 1 \tPASSED \t\n",
      "\tthreshold: 1 \tmax_len: 8 \tidx: 0 \tPASSED \t\n",
      "\tthreshold: 1 \tmax_len: 8 \tidx: 1 \tPASSED \t\n",
      "\tthreshold: 1 \tmax_len: 15 \tidx: 0 \tPASSED \t\n",
      "\tthreshold: 1 \tmax_len: 15 \tidx: 1 \tPASSED \t\n",
      "\tthreshold: 2 \tmax_len: 3 \tidx: 0 \tPASSED \t\n",
      "\tthreshold: 2 \tmax_len: 3 \tidx: 1 \tPASSED \t\n",
      "\tthreshold: 2 \tmax_len: 8 \tidx: 0 \tPASSED \t\n",
      "\tthreshold: 2 \tmax_len: 8 \tidx: 1 \tPASSED \t\n",
      "\tthreshold: 2 \tmax_len: 15 \tidx: 0 \tPASSED \t\n",
      "\tthreshold: 2 \tmax_len: 15 \tidx: 1 \tPASSED \t\n",
      "\tthreshold: 3 \tmax_len: 3 \tidx: 0 \tPASSED \t\n",
      "\tthreshold: 3 \tmax_len: 3 \tidx: 1 \tPASSED \t\n",
      "\tthreshold: 3 \tmax_len: 8 \tidx: 0 \tPASSED \t\n",
      "\tthreshold: 3 \tmax_len: 8 \tidx: 1 \tPASSED \t\n",
      "\tthreshold: 3 \tmax_len: 15 \tidx: 0 \tPASSED \t\n",
      "\tthreshold: 3 \tmax_len: 15 \tidx: 1 \tPASSED \t\n"
     ]
    }
   ],
   "source": [
    "### DO NOT EDIT ###\n",
    "\n",
    "def sanityCheckDataSet():\n",
    "    #\tRead in the sample corpus\n",
    "    reviews = [('pos', 'Your life is good when you have money, success and health'),\n",
    "               ('neg', 'Life is bad when you got not a lot')]\n",
    "    data = [(x[0], preprocess(x[1])) for x in reviews]\n",
    "    print(\"Sample dataset:\")\n",
    "    for x in data: print(x)\n",
    "\n",
    "    thresholds = [1,2,3]\n",
    "    print('\\n--- TEST: idx2word and word2idx dictionaries ---') # max_len does not matter for this test\n",
    "    correct = [[',', '<END>', '<PAD>', '<UNK>', 'a', 'and', 'bad', 'good', 'got', 'have', 'health', 'is', 'life', 'lot', 'money', 'not', 'success', 'when', 'you', 'your'], ['<END>', '<PAD>', '<UNK>', 'is', 'life', 'when', 'you'], ['<END>', '<PAD>', '<UNK>']]\n",
    "    for i in range(len(thresholds)):\n",
    "        dataset = TextDataset(data, 'train', threshold=thresholds[i], max_len=3)\n",
    "\n",
    "        has_passed, message = True, ''\n",
    "        if has_passed and (dataset.vocab_size != len(dataset.word2idx) or dataset.vocab_size != len(dataset.idx2word)):\n",
    "            has_passed, message = False, 'dataset.vocab_size (' + str(dataset.vocab_size) + ') must be the same length as dataset.word2idx (' + str(len(dataset.word2idx)) + ') and dataset.idx2word ('+str(len(dataset.idx2word)) +').'\n",
    "        if has_passed and (dataset.vocab_size != len(correct[i])):\n",
    "            has_passed, message = False, 'Your vocab size is incorrect. Expected: ' + str(len(correct[i])) + '\\tGot: ' + str(dataset.vocab_size)\n",
    "        if has_passed and sorted(list(dataset.idx2word.keys())) != list(range(0, dataset.vocab_size)):\n",
    "            has_passed, message = False, 'dataset.idx2word must have keys ranging from 0 to dataset.vocab_size-1. Keys in your dataset.idx2word: ' + str(sorted(list(dataset.idx2word.keys())))\n",
    "        if has_passed and sorted(list(dataset.word2idx.keys())) != correct[i]:\n",
    "            has_passed, message = False, 'Your dataset.word2idx has incorrect keys. Expected: ' + str(correct[i]) + '\\tGot: ' + str(sorted(list(dataset.word2idx.keys())))\n",
    "        if has_passed: # Check that word2idx and idx2word are consistent\n",
    "            widx = sorted(list(dataset.word2idx.items())) \n",
    "            idxw = sorted(list([(v,k) for k,v in dataset.idx2word.items()]))\n",
    "            if not (len(widx) == len(idxw) and all([widx[q] == idxw[q] for q in range(len(widx))])):\n",
    "                has_passed, message = False, 'Your dataset.word2idx and dataset.idx2word are not consistent. dataset.idx2word: ' + str(dataset.idx2word) + '\\tdataset.word2idx: ' + str(dataset.word2idx)\n",
    "\n",
    "        status = 'PASSED' if has_passed else 'FAILED'\n",
    "        print('\\tthreshold:', thresholds[i], '\\tmax_len:', 3, '\\t'+status, '\\t'+message)\n",
    "    \n",
    "    print('\\n--- TEST: len(dataset) ---')\n",
    "    has_passed = len(dataset) == 2\n",
    "    if has_passed: print('\\tPASSED')\n",
    "    else: print('\\tlen(dataset) is incorrect. Expected: 2\\tGot: ' + str(len(dataset)))\n",
    "\n",
    "    print('\\n--- TEST: __getitem__(self, idx) ---')\n",
    "    max_lens = [3,8,15]\n",
    "    idxes = [0,1]\n",
    "    combos = [{'threshold': t, 'max_len': m, 'idx': idx} for t in thresholds for m in max_lens for idx in idxes]\n",
    "    correct = [(torch.tensor([3, 4, 5]), torch.tensor(1)), (torch.tensor([ 4,  5, 15]), torch.tensor(0)), (torch.tensor([ 3,  4,  5,  6,  7,  8,  9, 10]), torch.tensor(1)), (torch.tensor([ 4,  5, 15,  7,  8, 16, 17, 18]), torch.tensor(0)), (torch.tensor([ 3,  4,  5,  6,  7,  8,  9, 10, 11, 12, 13, 14,  1,  0,  0]), torch.tensor(1)), (torch.tensor([ 4,  5, 15,  7,  8, 16, 17, 18, 19,  1,  0,  0,  0,  0,  0]), torch.tensor(0)), (torch.tensor([2, 3, 4]), torch.tensor(1)), (torch.tensor([3, 4, 2]), torch.tensor(0)), (torch.tensor([2, 3, 4, 2, 5, 6, 2, 2]), torch.tensor(1)), (torch.tensor([3, 4, 2, 5, 6, 2, 2, 2]), torch.tensor(0)), (torch.tensor([2, 3, 4, 2, 5, 6, 2, 2, 2, 2, 2, 2, 1, 0, 0]), torch.tensor(1)), (torch.tensor([3, 4, 2, 5, 6, 2, 2, 2, 2, 1, 0, 0, 0, 0, 0]), torch.tensor(0)), (torch.tensor([2, 2, 2]), torch.tensor(1)), (torch.tensor([2, 2, 2]), torch.tensor(0)), (torch.tensor([2, 2, 2, 2, 2, 2, 2, 2]), torch.tensor(1)), (torch.tensor([2, 2, 2, 2, 2, 2, 2, 2]), torch.tensor(0)), (torch.tensor([2, 2, 2, 2, 2, 2, 2, 2, 2, 2, 2, 2, 1, 0, 0]), torch.tensor(1)), (torch.tensor([2, 2, 2, 2, 2, 2, 2, 2, 2, 1, 0, 0, 0, 0, 0]), torch.tensor(0))]\n",
    "    for i in range(len(combos)):\n",
    "        combo = combos[i]\n",
    "        dataset = TextDataset(data, 'train', threshold=combo['threshold'], max_len=combo['max_len'])\n",
    "        returned = dataset.__getitem__(combo['idx'])\n",
    "\n",
    "        has_passed, message = True, ''\n",
    "        if has_passed and len(returned) != 2:\n",
    "            has_passed, message = False, 'dataset.__getitem__(idx) must return 2 things. Got ' + str(len(returned)) +' things instead.'\n",
    "        if has_passed and (type(returned[0]) != torch.Tensor or type(returned[1]) != torch.Tensor):\n",
    "            has_passed, message = False, 'Both returns must be of type torch.Tensor. Got: (' + str(type(returned[0])) + ', ' + str(type(returned[1])) + ')'\n",
    "        if has_passed and (returned[0].shape != correct[i][0].shape):\n",
    "            has_passed, message = False, 'Shape of first return is incorrect. Expected: ' + str(correct[i][0].shape) + '.\\tGot: ' + str(returned[0].shape)\n",
    "        if has_passed and (returned[1].shape != correct[i][1].shape):\n",
    "            has_passed, message = False, 'Shape of second return is incorrect. Expected: ' + str(correct[i][1].shape) + '.\\tGot: ' + str(returned[1].shape) + '\\n\\t\\tHint: torch.Size([]) means that the tensor should be dimensionless (just a number). Try squeezing your result.'\n",
    "        if has_passed and (returned[1] != correct[i][1]):\n",
    "            has_passed, message = False, 'Label (second return) is incorrect. Expected: ' + str(correct[i][1]) + '.\\tGot: ' + str(returned[1])\n",
    "        if has_passed:\n",
    "            correct_padding_idxes, your_padding_idxes = torch.where(correct[i][0] == 0)[0], torch.where(returned[0] == dataset.word2idx[PAD])[0]\n",
    "            if not (correct_padding_idxes.shape == your_padding_idxes.shape and torch.all(correct_padding_idxes == your_padding_idxes)):\n",
    "                has_passed, message = False, 'Padding is not correct. Expected padding indxes: ' + str(correct_padding_idxes) + '.\\tYour padding indexes: ' + str(your_padding_idxes)\n",
    "\n",
    "        status = 'PASSED' if has_passed else 'FAILED'\n",
    "        print('\\tthreshold:', combo['threshold'], '\\tmax_len:', combo['max_len'] , '\\tidx:', combo['idx'], '\\t'+status, '\\t'+message)\n",
    "\n",
    "if __name__ == '__main__':\n",
    "    sanityCheckDataSet()"
   ]
  },
  {
   "cell_type": "markdown",
   "metadata": {
    "id": "CR4VQbQCNZH6"
   },
   "source": [
    "The following cell builds the dataset on the IMDb movie reviews and prints an example:"
   ]
  },
  {
   "cell_type": "code",
   "execution_count": 7,
   "metadata": {
    "id": "HSxpGXj6ml9N"
   },
   "outputs": [
    {
     "name": "stdout",
     "output_type": "stream",
     "text": [
      "Vocab size: 19002 \n",
      "\n",
      "Example text:\n",
      "['I', 'had', 'tried', 'to', 'rent', 'this', 'on', 'many', 'occasions', ',', 'but', 'was', 'always', 'with', 'the', 'girlfriend', ',', 'who', ',', 'as', 'a', 'general', 'rule', ',', 'usually', 'rejects', 'heist', 'flicks', 'and', 'ensemble', 'comedies', 'with', 'the', 'comment', '\"', 'Uhm..', '.', 'looks', 'good', ',', 'but', \"i'm\", 'not', 'in', 'the', 'mood', 'for', 'that', 'movie.', '\"', 'Thus', 'entereth', 'the', '\"', 'Almighty', 'Solo', 'Movie', 'Night\"!<br', '/><br', '/>Anyway', ',', 'I', 'found', 'Welcome', 'To', 'Collinwood', 'a', 'rather', 'enjoyable', 'movie', '.', 'While', 'ultimately', 'fairly', 'forgettable', ',', 'it', 'does', 'have', 'moments', 'of', 'fun', 'and', 'a', 'few', 'laugh', 'out', 'loud', 'moments', '.', 'I', 'was', 'unfamiliar', 'with', 'the', 'fact', 'that', 'it', 'was', 'a', 'remake', ',', 'and', 'as', 'a', 'general', 'rule', 'watch', 'movies', 'trying', 'to', 'ignore', 'that', 'fact', 'and', 'watch', 'them', 'on', 'their', 'own', 'merits', 'anyway', '.', 'George', 'Clooney', 'puts', 'in', 'a', 'humorous', 'and', 'brief', 'cameo', 'as', 'a', 'wheeled', 'safe', 'cracker', 'that', ',', 'for', 'the', 'most', 'part', 'left', 'me', 'wondering', 'two', 'things..', '.', '1', '.', \"wouldn't\", 'every', 'comedy', 'be', 'better', 'if', 'Mr', '.', 'Clooney', 'put', 'in', 'a', 'strange', '5', 'minute', 'cameo', '?', 'and', '2', '.', 'How', 'do', 'they', 'make', 'fake', 'tattoos', 'that', 'look', 'old', 'and', 'faded', ',', 'and', 'how', 'easily', 'do', 'they', 'wash', 'off', '?', 'The', 'cast', ',', 'all', 'fine', 'actors', 'in', 'their', 'own', 'right', ',', 'put', 'in', 'a', 'great', 'job', ',', 'and', 'you', 'get', 'the', 'impression', 'that', 'they', 'had', 'a', 'good', 'time', 'working', 'together', 'which', 'is', 'fairly', 'important', 'in', 'a', 'movie', 'like', 'this', '.', 'Needless', 'to', 'say', 'all', 'does', 'not', 'go', 'as', 'planned', 'in', 'this', 'movie', ',', 'both', 'plot-wise', 'and', 'humor-wise', ',', 'but', 'it', 'made', 'me', 'check', 'out', 'the', 'special', 'features', 'and', 'consider', 'watching', 'the', 'original', ',', 'so', 'I', 'consider', 'it', 'a', 'success', '!', 'Rent', 'this', 'one', 'for', 'a', 'good', 'time', ',', 'maybe', 'grab', 'a', 'few', 'friends', 'and', 'a', 'pizza', '.', \"you'll\", 'have', 'a', 'good', 'time.<br', '/><br', '/>***7/10***<br', '/><br', '/>On', 'a', 'side', 'note', ',', 'the', 'soundtrack', 'is', 'spectacular', '.', \"It's\", 'great', 'to', 'hear', 'the', 'far', 'under', 'appreciated', 'Paolo', 'Conte', 'used', ',', 'and', 'it', 'left', 'me', 'humming', 'snippets', 'of', 'the', 'score', 'long', 'after', 'the', 'credits', 'rolled', '.']\n",
      "tensor([3.0900e+02, 6.4100e+02, 1.8870e+03, 5.2000e+01, 1.3010e+03, 5.9000e+01,\n",
      "        2.0000e+02, 1.7500e+02, 6.3730e+03, 1.2000e+01, 8.6000e+01, 3.8600e+02,\n",
      "        1.0900e+03, 8.0000e+00, 9.0000e+00, 4.3360e+03, 1.2000e+01, 3.1000e+01,\n",
      "        1.2000e+01, 6.6000e+01, 3.5000e+01, 2.2290e+03, 9.0620e+03, 1.2000e+01,\n",
      "        2.8320e+03, 1.1641e+04, 1.0702e+04, 3.4500e+03, 4.1000e+01, 2.6390e+03,\n",
      "        3.1670e+03, 8.0000e+00, 9.0000e+00, 1.9610e+03, 7.6000e+01, 2.0000e+00,\n",
      "        2.1000e+01, 9.6900e+02, 5.7900e+02, 1.2000e+01, 8.6000e+01, 3.1700e+02,\n",
      "        1.8900e+02, 6.0000e+00, 9.0000e+00, 6.5350e+03, 1.0600e+02, 5.4000e+01,\n",
      "        1.0154e+04, 7.6000e+01, 3.6750e+03, 2.0000e+00, 9.0000e+00, 7.6000e+01,\n",
      "        1.1054e+04, 2.3010e+03, 7.5000e+01, 2.0000e+00, 4.8000e+01, 2.0740e+03,\n",
      "        1.2000e+01, 3.0900e+02, 4.6600e+02, 2.5330e+03, 5.2000e+01, 1.8235e+04,\n",
      "        3.5000e+01, 3.4400e+02, 2.0140e+03, 7.5000e+01, 2.1000e+01, 1.6600e+02,\n",
      "        3.5110e+03, 3.8440e+03, 1.4446e+04, 1.2000e+01, 6.4000e+01, 6.3500e+02,\n",
      "        5.1000e+01, 6.8100e+02, 1.8000e+01, 1.6650e+03, 4.1000e+01, 3.5000e+01,\n",
      "        1.6250e+03, 1.6010e+03, 1.6000e+02, 5.9860e+03, 6.8100e+02, 2.1000e+01,\n",
      "        3.0900e+02, 3.8600e+02, 7.2830e+03, 8.0000e+00, 9.0000e+00, 2.1700e+02,\n",
      "        5.4000e+01, 6.4000e+01, 3.8600e+02, 3.5000e+01, 2.1520e+03, 1.2000e+01,\n",
      "        4.1000e+01, 6.6000e+01, 3.5000e+01, 2.2290e+03, 9.0620e+03, 4.9100e+02,\n",
      "        8.2700e+02, 1.5900e+02, 5.2000e+01, 2.7190e+03, 5.4000e+01, 2.1700e+02,\n",
      "        4.1000e+01, 4.9100e+02, 1.6400e+02, 2.0000e+02, 1.8700e+02, 2.4500e+02,\n",
      "        6.9870e+03, 2.7000e+03, 2.1000e+01, 4.6130e+03, 1.4812e+04, 3.2210e+03,\n",
      "        6.0000e+00, 3.5000e+01, 3.6200e+03, 4.1000e+01, 2.4130e+03, 5.0900e+03,\n",
      "        6.6000e+01, 3.5000e+01, 2.0000e+00, 9.0020e+03, 1.6739e+04, 5.4000e+01,\n",
      "        1.2000e+01, 1.0600e+02, 9.0000e+00, 8.9000e+01, 4.1700e+02, 6.0500e+02,\n",
      "        3.1500e+02, 2.8610e+03, 5.0400e+02, 2.0000e+00, 2.1000e+01, 2.0220e+03])\n",
      "\n",
      "Example label:\n",
      "pos\n",
      "tensor(1)\n"
     ]
    }
   ],
   "source": [
    "### DO NOT EDIT ###\n",
    "\n",
    "if __name__=='__main__':\n",
    "    train_dataset = TextDataset(train_data, 'train', threshold=10, max_len=150)\n",
    "    print('Vocab size:', train_dataset.vocab_size, '\\n')\n",
    "\n",
    "    randidx = random.randint(0, len(train_dataset)-1)\n",
    "    text, label = train_dataset[randidx]\n",
    "    print('Example text:')\n",
    "    print(train_data[randidx][1])\n",
    "    print(text)\n",
    "    print('\\nExample label:')\n",
    "    print(train_data[randidx][0])\n",
    "    print(label)"
   ]
  },
  {
   "cell_type": "markdown",
   "metadata": {
    "id": "e_4FFhulaAod"
   },
   "source": [
    "# Step 3: Train a Convolutional Neural Network (CNN) [40 points]"
   ]
  },
  {
   "cell_type": "markdown",
   "metadata": {
    "id": "VcSKydlClwOC"
   },
   "source": [
    "## <font color='red'>TODO:</font> Define the CNN Model [20 points]\n",
    "Here you will define your convolutional neural network for text classification. We provide you with the CNN class, you need to fill in parts of the `__init__(...)` and `forward(...)` functions. Each of these functions is worth 10 points.\n",
    "\n",
    "We have provided you with instructions and hints in the comments. In particular, pay attention to the desired shapes; you may find it helpful to print the shape of the tensors as you code. It may also help to keep PyTorch documentation open for the modules & functions you are using, since they describe input and output dimensions."
   ]
  },
  {
   "cell_type": "code",
   "execution_count": 8,
   "metadata": {
    "id": "0ztuy2hUaAof"
   },
   "outputs": [],
   "source": [
    "import torch\n",
    "import torch.nn as nn\n",
    "import torch.nn.functional as F\n",
    "\n",
    "class CNN(nn.Module):\n",
    "    def __init__(self, vocab_size, embed_size, out_channels, filter_heights, stride, dropout, num_classes, pad_idx):\n",
    "        super(CNN, self).__init__()\n",
    "        \n",
    "        ##### TODO #####\n",
    "        # Create an embedding layer (https://pytorch.org/docs/stable/generated/torch.nn.Embedding.html)\n",
    "        #   to represent the words in your vocabulary. Make sure to use vocab_size, embed_size, and pad_idx here.\n",
    "        # print(f\" vocab size is: {vocab_size}, embed size is: {embed_size}, filter heights: {filter_heights}\")\n",
    "        # number of embeddings = vocab size??\n",
    "        # embedding size = embed size? = max len??\n",
    "        self.embedding = nn.Embedding(vocab_size, embed_size, padding_idx=pad_idx)\n",
    "        # self.embedding = nn.Embedding(vocab_size, embed_size)\n",
    "        #self.embedding is learnable\n",
    "\n",
    "        # print(f\"weights of embedding: {self.embedding.weight}\")\n",
    "\n",
    "\n",
    "        # Define multiple Convolution layers (nn.Conv2d) with filter (kernel) size [filter_height, embed_size] based on your \n",
    "        #   different filter_heights.\n",
    "        # Input channels will be 1 and output channels will be out_channels (these many different filters will be trained\n",
    "        #   for each convolution layer)\n",
    "\n",
    "\n",
    "        # If you want, you can store a list of modules inside nn.ModuleList.\n",
    "        self.conv_module_list = nn.ModuleList([nn.Conv2d(in_channels=1, out_channels=out_channels, kernel_size=(filter_height, embed_size), stride=stride) for filter_height in filter_heights])\n",
    "        # print(f\"conv module list is: {self.conv_module_list}\")\n",
    "\n",
    "        self.conv_model_outputs = {}\n",
    "\n",
    "        # conv module list is: ModuleList(\n",
    "        #                                   (0): Conv2d(1, 32, kernel_size=(3, 32), stride=(1, 1))\n",
    "        #                                   (1): Conv2d(1, 32, kernel_size=(4, 32), stride=(1, 1))\n",
    "        #                                   (2): Conv2d(1, 32, kernel_size=(5, 32), stride=(1, 1))\n",
    "        #                                 )\n",
    "\n",
    "        # self.maxpool = nn.MaxPool1d(2)\n",
    "\n",
    "        # Note: even though your conv layers are nn.Conv2d, we are doing a 1d convolution since we are only moving the filter \n",
    "        #   in one direction\n",
    "\n",
    "        # Create a dropout layer (nn.Dropout) using dropout\n",
    "        self.dropout_layer = nn.Dropout(dropout)\n",
    "\n",
    "        # Define a linear layer (nn.Linear) that consists of num_classes units\n",
    "        #   and takes as input the $concatenated output$ for all cnn layers (out_channels * num_of_cnn_layers units) ???\n",
    "        # print(f\"out_channels * len(filter_heights), :{out_channels * len(filter_heights)}\")\n",
    "        self.dense_layer = nn.Linear(out_channels * len(filter_heights), num_classes)\n",
    "        # another dense layer\n",
    "        # self.d2 = nn.Linear(128, 10)\n",
    "\n",
    "\n",
    "    def forward(self, texts):\n",
    "        \"\"\"\n",
    "        texts: LongTensor [batch_size, max_len]\n",
    "        \n",
    "        Returns output: Tensor [batch_size, num_classes]\n",
    "\n",
    "        # Pass these texts to each of your conv layers and compute their output as follows:\n",
    "        #   Your cnn output will have shape [batch_size, out_channels, *, 1] where * depends on filter_height and stride\n",
    "        #   Convert to shape [batch_size, out_channels, *] (see torch's squeeze() function)\n",
    "        #   Apply non-linearity on it (F.relu() is a commonly used one. Feel free to try others)\n",
    "        #   Take the max value across last dimension to have shape [batch_size, out_channels]\n",
    "        # Concatenate (torch.cat) outputs from all your cnns [batch_size, (out_channels*num_of_cnn_layers)]\n",
    "        #\n",
    "        \"\"\"\n",
    "        ##### TODO #####\n",
    "\n",
    "        # print('Content of texts:', texts)\n",
    "        # print('Shape of texts:', texts.shape, '\\n')\n",
    "        # print('Type of texts:', texts.dtype, '\\n')\n",
    "\n",
    "        texts = texts.type(torch.int64)\n",
    "        final_embedding = self.embedding(texts)\n",
    "\n",
    "        # print('Content of embedding:', final_embedding)\n",
    "        # print('Shape of embedding:', final_embedding.shape, '\\n')\n",
    "        # print('Type of embedding:', final_embedding.dtype, '\\n')\n",
    "        # Resulting: shape: [batch_size, max_len, embed_size]\n",
    "        # Shape of embedding: torch.Size([1, 150, 16])\n",
    "\n",
    "\n",
    "        # Input to conv should have 1 channel. Take a look at torch's unsqueeze() function\n",
    "        #   Resulting shape: [batch_size, 1, MAX_LEN, embed_size]\n",
    "        y = torch.unsqueeze(final_embedding, 1)\n",
    "        # print('Shape of unsqueeze:', y.shape, '\\n')  #CORRECT\n",
    "\n",
    "        # Pass these texts to each of your conv layers and compute their output as follows:\n",
    "        #   Your cnn output will have shape [batch_size, out_channels, *, 1] where * depends on filter_height and stride\n",
    "        #   Convert to shape [batch_size, out_channels, *] (see torch's squeeze() function)\n",
    "        #   Apply non-linearity on it (F.relu() is a commonly used\n",
    "        #   one. Feel free to try others)\n",
    "\n",
    "        list_to_be_concatenated = []\n",
    "\n",
    "        for i, conv_model in enumerate(self.conv_module_list):\n",
    "\n",
    "            # Shape of x: torch.Size([1, 32, 148, 1])   #148 = * = depends on filter_height and stride\n",
    "            # Shape of x1_squeezed: torch.Size([1, 32, 148])\n",
    "            # Shape of x1_squeezed_relu: torch.Size([1, 32, 148])\n",
    "\n",
    "            # print(f\"i: {i}, conv_model: {conv_model}\")\n",
    "            x = conv_model(y)\n",
    "            # print('Shape of x:', x.shape, '\\n')  #\n",
    "\n",
    "            x1_squeezed = torch.squeeze(x, dim=3)\n",
    "            # print('Shape of x1_squeezed:', x1_squeezed.shape, '\\n')\n",
    "\n",
    "            x1_squeezed_relu = F.relu(x1_squeezed) #??? #TODO: apply non linearity here??\n",
    "            # print('Shape of x1_squeezed_relu:', x1_squeezed_relu.shape, '\\n')\n",
    "\n",
    "            #   Take the max value across last dimension to have shape [batch_size, out_channels] ??? #TODO: how and why?\n",
    "            # torch.nn.functional.max_pool1d(input, kernel_size, stride=None, padding=0, dilation=1, ceil_mode=False, return_indices=False)\n",
    "            maxpool_values, maxpool_indices = F.max_pool1d(x1_squeezed_relu, x1_squeezed_relu.shape[2], return_indices=True)\n",
    "            # print(f\"maxpool_values is: {maxpool_values}\")\n",
    "            # print(f\"maxpool_values.shape: {maxpool_values.shape}\")\n",
    "\n",
    "            # print(f\"maxpool_indices is: {maxpool_indices}, maxpool_indices.shape: {maxpool_indices.shape}\")\n",
    "\n",
    "            maxpool_values_squeezed = torch.squeeze(maxpool_values, dim=2)\n",
    "            # print(f\" maxpool_values_squeezed is: {maxpool_values_squeezed}, maxpool_values_squeezed.shape: {maxpool_values_squeezed.shape}\")\n",
    "            list_to_be_concatenated.append(maxpool_values_squeezed)\n",
    "\n",
    "        ##########\n",
    "        # i: 0, conv_model: Conv2d(1, 32, kernel_size=(3, 16), stride=(1, 1))\n",
    "        # i: 1, conv_model: Conv2d(1, 32, kernel_size=(4, 16), stride=(1, 1))\n",
    "        # i: 2, conv_model: Conv2d(1, 32, kernel_size=(5, 16), stride=(1, 1))\n",
    "        # shape of tensor: torch.Size([1, 32, 148])\n",
    "        # shape of tensor: torch.Size([1, 32, 147])\n",
    "        # shape of tensor: torch.Size([1, 32, 146])\n",
    "        ##########\n",
    "        #  Concatenate (torch.cat) outputs from all your cnns [batch_size, (out_channels*num_of_cnn_layers)]\n",
    "        list_to_be_concatenated_tensor = torch.cat([i for i in list_to_be_concatenated], dim=1)\n",
    "\n",
    "        # print(f\"list_to_be_concatenated_tensor is: {list_to_be_concatenated_tensor}, shape: {list_to_be_concatenated_tensor.shape}\")\n",
    "        # print(f\"list_to_be_concatenated_tensor: {list_to_be_concatenated_tensor.shape}\")\n",
    "\n",
    "        #  #print shapes\n",
    "        # for tensor in list_to_be_concatenated:\n",
    "        #     print(f\"shape of tensor: {tensor.shape}\")\n",
    "\n",
    "        #[batch_size, (out_channels*num_of_cnn_layers)]\n",
    "        # shape of tensor: torch.Size([20, 32])\n",
    "        # shape of tensor: torch.Size([20, 32])\n",
    "        # shape of tensor: torch.Size([20, 32])\n",
    "        # list_to_be_concatenated_tensor: torch.Size([20, 96])\n",
    "\n",
    "\n",
    "        # Let's understand what you just did:\n",
    "        #   Since each cnn is of different filter_height, it will look at different number of words at a time\n",
    "        #     So, a filter_height of 3 means your cnn looks at 3 words (3-grams) at a time and tries to extract some information from it\n",
    "        #   Each cnn will learn out_channels number of features from the words it sees at a time\n",
    "        #   Then you applied a non-linearity and took the max value for all channels\n",
    "        #     You are essentially trying to find important n-grams from the entire text\n",
    "        # Everything happens on a batch simultaneously hence you have that additional batch_size as the first dimension\n",
    "\n",
    "\n",
    "        # flattened_tensor = torch.flatten(list_to_be_concatenated_tensor)\n",
    "        # print(f\"flattened_tensor is: {flattened_tensor}, shape: {flattened_tensor.shape}\")\n",
    "\n",
    "        # Apply dropout\n",
    "        dropout = self.dropout_layer(list_to_be_concatenated_tensor)\n",
    "        # print(f\"dropout is: {dropout}, shape: {dropout.shape}\")\n",
    "\n",
    "        # Pass your output through the linear layer and return its output \n",
    "        #   Resulting shape: [batch_size, num_classes]\n",
    "        # x = self.dense_layer(self.relu(x))\n",
    "\n",
    "        linear = (self.dense_layer(dropout))\n",
    "        # print(f\"linear is: {linear}, shape: {linear.shape}\")\n",
    "\n",
    "        # linear = linear.type(torch.int64)\n",
    "\n",
    "        ##### NOTE: Do not apply a sigmoid or softmax to the final output - done in training method!\n",
    "\n",
    "\n",
    "        return linear\n",
    "        # return None"
   ]
  },
  {
   "cell_type": "markdown",
   "metadata": {
    "id": "_mVE_ujfnh0w"
   },
   "source": [
    "##Sanity Check: CNN Model\n",
    "\n",
    "The code below runs a sanity check for your `CNN` class. The tests are similar to the hidden ones in Gradescope. However, note that passing the sanity check does <b>not</b> guarantee that you will pass the autograder; it is intended to help you debug."
   ]
  },
  {
   "cell_type": "code",
   "execution_count": 9,
   "metadata": {
    "id": "yy9oF6qUUHvV"
   },
   "outputs": [
    {
     "name": "stdout",
     "output_type": "stream",
     "text": [
      "\tPASSED\tInput: {'vocab_size': 1000, 'embed_size': 16, 'out_channels': 32, 'filter_heights': [3, 4, 5], 'stride': 1, 'dropout': 0, 'num_classes': 2, 'pad_idx': 0}\tExpected Num. Params: 22434\tYour Num. Params: 22434\n",
      "\tPASSED\tInput: {'vocab_size': 1000, 'embed_size': 16, 'out_channels': 32, 'filter_heights': [3, 4, 5], 'stride': 1, 'dropout': 0, 'num_classes': 3, 'pad_idx': 0}\tExpected Num. Params: 22531\tYour Num. Params: 22531\n",
      "\tPASSED\tInput: {'vocab_size': 1000, 'embed_size': 16, 'out_channels': 32, 'filter_heights': [3, 4, 5], 'stride': 3, 'dropout': 0, 'num_classes': 2, 'pad_idx': 0}\tExpected Num. Params: 22434\tYour Num. Params: 22434\n",
      "\tPASSED\tInput: {'vocab_size': 1000, 'embed_size': 16, 'out_channels': 32, 'filter_heights': [3, 4, 5], 'stride': 3, 'dropout': 0, 'num_classes': 3, 'pad_idx': 0}\tExpected Num. Params: 22531\tYour Num. Params: 22531\n",
      "\tPASSED\tInput: {'vocab_size': 1000, 'embed_size': 16, 'out_channels': 32, 'filter_heights': [5, 10], 'stride': 1, 'dropout': 0, 'num_classes': 2, 'pad_idx': 0}\tExpected Num. Params: 23874\tYour Num. Params: 23874\n",
      "\tPASSED\tInput: {'vocab_size': 1000, 'embed_size': 16, 'out_channels': 32, 'filter_heights': [5, 10], 'stride': 1, 'dropout': 0, 'num_classes': 3, 'pad_idx': 0}\tExpected Num. Params: 23939\tYour Num. Params: 23939\n",
      "\tPASSED\tInput: {'vocab_size': 1000, 'embed_size': 16, 'out_channels': 32, 'filter_heights': [5, 10], 'stride': 3, 'dropout': 0, 'num_classes': 2, 'pad_idx': 0}\tExpected Num. Params: 23874\tYour Num. Params: 23874\n",
      "\tPASSED\tInput: {'vocab_size': 1000, 'embed_size': 16, 'out_channels': 32, 'filter_heights': [5, 10], 'stride': 3, 'dropout': 0, 'num_classes': 3, 'pad_idx': 0}\tExpected Num. Params: 23939\tYour Num. Params: 23939\n",
      "\tPASSED\tInput: {'vocab_size': 1000, 'embed_size': 16, 'out_channels': 128, 'filter_heights': [3, 4, 5], 'stride': 1, 'dropout': 0, 'num_classes': 2, 'pad_idx': 0}\tExpected Num. Params: 41730\tYour Num. Params: 41730\n",
      "\tPASSED\tInput: {'vocab_size': 1000, 'embed_size': 16, 'out_channels': 128, 'filter_heights': [3, 4, 5], 'stride': 1, 'dropout': 0, 'num_classes': 3, 'pad_idx': 0}\tExpected Num. Params: 42115\tYour Num. Params: 42115\n",
      "\tPASSED\tInput: {'vocab_size': 1000, 'embed_size': 16, 'out_channels': 128, 'filter_heights': [3, 4, 5], 'stride': 3, 'dropout': 0, 'num_classes': 2, 'pad_idx': 0}\tExpected Num. Params: 41730\tYour Num. Params: 41730\n",
      "\tPASSED\tInput: {'vocab_size': 1000, 'embed_size': 16, 'out_channels': 128, 'filter_heights': [3, 4, 5], 'stride': 3, 'dropout': 0, 'num_classes': 3, 'pad_idx': 0}\tExpected Num. Params: 42115\tYour Num. Params: 42115\n",
      "\tPASSED\tInput: {'vocab_size': 1000, 'embed_size': 16, 'out_channels': 128, 'filter_heights': [5, 10], 'stride': 1, 'dropout': 0, 'num_classes': 2, 'pad_idx': 0}\tExpected Num. Params: 47490\tYour Num. Params: 47490\n",
      "\tPASSED\tInput: {'vocab_size': 1000, 'embed_size': 16, 'out_channels': 128, 'filter_heights': [5, 10], 'stride': 1, 'dropout': 0, 'num_classes': 3, 'pad_idx': 0}\tExpected Num. Params: 47747\tYour Num. Params: 47747\n",
      "\tPASSED\tInput: {'vocab_size': 1000, 'embed_size': 16, 'out_channels': 128, 'filter_heights': [5, 10], 'stride': 3, 'dropout': 0, 'num_classes': 2, 'pad_idx': 0}\tExpected Num. Params: 47490\tYour Num. Params: 47490\n",
      "\tPASSED\tInput: {'vocab_size': 1000, 'embed_size': 16, 'out_channels': 128, 'filter_heights': [5, 10], 'stride': 3, 'dropout': 0, 'num_classes': 3, 'pad_idx': 0}\tExpected Num. Params: 47747\tYour Num. Params: 47747\n",
      "\tPASSED\tInput: {'vocab_size': 1000, 'embed_size': 32, 'out_channels': 32, 'filter_heights': [3, 4, 5], 'stride': 1, 'dropout': 0, 'num_classes': 2, 'pad_idx': 0}\tExpected Num. Params: 44578\tYour Num. Params: 44578\n",
      "\tPASSED\tInput: {'vocab_size': 1000, 'embed_size': 32, 'out_channels': 32, 'filter_heights': [3, 4, 5], 'stride': 1, 'dropout': 0, 'num_classes': 3, 'pad_idx': 0}\tExpected Num. Params: 44675\tYour Num. Params: 44675\n",
      "\tPASSED\tInput: {'vocab_size': 1000, 'embed_size': 32, 'out_channels': 32, 'filter_heights': [3, 4, 5], 'stride': 3, 'dropout': 0, 'num_classes': 2, 'pad_idx': 0}\tExpected Num. Params: 44578\tYour Num. Params: 44578\n",
      "\tPASSED\tInput: {'vocab_size': 1000, 'embed_size': 32, 'out_channels': 32, 'filter_heights': [3, 4, 5], 'stride': 3, 'dropout': 0, 'num_classes': 3, 'pad_idx': 0}\tExpected Num. Params: 44675\tYour Num. Params: 44675\n",
      "\tPASSED\tInput: {'vocab_size': 1000, 'embed_size': 32, 'out_channels': 32, 'filter_heights': [5, 10], 'stride': 1, 'dropout': 0, 'num_classes': 2, 'pad_idx': 0}\tExpected Num. Params: 47554\tYour Num. Params: 47554\n",
      "\tPASSED\tInput: {'vocab_size': 1000, 'embed_size': 32, 'out_channels': 32, 'filter_heights': [5, 10], 'stride': 1, 'dropout': 0, 'num_classes': 3, 'pad_idx': 0}\tExpected Num. Params: 47619\tYour Num. Params: 47619\n",
      "\tPASSED\tInput: {'vocab_size': 1000, 'embed_size': 32, 'out_channels': 32, 'filter_heights': [5, 10], 'stride': 3, 'dropout': 0, 'num_classes': 2, 'pad_idx': 0}\tExpected Num. Params: 47554\tYour Num. Params: 47554\n",
      "\tPASSED\tInput: {'vocab_size': 1000, 'embed_size': 32, 'out_channels': 32, 'filter_heights': [5, 10], 'stride': 3, 'dropout': 0, 'num_classes': 3, 'pad_idx': 0}\tExpected Num. Params: 47619\tYour Num. Params: 47619\n",
      "\tPASSED\tInput: {'vocab_size': 1000, 'embed_size': 32, 'out_channels': 128, 'filter_heights': [3, 4, 5], 'stride': 1, 'dropout': 0, 'num_classes': 2, 'pad_idx': 0}\tExpected Num. Params: 82306\tYour Num. Params: 82306\n",
      "\tPASSED\tInput: {'vocab_size': 1000, 'embed_size': 32, 'out_channels': 128, 'filter_heights': [3, 4, 5], 'stride': 1, 'dropout': 0, 'num_classes': 3, 'pad_idx': 0}\tExpected Num. Params: 82691\tYour Num. Params: 82691\n",
      "\tPASSED\tInput: {'vocab_size': 1000, 'embed_size': 32, 'out_channels': 128, 'filter_heights': [3, 4, 5], 'stride': 3, 'dropout': 0, 'num_classes': 2, 'pad_idx': 0}\tExpected Num. Params: 82306\tYour Num. Params: 82306\n",
      "\tPASSED\tInput: {'vocab_size': 1000, 'embed_size': 32, 'out_channels': 128, 'filter_heights': [3, 4, 5], 'stride': 3, 'dropout': 0, 'num_classes': 3, 'pad_idx': 0}\tExpected Num. Params: 82691\tYour Num. Params: 82691\n",
      "\tPASSED\tInput: {'vocab_size': 1000, 'embed_size': 32, 'out_channels': 128, 'filter_heights': [5, 10], 'stride': 1, 'dropout': 0, 'num_classes': 2, 'pad_idx': 0}\tExpected Num. Params: 94210\tYour Num. Params: 94210\n",
      "\tPASSED\tInput: {'vocab_size': 1000, 'embed_size': 32, 'out_channels': 128, 'filter_heights': [5, 10], 'stride': 1, 'dropout': 0, 'num_classes': 3, 'pad_idx': 0}\tExpected Num. Params: 94467\tYour Num. Params: 94467\n",
      "\tPASSED\tInput: {'vocab_size': 1000, 'embed_size': 32, 'out_channels': 128, 'filter_heights': [5, 10], 'stride': 3, 'dropout': 0, 'num_classes': 2, 'pad_idx': 0}\tExpected Num. Params: 94210\tYour Num. Params: 94210\n",
      "\tPASSED\tInput: {'vocab_size': 1000, 'embed_size': 32, 'out_channels': 128, 'filter_heights': [5, 10], 'stride': 3, 'dropout': 0, 'num_classes': 3, 'pad_idx': 0}\tExpected Num. Params: 94467\tYour Num. Params: 94467\n",
      "\n",
      "\tPASSED\t Init Input: {'vocab_size': 29730, 'embed_size': 16, 'out_channels': 32, 'filter_heights': [3, 4, 5], 'stride': 1, 'dropout': 0, 'num_classes': 2, 'pad_idx': 0}\tForward Input Shape: torch.Size([1, 150])\tExpected Output Shape: torch.Size([1, 2])\tYour Output Shape: torch.Size([1, 2])\n",
      "\tPASSED\t Init Input: {'vocab_size': 29730, 'embed_size': 16, 'out_channels': 32, 'filter_heights': [3, 4, 5], 'stride': 1, 'dropout': 0, 'num_classes': 2, 'pad_idx': 0}\tForward Input Shape: torch.Size([20, 150])\tExpected Output Shape: torch.Size([20, 2])\tYour Output Shape: torch.Size([20, 2])\n",
      "\tPASSED\t Init Input: {'vocab_size': 29730, 'embed_size': 16, 'out_channels': 32, 'filter_heights': [3, 4, 5], 'stride': 3, 'dropout': 0, 'num_classes': 2, 'pad_idx': 0}\tForward Input Shape: torch.Size([1, 150])\tExpected Output Shape: torch.Size([1, 2])\tYour Output Shape: torch.Size([1, 2])\n",
      "\tPASSED\t Init Input: {'vocab_size': 29730, 'embed_size': 16, 'out_channels': 32, 'filter_heights': [3, 4, 5], 'stride': 3, 'dropout': 0, 'num_classes': 2, 'pad_idx': 0}\tForward Input Shape: torch.Size([20, 150])\tExpected Output Shape: torch.Size([20, 2])\tYour Output Shape: torch.Size([20, 2])\n",
      "\tPASSED\t Init Input: {'vocab_size': 29730, 'embed_size': 16, 'out_channels': 32, 'filter_heights': [5, 10], 'stride': 1, 'dropout': 0, 'num_classes': 2, 'pad_idx': 0}\tForward Input Shape: torch.Size([1, 150])\tExpected Output Shape: torch.Size([1, 2])\tYour Output Shape: torch.Size([1, 2])\n",
      "\tPASSED\t Init Input: {'vocab_size': 29730, 'embed_size': 16, 'out_channels': 32, 'filter_heights': [5, 10], 'stride': 1, 'dropout': 0, 'num_classes': 2, 'pad_idx': 0}\tForward Input Shape: torch.Size([20, 150])\tExpected Output Shape: torch.Size([20, 2])\tYour Output Shape: torch.Size([20, 2])\n",
      "\tPASSED\t Init Input: {'vocab_size': 29730, 'embed_size': 16, 'out_channels': 32, 'filter_heights': [5, 10], 'stride': 3, 'dropout': 0, 'num_classes': 2, 'pad_idx': 0}\tForward Input Shape: torch.Size([1, 150])\tExpected Output Shape: torch.Size([1, 2])\tYour Output Shape: torch.Size([1, 2])\n",
      "\tPASSED\t Init Input: {'vocab_size': 29730, 'embed_size': 16, 'out_channels': 32, 'filter_heights': [5, 10], 'stride': 3, 'dropout': 0, 'num_classes': 2, 'pad_idx': 0}\tForward Input Shape: torch.Size([20, 150])\tExpected Output Shape: torch.Size([20, 2])\tYour Output Shape: torch.Size([20, 2])\n",
      "\tPASSED\t Init Input: {'vocab_size': 29730, 'embed_size': 16, 'out_channels': 128, 'filter_heights': [3, 4, 5], 'stride': 1, 'dropout': 0, 'num_classes': 2, 'pad_idx': 0}\tForward Input Shape: torch.Size([1, 150])\tExpected Output Shape: torch.Size([1, 2])\tYour Output Shape: torch.Size([1, 2])\n",
      "\tPASSED\t Init Input: {'vocab_size': 29730, 'embed_size': 16, 'out_channels': 128, 'filter_heights': [3, 4, 5], 'stride': 1, 'dropout': 0, 'num_classes': 2, 'pad_idx': 0}\tForward Input Shape: torch.Size([20, 150])\tExpected Output Shape: torch.Size([20, 2])\tYour Output Shape: torch.Size([20, 2])\n",
      "\tPASSED\t Init Input: {'vocab_size': 29730, 'embed_size': 16, 'out_channels': 128, 'filter_heights': [3, 4, 5], 'stride': 3, 'dropout': 0, 'num_classes': 2, 'pad_idx': 0}\tForward Input Shape: torch.Size([1, 150])\tExpected Output Shape: torch.Size([1, 2])\tYour Output Shape: torch.Size([1, 2])\n",
      "\tPASSED\t Init Input: {'vocab_size': 29730, 'embed_size': 16, 'out_channels': 128, 'filter_heights': [3, 4, 5], 'stride': 3, 'dropout': 0, 'num_classes': 2, 'pad_idx': 0}\tForward Input Shape: torch.Size([20, 150])\tExpected Output Shape: torch.Size([20, 2])\tYour Output Shape: torch.Size([20, 2])\n",
      "\tPASSED\t Init Input: {'vocab_size': 29730, 'embed_size': 16, 'out_channels': 128, 'filter_heights': [5, 10], 'stride': 1, 'dropout': 0, 'num_classes': 2, 'pad_idx': 0}\tForward Input Shape: torch.Size([1, 150])\tExpected Output Shape: torch.Size([1, 2])\tYour Output Shape: torch.Size([1, 2])\n",
      "\tPASSED\t Init Input: {'vocab_size': 29730, 'embed_size': 16, 'out_channels': 128, 'filter_heights': [5, 10], 'stride': 1, 'dropout': 0, 'num_classes': 2, 'pad_idx': 0}\tForward Input Shape: torch.Size([20, 150])\tExpected Output Shape: torch.Size([20, 2])\tYour Output Shape: torch.Size([20, 2])\n",
      "\tPASSED\t Init Input: {'vocab_size': 29730, 'embed_size': 16, 'out_channels': 128, 'filter_heights': [5, 10], 'stride': 3, 'dropout': 0, 'num_classes': 2, 'pad_idx': 0}\tForward Input Shape: torch.Size([1, 150])\tExpected Output Shape: torch.Size([1, 2])\tYour Output Shape: torch.Size([1, 2])\n",
      "\tPASSED\t Init Input: {'vocab_size': 29730, 'embed_size': 16, 'out_channels': 128, 'filter_heights': [5, 10], 'stride': 3, 'dropout': 0, 'num_classes': 2, 'pad_idx': 0}\tForward Input Shape: torch.Size([20, 150])\tExpected Output Shape: torch.Size([20, 2])\tYour Output Shape: torch.Size([20, 2])\n",
      "\tPASSED\t Init Input: {'vocab_size': 29730, 'embed_size': 32, 'out_channels': 32, 'filter_heights': [3, 4, 5], 'stride': 1, 'dropout': 0, 'num_classes': 2, 'pad_idx': 0}\tForward Input Shape: torch.Size([1, 150])\tExpected Output Shape: torch.Size([1, 2])\tYour Output Shape: torch.Size([1, 2])\n",
      "\tPASSED\t Init Input: {'vocab_size': 29730, 'embed_size': 32, 'out_channels': 32, 'filter_heights': [3, 4, 5], 'stride': 1, 'dropout': 0, 'num_classes': 2, 'pad_idx': 0}\tForward Input Shape: torch.Size([20, 150])\tExpected Output Shape: torch.Size([20, 2])\tYour Output Shape: torch.Size([20, 2])\n",
      "\tPASSED\t Init Input: {'vocab_size': 29730, 'embed_size': 32, 'out_channels': 32, 'filter_heights': [3, 4, 5], 'stride': 3, 'dropout': 0, 'num_classes': 2, 'pad_idx': 0}\tForward Input Shape: torch.Size([1, 150])\tExpected Output Shape: torch.Size([1, 2])\tYour Output Shape: torch.Size([1, 2])\n",
      "\tPASSED\t Init Input: {'vocab_size': 29730, 'embed_size': 32, 'out_channels': 32, 'filter_heights': [3, 4, 5], 'stride': 3, 'dropout': 0, 'num_classes': 2, 'pad_idx': 0}\tForward Input Shape: torch.Size([20, 150])\tExpected Output Shape: torch.Size([20, 2])\tYour Output Shape: torch.Size([20, 2])\n",
      "\tPASSED\t Init Input: {'vocab_size': 29730, 'embed_size': 32, 'out_channels': 32, 'filter_heights': [5, 10], 'stride': 1, 'dropout': 0, 'num_classes': 2, 'pad_idx': 0}\tForward Input Shape: torch.Size([1, 150])\tExpected Output Shape: torch.Size([1, 2])\tYour Output Shape: torch.Size([1, 2])\n",
      "\tPASSED\t Init Input: {'vocab_size': 29730, 'embed_size': 32, 'out_channels': 32, 'filter_heights': [5, 10], 'stride': 1, 'dropout': 0, 'num_classes': 2, 'pad_idx': 0}\tForward Input Shape: torch.Size([20, 150])\tExpected Output Shape: torch.Size([20, 2])\tYour Output Shape: torch.Size([20, 2])\n",
      "\tPASSED\t Init Input: {'vocab_size': 29730, 'embed_size': 32, 'out_channels': 32, 'filter_heights': [5, 10], 'stride': 3, 'dropout': 0, 'num_classes': 2, 'pad_idx': 0}\tForward Input Shape: torch.Size([1, 150])\tExpected Output Shape: torch.Size([1, 2])\tYour Output Shape: torch.Size([1, 2])\n",
      "\tPASSED\t Init Input: {'vocab_size': 29730, 'embed_size': 32, 'out_channels': 32, 'filter_heights': [5, 10], 'stride': 3, 'dropout': 0, 'num_classes': 2, 'pad_idx': 0}\tForward Input Shape: torch.Size([20, 150])\tExpected Output Shape: torch.Size([20, 2])\tYour Output Shape: torch.Size([20, 2])\n",
      "\tPASSED\t Init Input: {'vocab_size': 29730, 'embed_size': 32, 'out_channels': 128, 'filter_heights': [3, 4, 5], 'stride': 1, 'dropout': 0, 'num_classes': 2, 'pad_idx': 0}\tForward Input Shape: torch.Size([1, 150])\tExpected Output Shape: torch.Size([1, 2])\tYour Output Shape: torch.Size([1, 2])\n",
      "\tPASSED\t Init Input: {'vocab_size': 29730, 'embed_size': 32, 'out_channels': 128, 'filter_heights': [3, 4, 5], 'stride': 1, 'dropout': 0, 'num_classes': 2, 'pad_idx': 0}\tForward Input Shape: torch.Size([20, 150])\tExpected Output Shape: torch.Size([20, 2])\tYour Output Shape: torch.Size([20, 2])\n",
      "\tPASSED\t Init Input: {'vocab_size': 29730, 'embed_size': 32, 'out_channels': 128, 'filter_heights': [3, 4, 5], 'stride': 3, 'dropout': 0, 'num_classes': 2, 'pad_idx': 0}\tForward Input Shape: torch.Size([1, 150])\tExpected Output Shape: torch.Size([1, 2])\tYour Output Shape: torch.Size([1, 2])\n",
      "\tPASSED\t Init Input: {'vocab_size': 29730, 'embed_size': 32, 'out_channels': 128, 'filter_heights': [3, 4, 5], 'stride': 3, 'dropout': 0, 'num_classes': 2, 'pad_idx': 0}\tForward Input Shape: torch.Size([20, 150])\tExpected Output Shape: torch.Size([20, 2])\tYour Output Shape: torch.Size([20, 2])\n",
      "\tPASSED\t Init Input: {'vocab_size': 29730, 'embed_size': 32, 'out_channels': 128, 'filter_heights': [5, 10], 'stride': 1, 'dropout': 0, 'num_classes': 2, 'pad_idx': 0}\tForward Input Shape: torch.Size([1, 150])\tExpected Output Shape: torch.Size([1, 2])\tYour Output Shape: torch.Size([1, 2])\n",
      "\tPASSED\t Init Input: {'vocab_size': 29730, 'embed_size': 32, 'out_channels': 128, 'filter_heights': [5, 10], 'stride': 1, 'dropout': 0, 'num_classes': 2, 'pad_idx': 0}\tForward Input Shape: torch.Size([20, 150])\tExpected Output Shape: torch.Size([20, 2])\tYour Output Shape: torch.Size([20, 2])\n",
      "\tPASSED\t Init Input: {'vocab_size': 29730, 'embed_size': 32, 'out_channels': 128, 'filter_heights': [5, 10], 'stride': 3, 'dropout': 0, 'num_classes': 2, 'pad_idx': 0}\tForward Input Shape: torch.Size([1, 150])\tExpected Output Shape: torch.Size([1, 2])\tYour Output Shape: torch.Size([1, 2])\n",
      "\tPASSED\t Init Input: {'vocab_size': 29730, 'embed_size': 32, 'out_channels': 128, 'filter_heights': [5, 10], 'stride': 3, 'dropout': 0, 'num_classes': 2, 'pad_idx': 0}\tForward Input Shape: torch.Size([20, 150])\tExpected Output Shape: torch.Size([20, 2])\tYour Output Shape: torch.Size([20, 2])\n"
     ]
    }
   ],
   "source": [
    "### DO NOT EDIT ###\n",
    "\n",
    "count_parameters = lambda model: sum(p.numel() for p in model.parameters() if p.requires_grad)\n",
    "\n",
    "def sanityCheckModel(all_test_params, NN, expected_outputs, init_or_forward, data_loader):\n",
    "    # print('--- TEST: ' + ('Number of Model Parameters (tests __init__(...))' if init_or_forward=='init' else 'Output shape of forward(...)') + ' ---')\n",
    "    \n",
    "    if init_or_forward == \"forward\":\n",
    "        # Reading the first batch of data for testing\n",
    "        for texts_, labels_ in data_loader:\n",
    "            texts_batch, labels_batch = texts_, labels_\n",
    "            break\n",
    "\n",
    "    for tp_idx, (test_params, expected_output) in enumerate(zip(all_test_params, expected_outputs)):       \n",
    "        if init_or_forward == \"forward\":\n",
    "            batch_size = test_params['batch_size']\n",
    "            texts = texts_batch[:batch_size]\n",
    "\n",
    "        # Construct the student model\n",
    "        tps = {k:v for k, v in test_params.items() if k != 'batch_size'}\n",
    "        stu_nn = NN(**tps)\n",
    "\n",
    "        if init_or_forward == \"forward\":\n",
    "            with torch.no_grad(): \n",
    "                stu_out = stu_nn(texts)\n",
    "            ref_out_shape = expected_output\n",
    "\n",
    "            has_passed = torch.is_tensor(stu_out)\n",
    "            if not has_passed: msg = 'Output must be a torch.Tensor; received ' + str(type(stu_out))\n",
    "            else: \n",
    "                has_passed = stu_out.shape == ref_out_shape\n",
    "                msg = 'Your Output Shape: ' + str(stu_out.shape)\n",
    "            \n",
    "\n",
    "            status = 'PASSED' if has_passed else 'FAILED'\n",
    "            message = '\\t' + status + \"\\t Init Input: \" + str({k:v for k,v in tps.items()}) + '\\tForward Input Shape: ' + str(texts.shape) + '\\tExpected Output Shape: ' + str(ref_out_shape) + '\\t' + msg\n",
    "            print(message)\n",
    "        else:\n",
    "            stu_num_params = count_parameters(stu_nn)\n",
    "            ref_num_params = expected_output\n",
    "            comparison_result = (stu_num_params == ref_num_params)\n",
    "\n",
    "            status = 'PASSED' if comparison_result else 'FAILED'\n",
    "            message = '\\t' + status + \"\\tInput: \" + str({k:v for k,v in test_params.items()}) + ('\\tExpected Num. Params: ' + str(ref_num_params) + '\\tYour Num. Params: '+ str(stu_num_params))\n",
    "            print(message)\n",
    "\n",
    "        del stu_nn\n",
    "\n",
    "\n",
    "if __name__ == '__main__':\n",
    "    # Test init\n",
    "    inputs = [{'vocab_size': 1000, 'embed_size': 16, 'out_channels': 32, 'filter_heights': [3, 4, 5], 'stride': 1, 'dropout': 0, 'num_classes': 2, 'pad_idx': 0}, {'vocab_size': 1000, 'embed_size': 16, 'out_channels': 32, 'filter_heights': [3, 4, 5], 'stride': 1, 'dropout': 0, 'num_classes': 3, 'pad_idx': 0}, {'vocab_size': 1000, 'embed_size': 16, 'out_channels': 32, 'filter_heights': [3, 4, 5], 'stride': 3, 'dropout': 0, 'num_classes': 2, 'pad_idx': 0}, {'vocab_size': 1000, 'embed_size': 16, 'out_channels': 32, 'filter_heights': [3, 4, 5], 'stride': 3, 'dropout': 0, 'num_classes': 3, 'pad_idx': 0}, {'vocab_size': 1000, 'embed_size': 16, 'out_channels': 32, 'filter_heights': [5, 10], 'stride': 1, 'dropout': 0, 'num_classes': 2, 'pad_idx': 0}, {'vocab_size': 1000, 'embed_size': 16, 'out_channels': 32, 'filter_heights': [5, 10], 'stride': 1, 'dropout': 0, 'num_classes': 3, 'pad_idx': 0}, {'vocab_size': 1000, 'embed_size': 16, 'out_channels': 32, 'filter_heights': [5, 10], 'stride': 3, 'dropout': 0, 'num_classes': 2, 'pad_idx': 0}, {'vocab_size': 1000, 'embed_size': 16, 'out_channels': 32, 'filter_heights': [5, 10], 'stride': 3, 'dropout': 0, 'num_classes': 3, 'pad_idx': 0}, {'vocab_size': 1000, 'embed_size': 16, 'out_channels': 128, 'filter_heights': [3, 4, 5], 'stride': 1, 'dropout': 0, 'num_classes': 2, 'pad_idx': 0}, {'vocab_size': 1000, 'embed_size': 16, 'out_channels': 128, 'filter_heights': [3, 4, 5], 'stride': 1, 'dropout': 0, 'num_classes': 3, 'pad_idx': 0}, {'vocab_size': 1000, 'embed_size': 16, 'out_channels': 128, 'filter_heights': [3, 4, 5], 'stride': 3, 'dropout': 0, 'num_classes': 2, 'pad_idx': 0}, {'vocab_size': 1000, 'embed_size': 16, 'out_channels': 128, 'filter_heights': [3, 4, 5], 'stride': 3, 'dropout': 0, 'num_classes': 3, 'pad_idx': 0}, {'vocab_size': 1000, 'embed_size': 16, 'out_channels': 128, 'filter_heights': [5, 10], 'stride': 1, 'dropout': 0, 'num_classes': 2, 'pad_idx': 0}, {'vocab_size': 1000, 'embed_size': 16, 'out_channels': 128, 'filter_heights': [5, 10], 'stride': 1, 'dropout': 0, 'num_classes': 3, 'pad_idx': 0}, {'vocab_size': 1000, 'embed_size': 16, 'out_channels': 128, 'filter_heights': [5, 10], 'stride': 3, 'dropout': 0, 'num_classes': 2, 'pad_idx': 0}, {'vocab_size': 1000, 'embed_size': 16, 'out_channels': 128, 'filter_heights': [5, 10], 'stride': 3, 'dropout': 0, 'num_classes': 3, 'pad_idx': 0}, {'vocab_size': 1000, 'embed_size': 32, 'out_channels': 32, 'filter_heights': [3, 4, 5], 'stride': 1, 'dropout': 0, 'num_classes': 2, 'pad_idx': 0}, {'vocab_size': 1000, 'embed_size': 32, 'out_channels': 32, 'filter_heights': [3, 4, 5], 'stride': 1, 'dropout': 0, 'num_classes': 3, 'pad_idx': 0}, {'vocab_size': 1000, 'embed_size': 32, 'out_channels': 32, 'filter_heights': [3, 4, 5], 'stride': 3, 'dropout': 0, 'num_classes': 2, 'pad_idx': 0}, {'vocab_size': 1000, 'embed_size': 32, 'out_channels': 32, 'filter_heights': [3, 4, 5], 'stride': 3, 'dropout': 0, 'num_classes': 3, 'pad_idx': 0}, {'vocab_size': 1000, 'embed_size': 32, 'out_channels': 32, 'filter_heights': [5, 10], 'stride': 1, 'dropout': 0, 'num_classes': 2, 'pad_idx': 0}, {'vocab_size': 1000, 'embed_size': 32, 'out_channels': 32, 'filter_heights': [5, 10], 'stride': 1, 'dropout': 0, 'num_classes': 3, 'pad_idx': 0}, {'vocab_size': 1000, 'embed_size': 32, 'out_channels': 32, 'filter_heights': [5, 10], 'stride': 3, 'dropout': 0, 'num_classes': 2, 'pad_idx': 0}, {'vocab_size': 1000, 'embed_size': 32, 'out_channels': 32, 'filter_heights': [5, 10], 'stride': 3, 'dropout': 0, 'num_classes': 3, 'pad_idx': 0}, {'vocab_size': 1000, 'embed_size': 32, 'out_channels': 128, 'filter_heights': [3, 4, 5], 'stride': 1, 'dropout': 0, 'num_classes': 2, 'pad_idx': 0}, {'vocab_size': 1000, 'embed_size': 32, 'out_channels': 128, 'filter_heights': [3, 4, 5], 'stride': 1, 'dropout': 0, 'num_classes': 3, 'pad_idx': 0}, {'vocab_size': 1000, 'embed_size': 32, 'out_channels': 128, 'filter_heights': [3, 4, 5], 'stride': 3, 'dropout': 0, 'num_classes': 2, 'pad_idx': 0}, {'vocab_size': 1000, 'embed_size': 32, 'out_channels': 128, 'filter_heights': [3, 4, 5], 'stride': 3, 'dropout': 0, 'num_classes': 3, 'pad_idx': 0}, {'vocab_size': 1000, 'embed_size': 32, 'out_channels': 128, 'filter_heights': [5, 10], 'stride': 1, 'dropout': 0, 'num_classes': 2, 'pad_idx': 0}, {'vocab_size': 1000, 'embed_size': 32, 'out_channels': 128, 'filter_heights': [5, 10], 'stride': 1, 'dropout': 0, 'num_classes': 3, 'pad_idx': 0}, {'vocab_size': 1000, 'embed_size': 32, 'out_channels': 128, 'filter_heights': [5, 10], 'stride': 3, 'dropout': 0, 'num_classes': 2, 'pad_idx': 0}, {'vocab_size': 1000, 'embed_size': 32, 'out_channels': 128, 'filter_heights': [5, 10], 'stride': 3, 'dropout': 0, 'num_classes': 3, 'pad_idx': 0}]\n",
    "    expected_outputs = [22434, 22531, 22434, 22531, 23874, 23939, 23874, 23939, 41730, 42115, 41730, 42115, 47490, 47747, 47490, 47747, 44578, 44675, 44578, 44675, 47554, 47619, 47554, 47619, 82306, 82691, 82306, 82691, 94210, 94467, 94210, 94467]\n",
    "\n",
    "    sanityCheckModel(inputs, CNN, expected_outputs, \"init\", None)\n",
    "    print()\n",
    "\n",
    "    # Test forward\n",
    "    inputs = [{'vocab_size': 29730, 'embed_size': 16, 'out_channels': 32, 'filter_heights': [3, 4, 5], 'stride': 1, 'dropout': 0, 'num_classes': 2, 'pad_idx': 0, 'batch_size': 1}, {'vocab_size': 29730, 'embed_size': 16, 'out_channels': 32, 'filter_heights': [3, 4, 5], 'stride': 1, 'dropout': 0, 'num_classes': 2, 'pad_idx': 0, 'batch_size': 20}, {'vocab_size': 29730, 'embed_size': 16, 'out_channels': 32, 'filter_heights': [3, 4, 5], 'stride': 3, 'dropout': 0, 'num_classes': 2, 'pad_idx': 0, 'batch_size': 1}, {'vocab_size': 29730, 'embed_size': 16, 'out_channels': 32, 'filter_heights': [3, 4, 5], 'stride': 3, 'dropout': 0, 'num_classes': 2, 'pad_idx': 0, 'batch_size': 20}, {'vocab_size': 29730, 'embed_size': 16, 'out_channels': 32, 'filter_heights': [5, 10], 'stride': 1, 'dropout': 0, 'num_classes': 2, 'pad_idx': 0, 'batch_size': 1}, {'vocab_size': 29730, 'embed_size': 16, 'out_channels': 32, 'filter_heights': [5, 10], 'stride': 1, 'dropout': 0, 'num_classes': 2, 'pad_idx': 0, 'batch_size': 20}, {'vocab_size': 29730, 'embed_size': 16, 'out_channels': 32, 'filter_heights': [5, 10], 'stride': 3, 'dropout': 0, 'num_classes': 2, 'pad_idx': 0, 'batch_size': 1}, {'vocab_size': 29730, 'embed_size': 16, 'out_channels': 32, 'filter_heights': [5, 10], 'stride': 3, 'dropout': 0, 'num_classes': 2, 'pad_idx': 0, 'batch_size': 20}, {'vocab_size': 29730, 'embed_size': 16, 'out_channels': 128, 'filter_heights': [3, 4, 5], 'stride': 1, 'dropout': 0, 'num_classes': 2, 'pad_idx': 0, 'batch_size': 1}, {'vocab_size': 29730, 'embed_size': 16, 'out_channels': 128, 'filter_heights': [3, 4, 5], 'stride': 1, 'dropout': 0, 'num_classes': 2, 'pad_idx': 0, 'batch_size': 20}, {'vocab_size': 29730, 'embed_size': 16, 'out_channels': 128, 'filter_heights': [3, 4, 5], 'stride': 3, 'dropout': 0, 'num_classes': 2, 'pad_idx': 0, 'batch_size': 1}, {'vocab_size': 29730, 'embed_size': 16, 'out_channels': 128, 'filter_heights': [3, 4, 5], 'stride': 3, 'dropout': 0, 'num_classes': 2, 'pad_idx': 0, 'batch_size': 20}, {'vocab_size': 29730, 'embed_size': 16, 'out_channels': 128, 'filter_heights': [5, 10], 'stride': 1, 'dropout': 0, 'num_classes': 2, 'pad_idx': 0, 'batch_size': 1}, {'vocab_size': 29730, 'embed_size': 16, 'out_channels': 128, 'filter_heights': [5, 10], 'stride': 1, 'dropout': 0, 'num_classes': 2, 'pad_idx': 0, 'batch_size': 20}, {'vocab_size': 29730, 'embed_size': 16, 'out_channels': 128, 'filter_heights': [5, 10], 'stride': 3, 'dropout': 0, 'num_classes': 2, 'pad_idx': 0, 'batch_size': 1}, {'vocab_size': 29730, 'embed_size': 16, 'out_channels': 128, 'filter_heights': [5, 10], 'stride': 3, 'dropout': 0, 'num_classes': 2, 'pad_idx': 0, 'batch_size': 20}, {'vocab_size': 29730, 'embed_size': 32, 'out_channels': 32, 'filter_heights': [3, 4, 5], 'stride': 1, 'dropout': 0, 'num_classes': 2, 'pad_idx': 0, 'batch_size': 1}, {'vocab_size': 29730, 'embed_size': 32, 'out_channels': 32, 'filter_heights': [3, 4, 5], 'stride': 1, 'dropout': 0, 'num_classes': 2, 'pad_idx': 0, 'batch_size': 20}, {'vocab_size': 29730, 'embed_size': 32, 'out_channels': 32, 'filter_heights': [3, 4, 5], 'stride': 3, 'dropout': 0, 'num_classes': 2, 'pad_idx': 0, 'batch_size': 1}, {'vocab_size': 29730, 'embed_size': 32, 'out_channels': 32, 'filter_heights': [3, 4, 5], 'stride': 3, 'dropout': 0, 'num_classes': 2, 'pad_idx': 0, 'batch_size': 20}, {'vocab_size': 29730, 'embed_size': 32, 'out_channels': 32, 'filter_heights': [5, 10], 'stride': 1, 'dropout': 0, 'num_classes': 2, 'pad_idx': 0, 'batch_size': 1}, {'vocab_size': 29730, 'embed_size': 32, 'out_channels': 32, 'filter_heights': [5, 10], 'stride': 1, 'dropout': 0, 'num_classes': 2, 'pad_idx': 0, 'batch_size': 20}, {'vocab_size': 29730, 'embed_size': 32, 'out_channels': 32, 'filter_heights': [5, 10], 'stride': 3, 'dropout': 0, 'num_classes': 2, 'pad_idx': 0, 'batch_size': 1}, {'vocab_size': 29730, 'embed_size': 32, 'out_channels': 32, 'filter_heights': [5, 10], 'stride': 3, 'dropout': 0, 'num_classes': 2, 'pad_idx': 0, 'batch_size': 20}, {'vocab_size': 29730, 'embed_size': 32, 'out_channels': 128, 'filter_heights': [3, 4, 5], 'stride': 1, 'dropout': 0, 'num_classes': 2, 'pad_idx': 0, 'batch_size': 1}, {'vocab_size': 29730, 'embed_size': 32, 'out_channels': 128, 'filter_heights': [3, 4, 5], 'stride': 1, 'dropout': 0, 'num_classes': 2, 'pad_idx': 0, 'batch_size': 20}, {'vocab_size': 29730, 'embed_size': 32, 'out_channels': 128, 'filter_heights': [3, 4, 5], 'stride': 3, 'dropout': 0, 'num_classes': 2, 'pad_idx': 0, 'batch_size': 1}, {'vocab_size': 29730, 'embed_size': 32, 'out_channels': 128, 'filter_heights': [3, 4, 5], 'stride': 3, 'dropout': 0, 'num_classes': 2, 'pad_idx': 0, 'batch_size': 20}, {'vocab_size': 29730, 'embed_size': 32, 'out_channels': 128, 'filter_heights': [5, 10], 'stride': 1, 'dropout': 0, 'num_classes': 2, 'pad_idx': 0, 'batch_size': 1}, {'vocab_size': 29730, 'embed_size': 32, 'out_channels': 128, 'filter_heights': [5, 10], 'stride': 1, 'dropout': 0, 'num_classes': 2, 'pad_idx': 0, 'batch_size': 20}, {'vocab_size': 29730, 'embed_size': 32, 'out_channels': 128, 'filter_heights': [5, 10], 'stride': 3, 'dropout': 0, 'num_classes': 2, 'pad_idx': 0, 'batch_size': 1}, {'vocab_size': 29730, 'embed_size': 32, 'out_channels': 128, 'filter_heights': [5, 10], 'stride': 3, 'dropout': 0, 'num_classes': 2, 'pad_idx': 0, 'batch_size': 20}]\n",
    "    expected_outputs = [torch.Size([1, 2]), torch.Size([20, 2]), torch.Size([1, 2]), torch.Size([20, 2]), torch.Size([1, 2]), torch.Size([20, 2]), torch.Size([1, 2]), torch.Size([20, 2]), torch.Size([1, 2]), torch.Size([20, 2]), torch.Size([1, 2]), torch.Size([20, 2]), torch.Size([1, 2]), torch.Size([20, 2]), torch.Size([1, 2]), torch.Size([20, 2]), torch.Size([1, 2]), torch.Size([20, 2]), torch.Size([1, 2]), torch.Size([20, 2]), torch.Size([1, 2]), torch.Size([20, 2]), torch.Size([1, 2]), torch.Size([20, 2]), torch.Size([1, 2]), torch.Size([20, 2]), torch.Size([1, 2]), torch.Size([20, 2]), torch.Size([1, 2]), torch.Size([20, 2]), torch.Size([1, 2]), torch.Size([20, 2])]\n",
    "    sanity_dataset = TextDataset(train_data, 'train', 5, 150)\n",
    "    sanity_loader = torch.utils.data.DataLoader(sanity_dataset, batch_size=50, shuffle=True, num_workers=2, drop_last=True)\n",
    "\n",
    "    sanityCheckModel(inputs, CNN, expected_outputs, \"forward\", sanity_loader)"
   ]
  },
  {
   "cell_type": "code",
   "execution_count": 10,
   "metadata": {},
   "outputs": [],
   "source": [
    "# class MyModule(nn.Module):\n",
    "#     def __init__(self):\n",
    "#         super(MyModule, self).__init__()\n",
    "#         self.linears = nn.ModuleList([nn.Linear(10, 10) for i in range(10)])\n",
    "#\n",
    "#     def forward(self, x):\n",
    "#         # ModuleList can act as an iterable, or be indexed using ints\n",
    "#         for i, l in enumerate(self.linears):\n",
    "#             print(f\"i: {i}, l: {l}\")\n",
    "#\n",
    "#             first_part = self.linears[i // 2](x)\n",
    "#             second_part =  l(x)\n",
    "#             x = first_part + second_part\n",
    "#\n",
    "#         return x\n"
   ]
  },
  {
   "cell_type": "code",
   "execution_count": 11,
   "metadata": {},
   "outputs": [],
   "source": [
    "# test_object = MyModule()\n",
    "# test_object.forward(torch.ones(10,10))"
   ]
  },
  {
   "cell_type": "markdown",
   "metadata": {
    "id": "FupiBIfasCu_"
   },
   "source": [
    "## Train CNN Model\n",
    "\n",
    "First, we initialize the train and test <b>dataloaders</b>. A dataloader is responsible for providing batches of data to your model. Notice how we first instantiate datasets for the train and test data, and that we use the training vocabulary for both.\n",
    "\n",
    "You do not need to edit this cell."
   ]
  },
  {
   "cell_type": "code",
   "execution_count": 12,
   "metadata": {
    "id": "J2QYl334n9ON"
   },
   "outputs": [],
   "source": [
    "if __name__=='__main__':\n",
    "    THRESHOLD = 5 # Don't change this\n",
    "    MAX_LEN = 200 # Don't change this\n",
    "    BATCH_SIZE = 128 # Feel free to try other batch sizes\n",
    "\n",
    "    train_dataset = TextDataset(train_data, 'train', THRESHOLD, MAX_LEN)\n",
    "    train_loader = torch.utils.data.DataLoader(train_dataset, batch_size=BATCH_SIZE, shuffle=True, num_workers=2, drop_last=True)\n",
    "\n",
    "    test_dataset = TextDataset(test_data, 'test', THRESHOLD, MAX_LEN, train_dataset.idx2word, train_dataset.word2idx)\n",
    "    test_loader = torch.utils.data.DataLoader(test_dataset, batch_size=1, shuffle=False, num_workers=1, drop_last=False)"
   ]
  },
  {
   "cell_type": "markdown",
   "metadata": {
    "id": "AvsctopWmeoY"
   },
   "source": [
    "Now we provide you with a function that takes your model and trains it on the data.\n",
    "\n",
    "You do not need to edit this cell. However, you may want to write code to save your model periodically, as Colab connections are not permanent. See the tutorial here if you wish to do this: https://pytorch.org/tutorials/beginner/saving_loading_models.html."
   ]
  },
  {
   "cell_type": "code",
   "execution_count": 13,
   "metadata": {
    "id": "LD-Jj2rUFOzr"
   },
   "outputs": [],
   "source": [
    "### DO NOT EDIT ###\n",
    "\n",
    "from tqdm.notebook import tqdm\n",
    "\n",
    "def train_model(model, num_epochs, data_loader, optimizer, criterion):\n",
    "    print('Training Model...')\n",
    "    model.train()\n",
    "    for epoch in tqdm(range(num_epochs)):\n",
    "        epoch_loss = 0\n",
    "        epoch_acc = 0\n",
    "        for texts, labels in data_loader:\n",
    "            texts = texts.to(DEVICE) # shape: [batch_size, MAX_LEN]\n",
    "            labels = labels.to(DEVICE) # shape: [batch_size]\n",
    "\n",
    "            optimizer.zero_grad()\n",
    "\n",
    "            output = model(texts)\n",
    "            acc = accuracy(output, labels)\n",
    "            \n",
    "            loss = criterion(output, labels)\n",
    "            loss.backward()\n",
    "            optimizer.step()\n",
    "\n",
    "            epoch_loss += loss.item()\n",
    "            epoch_acc += acc.item()\n",
    "        print('[TRAIN]\\t Epoch: {:2d}\\t Loss: {:.4f}\\t Train Accuracy: {:.2f}%'.format(epoch+1, epoch_loss/len(data_loader), 100*epoch_acc/len(data_loader)))\n",
    "    print('Model Trained!\\n')"
   ]
  },
  {
   "cell_type": "markdown",
   "metadata": {
    "id": "FyIZS0WUhFA6"
   },
   "source": [
    "Here are some other helper functions we will need."
   ]
  },
  {
   "cell_type": "code",
   "execution_count": 14,
   "metadata": {
    "id": "zVP2scuyhG5f"
   },
   "outputs": [],
   "source": [
    "### DO NOT EDIT ###\n",
    "\n",
    "def accuracy(output, labels):\n",
    "    \"\"\"\n",
    "    Returns accuracy per batch\n",
    "    output: Tensor [batch_size, n_classes]\n",
    "    labels: LongTensor [batch_size]\n",
    "    \"\"\"\n",
    "    preds = output.argmax(dim=1) # find predicted class\n",
    "    correct = (preds == labels).sum().float() # convert into float for division \n",
    "    acc = correct / len(labels)\n",
    "    return acc"
   ]
  },
  {
   "cell_type": "markdown",
   "metadata": {
    "id": "YjvX5c6Isw9e"
   },
   "source": [
    "Now you can instantiate your model. We provide you with some recommended hyperparameters; you should be able to get the desired accuracy with these, but feel free to play around with them."
   ]
  },
  {
   "cell_type": "code",
   "execution_count": 15,
   "metadata": {
    "id": "M5UtdjGDuBty"
   },
   "outputs": [
    {
     "name": "stdout",
     "output_type": "stream",
     "text": [
      "The model has 3,879,746 trainable parameters\n"
     ]
    }
   ],
   "source": [
    "if __name__=='__main__':\n",
    "    cnn_model = CNN(vocab_size = train_dataset.vocab_size, # Don't change this\n",
    "                embed_size = 128, \n",
    "                out_channels = 64, \n",
    "                filter_heights = [2, 3, 4], \n",
    "                stride = 1, \n",
    "                dropout = 0.5, \n",
    "                num_classes = 2, # Don't change this\n",
    "                pad_idx = train_dataset.word2idx[PAD]) # Don't change this\n",
    "\n",
    "    # Put your model on the device (cuda or cpu)\n",
    "    cnn_model = cnn_model.to(DEVICE)\n",
    "    \n",
    "    print('The model has {:,d} trainable parameters'.format(count_parameters(cnn_model)))"
   ]
  },
  {
   "cell_type": "markdown",
   "metadata": {
    "id": "SeHpqw6zvkhI"
   },
   "source": [
    "Next, we create the **criterion**, which is our loss function: it is a measure of how well the model matches the empirical distribution of the data. We use cross-entropy loss (https://en.wikipedia.org/wiki/Cross_entropy).\n",
    "\n",
    "We also define the **optimizer**, which performs gradient descent. We use the Adam optimizer (https://arxiv.org/pdf/1412.6980.pdf), which has been shown to work well on these types of models."
   ]
  },
  {
   "cell_type": "code",
   "execution_count": 16,
   "metadata": {
    "id": "FoeyQL4PoNoH"
   },
   "outputs": [],
   "source": [
    "import torch.optim as optim\n",
    "\n",
    "if __name__=='__main__':    \n",
    "    LEARNING_RATE = 5e-4 # Feel free to try other learning rates\n",
    "\n",
    "    # Define the loss function\n",
    "    criterion = nn.CrossEntropyLoss().to(DEVICE)\n",
    "\n",
    "    # Define the optimizer\n",
    "    optimizer = optim.Adam(cnn_model.parameters(), lr=LEARNING_RATE)"
   ]
  },
  {
   "cell_type": "markdown",
   "metadata": {
    "id": "RopLfAJ9wOHN"
   },
   "source": [
    "Finally, we can train the model. If the model is implemented correctly and you're using the GPU, this cell should take around <b>4 minutes</b> (or less). Feel free to change the number of epochs."
   ]
  },
  {
   "cell_type": "code",
   "execution_count": 17,
   "metadata": {},
   "outputs": [
    {
     "name": "stdout",
     "output_type": "stream",
     "text": [
      "Training Model...\n"
     ]
    },
    {
     "data": {
      "application/vnd.jupyter.widget-view+json": {
       "model_id": "42be9400c0af482f97d47e81fb5f7f80",
       "version_major": 2,
       "version_minor": 0
      },
      "text/plain": [
       "  0%|          | 0/10 [00:00<?, ?it/s]"
      ]
     },
     "metadata": {},
     "output_type": "display_data"
    },
    {
     "ename": "RuntimeError",
     "evalue": "Caught RuntimeError in DataLoader worker process 0.\nOriginal Traceback (most recent call last):\n  File \"/home/kulbir/anaconda3/envs/nlp_cuda116_python3_9/lib/python3.9/site-packages/torch/utils/data/_utils/worker.py\", line 302, in _worker_loop\n    data = fetcher.fetch(index)\n  File \"/home/kulbir/anaconda3/envs/nlp_cuda116_python3_9/lib/python3.9/site-packages/torch/utils/data/_utils/fetch.py\", line 52, in fetch\n    return self.collate_fn(data)\n  File \"/home/kulbir/anaconda3/envs/nlp_cuda116_python3_9/lib/python3.9/site-packages/torch/utils/data/_utils/collate.py\", line 175, in default_collate\n    return [default_collate(samples) for samples in transposed]  # Backwards compatibility.\n  File \"/home/kulbir/anaconda3/envs/nlp_cuda116_python3_9/lib/python3.9/site-packages/torch/utils/data/_utils/collate.py\", line 175, in <listcomp>\n    return [default_collate(samples) for samples in transposed]  # Backwards compatibility.\n  File \"/home/kulbir/anaconda3/envs/nlp_cuda116_python3_9/lib/python3.9/site-packages/torch/utils/data/_utils/collate.py\", line 141, in default_collate\n    return torch.stack(batch, 0, out=out)\nRuntimeError: torch.cat(): input types can't be cast to the desired output type Long\n",
     "output_type": "error",
     "traceback": [
      "\u001b[0;31m---------------------------------------------------------------------------\u001b[0m",
      "\u001b[0;31mRuntimeError\u001b[0m                              Traceback (most recent call last)",
      "Input \u001b[0;32mIn [17]\u001b[0m, in \u001b[0;36m<cell line: 1>\u001b[0;34m()\u001b[0m\n\u001b[1;32m      2\u001b[0m N_EPOCHS \u001b[38;5;241m=\u001b[39m \u001b[38;5;241m10\u001b[39m \u001b[38;5;66;03m# Feel free to change this\u001b[39;00m\n\u001b[1;32m      4\u001b[0m \u001b[38;5;66;03m# train model for N_EPOCHS epochs\u001b[39;00m\n\u001b[0;32m----> 5\u001b[0m \u001b[43mtrain_model\u001b[49m\u001b[43m(\u001b[49m\u001b[43mcnn_model\u001b[49m\u001b[43m,\u001b[49m\u001b[43m \u001b[49m\u001b[43mN_EPOCHS\u001b[49m\u001b[43m,\u001b[49m\u001b[43m \u001b[49m\u001b[43mtrain_loader\u001b[49m\u001b[43m,\u001b[49m\u001b[43m \u001b[49m\u001b[43moptimizer\u001b[49m\u001b[43m,\u001b[49m\u001b[43m \u001b[49m\u001b[43mcriterion\u001b[49m\u001b[43m)\u001b[49m\n",
      "Input \u001b[0;32mIn [13]\u001b[0m, in \u001b[0;36mtrain_model\u001b[0;34m(model, num_epochs, data_loader, optimizer, criterion)\u001b[0m\n\u001b[1;32m      9\u001b[0m epoch_loss \u001b[38;5;241m=\u001b[39m \u001b[38;5;241m0\u001b[39m\n\u001b[1;32m     10\u001b[0m epoch_acc \u001b[38;5;241m=\u001b[39m \u001b[38;5;241m0\u001b[39m\n\u001b[0;32m---> 11\u001b[0m \u001b[38;5;28;01mfor\u001b[39;00m texts, labels \u001b[38;5;129;01min\u001b[39;00m data_loader:\n\u001b[1;32m     12\u001b[0m     texts \u001b[38;5;241m=\u001b[39m texts\u001b[38;5;241m.\u001b[39mto(DEVICE) \u001b[38;5;66;03m# shape: [batch_size, MAX_LEN]\u001b[39;00m\n\u001b[1;32m     13\u001b[0m     labels \u001b[38;5;241m=\u001b[39m labels\u001b[38;5;241m.\u001b[39mto(DEVICE) \u001b[38;5;66;03m# shape: [batch_size]\u001b[39;00m\n",
      "File \u001b[0;32m~/anaconda3/envs/nlp_cuda116_python3_9/lib/python3.9/site-packages/torch/utils/data/dataloader.py:681\u001b[0m, in \u001b[0;36m_BaseDataLoaderIter.__next__\u001b[0;34m(self)\u001b[0m\n\u001b[1;32m    678\u001b[0m \u001b[38;5;28;01mif\u001b[39;00m \u001b[38;5;28mself\u001b[39m\u001b[38;5;241m.\u001b[39m_sampler_iter \u001b[38;5;129;01mis\u001b[39;00m \u001b[38;5;28;01mNone\u001b[39;00m:\n\u001b[1;32m    679\u001b[0m     \u001b[38;5;66;03m# TODO(https://github.com/pytorch/pytorch/issues/76750)\u001b[39;00m\n\u001b[1;32m    680\u001b[0m     \u001b[38;5;28mself\u001b[39m\u001b[38;5;241m.\u001b[39m_reset()  \u001b[38;5;66;03m# type: ignore[call-arg]\u001b[39;00m\n\u001b[0;32m--> 681\u001b[0m data \u001b[38;5;241m=\u001b[39m \u001b[38;5;28;43mself\u001b[39;49m\u001b[38;5;241;43m.\u001b[39;49m\u001b[43m_next_data\u001b[49m\u001b[43m(\u001b[49m\u001b[43m)\u001b[49m\n\u001b[1;32m    682\u001b[0m \u001b[38;5;28mself\u001b[39m\u001b[38;5;241m.\u001b[39m_num_yielded \u001b[38;5;241m+\u001b[39m\u001b[38;5;241m=\u001b[39m \u001b[38;5;241m1\u001b[39m\n\u001b[1;32m    683\u001b[0m \u001b[38;5;28;01mif\u001b[39;00m \u001b[38;5;28mself\u001b[39m\u001b[38;5;241m.\u001b[39m_dataset_kind \u001b[38;5;241m==\u001b[39m _DatasetKind\u001b[38;5;241m.\u001b[39mIterable \u001b[38;5;129;01mand\u001b[39;00m \\\n\u001b[1;32m    684\u001b[0m         \u001b[38;5;28mself\u001b[39m\u001b[38;5;241m.\u001b[39m_IterableDataset_len_called \u001b[38;5;129;01mis\u001b[39;00m \u001b[38;5;129;01mnot\u001b[39;00m \u001b[38;5;28;01mNone\u001b[39;00m \u001b[38;5;129;01mand\u001b[39;00m \\\n\u001b[1;32m    685\u001b[0m         \u001b[38;5;28mself\u001b[39m\u001b[38;5;241m.\u001b[39m_num_yielded \u001b[38;5;241m>\u001b[39m \u001b[38;5;28mself\u001b[39m\u001b[38;5;241m.\u001b[39m_IterableDataset_len_called:\n",
      "File \u001b[0;32m~/anaconda3/envs/nlp_cuda116_python3_9/lib/python3.9/site-packages/torch/utils/data/dataloader.py:1376\u001b[0m, in \u001b[0;36m_MultiProcessingDataLoaderIter._next_data\u001b[0;34m(self)\u001b[0m\n\u001b[1;32m   1374\u001b[0m \u001b[38;5;28;01melse\u001b[39;00m:\n\u001b[1;32m   1375\u001b[0m     \u001b[38;5;28;01mdel\u001b[39;00m \u001b[38;5;28mself\u001b[39m\u001b[38;5;241m.\u001b[39m_task_info[idx]\n\u001b[0;32m-> 1376\u001b[0m     \u001b[38;5;28;01mreturn\u001b[39;00m \u001b[38;5;28;43mself\u001b[39;49m\u001b[38;5;241;43m.\u001b[39;49m\u001b[43m_process_data\u001b[49m\u001b[43m(\u001b[49m\u001b[43mdata\u001b[49m\u001b[43m)\u001b[49m\n",
      "File \u001b[0;32m~/anaconda3/envs/nlp_cuda116_python3_9/lib/python3.9/site-packages/torch/utils/data/dataloader.py:1402\u001b[0m, in \u001b[0;36m_MultiProcessingDataLoaderIter._process_data\u001b[0;34m(self, data)\u001b[0m\n\u001b[1;32m   1400\u001b[0m \u001b[38;5;28mself\u001b[39m\u001b[38;5;241m.\u001b[39m_try_put_index()\n\u001b[1;32m   1401\u001b[0m \u001b[38;5;28;01mif\u001b[39;00m \u001b[38;5;28misinstance\u001b[39m(data, ExceptionWrapper):\n\u001b[0;32m-> 1402\u001b[0m     \u001b[43mdata\u001b[49m\u001b[38;5;241;43m.\u001b[39;49m\u001b[43mreraise\u001b[49m\u001b[43m(\u001b[49m\u001b[43m)\u001b[49m\n\u001b[1;32m   1403\u001b[0m \u001b[38;5;28;01mreturn\u001b[39;00m data\n",
      "File \u001b[0;32m~/anaconda3/envs/nlp_cuda116_python3_9/lib/python3.9/site-packages/torch/_utils.py:461\u001b[0m, in \u001b[0;36mExceptionWrapper.reraise\u001b[0;34m(self)\u001b[0m\n\u001b[1;32m    457\u001b[0m \u001b[38;5;28;01mexcept\u001b[39;00m \u001b[38;5;167;01mTypeError\u001b[39;00m:\n\u001b[1;32m    458\u001b[0m     \u001b[38;5;66;03m# If the exception takes multiple arguments, don't try to\u001b[39;00m\n\u001b[1;32m    459\u001b[0m     \u001b[38;5;66;03m# instantiate since we don't know how to\u001b[39;00m\n\u001b[1;32m    460\u001b[0m     \u001b[38;5;28;01mraise\u001b[39;00m \u001b[38;5;167;01mRuntimeError\u001b[39;00m(msg) \u001b[38;5;28;01mfrom\u001b[39;00m \u001b[38;5;28mNone\u001b[39m\n\u001b[0;32m--> 461\u001b[0m \u001b[38;5;28;01mraise\u001b[39;00m exception\n",
      "\u001b[0;31mRuntimeError\u001b[0m: Caught RuntimeError in DataLoader worker process 0.\nOriginal Traceback (most recent call last):\n  File \"/home/kulbir/anaconda3/envs/nlp_cuda116_python3_9/lib/python3.9/site-packages/torch/utils/data/_utils/worker.py\", line 302, in _worker_loop\n    data = fetcher.fetch(index)\n  File \"/home/kulbir/anaconda3/envs/nlp_cuda116_python3_9/lib/python3.9/site-packages/torch/utils/data/_utils/fetch.py\", line 52, in fetch\n    return self.collate_fn(data)\n  File \"/home/kulbir/anaconda3/envs/nlp_cuda116_python3_9/lib/python3.9/site-packages/torch/utils/data/_utils/collate.py\", line 175, in default_collate\n    return [default_collate(samples) for samples in transposed]  # Backwards compatibility.\n  File \"/home/kulbir/anaconda3/envs/nlp_cuda116_python3_9/lib/python3.9/site-packages/torch/utils/data/_utils/collate.py\", line 175, in <listcomp>\n    return [default_collate(samples) for samples in transposed]  # Backwards compatibility.\n  File \"/home/kulbir/anaconda3/envs/nlp_cuda116_python3_9/lib/python3.9/site-packages/torch/utils/data/_utils/collate.py\", line 141, in default_collate\n    return torch.stack(batch, 0, out=out)\nRuntimeError: torch.cat(): input types can't be cast to the desired output type Long\n"
     ]
    }
   ],
   "source": [
    "if __name__=='__main__':\n",
    "    N_EPOCHS = 10 # Feel free to change this\n",
    "\n",
    "    # train model for N_EPOCHS epochs\n",
    "    train_model(cnn_model, N_EPOCHS, train_loader, optimizer, criterion)"
   ]
  },
  {
   "cell_type": "markdown",
   "metadata": {
    "id": "Q-OJbZ72t6Yq"
   },
   "source": [
    "## Evaluate CNN Model [20 points]\n",
    "\n",
    "Now that we have trained a model for text classification, it is time to evaluate it. We have provided you with a function to do this; you do not need to modify anything.\n",
    "\n",
    "To pass the autograder for the CNN, you will need to achieve **82% accuracy** on the hidden test set on Gradescope. Note that the Gradescope test set is very similar, and the accuracies between the two datasets should be comparable."
   ]
  },
  {
   "cell_type": "code",
   "execution_count": null,
   "metadata": {
    "id": "vTiiYDZIF--7"
   },
   "outputs": [],
   "source": [
    "### DO NOT EDIT ###\n",
    "\n",
    "import random\n",
    "\n",
    "def evaluate(model, data_loader, criterion, use_tqdm=False):\n",
    "    print('Evaluating performance on the test dataset...')\n",
    "    model.eval()\n",
    "    epoch_loss = 0\n",
    "    epoch_acc = 0\n",
    "    all_predictions = []\n",
    "    print(\"\\nSOME PREDICTIONS FROM THE MODEL:\")\n",
    "    iterator = tqdm(data_loader) if use_tqdm else data_loader\n",
    "    total = 0\n",
    "    for texts, labels in iterator:\n",
    "        bs = texts.shape[0]\n",
    "        total += bs\n",
    "        texts = texts.to(DEVICE)\n",
    "        labels = labels.to(DEVICE)\n",
    "        \n",
    "        output = model(texts)\n",
    "        acc = accuracy(output, labels) * len(labels)\n",
    "        pred = output.argmax(dim=1)\n",
    "        all_predictions.append(pred)\n",
    "        \n",
    "        loss = criterion(output, labels) * len(labels)\n",
    "        \n",
    "        epoch_loss += loss.item()\n",
    "        epoch_acc += acc.item()\n",
    "\n",
    "        if random.random() < 0.0015 and bs == 1:\n",
    "            print(\"Input: \"+' '.join([data_loader.dataset.idx2word[idx] for idx in texts[0].tolist() if idx not in {data_loader.dataset.word2idx[PAD], data_loader.dataset.word2idx[END]}]))\n",
    "            print(\"Prediction:\", pred.item(), '\\tCorrect Output:', labels.item(), '\\n')\n",
    "\n",
    "    full_acc = 100*epoch_acc/total\n",
    "    full_loss = epoch_loss/total\n",
    "    print('[TEST]\\t Loss: {:.4f}\\t Accuracy: {:.2f}%'.format(full_loss, full_acc))\n",
    "    predictions = torch.cat(all_predictions)\n",
    "    return predictions, full_acc, full_loss"
   ]
  },
  {
   "cell_type": "code",
   "execution_count": null,
   "metadata": {
    "id": "Z718w8e0oNoS"
   },
   "outputs": [],
   "source": [
    "if __name__=='__main__':\n",
    "    evaluate(cnn_model, test_loader, criterion, use_tqdm=True) # Compute test data accuracy"
   ]
  },
  {
   "cell_type": "markdown",
   "metadata": {
    "id": "BRCFvjwDthiA"
   },
   "source": [
    "# Step 4: Train a Recurrent Neural Network (RNN) [40 points]\n",
    "You will now build a text clasification model that is based on **recurrences**."
   ]
  },
  {
   "cell_type": "markdown",
   "metadata": {
    "id": "Y-t8tlZviV2x"
   },
   "source": [
    "## <font color='red'>TODO:</font> Define the RNN Model [20 points]\n",
    "\n",
    "First, you will define the RNN. As with the CNN, we provide you with the skeleton of the class, and you need to fill in parts of the `__init__(...)` and `forward(...)` methods. Each of these functions is worth 10 points."
   ]
  },
  {
   "cell_type": "code",
   "execution_count": null,
   "metadata": {
    "id": "2nc_HxbP6klI"
   },
   "outputs": [],
   "source": [
    "class RNN(nn.Module):\n",
    "    def __init__(self, vocab_size, embed_size, hidden_size, num_layers, bidirectional, dropout, num_classes, pad_idx):\n",
    "        super(RNN, self).__init__()\n",
    "        self.hidden_size = hidden_size\n",
    "        self.num_layers = num_layers\n",
    "\n",
    "        ##### TODO #####\n",
    "\n",
    "        # Create an embedding layer (https://pytorch.org/docs/stable/generated/torch.nn.Embedding.html)\n",
    "        #   to represent the words in your vocabulary. Make sure to use vocab_size, embed_size, and pad_idx here.\n",
    "\n",
    "        # Create a recurrent network (use nn.GRU, not nn.LSTM) with batch_first = True\n",
    "        # Make sure you use hidden_size, num_layers, dropout, and bidirectional here.\n",
    "        \n",
    "        # Create a dropout layer (nn.Dropout) using dropout\n",
    "\n",
    "        # Define a linear layer (nn.Linear) that consists of num_classes units \n",
    "        #   and takes as input the output of the last timestep. In the bidirectional case, you should concatenate\n",
    "        #   the output of the last timestep of the forward direction with the output of the last timestep of the backward direction).\n",
    "\n",
    "\n",
    "    def forward(self, texts):\n",
    "        \"\"\"\n",
    "        texts: LongTensor [batch_size, MAX_LEN]\n",
    "        \n",
    "        Returns output: Tensor [batch_size, num_classes]\n",
    "        \"\"\"\n",
    "        ##### TODO #####\n",
    "\n",
    "        # Pass texts through your embedding layer to convert from word ids to word embeddings\n",
    "        #   Resulting: shape: [batch_size, max_len, embed_size]\n",
    "\n",
    "        # Pass the result through your recurrent network\n",
    "        #   See PyTorch documentation for resulting shape for nn.GRU\n",
    "        \n",
    "        # Concatenate the outputs of the last timestep for each direction (see torch.cat(...))\n",
    "        #   This depends on whether or not your model is bidirectional.\n",
    "        #   Resulting shape: [batch_size, num_dirs*hidden_size]\n",
    "        \n",
    "        # Apply dropout\n",
    "\n",
    "        # Pass your output through the linear layer and return its output \n",
    "        #   Resulting shape: [batch_size, num_classes]\n",
    "\n",
    "        ##### NOTE: Do not apply a sigmoid or softmax to the final output - done in training method!\n",
    "        \n",
    "        return None"
   ]
  },
  {
   "cell_type": "markdown",
   "metadata": {
    "id": "eDLTiJMyoLxJ"
   },
   "source": [
    "##Sanity Check: RNN Model\n",
    "\n",
    "The code below runs a sanity check for your `RNN` class. The tests are similar to the hidden ones in Gradescope. However, note that passing the sanity check does <b>not</b> guarantee that you will pass the autograder; it is intended to help you debug."
   ]
  },
  {
   "cell_type": "code",
   "execution_count": null,
   "metadata": {
    "id": "Duq7X2ClwXga"
   },
   "outputs": [],
   "source": [
    "### DO NOT EDIT ###\n",
    "\n",
    "if __name__ == '__main__':\n",
    "    # Test init\n",
    "    inputs = [{'vocab_size': 1000, 'embed_size': 16, 'hidden_size': 32, 'num_layers': 2, 'bidirectional': True, 'dropout': 0, 'num_classes': 2, 'pad_idx': 0}, {'vocab_size': 1000, 'embed_size': 16, 'hidden_size': 32, 'num_layers': 2, 'bidirectional': True, 'dropout': 0, 'num_classes': 4, 'pad_idx': 0}, {'vocab_size': 1000, 'embed_size': 16, 'hidden_size': 32, 'num_layers': 2, 'bidirectional': False, 'dropout': 0, 'num_classes': 2, 'pad_idx': 0}, {'vocab_size': 1000, 'embed_size': 16, 'hidden_size': 32, 'num_layers': 2, 'bidirectional': False, 'dropout': 0, 'num_classes': 4, 'pad_idx': 0}, {'vocab_size': 1000, 'embed_size': 16, 'hidden_size': 32, 'num_layers': 4, 'bidirectional': True, 'dropout': 0, 'num_classes': 2, 'pad_idx': 0}, {'vocab_size': 1000, 'embed_size': 16, 'hidden_size': 32, 'num_layers': 4, 'bidirectional': True, 'dropout': 0, 'num_classes': 4, 'pad_idx': 0}, {'vocab_size': 1000, 'embed_size': 16, 'hidden_size': 32, 'num_layers': 4, 'bidirectional': False, 'dropout': 0, 'num_classes': 2, 'pad_idx': 0}, {'vocab_size': 1000, 'embed_size': 16, 'hidden_size': 32, 'num_layers': 4, 'bidirectional': False, 'dropout': 0, 'num_classes': 4, 'pad_idx': 0}, {'vocab_size': 1000, 'embed_size': 16, 'hidden_size': 256, 'num_layers': 2, 'bidirectional': True, 'dropout': 0, 'num_classes': 2, 'pad_idx': 0}, {'vocab_size': 1000, 'embed_size': 16, 'hidden_size': 256, 'num_layers': 2, 'bidirectional': True, 'dropout': 0, 'num_classes': 4, 'pad_idx': 0}, {'vocab_size': 1000, 'embed_size': 16, 'hidden_size': 256, 'num_layers': 2, 'bidirectional': False, 'dropout': 0, 'num_classes': 2, 'pad_idx': 0}, {'vocab_size': 1000, 'embed_size': 16, 'hidden_size': 256, 'num_layers': 2, 'bidirectional': False, 'dropout': 0, 'num_classes': 4, 'pad_idx': 0}, {'vocab_size': 1000, 'embed_size': 16, 'hidden_size': 256, 'num_layers': 4, 'bidirectional': True, 'dropout': 0, 'num_classes': 2, 'pad_idx': 0}, {'vocab_size': 1000, 'embed_size': 16, 'hidden_size': 256, 'num_layers': 4, 'bidirectional': True, 'dropout': 0, 'num_classes': 4, 'pad_idx': 0}, {'vocab_size': 1000, 'embed_size': 16, 'hidden_size': 256, 'num_layers': 4, 'bidirectional': False, 'dropout': 0, 'num_classes': 2, 'pad_idx': 0}, {'vocab_size': 1000, 'embed_size': 16, 'hidden_size': 256, 'num_layers': 4, 'bidirectional': False, 'dropout': 0, 'num_classes': 4, 'pad_idx': 0}, {'vocab_size': 1000, 'embed_size': 64, 'hidden_size': 32, 'num_layers': 2, 'bidirectional': True, 'dropout': 0, 'num_classes': 2, 'pad_idx': 0}, {'vocab_size': 1000, 'embed_size': 64, 'hidden_size': 32, 'num_layers': 2, 'bidirectional': True, 'dropout': 0, 'num_classes': 4, 'pad_idx': 0}, {'vocab_size': 1000, 'embed_size': 64, 'hidden_size': 32, 'num_layers': 2, 'bidirectional': False, 'dropout': 0, 'num_classes': 2, 'pad_idx': 0}, {'vocab_size': 1000, 'embed_size': 64, 'hidden_size': 32, 'num_layers': 2, 'bidirectional': False, 'dropout': 0, 'num_classes': 4, 'pad_idx': 0}, {'vocab_size': 1000, 'embed_size': 64, 'hidden_size': 32, 'num_layers': 4, 'bidirectional': True, 'dropout': 0, 'num_classes': 2, 'pad_idx': 0}, {'vocab_size': 1000, 'embed_size': 64, 'hidden_size': 32, 'num_layers': 4, 'bidirectional': True, 'dropout': 0, 'num_classes': 4, 'pad_idx': 0}, {'vocab_size': 1000, 'embed_size': 64, 'hidden_size': 32, 'num_layers': 4, 'bidirectional': False, 'dropout': 0, 'num_classes': 2, 'pad_idx': 0}, {'vocab_size': 1000, 'embed_size': 64, 'hidden_size': 32, 'num_layers': 4, 'bidirectional': False, 'dropout': 0, 'num_classes': 4, 'pad_idx': 0}, {'vocab_size': 1000, 'embed_size': 64, 'hidden_size': 256, 'num_layers': 2, 'bidirectional': True, 'dropout': 0, 'num_classes': 2, 'pad_idx': 0}, {'vocab_size': 1000, 'embed_size': 64, 'hidden_size': 256, 'num_layers': 2, 'bidirectional': True, 'dropout': 0, 'num_classes': 4, 'pad_idx': 0}, {'vocab_size': 1000, 'embed_size': 64, 'hidden_size': 256, 'num_layers': 2, 'bidirectional': False, 'dropout': 0, 'num_classes': 2, 'pad_idx': 0}, {'vocab_size': 1000, 'embed_size': 64, 'hidden_size': 256, 'num_layers': 2, 'bidirectional': False, 'dropout': 0, 'num_classes': 4, 'pad_idx': 0}, {'vocab_size': 1000, 'embed_size': 64, 'hidden_size': 256, 'num_layers': 4, 'bidirectional': True, 'dropout': 0, 'num_classes': 2, 'pad_idx': 0}, {'vocab_size': 1000, 'embed_size': 64, 'hidden_size': 256, 'num_layers': 4, 'bidirectional': True, 'dropout': 0, 'num_classes': 4, 'pad_idx': 0}, {'vocab_size': 1000, 'embed_size': 64, 'hidden_size': 256, 'num_layers': 4, 'bidirectional': False, 'dropout': 0, 'num_classes': 2, 'pad_idx': 0}, {'vocab_size': 1000, 'embed_size': 64, 'hidden_size': 256, 'num_layers': 4, 'bidirectional': False, 'dropout': 0, 'num_classes': 4, 'pad_idx': 0}]\n",
    "    expected_outputs = [44546, 44676, 27202, 27268, 82178, 82308, 39874, 39940, 1620610, 1621636, 621698, 622212, 3986050, 3987076, 1411202, 1411716, 101762, 101892, 79810, 79876, 139394, 139524, 92482, 92548, 1742338, 1743364, 706562, 707076, 4107778, 4108804, 1496066, 1496580]\n",
    "\n",
    "    sanityCheckModel(inputs, RNN, expected_outputs, \"init\", None)\n",
    "    print()\n",
    "\n",
    "    # Test forward\n",
    "    inputs = [{'vocab_size': 29730, 'embed_size': 16, 'hidden_size': 32, 'num_layers': 2, 'bidirectional': True, 'dropout': 0, 'num_classes': 2, 'pad_idx': 0, 'batch_size': 1}, {'vocab_size': 29730, 'embed_size': 16, 'hidden_size': 32, 'num_layers': 2, 'bidirectional': True, 'dropout': 0, 'num_classes': 2, 'pad_idx': 0, 'batch_size': 2}, {'vocab_size': 29730, 'embed_size': 16, 'hidden_size': 32, 'num_layers': 2, 'bidirectional': True, 'dropout': 0, 'num_classes': 4, 'pad_idx': 0, 'batch_size': 1}, {'vocab_size': 29730, 'embed_size': 16, 'hidden_size': 32, 'num_layers': 2, 'bidirectional': True, 'dropout': 0, 'num_classes': 4, 'pad_idx': 0, 'batch_size': 2}, {'vocab_size': 29730, 'embed_size': 16, 'hidden_size': 32, 'num_layers': 2, 'bidirectional': False, 'dropout': 0, 'num_classes': 2, 'pad_idx': 0, 'batch_size': 1}, {'vocab_size': 29730, 'embed_size': 16, 'hidden_size': 32, 'num_layers': 2, 'bidirectional': False, 'dropout': 0, 'num_classes': 2, 'pad_idx': 0, 'batch_size': 2}, {'vocab_size': 29730, 'embed_size': 16, 'hidden_size': 32, 'num_layers': 2, 'bidirectional': False, 'dropout': 0, 'num_classes': 4, 'pad_idx': 0, 'batch_size': 1}, {'vocab_size': 29730, 'embed_size': 16, 'hidden_size': 32, 'num_layers': 2, 'bidirectional': False, 'dropout': 0, 'num_classes': 4, 'pad_idx': 0, 'batch_size': 2}, {'vocab_size': 29730, 'embed_size': 16, 'hidden_size': 32, 'num_layers': 4, 'bidirectional': True, 'dropout': 0, 'num_classes': 2, 'pad_idx': 0, 'batch_size': 1}, {'vocab_size': 29730, 'embed_size': 16, 'hidden_size': 32, 'num_layers': 4, 'bidirectional': True, 'dropout': 0, 'num_classes': 2, 'pad_idx': 0, 'batch_size': 2}, {'vocab_size': 29730, 'embed_size': 16, 'hidden_size': 32, 'num_layers': 4, 'bidirectional': True, 'dropout': 0, 'num_classes': 4, 'pad_idx': 0, 'batch_size': 1}, {'vocab_size': 29730, 'embed_size': 16, 'hidden_size': 32, 'num_layers': 4, 'bidirectional': True, 'dropout': 0, 'num_classes': 4, 'pad_idx': 0, 'batch_size': 2}, {'vocab_size': 29730, 'embed_size': 16, 'hidden_size': 32, 'num_layers': 4, 'bidirectional': False, 'dropout': 0, 'num_classes': 2, 'pad_idx': 0, 'batch_size': 1}, {'vocab_size': 29730, 'embed_size': 16, 'hidden_size': 32, 'num_layers': 4, 'bidirectional': False, 'dropout': 0, 'num_classes': 2, 'pad_idx': 0, 'batch_size': 2}, {'vocab_size': 29730, 'embed_size': 16, 'hidden_size': 32, 'num_layers': 4, 'bidirectional': False, 'dropout': 0, 'num_classes': 4, 'pad_idx': 0, 'batch_size': 1}, {'vocab_size': 29730, 'embed_size': 16, 'hidden_size': 32, 'num_layers': 4, 'bidirectional': False, 'dropout': 0, 'num_classes': 4, 'pad_idx': 0, 'batch_size': 2}, {'vocab_size': 29730, 'embed_size': 16, 'hidden_size': 64, 'num_layers': 2, 'bidirectional': True, 'dropout': 0, 'num_classes': 2, 'pad_idx': 0, 'batch_size': 1}, {'vocab_size': 29730, 'embed_size': 16, 'hidden_size': 64, 'num_layers': 2, 'bidirectional': True, 'dropout': 0, 'num_classes': 2, 'pad_idx': 0, 'batch_size': 2}, {'vocab_size': 29730, 'embed_size': 16, 'hidden_size': 64, 'num_layers': 2, 'bidirectional': True, 'dropout': 0, 'num_classes': 4, 'pad_idx': 0, 'batch_size': 1}, {'vocab_size': 29730, 'embed_size': 16, 'hidden_size': 64, 'num_layers': 2, 'bidirectional': True, 'dropout': 0, 'num_classes': 4, 'pad_idx': 0, 'batch_size': 2}, {'vocab_size': 29730, 'embed_size': 16, 'hidden_size': 64, 'num_layers': 2, 'bidirectional': False, 'dropout': 0, 'num_classes': 2, 'pad_idx': 0, 'batch_size': 1}, {'vocab_size': 29730, 'embed_size': 16, 'hidden_size': 64, 'num_layers': 2, 'bidirectional': False, 'dropout': 0, 'num_classes': 2, 'pad_idx': 0, 'batch_size': 2}, {'vocab_size': 29730, 'embed_size': 16, 'hidden_size': 64, 'num_layers': 2, 'bidirectional': False, 'dropout': 0, 'num_classes': 4, 'pad_idx': 0, 'batch_size': 1}, {'vocab_size': 29730, 'embed_size': 16, 'hidden_size': 64, 'num_layers': 2, 'bidirectional': False, 'dropout': 0, 'num_classes': 4, 'pad_idx': 0, 'batch_size': 2}, {'vocab_size': 29730, 'embed_size': 16, 'hidden_size': 64, 'num_layers': 4, 'bidirectional': True, 'dropout': 0, 'num_classes': 2, 'pad_idx': 0, 'batch_size': 1}, {'vocab_size': 29730, 'embed_size': 16, 'hidden_size': 64, 'num_layers': 4, 'bidirectional': True, 'dropout': 0, 'num_classes': 2, 'pad_idx': 0, 'batch_size': 2}, {'vocab_size': 29730, 'embed_size': 16, 'hidden_size': 64, 'num_layers': 4, 'bidirectional': True, 'dropout': 0, 'num_classes': 4, 'pad_idx': 0, 'batch_size': 1}, {'vocab_size': 29730, 'embed_size': 16, 'hidden_size': 64, 'num_layers': 4, 'bidirectional': True, 'dropout': 0, 'num_classes': 4, 'pad_idx': 0, 'batch_size': 2}, {'vocab_size': 29730, 'embed_size': 16, 'hidden_size': 64, 'num_layers': 4, 'bidirectional': False, 'dropout': 0, 'num_classes': 2, 'pad_idx': 0, 'batch_size': 1}, {'vocab_size': 29730, 'embed_size': 16, 'hidden_size': 64, 'num_layers': 4, 'bidirectional': False, 'dropout': 0, 'num_classes': 2, 'pad_idx': 0, 'batch_size': 2}, {'vocab_size': 29730, 'embed_size': 16, 'hidden_size': 64, 'num_layers': 4, 'bidirectional': False, 'dropout': 0, 'num_classes': 4, 'pad_idx': 0, 'batch_size': 1}, {'vocab_size': 29730, 'embed_size': 16, 'hidden_size': 64, 'num_layers': 4, 'bidirectional': False, 'dropout': 0, 'num_classes': 4, 'pad_idx': 0, 'batch_size': 2}]\n",
    "    expected_outputs = [torch.Size([1, 2]), torch.Size([2, 2]), torch.Size([1, 4]), torch.Size([2, 4]), torch.Size([1, 2]), torch.Size([2, 2]), torch.Size([1, 4]), torch.Size([2, 4]), torch.Size([1, 2]), torch.Size([2, 2]), torch.Size([1, 4]), torch.Size([2, 4]), torch.Size([1, 2]), torch.Size([2, 2]), torch.Size([1, 4]), torch.Size([2, 4]), torch.Size([1, 2]), torch.Size([2, 2]), torch.Size([1, 4]), torch.Size([2, 4]), torch.Size([1, 2]), torch.Size([2, 2]), torch.Size([1, 4]), torch.Size([2, 4]), torch.Size([1, 2]), torch.Size([2, 2]), torch.Size([1, 4]), torch.Size([2, 4]), torch.Size([1, 2]), torch.Size([2, 2]), torch.Size([1, 4]), torch.Size([2, 4])]\n",
    "    sanity_dataset = TextDataset(train_data, 'train', 5, 150)\n",
    "    sanity_loader = torch.utils.data.DataLoader(sanity_dataset, batch_size=50, shuffle=True, num_workers=2, drop_last=True)\n",
    "\n",
    "    sanityCheckModel(inputs, RNN, expected_outputs, \"forward\", sanity_loader)"
   ]
  },
  {
   "cell_type": "markdown",
   "metadata": {
    "id": "baD8lYAytdTV"
   },
   "source": [
    "## Train RNN Model\n",
    "First, we initialize the train and test dataloaders."
   ]
  },
  {
   "cell_type": "code",
   "execution_count": null,
   "metadata": {
    "id": "WCzNm8LDM5aT"
   },
   "outputs": [],
   "source": [
    "if __name__=='__main__':\n",
    "    THRESHOLD = 5 # Don't change this\n",
    "    MAX_LEN = 200 # Don't change this\n",
    "    BATCH_SIZE = 32 # Feel free to try other batch sizes\n",
    "\n",
    "    train_dataset = TextDataset(train_data, 'train', THRESHOLD, MAX_LEN)\n",
    "    train_loader = torch.utils.data.DataLoader(train_dataset, batch_size=BATCH_SIZE, shuffle=True, num_workers=2, drop_last=True)\n",
    "\n",
    "    test_dataset = TextDataset(test_data, 'test', THRESHOLD, MAX_LEN, train_dataset.idx2word, train_dataset.word2idx)\n",
    "    test_loader = torch.utils.data.DataLoader(test_dataset, batch_size=1, shuffle=False, num_workers=1, drop_last=False)"
   ]
  },
  {
   "cell_type": "markdown",
   "metadata": {
    "id": "lp5pAz8emxi2"
   },
   "source": [
    "Now you can instantiate your model. We provide you with some recommended hyperparameters; you should be able to get the desired accuracy with these, but feel free to play around with them."
   ]
  },
  {
   "cell_type": "code",
   "execution_count": null,
   "metadata": {
    "id": "CA-UairGErap"
   },
   "outputs": [],
   "source": [
    "if __name__=='__main__':\n",
    "    rnn_model = RNN(vocab_size = train_dataset.vocab_size, # Don't change this\n",
    "                embed_size = 128, \n",
    "                hidden_size = 128, \n",
    "                num_layers = 2,\n",
    "                bidirectional = True,\n",
    "                dropout = 0.5,\n",
    "                num_classes = 2, # Don't change this\n",
    "                pad_idx = train_dataset.word2idx[PAD]) # Don't change this\n",
    "\n",
    "    # Put your model on device\n",
    "    rnn_model = rnn_model.to(DEVICE)\n",
    "\n",
    "    print('The model has {:,d} trainable parameters'.format(count_parameters(rnn_model)))"
   ]
  },
  {
   "cell_type": "markdown",
   "metadata": {
    "id": "LqngFY4MoLec"
   },
   "source": [
    "Here, we create the criterion and optimizer; as with the CNN, we use cross-entropy loss and Adam optimization."
   ]
  },
  {
   "cell_type": "code",
   "execution_count": null,
   "metadata": {
    "id": "em6Rs58OlJ3Z"
   },
   "outputs": [],
   "source": [
    "if __name__=='__main__':    \n",
    "    LEARNING_RATE = 5e-4 # Feel free to try other learning rates\n",
    "\n",
    "    # Define your loss function\n",
    "    criterion = nn.CrossEntropyLoss().to(DEVICE)\n",
    "\n",
    "    # Define your optimizer\n",
    "    optimizer = optim.Adam(rnn_model.parameters(), lr=LEARNING_RATE)"
   ]
  },
  {
   "cell_type": "markdown",
   "metadata": {
    "id": "uEPsi3choUm5"
   },
   "source": [
    "Finally, we can train the model. We use the same `train_model(...)` function that we defined for the CNN. If the model is implemented correctly and you're using the GPU, this cell should take around <b>2 minutes</b> (or less). Feel free to change the number of epochs."
   ]
  },
  {
   "cell_type": "code",
   "execution_count": null,
   "metadata": {
    "id": "NR8Wckf0l2G7"
   },
   "outputs": [],
   "source": [
    "if __name__=='__main__':    \n",
    "    N_EPOCHS = 6 # Feel free to change this\n",
    "    \n",
    "    # train model for N_EPOCHS epochs\n",
    "    train_model(rnn_model, N_EPOCHS, train_loader, optimizer, criterion)"
   ]
  },
  {
   "cell_type": "markdown",
   "metadata": {
    "id": "j-SRIFfooYk6"
   },
   "source": [
    "## Evaluate RNN Model [20 points]\n",
    "\n",
    "Now we can evaluate the RNN. \n",
    "\n",
    "To pass the autograder for the RNN, you will need to achieve **82% accuracy** on the hidden test set on Gradescope. Note that the Gradescope test set is very similar, and the accuracies between the two datasets should be comparable."
   ]
  },
  {
   "cell_type": "code",
   "execution_count": null,
   "metadata": {
    "id": "HYon4AbHl5_M"
   },
   "outputs": [],
   "source": [
    "if __name__=='__main__':    \n",
    "    evaluate(rnn_model, test_loader, criterion, use_tqdm=True) # Compute test data accuracy"
   ]
  },
  {
   "cell_type": "markdown",
   "metadata": {
    "id": "8WQAV6O2xHvS"
   },
   "source": [
    "# What to Submit\n",
    "\n",
    "To submit the assignment, download this notebook as a <TT>.py</TT> file. You can do this by going to <TT>File > Download > Download .py</TT>. Then (optionally) rename it to `hwk2.py`.\n",
    "\n",
    "You will also need to save the `cnn_model` and `rnn_model`. You can run the cell below to do this. After you save the files to your Google Drive, you need to manually download the files to your computer, and then submit them to the autograder.\n",
    "\n",
    "You will submit the following files to the autograder:\n",
    "1.   `hwk2.py`, the download of this notebook as a `.py` file (**not** a `.ipynb` file)\n",
    "1.   `cnn.pt`, the saved version of your `cnn_model`\n",
    "1.   `rnn.pt`, the saved version of your `rnn_model`"
   ]
  },
  {
   "cell_type": "code",
   "execution_count": null,
   "metadata": {
    "id": "abbbMNi8X_ai"
   },
   "outputs": [],
   "source": [
    "### DO NOT EDIT ###\n",
    "\n",
    "if __name__=='__main__':\n",
    "    # from google.colab import drive\n",
    "    # drive.mount('/content/drive')\n",
    "    print()\n",
    "\n",
    "    try:\n",
    "        cnn_model is None\n",
    "        cnn_exists = True\n",
    "    except:\n",
    "        cnn_exists = False\n",
    "\n",
    "    try:\n",
    "        rnn_model is None\n",
    "        rnn_exists = True\n",
    "    except:\n",
    "        rnn_exists = False\n",
    "\n",
    "    if cnn_exists:\n",
    "        print(\"Saving CNN model....\") \n",
    "        # torch.save(cnn_model, \"drive/My Drive/cnn.pt\")\n",
    "        torch.save(cnn_model, \"saved_models/cnn.pt\")\n",
    "    if rnn_exists:\n",
    "        print(\"Saving RNN model....\") \n",
    "        # torch.save(rnn_model, \"drive/My Drive/rnn.pt\")\n",
    "        torch.save(cnn_model, \"saved_models/rnn.pt\")\n",
    "    print(\"Done!\")"
   ]
  },
  {
   "cell_type": "code",
   "execution_count": null,
   "metadata": {
    "id": "v4o5fRQELX7G"
   },
   "outputs": [],
   "source": []
  },
  {
   "cell_type": "code",
   "execution_count": null,
   "metadata": {},
   "outputs": [],
   "source": []
  },
  {
   "cell_type": "code",
   "execution_count": null,
   "metadata": {},
   "outputs": [],
   "source": []
  }
 ],
 "metadata": {
  "accelerator": "GPU",
  "colab": {
   "collapsed_sections": [],
   "provenance": []
  },
  "gpuClass": "standard",
  "kernelspec": {
   "display_name": "Python 3 (ipykernel)",
   "language": "python",
   "name": "python3"
  },
  "language_info": {
   "codemirror_mode": {
    "name": "ipython",
    "version": 3
   },
   "file_extension": ".py",
   "mimetype": "text/x-python",
   "name": "python",
   "nbconvert_exporter": "python",
   "pygments_lexer": "ipython3",
   "version": "3.9.13"
  }
 },
 "nbformat": 4,
 "nbformat_minor": 1
}
